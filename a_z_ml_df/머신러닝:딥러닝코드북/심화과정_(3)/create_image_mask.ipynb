{
 "cells": [
  {
   "cell_type": "code",
   "execution_count": 1,
   "metadata": {},
   "outputs": [
    {
     "name": "stderr",
     "output_type": "stream",
     "text": [
      "100%|██████████| 888/888 [03:48<00:00,  3.88it/s]\n"
     ]
    },
    {
     "name": "stdout",
     "output_type": "stream",
     "text": [
      "image and mask file created!\n",
      "lungmask file created!\n"
     ]
    }
   ],
   "source": [
    "from preprocess.save_image_mask import save_npy\n",
    "from preprocess.save_lungmask import save_lungnpy\n",
    "def main():\n",
    "    annotation_path = \"./annotations.csv\" #annotation.csv file path\n",
    "\n",
    "    luna_subset_path = \"./subset_data/subset*/\" #subset0,1,2,3,... files path\n",
    "\n",
    "    save_path = \"./preprocessed_data/\" #set the path to save preprocessed data\n",
    "    save_npy(annotation_path,luna_subset_path,save_path)\n",
    "    print(\"image and mask file created!\")\n",
    "    save_lungnpy(save_path)\n",
    "    print(\"lungmask file created!\")\n",
    "    \n",
    "if __name__ == \"__main__\":\n",
    "    main() "
   ]
  }
 ],
 "metadata": {
  "kernelspec": {
   "display_name": "Python 3",
   "language": "python",
   "name": "python3"
  },
  "language_info": {
   "codemirror_mode": {
    "name": "ipython",
    "version": 3
   },
   "file_extension": ".py",
   "mimetype": "text/x-python",
   "name": "python",
   "nbconvert_exporter": "python",
   "pygments_lexer": "ipython3",
   "version": "3.6.8"
  }
 },
 "nbformat": 4,
 "nbformat_minor": 4
}

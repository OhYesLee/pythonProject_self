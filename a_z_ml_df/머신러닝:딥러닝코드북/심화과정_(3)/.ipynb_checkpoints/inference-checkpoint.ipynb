{
 "cells": [
  {
   "cell_type": "code",
   "execution_count": 2,
   "metadata": {},
   "outputs": [
    {
     "name": "stdout",
     "output_type": "stream",
     "text": [
      "Mean Dice Coeff :  0.8498530545767136\n",
      "saved prediction result\n"
     ]
    }
   ],
   "source": [
    "import os\n",
    "import numpy as np\n",
    "import tensorflow as tf\n",
    "from tensorflow import keras\n",
    "from tensorflow.keras.callbacks import ModelCheckpoint, LearningRateScheduler\n",
    "from tensorflow.keras.optimizers import Adam\n",
    "from model.segmentation import UNet\n",
    "from util.function import *\n",
    "from util.metric import *\n",
    "def main():\n",
    "    data_path = './traindata/' #train and validation data path\n",
    "    model_save_path = \"./weight/\" #saved weight path\n",
    "    #load validation data\n",
    "    imgs_valid = np.load(data_path+\"valid_image.npy\").astype(np.float32)\n",
    "    imgs_mask_valid = np.load(data_path+\"valid_mask.npy\").astype(np.float32)\n",
    "    #load model\n",
    "    model = UNet()\n",
    "    #load saved weight\n",
    "    model.load_weights('./weight/nodule_segmentation_model.h5')\n",
    "    data_size= len(imgs_valid)\n",
    "    imgs_mask_predict = np.ndarray([data_size,512,512,1],dtype=np.float32)\n",
    "    #inference validation data\n",
    "    for i in range(data_size):\n",
    "        imgs_mask_predict[i] = model.predict([imgs_valid[i:i+1]], verbose=0)[0]\n",
    "    #calculate dice coefficient of validation data\n",
    "    mean = 0.0\n",
    "    for i in range(data_size):\n",
    "        mean+=dice_coef_np(imgs_mask_valid[i], imgs_mask_predict[i])\n",
    "    mean/=data_size\n",
    "    print(\"Mean Dice Coeff : \",mean)\n",
    "    #save prediction result of segmentation\n",
    "    np.save('./prediction_result.npy', imgs_mask_predict)\n",
    "    print(\"saved prediction result\")\n",
    "    \n",
    "if __name__ == \"__main__\":\n",
    "    main()"
   ]
  }
 ],
 "metadata": {
  "kernelspec": {
   "display_name": "Python 3",
   "language": "python",
   "name": "python3"
  },
  "language_info": {
   "codemirror_mode": {
    "name": "ipython",
    "version": 3
   },
   "file_extension": ".py",
   "mimetype": "text/x-python",
   "name": "python",
   "nbconvert_exporter": "python",
   "pygments_lexer": "ipython3",
   "version": "3.6.8"
  }
 },
 "nbformat": 4,
 "nbformat_minor": 4
}

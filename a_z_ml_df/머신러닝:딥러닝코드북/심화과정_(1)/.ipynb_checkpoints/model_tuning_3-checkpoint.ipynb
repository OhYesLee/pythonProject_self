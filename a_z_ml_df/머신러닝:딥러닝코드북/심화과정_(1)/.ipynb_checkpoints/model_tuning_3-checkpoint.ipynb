{
 "cells": [
  {
   "cell_type": "markdown",
   "metadata": {},
   "source": [
    "# Model Tuning"
   ]
  },
  {
   "cell_type": "markdown",
   "metadata": {},
   "source": [
    "### 기존에 학습한 pretrained 모델을 로드한 후, 일부 layer의 weight를 freeze 방법을 배워본다."
   ]
  },
  {
   "cell_type": "code",
   "execution_count": 26,
   "metadata": {},
   "outputs": [
    {
     "name": "stdout",
     "output_type": "stream",
     "text": [
      "Model: \"functional_3\"\n",
      "_________________________________________________________________\n",
      "Layer (type)                 Output Shape              Param #   \n",
      "=================================================================\n",
      "input_2 (InputLayer)         [(None, 28, 28, 1)]       0         \n",
      "_________________________________________________________________\n",
      "conv2d_5 (Conv2D)            (None, 28, 28, 16)        160       \n",
      "_________________________________________________________________\n",
      "max_pooling2d_5 (MaxPooling2 (None, 27, 27, 16)        0         \n",
      "_________________________________________________________________\n",
      "dropout_6 (Dropout)          (None, 27, 27, 16)        0         \n",
      "_________________________________________________________________\n",
      "conv2d_6 (Conv2D)            (None, 27, 27, 32)        4640      \n",
      "_________________________________________________________________\n",
      "max_pooling2d_6 (MaxPooling2 (None, 26, 26, 32)        0         \n",
      "_________________________________________________________________\n",
      "dropout_7 (Dropout)          (None, 26, 26, 32)        0         \n",
      "_________________________________________________________________\n",
      "conv2d_7 (Conv2D)            (None, 26, 26, 64)        18496     \n",
      "_________________________________________________________________\n",
      "max_pooling2d_7 (MaxPooling2 (None, 13, 13, 64)        0         \n",
      "_________________________________________________________________\n",
      "dropout_8 (Dropout)          (None, 13, 13, 64)        0         \n",
      "_________________________________________________________________\n",
      "conv2d_8 (Conv2D)            (None, 13, 13, 128)       73856     \n",
      "_________________________________________________________________\n",
      "max_pooling2d_8 (MaxPooling2 (None, 6, 6, 128)         0         \n",
      "_________________________________________________________________\n",
      "dropout_9 (Dropout)          (None, 6, 6, 128)         0         \n",
      "_________________________________________________________________\n",
      "conv2d_9 (Conv2D)            (None, 6, 6, 256)         295168    \n",
      "_________________________________________________________________\n",
      "max_pooling2d_9 (MaxPooling2 (None, 3, 3, 256)         0         \n",
      "_________________________________________________________________\n",
      "dropout_10 (Dropout)         (None, 3, 3, 256)         0         \n",
      "_________________________________________________________________\n",
      "dense_2 (Dense)              (None, 3, 3, 256)         65792     \n",
      "_________________________________________________________________\n",
      "dropout_11 (Dropout)         (None, 3, 3, 256)         0         \n",
      "_________________________________________________________________\n",
      "flatten_1 (Flatten)          (None, 2304)              0         \n",
      "_________________________________________________________________\n",
      "dense_3 (Dense)              (None, 10)                23050     \n",
      "=================================================================\n",
      "Total params: 481,162\n",
      "Trainable params: 481,162\n",
      "Non-trainable params: 0\n",
      "_________________________________________________________________\n"
     ]
    }
   ],
   "source": [
    "##tenssorflow==2.3 환경에서 구현 \n",
    "import tensorflow as tf\n",
    "import numpy as np\n",
    "import copy\n",
    "\n",
    "#기존에 학습한 전체 model 로드\n",
    "from tensorflow.keras.models import load_model\n",
    "model =load_model(\"./mnist_classification_model.h5\")\n",
    "\n",
    "#로드한 모델 layer 정보 확인\n",
    "model.summary()"
   ]
  },
  {
   "cell_type": "code",
   "execution_count": 25,
   "metadata": {},
   "outputs": [
    {
     "name": "stdout",
     "output_type": "stream",
     "text": [
      "layer number: 1 <tensorflow.python.keras.engine.input_layer.InputLayer object at 0x7f7e4bf03470>\n",
      "Trainable: False\n",
      "layer number: 2 <tensorflow.python.keras.layers.convolutional.Conv2D object at 0x7f7e4bf03f60>\n",
      "Trainable: False\n",
      "layer number: 3 <tensorflow.python.keras.layers.pooling.MaxPooling2D object at 0x7f7e4bf03cc0>\n",
      "Trainable: False\n",
      "layer number: 4 <tensorflow.python.keras.layers.core.Dropout object at 0x7f7e4bef7908>\n",
      "Trainable: False\n",
      "layer number: 5 <tensorflow.python.keras.layers.convolutional.Conv2D object at 0x7f7e3a6ea860>\n",
      "Trainable: False\n",
      "layer number: 6 <tensorflow.python.keras.layers.pooling.MaxPooling2D object at 0x7f7e4bf0ab00>\n",
      "Trainable: False\n",
      "layer number: 7 <tensorflow.python.keras.layers.core.Dropout object at 0x7f7e4bf0ae10>\n",
      "Trainable: False\n",
      "layer number: 8 <tensorflow.python.keras.layers.convolutional.Conv2D object at 0x7f7e4bf0a358>\n",
      "Trainable: False\n",
      "layer number: 9 <tensorflow.python.keras.layers.pooling.MaxPooling2D object at 0x7f7de0038940>\n",
      "Trainable: False\n",
      "layer number: 10 <tensorflow.python.keras.layers.core.Dropout object at 0x7f7dd603a9b0>\n",
      "Trainable: False\n",
      "layer number: 11 <tensorflow.python.keras.layers.convolutional.Conv2D object at 0x7f7dd60594a8>\n",
      "Trainable: True\n",
      "layer number: 12 <tensorflow.python.keras.layers.pooling.MaxPooling2D object at 0x7f7dd60597f0>\n",
      "Trainable: True\n",
      "layer number: 13 <tensorflow.python.keras.layers.core.Dropout object at 0x7f7dd60599e8>\n",
      "Trainable: True\n",
      "layer number: 14 <tensorflow.python.keras.layers.convolutional.Conv2D object at 0x7f7dd6059eb8>\n",
      "Trainable: True\n",
      "layer number: 15 <tensorflow.python.keras.layers.pooling.MaxPooling2D object at 0x7f7dd5feb208>\n",
      "Trainable: True\n",
      "layer number: 16 <tensorflow.python.keras.layers.core.Dropout object at 0x7f7dd5feb400>\n",
      "Trainable: True\n",
      "layer number: 17 <tensorflow.python.keras.layers.core.Dense object at 0x7f7dd5feb588>\n",
      "Trainable: True\n",
      "layer number: 18 <tensorflow.python.keras.layers.core.Dropout object at 0x7f7dd5feb828>\n",
      "Trainable: True\n",
      "layer number: 19 <tensorflow.python.keras.layers.core.Flatten object at 0x7f7dd5feb9b0>\n",
      "Trainable: True\n",
      "layer number: 20 <tensorflow.python.keras.layers.core.Dense object at 0x7f7dd5febb70>\n",
      "Trainable: True\n"
     ]
    }
   ],
   "source": [
    "#layer freeze 여부 확인 (True>trainable, False>freeze)\n",
    "for i,layer in enumerate(model.layers):\n",
    "    print(\"layer number: %s\"%(i+1),layer) \n",
    "    print(\"Trainable:\",layer.trainable)\n",
    "    \n",
    "#첫번째 layer부터 열번째 layer까지만 weight를 freeze\n",
    "for i,layer in enumerate(model.layers):\n",
    "    if i==10:\n",
    "        break\n",
    "    model.layers[i].trainable=False\n",
    "new_model=model"
   ]
  },
  {
   "cell_type": "code",
   "execution_count": 24,
   "metadata": {},
   "outputs": [
    {
     "name": "stdout",
     "output_type": "stream",
     "text": [
      "layer number: 1 <tensorflow.python.keras.engine.input_layer.InputLayer object at 0x7f7e4bf03470>\n",
      "Trainable: False\n",
      "layer number: 2 <tensorflow.python.keras.layers.convolutional.Conv2D object at 0x7f7e4bf03f60>\n",
      "Trainable: False\n",
      "layer number: 3 <tensorflow.python.keras.layers.pooling.MaxPooling2D object at 0x7f7e4bf03cc0>\n",
      "Trainable: False\n",
      "layer number: 4 <tensorflow.python.keras.layers.core.Dropout object at 0x7f7e4bef7908>\n",
      "Trainable: False\n",
      "layer number: 5 <tensorflow.python.keras.layers.convolutional.Conv2D object at 0x7f7e3a6ea860>\n",
      "Trainable: False\n",
      "layer number: 6 <tensorflow.python.keras.layers.pooling.MaxPooling2D object at 0x7f7e4bf0ab00>\n",
      "Trainable: False\n",
      "layer number: 7 <tensorflow.python.keras.layers.core.Dropout object at 0x7f7e4bf0ae10>\n",
      "Trainable: False\n",
      "layer number: 8 <tensorflow.python.keras.layers.convolutional.Conv2D object at 0x7f7e4bf0a358>\n",
      "Trainable: False\n",
      "layer number: 9 <tensorflow.python.keras.layers.pooling.MaxPooling2D object at 0x7f7de0038940>\n",
      "Trainable: False\n",
      "layer number: 10 <tensorflow.python.keras.layers.core.Dropout object at 0x7f7dd603a9b0>\n",
      "Trainable: False\n",
      "layer number: 11 <tensorflow.python.keras.layers.convolutional.Conv2D object at 0x7f7dd60594a8>\n",
      "Trainable: True\n",
      "layer number: 12 <tensorflow.python.keras.layers.pooling.MaxPooling2D object at 0x7f7dd60597f0>\n",
      "Trainable: True\n",
      "layer number: 13 <tensorflow.python.keras.layers.core.Dropout object at 0x7f7dd60599e8>\n",
      "Trainable: True\n",
      "layer number: 14 <tensorflow.python.keras.layers.convolutional.Conv2D object at 0x7f7dd6059eb8>\n",
      "Trainable: True\n",
      "layer number: 15 <tensorflow.python.keras.layers.pooling.MaxPooling2D object at 0x7f7dd5feb208>\n",
      "Trainable: True\n",
      "layer number: 16 <tensorflow.python.keras.layers.core.Dropout object at 0x7f7dd5feb400>\n",
      "Trainable: True\n",
      "layer number: 17 <tensorflow.python.keras.layers.core.Dense object at 0x7f7dd5feb588>\n",
      "Trainable: True\n",
      "layer number: 18 <tensorflow.python.keras.layers.core.Dropout object at 0x7f7dd5feb828>\n",
      "Trainable: True\n",
      "layer number: 19 <tensorflow.python.keras.layers.core.Flatten object at 0x7f7dd5feb9b0>\n",
      "Trainable: True\n",
      "layer number: 20 <tensorflow.python.keras.layers.core.Dense object at 0x7f7dd5febb70>\n",
      "Trainable: True\n"
     ]
    }
   ],
   "source": [
    "# 수정된 모델의 열번째 layer까지 weight가 freeze 되었음을 확인\n",
    "for i,layer in enumerate(new_model.layers):\n",
    "    print(\"layer number: %s\"%(i+1),layer) \n",
    "    print(\"Trainable:\",layer.trainable)"
   ]
  }
 ],
 "metadata": {
  "anaconda-cloud": {},
  "kernelspec": {
   "display_name": "Python 3",
   "language": "python",
   "name": "python3"
  },
  "language_info": {
   "codemirror_mode": {
    "name": "ipython",
    "version": 3
   },
   "file_extension": ".py",
   "mimetype": "text/x-python",
   "name": "python",
   "nbconvert_exporter": "python",
   "pygments_lexer": "ipython3",
   "version": "3.6.8"
  }
 },
 "nbformat": 4,
 "nbformat_minor": 4
}

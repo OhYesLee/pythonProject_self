{
  "nbformat": 4,
  "nbformat_minor": 0,
  "metadata": {
    "kernelspec": {
      "display_name": "Python 3",
      "language": "python",
      "name": "python3"
    },
    "language_info": {
      "codemirror_mode": {
        "name": "ipython",
        "version": 3
      },
      "file_extension": ".py",
      "mimetype": "text/x-python",
      "name": "python",
      "nbconvert_exporter": "python",
      "pygments_lexer": "ipython3",
      "version": "3.6.6"
    },
    "toc": {
      "base_numbering": 1,
      "nav_menu": {},
      "number_sections": true,
      "sideBar": true,
      "skip_h1_title": false,
      "title_cell": "Table of Contents",
      "title_sidebar": "Contents",
      "toc_cell": false,
      "toc_position": {},
      "toc_section_display": true,
      "toc_window_display": false
    },
    "colab": {
      "name": "Chapter 04. 머신러닝 분류 알고리즘 연습 2(해설)",
      "provenance": [],
      "collapsed_sections": []
    }
  },
  "cells": [
    {
      "cell_type": "markdown",
      "metadata": {
        "id": "Xn_bPjW10qHz"
      },
      "source": [
        "# Chapter 04. 머신러닝 분류 문제 연습하기 2"
      ]
    },
    {
      "cell_type": "code",
      "metadata": {
        "colab": {
          "base_uri": "https://localhost:8080/"
        },
        "id": "yx-hyOnbRdm_",
        "outputId": "9c25a55f-2fdf-4296-c63e-93b6b80830c9"
      },
      "source": [
        "from google.colab import drive\n",
        "drive.mount('/content/drive')"
      ],
      "execution_count": null,
      "outputs": [
        {
          "output_type": "stream",
          "name": "stdout",
          "text": [
            "Drive already mounted at /content/drive; to attempt to forcibly remount, call drive.mount(\"/content/drive\", force_remount=True).\n"
          ]
        }
      ]
    },
    {
      "cell_type": "markdown",
      "metadata": {
        "id": "hR5XfHWy0qIi"
      },
      "source": [
        "## 실습 가이드\n",
        "1. 데이터를 다운로드하여 Colab에 불러옵니다.\n",
        "> 다운로드한 데이터의 위치는 **Colab Notebooks/data/** 로 통일합니다.\n",
        "\n",
        "2. 필요한 라이브러리는 모두 코드로 작성되어 있습니다.\n",
        "3. 코드는 위에서부터 아래로 순서대로 실행합니다.\n",
        "4. 전체 문제 구성은 좌측 첫 번째 아이콘을 통해 확인할 수 있습니다."
      ]
    },
    {
      "cell_type": "markdown",
      "metadata": {
        "id": "arCV66fJ0qIk"
      },
      "source": [
        "### <b> 데이터의 속성</b>\n",
        "**시작 전에** 원본 데이콘 페이지에서 상세한 데이터에 대한 설명을 확인하세요 !\n",
        "\n",
        "Reference : https://archive.ics.uci.edu/ml/datasets/default+of+credit+card+clients\n"
      ]
    },
    {
      "cell_type": "markdown",
      "metadata": {
        "id": "RlsQsuiB0qIm"
      },
      "source": [
        "### <b>학습목표</b>\n",
        "- 1) Binary Classification 모델의 이해\n",
        "- 2) 학습했던 다양한 머신러닝 분류모델의 이해\n",
        "- 3) 분류를 위한 데이터 전처리 방법에 대한 이해\n",
        "- 4) feature engineering에 대한 이해\n",
        "- 5) 평가결과를 바탕으로 모델을 개선하는 방법 습득"
      ]
    },
    {
      "cell_type": "markdown",
      "metadata": {
        "id": "p3cbNzXr0qIn"
      },
      "source": [
        "- 출제자: 김용담 강사"
      ]
    },
    {
      "cell_type": "markdown",
      "metadata": {
        "id": "L0CtisIz0qIo"
      },
      "source": [
        "## Step 1. 예측할 데이터 불러오기"
      ]
    },
    {
      "cell_type": "markdown",
      "metadata": {
        "id": "B2MLQ8Ff0qIp"
      },
      "source": [
        "### 문제 01. 데이터 불러오기"
      ]
    },
    {
      "cell_type": "code",
      "metadata": {
        "id": "yEUiebcx0qIq"
      },
      "source": [
        "# 분석에 필요한 라이브러리를 불러옵니다\n",
        "import numpy as np\n",
        "import pandas as pd\n",
        "import matplotlib.pyplot as plt\n",
        "import seaborn as sns \n",
        "\n",
        "import warnings\n",
        "warnings.filterwarnings('ignore')"
      ],
      "execution_count": null,
      "outputs": []
    },
    {
      "cell_type": "code",
      "metadata": {
        "id": "DRCsZ6CBEBM5",
        "colab": {
          "base_uri": "https://localhost:8080/",
          "height": 487
        },
        "outputId": "75cb5f6e-43b3-45df-898f-b453f8209f28"
      },
      "source": [
        "base_path = '/content/drive/MyDrive/Colab Notebooks/data/default of credit card clients.xls'\n",
        "data = pd.read_excel(base_path, header=1)\n",
        "data"
      ],
      "execution_count": null,
      "outputs": [
        {
          "output_type": "execute_result",
          "data": {
            "text/html": [
              "<div>\n",
              "<style scoped>\n",
              "    .dataframe tbody tr th:only-of-type {\n",
              "        vertical-align: middle;\n",
              "    }\n",
              "\n",
              "    .dataframe tbody tr th {\n",
              "        vertical-align: top;\n",
              "    }\n",
              "\n",
              "    .dataframe thead th {\n",
              "        text-align: right;\n",
              "    }\n",
              "</style>\n",
              "<table border=\"1\" class=\"dataframe\">\n",
              "  <thead>\n",
              "    <tr style=\"text-align: right;\">\n",
              "      <th></th>\n",
              "      <th>ID</th>\n",
              "      <th>LIMIT_BAL</th>\n",
              "      <th>SEX</th>\n",
              "      <th>EDUCATION</th>\n",
              "      <th>MARRIAGE</th>\n",
              "      <th>AGE</th>\n",
              "      <th>PAY_0</th>\n",
              "      <th>PAY_2</th>\n",
              "      <th>PAY_3</th>\n",
              "      <th>PAY_4</th>\n",
              "      <th>PAY_5</th>\n",
              "      <th>PAY_6</th>\n",
              "      <th>BILL_AMT1</th>\n",
              "      <th>BILL_AMT2</th>\n",
              "      <th>BILL_AMT3</th>\n",
              "      <th>BILL_AMT4</th>\n",
              "      <th>BILL_AMT5</th>\n",
              "      <th>BILL_AMT6</th>\n",
              "      <th>PAY_AMT1</th>\n",
              "      <th>PAY_AMT2</th>\n",
              "      <th>PAY_AMT3</th>\n",
              "      <th>PAY_AMT4</th>\n",
              "      <th>PAY_AMT5</th>\n",
              "      <th>PAY_AMT6</th>\n",
              "      <th>default payment next month</th>\n",
              "    </tr>\n",
              "  </thead>\n",
              "  <tbody>\n",
              "    <tr>\n",
              "      <th>0</th>\n",
              "      <td>1</td>\n",
              "      <td>20000</td>\n",
              "      <td>2</td>\n",
              "      <td>2</td>\n",
              "      <td>1</td>\n",
              "      <td>24</td>\n",
              "      <td>2</td>\n",
              "      <td>2</td>\n",
              "      <td>-1</td>\n",
              "      <td>-1</td>\n",
              "      <td>-2</td>\n",
              "      <td>-2</td>\n",
              "      <td>3913</td>\n",
              "      <td>3102</td>\n",
              "      <td>689</td>\n",
              "      <td>0</td>\n",
              "      <td>0</td>\n",
              "      <td>0</td>\n",
              "      <td>0</td>\n",
              "      <td>689</td>\n",
              "      <td>0</td>\n",
              "      <td>0</td>\n",
              "      <td>0</td>\n",
              "      <td>0</td>\n",
              "      <td>1</td>\n",
              "    </tr>\n",
              "    <tr>\n",
              "      <th>1</th>\n",
              "      <td>2</td>\n",
              "      <td>120000</td>\n",
              "      <td>2</td>\n",
              "      <td>2</td>\n",
              "      <td>2</td>\n",
              "      <td>26</td>\n",
              "      <td>-1</td>\n",
              "      <td>2</td>\n",
              "      <td>0</td>\n",
              "      <td>0</td>\n",
              "      <td>0</td>\n",
              "      <td>2</td>\n",
              "      <td>2682</td>\n",
              "      <td>1725</td>\n",
              "      <td>2682</td>\n",
              "      <td>3272</td>\n",
              "      <td>3455</td>\n",
              "      <td>3261</td>\n",
              "      <td>0</td>\n",
              "      <td>1000</td>\n",
              "      <td>1000</td>\n",
              "      <td>1000</td>\n",
              "      <td>0</td>\n",
              "      <td>2000</td>\n",
              "      <td>1</td>\n",
              "    </tr>\n",
              "    <tr>\n",
              "      <th>2</th>\n",
              "      <td>3</td>\n",
              "      <td>90000</td>\n",
              "      <td>2</td>\n",
              "      <td>2</td>\n",
              "      <td>2</td>\n",
              "      <td>34</td>\n",
              "      <td>0</td>\n",
              "      <td>0</td>\n",
              "      <td>0</td>\n",
              "      <td>0</td>\n",
              "      <td>0</td>\n",
              "      <td>0</td>\n",
              "      <td>29239</td>\n",
              "      <td>14027</td>\n",
              "      <td>13559</td>\n",
              "      <td>14331</td>\n",
              "      <td>14948</td>\n",
              "      <td>15549</td>\n",
              "      <td>1518</td>\n",
              "      <td>1500</td>\n",
              "      <td>1000</td>\n",
              "      <td>1000</td>\n",
              "      <td>1000</td>\n",
              "      <td>5000</td>\n",
              "      <td>0</td>\n",
              "    </tr>\n",
              "    <tr>\n",
              "      <th>3</th>\n",
              "      <td>4</td>\n",
              "      <td>50000</td>\n",
              "      <td>2</td>\n",
              "      <td>2</td>\n",
              "      <td>1</td>\n",
              "      <td>37</td>\n",
              "      <td>0</td>\n",
              "      <td>0</td>\n",
              "      <td>0</td>\n",
              "      <td>0</td>\n",
              "      <td>0</td>\n",
              "      <td>0</td>\n",
              "      <td>46990</td>\n",
              "      <td>48233</td>\n",
              "      <td>49291</td>\n",
              "      <td>28314</td>\n",
              "      <td>28959</td>\n",
              "      <td>29547</td>\n",
              "      <td>2000</td>\n",
              "      <td>2019</td>\n",
              "      <td>1200</td>\n",
              "      <td>1100</td>\n",
              "      <td>1069</td>\n",
              "      <td>1000</td>\n",
              "      <td>0</td>\n",
              "    </tr>\n",
              "    <tr>\n",
              "      <th>4</th>\n",
              "      <td>5</td>\n",
              "      <td>50000</td>\n",
              "      <td>1</td>\n",
              "      <td>2</td>\n",
              "      <td>1</td>\n",
              "      <td>57</td>\n",
              "      <td>-1</td>\n",
              "      <td>0</td>\n",
              "      <td>-1</td>\n",
              "      <td>0</td>\n",
              "      <td>0</td>\n",
              "      <td>0</td>\n",
              "      <td>8617</td>\n",
              "      <td>5670</td>\n",
              "      <td>35835</td>\n",
              "      <td>20940</td>\n",
              "      <td>19146</td>\n",
              "      <td>19131</td>\n",
              "      <td>2000</td>\n",
              "      <td>36681</td>\n",
              "      <td>10000</td>\n",
              "      <td>9000</td>\n",
              "      <td>689</td>\n",
              "      <td>679</td>\n",
              "      <td>0</td>\n",
              "    </tr>\n",
              "    <tr>\n",
              "      <th>...</th>\n",
              "      <td>...</td>\n",
              "      <td>...</td>\n",
              "      <td>...</td>\n",
              "      <td>...</td>\n",
              "      <td>...</td>\n",
              "      <td>...</td>\n",
              "      <td>...</td>\n",
              "      <td>...</td>\n",
              "      <td>...</td>\n",
              "      <td>...</td>\n",
              "      <td>...</td>\n",
              "      <td>...</td>\n",
              "      <td>...</td>\n",
              "      <td>...</td>\n",
              "      <td>...</td>\n",
              "      <td>...</td>\n",
              "      <td>...</td>\n",
              "      <td>...</td>\n",
              "      <td>...</td>\n",
              "      <td>...</td>\n",
              "      <td>...</td>\n",
              "      <td>...</td>\n",
              "      <td>...</td>\n",
              "      <td>...</td>\n",
              "      <td>...</td>\n",
              "    </tr>\n",
              "    <tr>\n",
              "      <th>29995</th>\n",
              "      <td>29996</td>\n",
              "      <td>220000</td>\n",
              "      <td>1</td>\n",
              "      <td>3</td>\n",
              "      <td>1</td>\n",
              "      <td>39</td>\n",
              "      <td>0</td>\n",
              "      <td>0</td>\n",
              "      <td>0</td>\n",
              "      <td>0</td>\n",
              "      <td>0</td>\n",
              "      <td>0</td>\n",
              "      <td>188948</td>\n",
              "      <td>192815</td>\n",
              "      <td>208365</td>\n",
              "      <td>88004</td>\n",
              "      <td>31237</td>\n",
              "      <td>15980</td>\n",
              "      <td>8500</td>\n",
              "      <td>20000</td>\n",
              "      <td>5003</td>\n",
              "      <td>3047</td>\n",
              "      <td>5000</td>\n",
              "      <td>1000</td>\n",
              "      <td>0</td>\n",
              "    </tr>\n",
              "    <tr>\n",
              "      <th>29996</th>\n",
              "      <td>29997</td>\n",
              "      <td>150000</td>\n",
              "      <td>1</td>\n",
              "      <td>3</td>\n",
              "      <td>2</td>\n",
              "      <td>43</td>\n",
              "      <td>-1</td>\n",
              "      <td>-1</td>\n",
              "      <td>-1</td>\n",
              "      <td>-1</td>\n",
              "      <td>0</td>\n",
              "      <td>0</td>\n",
              "      <td>1683</td>\n",
              "      <td>1828</td>\n",
              "      <td>3502</td>\n",
              "      <td>8979</td>\n",
              "      <td>5190</td>\n",
              "      <td>0</td>\n",
              "      <td>1837</td>\n",
              "      <td>3526</td>\n",
              "      <td>8998</td>\n",
              "      <td>129</td>\n",
              "      <td>0</td>\n",
              "      <td>0</td>\n",
              "      <td>0</td>\n",
              "    </tr>\n",
              "    <tr>\n",
              "      <th>29997</th>\n",
              "      <td>29998</td>\n",
              "      <td>30000</td>\n",
              "      <td>1</td>\n",
              "      <td>2</td>\n",
              "      <td>2</td>\n",
              "      <td>37</td>\n",
              "      <td>4</td>\n",
              "      <td>3</td>\n",
              "      <td>2</td>\n",
              "      <td>-1</td>\n",
              "      <td>0</td>\n",
              "      <td>0</td>\n",
              "      <td>3565</td>\n",
              "      <td>3356</td>\n",
              "      <td>2758</td>\n",
              "      <td>20878</td>\n",
              "      <td>20582</td>\n",
              "      <td>19357</td>\n",
              "      <td>0</td>\n",
              "      <td>0</td>\n",
              "      <td>22000</td>\n",
              "      <td>4200</td>\n",
              "      <td>2000</td>\n",
              "      <td>3100</td>\n",
              "      <td>1</td>\n",
              "    </tr>\n",
              "    <tr>\n",
              "      <th>29998</th>\n",
              "      <td>29999</td>\n",
              "      <td>80000</td>\n",
              "      <td>1</td>\n",
              "      <td>3</td>\n",
              "      <td>1</td>\n",
              "      <td>41</td>\n",
              "      <td>1</td>\n",
              "      <td>-1</td>\n",
              "      <td>0</td>\n",
              "      <td>0</td>\n",
              "      <td>0</td>\n",
              "      <td>-1</td>\n",
              "      <td>-1645</td>\n",
              "      <td>78379</td>\n",
              "      <td>76304</td>\n",
              "      <td>52774</td>\n",
              "      <td>11855</td>\n",
              "      <td>48944</td>\n",
              "      <td>85900</td>\n",
              "      <td>3409</td>\n",
              "      <td>1178</td>\n",
              "      <td>1926</td>\n",
              "      <td>52964</td>\n",
              "      <td>1804</td>\n",
              "      <td>1</td>\n",
              "    </tr>\n",
              "    <tr>\n",
              "      <th>29999</th>\n",
              "      <td>30000</td>\n",
              "      <td>50000</td>\n",
              "      <td>1</td>\n",
              "      <td>2</td>\n",
              "      <td>1</td>\n",
              "      <td>46</td>\n",
              "      <td>0</td>\n",
              "      <td>0</td>\n",
              "      <td>0</td>\n",
              "      <td>0</td>\n",
              "      <td>0</td>\n",
              "      <td>0</td>\n",
              "      <td>47929</td>\n",
              "      <td>48905</td>\n",
              "      <td>49764</td>\n",
              "      <td>36535</td>\n",
              "      <td>32428</td>\n",
              "      <td>15313</td>\n",
              "      <td>2078</td>\n",
              "      <td>1800</td>\n",
              "      <td>1430</td>\n",
              "      <td>1000</td>\n",
              "      <td>1000</td>\n",
              "      <td>1000</td>\n",
              "      <td>1</td>\n",
              "    </tr>\n",
              "  </tbody>\n",
              "</table>\n",
              "<p>30000 rows × 25 columns</p>\n",
              "</div>"
            ],
            "text/plain": [
              "          ID  LIMIT_BAL  SEX  ...  PAY_AMT5  PAY_AMT6  default payment next month\n",
              "0          1      20000    2  ...         0         0                           1\n",
              "1          2     120000    2  ...         0      2000                           1\n",
              "2          3      90000    2  ...      1000      5000                           0\n",
              "3          4      50000    2  ...      1069      1000                           0\n",
              "4          5      50000    1  ...       689       679                           0\n",
              "...      ...        ...  ...  ...       ...       ...                         ...\n",
              "29995  29996     220000    1  ...      5000      1000                           0\n",
              "29996  29997     150000    1  ...         0         0                           0\n",
              "29997  29998      30000    1  ...      2000      3100                           1\n",
              "29998  29999      80000    1  ...     52964      1804                           1\n",
              "29999  30000      50000    1  ...      1000      1000                           1\n",
              "\n",
              "[30000 rows x 25 columns]"
            ]
          },
          "metadata": {},
          "execution_count": 3
        }
      ]
    },
    {
      "cell_type": "markdown",
      "metadata": {
        "id": "cupV8lpw0qIr"
      },
      "source": [
        "### 문제 02. 데이터 미리보기"
      ]
    },
    {
      "cell_type": "code",
      "metadata": {
        "id": "rrtfD32hD-yz",
        "colab": {
          "base_uri": "https://localhost:8080/",
          "height": 290
        },
        "outputId": "ca4867a7-f9f6-4189-9d51-0151ff4e1b6b"
      },
      "source": [
        "# 데이터 크기 확인\n",
        "print(data.shape)\n",
        "\n",
        "# 데이터 일부 확인\n",
        "data.head()"
      ],
      "execution_count": null,
      "outputs": [
        {
          "output_type": "stream",
          "name": "stdout",
          "text": [
            "(30000, 25)\n"
          ]
        },
        {
          "output_type": "execute_result",
          "data": {
            "text/html": [
              "<div>\n",
              "<style scoped>\n",
              "    .dataframe tbody tr th:only-of-type {\n",
              "        vertical-align: middle;\n",
              "    }\n",
              "\n",
              "    .dataframe tbody tr th {\n",
              "        vertical-align: top;\n",
              "    }\n",
              "\n",
              "    .dataframe thead th {\n",
              "        text-align: right;\n",
              "    }\n",
              "</style>\n",
              "<table border=\"1\" class=\"dataframe\">\n",
              "  <thead>\n",
              "    <tr style=\"text-align: right;\">\n",
              "      <th></th>\n",
              "      <th>ID</th>\n",
              "      <th>LIMIT_BAL</th>\n",
              "      <th>SEX</th>\n",
              "      <th>EDUCATION</th>\n",
              "      <th>MARRIAGE</th>\n",
              "      <th>AGE</th>\n",
              "      <th>PAY_0</th>\n",
              "      <th>PAY_2</th>\n",
              "      <th>PAY_3</th>\n",
              "      <th>PAY_4</th>\n",
              "      <th>PAY_5</th>\n",
              "      <th>PAY_6</th>\n",
              "      <th>BILL_AMT1</th>\n",
              "      <th>BILL_AMT2</th>\n",
              "      <th>BILL_AMT3</th>\n",
              "      <th>BILL_AMT4</th>\n",
              "      <th>BILL_AMT5</th>\n",
              "      <th>BILL_AMT6</th>\n",
              "      <th>PAY_AMT1</th>\n",
              "      <th>PAY_AMT2</th>\n",
              "      <th>PAY_AMT3</th>\n",
              "      <th>PAY_AMT4</th>\n",
              "      <th>PAY_AMT5</th>\n",
              "      <th>PAY_AMT6</th>\n",
              "      <th>default payment next month</th>\n",
              "    </tr>\n",
              "  </thead>\n",
              "  <tbody>\n",
              "    <tr>\n",
              "      <th>0</th>\n",
              "      <td>1</td>\n",
              "      <td>20000</td>\n",
              "      <td>2</td>\n",
              "      <td>2</td>\n",
              "      <td>1</td>\n",
              "      <td>24</td>\n",
              "      <td>2</td>\n",
              "      <td>2</td>\n",
              "      <td>-1</td>\n",
              "      <td>-1</td>\n",
              "      <td>-2</td>\n",
              "      <td>-2</td>\n",
              "      <td>3913</td>\n",
              "      <td>3102</td>\n",
              "      <td>689</td>\n",
              "      <td>0</td>\n",
              "      <td>0</td>\n",
              "      <td>0</td>\n",
              "      <td>0</td>\n",
              "      <td>689</td>\n",
              "      <td>0</td>\n",
              "      <td>0</td>\n",
              "      <td>0</td>\n",
              "      <td>0</td>\n",
              "      <td>1</td>\n",
              "    </tr>\n",
              "    <tr>\n",
              "      <th>1</th>\n",
              "      <td>2</td>\n",
              "      <td>120000</td>\n",
              "      <td>2</td>\n",
              "      <td>2</td>\n",
              "      <td>2</td>\n",
              "      <td>26</td>\n",
              "      <td>-1</td>\n",
              "      <td>2</td>\n",
              "      <td>0</td>\n",
              "      <td>0</td>\n",
              "      <td>0</td>\n",
              "      <td>2</td>\n",
              "      <td>2682</td>\n",
              "      <td>1725</td>\n",
              "      <td>2682</td>\n",
              "      <td>3272</td>\n",
              "      <td>3455</td>\n",
              "      <td>3261</td>\n",
              "      <td>0</td>\n",
              "      <td>1000</td>\n",
              "      <td>1000</td>\n",
              "      <td>1000</td>\n",
              "      <td>0</td>\n",
              "      <td>2000</td>\n",
              "      <td>1</td>\n",
              "    </tr>\n",
              "    <tr>\n",
              "      <th>2</th>\n",
              "      <td>3</td>\n",
              "      <td>90000</td>\n",
              "      <td>2</td>\n",
              "      <td>2</td>\n",
              "      <td>2</td>\n",
              "      <td>34</td>\n",
              "      <td>0</td>\n",
              "      <td>0</td>\n",
              "      <td>0</td>\n",
              "      <td>0</td>\n",
              "      <td>0</td>\n",
              "      <td>0</td>\n",
              "      <td>29239</td>\n",
              "      <td>14027</td>\n",
              "      <td>13559</td>\n",
              "      <td>14331</td>\n",
              "      <td>14948</td>\n",
              "      <td>15549</td>\n",
              "      <td>1518</td>\n",
              "      <td>1500</td>\n",
              "      <td>1000</td>\n",
              "      <td>1000</td>\n",
              "      <td>1000</td>\n",
              "      <td>5000</td>\n",
              "      <td>0</td>\n",
              "    </tr>\n",
              "    <tr>\n",
              "      <th>3</th>\n",
              "      <td>4</td>\n",
              "      <td>50000</td>\n",
              "      <td>2</td>\n",
              "      <td>2</td>\n",
              "      <td>1</td>\n",
              "      <td>37</td>\n",
              "      <td>0</td>\n",
              "      <td>0</td>\n",
              "      <td>0</td>\n",
              "      <td>0</td>\n",
              "      <td>0</td>\n",
              "      <td>0</td>\n",
              "      <td>46990</td>\n",
              "      <td>48233</td>\n",
              "      <td>49291</td>\n",
              "      <td>28314</td>\n",
              "      <td>28959</td>\n",
              "      <td>29547</td>\n",
              "      <td>2000</td>\n",
              "      <td>2019</td>\n",
              "      <td>1200</td>\n",
              "      <td>1100</td>\n",
              "      <td>1069</td>\n",
              "      <td>1000</td>\n",
              "      <td>0</td>\n",
              "    </tr>\n",
              "    <tr>\n",
              "      <th>4</th>\n",
              "      <td>5</td>\n",
              "      <td>50000</td>\n",
              "      <td>1</td>\n",
              "      <td>2</td>\n",
              "      <td>1</td>\n",
              "      <td>57</td>\n",
              "      <td>-1</td>\n",
              "      <td>0</td>\n",
              "      <td>-1</td>\n",
              "      <td>0</td>\n",
              "      <td>0</td>\n",
              "      <td>0</td>\n",
              "      <td>8617</td>\n",
              "      <td>5670</td>\n",
              "      <td>35835</td>\n",
              "      <td>20940</td>\n",
              "      <td>19146</td>\n",
              "      <td>19131</td>\n",
              "      <td>2000</td>\n",
              "      <td>36681</td>\n",
              "      <td>10000</td>\n",
              "      <td>9000</td>\n",
              "      <td>689</td>\n",
              "      <td>679</td>\n",
              "      <td>0</td>\n",
              "    </tr>\n",
              "  </tbody>\n",
              "</table>\n",
              "</div>"
            ],
            "text/plain": [
              "   ID  LIMIT_BAL  SEX  ...  PAY_AMT5  PAY_AMT6  default payment next month\n",
              "0   1      20000    2  ...         0         0                           1\n",
              "1   2     120000    2  ...         0      2000                           1\n",
              "2   3      90000    2  ...      1000      5000                           0\n",
              "3   4      50000    2  ...      1069      1000                           0\n",
              "4   5      50000    1  ...       689       679                           0\n",
              "\n",
              "[5 rows x 25 columns]"
            ]
          },
          "metadata": {},
          "execution_count": 4
        }
      ]
    },
    {
      "cell_type": "markdown",
      "metadata": {
        "id": "YZMNz6Es0qIs"
      },
      "source": [
        "### 문제 03. 데이터 확인하기"
      ]
    },
    {
      "cell_type": "code",
      "metadata": {
        "id": "SWLusfet0qIt",
        "colab": {
          "base_uri": "https://localhost:8080/"
        },
        "outputId": "a323ed4c-2596-4582-c73b-5570cdb183ee"
      },
      "source": [
        "# train 데이터에서 결측치가 있는 column 확인하기\n",
        "data.info()"
      ],
      "execution_count": null,
      "outputs": [
        {
          "output_type": "stream",
          "name": "stdout",
          "text": [
            "<class 'pandas.core.frame.DataFrame'>\n",
            "RangeIndex: 30000 entries, 0 to 29999\n",
            "Data columns (total 25 columns):\n",
            " #   Column                      Non-Null Count  Dtype\n",
            "---  ------                      --------------  -----\n",
            " 0   ID                          30000 non-null  int64\n",
            " 1   LIMIT_BAL                   30000 non-null  int64\n",
            " 2   SEX                         30000 non-null  int64\n",
            " 3   EDUCATION                   30000 non-null  int64\n",
            " 4   MARRIAGE                    30000 non-null  int64\n",
            " 5   AGE                         30000 non-null  int64\n",
            " 6   PAY_0                       30000 non-null  int64\n",
            " 7   PAY_2                       30000 non-null  int64\n",
            " 8   PAY_3                       30000 non-null  int64\n",
            " 9   PAY_4                       30000 non-null  int64\n",
            " 10  PAY_5                       30000 non-null  int64\n",
            " 11  PAY_6                       30000 non-null  int64\n",
            " 12  BILL_AMT1                   30000 non-null  int64\n",
            " 13  BILL_AMT2                   30000 non-null  int64\n",
            " 14  BILL_AMT3                   30000 non-null  int64\n",
            " 15  BILL_AMT4                   30000 non-null  int64\n",
            " 16  BILL_AMT5                   30000 non-null  int64\n",
            " 17  BILL_AMT6                   30000 non-null  int64\n",
            " 18  PAY_AMT1                    30000 non-null  int64\n",
            " 19  PAY_AMT2                    30000 non-null  int64\n",
            " 20  PAY_AMT3                    30000 non-null  int64\n",
            " 21  PAY_AMT4                    30000 non-null  int64\n",
            " 22  PAY_AMT5                    30000 non-null  int64\n",
            " 23  PAY_AMT6                    30000 non-null  int64\n",
            " 24  default payment next month  30000 non-null  int64\n",
            "dtypes: int64(25)\n",
            "memory usage: 5.7 MB\n"
          ]
        }
      ]
    },
    {
      "cell_type": "markdown",
      "metadata": {
        "id": "wB0Eo_-D0qIx"
      },
      "source": [
        "## Step 2. Data Preprocessing\n",
        "\n",
        "- 이번 데이터는 결측치가 없습니다.\n",
        "\n",
        "- 학습을 위해서 column들을 정리하고, train-test split을 합니다."
      ]
    },
    {
      "cell_type": "markdown",
      "metadata": {
        "id": "uL3ndm06e7S1"
      },
      "source": [
        "### 문제 04. 데이터 feature matrix(X)와 target vector(y) 정의하기"
      ]
    },
    {
      "cell_type": "code",
      "metadata": {
        "id": "q4kMuoAUezL7"
      },
      "source": [
        "# data에서 X, y를 정의합니다.\n",
        "X = data.drop(columns=[\"ID\", \"default payment next month\"]) # ID는 학습과 전혀 상관이 없으므로 제외합니다.\n",
        "y = data[\"default payment next month\"] "
      ],
      "execution_count": null,
      "outputs": []
    },
    {
      "cell_type": "markdown",
      "metadata": {
        "id": "TJc3-Mz8gSR6"
      },
      "source": [
        "### 문제 05. train test 데이터 나누기"
      ]
    },
    {
      "cell_type": "code",
      "metadata": {
        "id": "6N1S5Ux-iaqz"
      },
      "source": [
        "# 학습의 평가를 위해서 데이터의 일부를 test data로 나누고, 나머지 데이터를 학습에 사용합니다.\n",
        "from sklearn.model_selection import train_test_split\n",
        "\n",
        "# 25%를 test data로 사용합니다.\n",
        "X_train, X_test, y_train, y_test = train_test_split(X, y, test_size=0.25)"
      ],
      "execution_count": null,
      "outputs": []
    },
    {
      "cell_type": "code",
      "metadata": {
        "colab": {
          "base_uri": "https://localhost:8080/"
        },
        "id": "ATBq8RIHiaol",
        "outputId": "fe15c62e-8c20-4559-f7ac-1c3687bc7f13"
      },
      "source": [
        "# 잘 나누어졌는지 크기를 확인합니다.\n",
        "print(X_train.shape, X_test.shape, y_train.shape, y_test.shape)"
      ],
      "execution_count": null,
      "outputs": [
        {
          "output_type": "stream",
          "name": "stdout",
          "text": [
            "(22500, 23) (7500, 23) (22500,) (7500,)\n"
          ]
        }
      ]
    },
    {
      "cell_type": "markdown",
      "metadata": {
        "id": "L4jRExCetYGb"
      },
      "source": [
        "## Step 3. Feature Engineering\n",
        "\n",
        "- 분석에 사용할 feature들을 만들고, 학습을 위한 데이터를 준비하는 단계입니다.\n",
        "\n",
        "- 분석할 데이터들의 scale을 통일시켜줍니다."
      ]
    },
    {
      "cell_type": "markdown",
      "metadata": {
        "id": "mxEweQuP0qI2"
      },
      "source": [
        "### 문제 06. feature scaling"
      ]
    },
    {
      "cell_type": "code",
      "metadata": {
        "id": "w_T-BCbe0qI3"
      },
      "source": [
        "# StandardScaler로 변환하기\n",
        "from sklearn.preprocessing import StandardScaler\n",
        "\n",
        "scaler = StandardScaler()\n",
        "X_train_standard = scaler.fit_transform(X_train)\n",
        "X_test_standard = scaler.transform(X_test)"
      ],
      "execution_count": null,
      "outputs": []
    },
    {
      "cell_type": "code",
      "metadata": {
        "id": "8fTacCwrEVBR",
        "colab": {
          "base_uri": "https://localhost:8080/"
        },
        "outputId": "4829be9f-a995-45cf-d4d5-e21a56df1da4"
      },
      "source": [
        "# 스케일 조정된 X_train 데이터 확인하기\n",
        "X_train_standard"
      ],
      "execution_count": null,
      "outputs": [
        {
          "output_type": "execute_result",
          "data": {
            "text/plain": [
              "array([[ 1.40054764,  0.81528749, -1.07416971, ..., -0.24465204,\n",
              "        -0.21847943, -0.01209907],\n",
              "       [-0.28709316, -1.22656119,  0.19035279, ..., -0.2065813 ,\n",
              "        -0.27945519, -0.28037774],\n",
              "       [ 0.24988346, -1.22656119, -1.07416971, ..., -0.31035162,\n",
              "        -0.3127147 , -0.2974412 ],\n",
              "       ...,\n",
              "       [ 2.55121183, -1.22656119, -1.07416971, ...,  0.34502278,\n",
              "         2.50247406,  0.66787122],\n",
              "       [-0.90078073,  0.81528749,  1.45487529, ..., -0.31035162,\n",
              "        -0.3127147 , -0.2974412 ],\n",
              "       [-1.20762451, -1.22656119,  0.19035279, ..., -0.31035162,\n",
              "        -0.3127147 , -0.2574933 ]])"
            ]
          },
          "metadata": {},
          "execution_count": 10
        }
      ]
    },
    {
      "cell_type": "markdown",
      "metadata": {
        "id": "_UEjbhkajTe9"
      },
      "source": [
        "### 문제 07. feature scaling 2"
      ]
    },
    {
      "cell_type": "code",
      "metadata": {
        "id": "Fh4lRCAdjMLs"
      },
      "source": [
        "# feature scaling의 성능 비교를 위해 RobustScaler도 사용해봅니다.\n",
        "from sklearn.preprocessing import RobustScaler\n",
        "\n",
        "scaler = RobustScaler()\n",
        "X_train_robust = scaler.fit_transform(X_train)\n",
        "X_test_robust = scaler.transform(X_test)"
      ],
      "execution_count": null,
      "outputs": []
    },
    {
      "cell_type": "code",
      "metadata": {
        "colab": {
          "base_uri": "https://localhost:8080/"
        },
        "id": "ciwVfj7Vjn96",
        "outputId": "860fcd04-7fab-46eb-bace-d27fa26f840b"
      },
      "source": [
        "# 변경된 값 확인\n",
        "X_test_robust"
      ],
      "execution_count": null,
      "outputs": [
        {
          "output_type": "execute_result",
          "data": {
            "text/plain": [
              "array([[ 0.10526316,  0.        ,  0.        , ..., -0.28736715,\n",
              "        -0.25406125, -0.2464332 ],\n",
              "       [-0.31578947,  0.        ,  1.        , ..., -0.40360554,\n",
              "        -0.13315579,  0.        ],\n",
              "       [ 0.        ,  0.        , -1.        , ..., -0.40360554,\n",
              "        -0.39946738, -0.38910506],\n",
              "       ...,\n",
              "       [-0.05263158,  0.        ,  0.        , ..., -0.27902597,\n",
              "         0.19121172,  2.29468223],\n",
              "       [ 0.42105263,  0.        , -1.        , ..., -0.13722588,\n",
              "        -0.04687084, -0.11958495],\n",
              "       [ 1.57894737,  0.        ,  0.        , ...,  2.28709808,\n",
              "         2.26364847,  2.20492866]])"
            ]
          },
          "metadata": {},
          "execution_count": 12
        }
      ]
    },
    {
      "cell_type": "markdown",
      "metadata": {
        "id": "uyrluBHm0qI4"
      },
      "source": [
        "### 참고: scikit-learn에서 제공하는 피처 스케일러(scaler)\n",
        "\n",
        "- `StandardScaler`: 기본 스케일, 각 피처의 평균을 0, 표준편차를 1로 변환\n",
        "- `RobustScaler`: 위와 유사하지만 평균 대신 중간값(median)과 일분위, 삼분위값(quartile)을 사용하여 이상치 영향을 최소화\n",
        "- `MinMaxScaler`: 모든 피처의 최대치와 최소치가 각각 1, 0이 되도록 스케일 조정\n",
        "- `Normalizer`: 피처(컬럼)이 아니라 row마다 정규화되며, 유클리드 거리가 1이 되도록 데이터를 조정하여 빠르게 학습할 수 있게 함\n",
        "\n",
        "<p> 스케일 조정을 하는 이유는 데이터의 값이 너무 크거나 작을 때 학습이 제대로 되지 않을 수도 있기 때문입니다. 또한 스케일의 영향이 절대적인 분류기(예: knn과 같은 거리기반 알고리즘)의 경우, 스케일 조정을 필수적으로 검토해야 합니다.\n",
        "    \n",
        "<p> 반면 어떤 항목은 원본 데이터의 분포를 유지하는 것이 나을 수도 있습니다. 예를 들어, 데이터가 거의 한 곳에 집중되어 있는 feature를 표준화시켜 분포를 같게 만들었을 때, 작은 단위의 변화가 큰 차이를 나타내는 것처럼 학습될 수도 있습니다. 또한 스케일의 영향을 크게 받지 않는 분류기(예: 트리 기반 앙상블 알고리즘)를 사용할 경우에도 성능이 준수하게 나오거나 과대적합(overfitting)의 우려가 적다면 생략할 수도 있습니다.\n",
        "    \n",
        "<p> 스케일 조정시 유의해야할 점은 원본 데이터의 의미를 잃어버릴 수 있다는 것입니다. 최종적으로 답을 구하는 것이 목적이 아니라 모델의 해석이나 향후 다른 데이터셋으로의 응용이 더 중요할 때 원 피처에 대한 설명력을 잃어버린다면 모델 개선이 어려울 수도 있습니다. 이 점을 함께 고려하시면 좋겠습니다."
      ]
    },
    {
      "cell_type": "markdown",
      "metadata": {
        "id": "FSA1NIBa0qI6"
      },
      "source": [
        "## Step 4. Training"
      ]
    },
    {
      "cell_type": "markdown",
      "metadata": {
        "id": "h1hHD5bjCb8y"
      },
      "source": [
        "- 공부한 각 머신러닝 분류 모델들을 돌려보고, 성능을 평가합니다.\n",
        "\n",
        "- 아래 모델들이 그 대상에 해당합니다.\n",
        "\n",
        "- Logistic Regression / Naive Bayes / Decision Tree / Random Forest / KNN / SVM / xgboost / lightgbm"
      ]
    },
    {
      "cell_type": "markdown",
      "metadata": {
        "id": "14kriJ_j0qI6"
      },
      "source": [
        "### 문제 08. Logistic Regression 모델 돌려보기"
      ]
    },
    {
      "cell_type": "code",
      "metadata": {
        "id": "RVP2tN1U0qI7",
        "colab": {
          "base_uri": "https://localhost:8080/"
        },
        "outputId": "5927f137-ca09-4853-d3d2-beeb1e31e41b"
      },
      "source": [
        "from sklearn.linear_model import LogisticRegression\n",
        "from sklearn.metrics import accuracy_score\n",
        "\n",
        "log_reg = LogisticRegression()\n",
        "log_reg.fit(X_train_standard, y_train)"
      ],
      "execution_count": null,
      "outputs": [
        {
          "output_type": "execute_result",
          "data": {
            "text/plain": [
              "LogisticRegression(C=1.0, class_weight=None, dual=False, fit_intercept=True,\n",
              "                   intercept_scaling=1, l1_ratio=None, max_iter=100,\n",
              "                   multi_class='auto', n_jobs=None, penalty='l2',\n",
              "                   random_state=None, solver='lbfgs', tol=0.0001, verbose=0,\n",
              "                   warm_start=False)"
            ]
          },
          "metadata": {},
          "execution_count": 13
        }
      ]
    },
    {
      "cell_type": "markdown",
      "metadata": {
        "id": "fIH9m2RF0qI7"
      },
      "source": [
        "### 문제 09. Logistic Regression 모델의 정확도 평가하기"
      ]
    },
    {
      "cell_type": "code",
      "metadata": {
        "scrolled": false,
        "id": "teFIrxQA0qI8",
        "colab": {
          "base_uri": "https://localhost:8080/"
        },
        "outputId": "1bb09436-7e55-445b-b86b-d8135386ca7b"
      },
      "source": [
        "pred = log_reg.predict(X_train_standard)\n",
        "logreg_score = accuracy_score(y_train, pred)\n",
        "\n",
        "print('Logistic Regression accuracy score: {0:0.4f}'.format(logreg_score))"
      ],
      "execution_count": null,
      "outputs": [
        {
          "output_type": "stream",
          "name": "stdout",
          "text": [
            "Logistic Regression accuracy score: 0.8111\n"
          ]
        }
      ]
    },
    {
      "cell_type": "markdown",
      "metadata": {
        "id": "O4UkbF6yEte8"
      },
      "source": [
        "### 문제 10. Naive Bayes 모델 돌려보기"
      ]
    },
    {
      "cell_type": "code",
      "metadata": {
        "colab": {
          "base_uri": "https://localhost:8080/"
        },
        "id": "XxIdMw4PEtqG",
        "outputId": "ff4aa979-2c9b-4668-9de2-6d53be10f0f8"
      },
      "source": [
        "from sklearn.naive_bayes import GaussianNB\n",
        "\n",
        "nb = GaussianNB()\n",
        "nb.fit(X_train_standard, y_train)"
      ],
      "execution_count": null,
      "outputs": [
        {
          "output_type": "execute_result",
          "data": {
            "text/plain": [
              "GaussianNB(priors=None, var_smoothing=1e-09)"
            ]
          },
          "metadata": {},
          "execution_count": 15
        }
      ]
    },
    {
      "cell_type": "markdown",
      "metadata": {
        "id": "7UFi6fqWE9qQ"
      },
      "source": [
        "### 문제 11. Naive Bayes 평가하기"
      ]
    },
    {
      "cell_type": "code",
      "metadata": {
        "colab": {
          "base_uri": "https://localhost:8080/"
        },
        "id": "RIeh3qnxFA8f",
        "outputId": "47f80368-14f3-4244-9699-7fa81c6e5a3b"
      },
      "source": [
        "pred = nb.predict(X_train_standard)\n",
        "nb_score = accuracy_score(y_train, pred)\n",
        "\n",
        "print('Naive Bayes accuracy score: {0:0.4f}'.format(nb_score))"
      ],
      "execution_count": null,
      "outputs": [
        {
          "output_type": "stream",
          "name": "stdout",
          "text": [
            "Naive Bayes accuracy score: 0.7351\n"
          ]
        }
      ]
    },
    {
      "cell_type": "markdown",
      "metadata": {
        "id": "INCXInIe0qJA"
      },
      "source": [
        "### 문제 12. Random Forest 모델 돌려보기"
      ]
    },
    {
      "cell_type": "code",
      "metadata": {
        "id": "kYjynAEf0qJB",
        "colab": {
          "base_uri": "https://localhost:8080/"
        },
        "outputId": "c9c4f0df-c452-4032-ad3f-d0e6c3e74f5a"
      },
      "source": [
        "from sklearn.ensemble import RandomForestClassifier\n",
        "\n",
        "rf = RandomForestClassifier(max_depth=15, max_features=0.8)  \n",
        "rf.fit(X_train_standard, y_train)"
      ],
      "execution_count": null,
      "outputs": [
        {
          "output_type": "execute_result",
          "data": {
            "text/plain": [
              "RandomForestClassifier(bootstrap=True, ccp_alpha=0.0, class_weight=None,\n",
              "                       criterion='gini', max_depth=15, max_features=0.8,\n",
              "                       max_leaf_nodes=None, max_samples=None,\n",
              "                       min_impurity_decrease=0.0, min_impurity_split=None,\n",
              "                       min_samples_leaf=1, min_samples_split=2,\n",
              "                       min_weight_fraction_leaf=0.0, n_estimators=100,\n",
              "                       n_jobs=None, oob_score=False, random_state=None,\n",
              "                       verbose=0, warm_start=False)"
            ]
          },
          "metadata": {},
          "execution_count": 17
        }
      ]
    },
    {
      "cell_type": "code",
      "metadata": {
        "id": "pp7fM5KvUGHE",
        "colab": {
          "base_uri": "https://localhost:8080/"
        },
        "outputId": "7fd543d5-65d6-41ef-f273-9b98c03024f8"
      },
      "source": [
        "pred = rf.predict(X_train_standard) \n",
        "rf_score = accuracy_score(y_train, pred)\n",
        "print('Random Forest Model accuracy score : {0:0.4f}'.format(rf_score))"
      ],
      "execution_count": null,
      "outputs": [
        {
          "output_type": "stream",
          "name": "stdout",
          "text": [
            "Random Forest Model accuracy score : 0.9105\n"
          ]
        }
      ]
    },
    {
      "cell_type": "markdown",
      "metadata": {
        "id": "_RFhNWs0FUL2"
      },
      "source": [
        "### 문제 13. KNN Classification 모델 돌려보기"
      ]
    },
    {
      "cell_type": "code",
      "metadata": {
        "colab": {
          "base_uri": "https://localhost:8080/"
        },
        "id": "oKzTiDzKFTpb",
        "outputId": "49261e42-57bf-4439-b88e-b5645fb5a088"
      },
      "source": [
        "from sklearn.neighbors import KNeighborsClassifier\n",
        "\n",
        "knn = KNeighborsClassifier()\n",
        "knn.fit(X_train_standard, y_train)"
      ],
      "execution_count": null,
      "outputs": [
        {
          "output_type": "execute_result",
          "data": {
            "text/plain": [
              "KNeighborsClassifier(algorithm='auto', leaf_size=30, metric='minkowski',\n",
              "                     metric_params=None, n_jobs=None, n_neighbors=5, p=2,\n",
              "                     weights='uniform')"
            ]
          },
          "metadata": {},
          "execution_count": 19
        }
      ]
    },
    {
      "cell_type": "code",
      "metadata": {
        "colab": {
          "base_uri": "https://localhost:8080/"
        },
        "id": "zJlsw13RGYUo",
        "outputId": "74047c41-f5f9-4932-bfd9-1b1d50d2f8fb"
      },
      "source": [
        "pred = knn.predict(X_train_standard) \n",
        "knn_score = accuracy_score(y_train, pred)\n",
        "print('KNN classification accuracy score : {0:0.4f}'.format(knn_score))"
      ],
      "execution_count": null,
      "outputs": [
        {
          "output_type": "stream",
          "name": "stdout",
          "text": [
            "KNN classification accuracy score : 0.8441\n"
          ]
        }
      ]
    },
    {
      "cell_type": "markdown",
      "metadata": {
        "id": "a9WojjlOGe_K"
      },
      "source": [
        "### 문제 14. Support Vector Machine 모델 돌려보기"
      ]
    },
    {
      "cell_type": "code",
      "metadata": {
        "colab": {
          "base_uri": "https://localhost:8080/"
        },
        "id": "qGh_QbGPGfVQ",
        "outputId": "c58731f3-5b99-4ff7-b8a2-51753748fe5f"
      },
      "source": [
        "from sklearn.svm import SVC\n",
        "\n",
        "svc = SVC()\n",
        "svc.fit(X_train_standard, y_train)"
      ],
      "execution_count": null,
      "outputs": [
        {
          "output_type": "execute_result",
          "data": {
            "text/plain": [
              "SVC(C=1.0, break_ties=False, cache_size=200, class_weight=None, coef0=0.0,\n",
              "    decision_function_shape='ovr', degree=3, gamma='scale', kernel='rbf',\n",
              "    max_iter=-1, probability=False, random_state=None, shrinking=True,\n",
              "    tol=0.001, verbose=False)"
            ]
          },
          "metadata": {},
          "execution_count": 21
        }
      ]
    },
    {
      "cell_type": "code",
      "metadata": {
        "colab": {
          "base_uri": "https://localhost:8080/"
        },
        "id": "SfV7NIdYGfPF",
        "outputId": "f14ef274-fdda-4272-9b57-d4f2414fa0eb"
      },
      "source": [
        "pred = svc.predict(X_train_standard) \n",
        "svm_score = accuracy_score(y_train, pred)\n",
        "print('Support Vector Machine accuracy score : {0:0.4f}'.format(svm_score))"
      ],
      "execution_count": null,
      "outputs": [
        {
          "output_type": "stream",
          "name": "stdout",
          "text": [
            "Support Vector Machine accuracy score : 0.8249\n"
          ]
        }
      ]
    },
    {
      "cell_type": "markdown",
      "metadata": {
        "id": "wknluIW_0qJE"
      },
      "source": [
        "### 문제 15. XGBoost 모델 돌려보기\n",
        "\n",
        "- xgboost의 구현체가 많지만, 여기서는 sklearn version을 사용합니다."
      ]
    },
    {
      "cell_type": "code",
      "metadata": {
        "colab": {
          "base_uri": "https://localhost:8080/"
        },
        "id": "ig7tGMy4Hy2f",
        "outputId": "aedd77bb-a22d-404f-e215-2a9fe8ad52a1"
      },
      "source": [
        "from xgboost.sklearn import XGBClassifier\n",
        "\n",
        "xgb = XGBClassifier(max_depth=15, max_features=0.8)\n",
        "xgb.fit(X_train_standard, y_train)"
      ],
      "execution_count": null,
      "outputs": [
        {
          "output_type": "execute_result",
          "data": {
            "text/plain": [
              "XGBClassifier(base_score=0.5, booster='gbtree', colsample_bylevel=1,\n",
              "              colsample_bynode=1, colsample_bytree=1, gamma=0,\n",
              "              learning_rate=0.1, max_delta_step=0, max_depth=15,\n",
              "              max_features=0.8, min_child_weight=1, missing=None,\n",
              "              n_estimators=100, n_jobs=1, nthread=None,\n",
              "              objective='binary:logistic', random_state=0, reg_alpha=0,\n",
              "              reg_lambda=1, scale_pos_weight=1, seed=None, silent=None,\n",
              "              subsample=1, verbosity=1)"
            ]
          },
          "metadata": {},
          "execution_count": 23
        }
      ]
    },
    {
      "cell_type": "markdown",
      "metadata": {
        "id": "qASAE5ow0qJG"
      },
      "source": [
        "### 문제 16. XGBoost 모델의 분류결과 확인하기"
      ]
    },
    {
      "cell_type": "code",
      "metadata": {
        "colab": {
          "base_uri": "https://localhost:8080/"
        },
        "id": "TW5sYu6MICW5",
        "outputId": "eb6fef64-4416-402f-ebbb-b7cc3cf219df"
      },
      "source": [
        "pred = xgb.predict(X_train_standard) \n",
        "xgb_score = accuracy_score(y_train, pred)\n",
        "print('XGBoost accuracy score : {0:0.4f}'.format(xgb_score))"
      ],
      "execution_count": null,
      "outputs": [
        {
          "output_type": "stream",
          "name": "stdout",
          "text": [
            "XGBoost accuracy score : 0.9854\n"
          ]
        }
      ]
    },
    {
      "cell_type": "markdown",
      "metadata": {
        "id": "6XZkWQ2E0qJG"
      },
      "source": [
        "### 문제 17. Light GBM 모델 돌려보기"
      ]
    },
    {
      "cell_type": "code",
      "metadata": {
        "colab": {
          "base_uri": "https://localhost:8080/"
        },
        "id": "2zV3jXvMIIM0",
        "outputId": "8b1e48b8-cb14-489f-ce0d-beff083d8b50"
      },
      "source": [
        "from lightgbm.sklearn import LGBMClassifier\n",
        "\n",
        "lgb = LGBMClassifier(max_depth=15, max_features=0.8)\n",
        "lgb.fit(X_train_standard, y_train)"
      ],
      "execution_count": null,
      "outputs": [
        {
          "output_type": "execute_result",
          "data": {
            "text/plain": [
              "LGBMClassifier(boosting_type='gbdt', class_weight=None, colsample_bytree=1.0,\n",
              "               importance_type='split', learning_rate=0.1, max_depth=15,\n",
              "               max_features=0.8, min_child_samples=20, min_child_weight=0.001,\n",
              "               min_split_gain=0.0, n_estimators=100, n_jobs=-1, num_leaves=31,\n",
              "               objective=None, random_state=None, reg_alpha=0.0, reg_lambda=0.0,\n",
              "               silent=True, subsample=1.0, subsample_for_bin=200000,\n",
              "               subsample_freq=0)"
            ]
          },
          "metadata": {},
          "execution_count": 25
        }
      ]
    },
    {
      "cell_type": "markdown",
      "metadata": {
        "id": "w3YwlN_x0qJH"
      },
      "source": [
        "### 문제 18. Light GBM 분류결과 확인하기"
      ]
    },
    {
      "cell_type": "code",
      "metadata": {
        "colab": {
          "base_uri": "https://localhost:8080/"
        },
        "id": "ZAyGd8_nIYer",
        "outputId": "12639e98-5b99-4110-a7e8-f5970147601b"
      },
      "source": [
        "pred = lgb.predict(X_train_standard) \n",
        "lgb_score = accuracy_score(y_train, pred)\n",
        "print('XGBoost accuracy score : {0:0.4f}'.format(lgb_score))"
      ],
      "execution_count": null,
      "outputs": [
        {
          "output_type": "stream",
          "name": "stdout",
          "text": [
            "XGBoost accuracy score : 0.8464\n"
          ]
        }
      ]
    },
    {
      "cell_type": "markdown",
      "metadata": {
        "id": "7_5l_T2-0qJE"
      },
      "source": [
        "### 참고 : 부스팅(Boosting) 모델 개요\n",
        "\n",
        "\n",
        "- 부스팅은 여러 트리의 적합 결과를 합하는 앙상블 알고리즘의 하나로, 이 때 sequential의 개념이 추가되어 있습니다. 즉 연속적인 weak learner, 바로 직전 weak learner의 error를 반영한 현재 weak learner를 잡겠다는 것입니다. 이 아이디어는 Gradient Boosting Model(GBM)에서 loss를 계속 줄이는 방향으로 weak learner를 잡는다는 개념으로 확장됩니다.\n",
        "\n",
        "![boost](https://pluralsight2.imgix.net/guides/81232a78-2e99-4ccc-ba8e-8cd873625fdf_2.jpg)\n",
        "\n",
        "\n",
        "- 부스팅 계열 모델은 XGBoost, LightGBM, CatBoost 등이 있습니다.\n",
        "\n",
        "\n",
        "- 더 자세한 내용은 다음 Step에서 살펴보겠습니다."
      ]
    },
    {
      "cell_type": "markdown",
      "metadata": {
        "id": "dAkna1SEmnu-"
      },
      "source": [
        "### 문제 19. 성능이 가장 좋은 모델 3개를 뽑아서 RobustScaler로 성능 비교하기"
      ]
    },
    {
      "cell_type": "code",
      "metadata": {
        "colab": {
          "base_uri": "https://localhost:8080/"
        },
        "id": "1ENapwGHmr1h",
        "outputId": "bd562066-56b5-4c73-a4ac-ec0f26db03c0"
      },
      "source": [
        "# RandomForest, XGBoost, LightGBM 3개의 모델로 비교 실험을 수행합니다.\n",
        "rf2 = RandomForestClassifier(max_depth=15, max_features=0.8)\n",
        "xgb2 = XGBClassifier(max_depth=15, max_features=0.8)\n",
        "lgb2 = LGBMClassifier(max_depth=15, max_features=0.8)\n",
        "\n",
        "rf2.fit(X_train_robust, y_train)\n",
        "xgb2.fit(X_train_robust, y_train)\n",
        "lgb2.fit(X_train_robust, y_train)\n",
        "\n",
        "pred1 = rf2.predict(X_train_robust)\n",
        "pred2 = xgb2.predict(X_train_robust)\n",
        "pred3 = lgb2.predict(X_train_robust)\n",
        "\n",
        "print('RandomForest accuracy score : {0:0.4f}'.format(accuracy_score(y_train, pred1)))\n",
        "print('XGBoost accuracy score : {0:0.4f}'.format(accuracy_score(y_train, pred2)))\n",
        "print('LightGBM accuracy score : {0:0.4f}'.format(accuracy_score(y_train, pred3)))"
      ],
      "execution_count": null,
      "outputs": [
        {
          "output_type": "stream",
          "name": "stdout",
          "text": [
            "RandomForest accuracy score : 0.9107\n",
            "XGBoost accuracy score : 0.9854\n",
            "LightGBM accuracy score : 0.8448\n"
          ]
        }
      ]
    },
    {
      "cell_type": "markdown",
      "metadata": {
        "id": "F15Q5DnCI0BJ"
      },
      "source": [
        "### 문제 20. Test prediction\n",
        "\n",
        "- 학습한 모델을 기반하여 test 데이터를 평가합니다. \n",
        "\n",
        "\n",
        "- 실제 현업에서는 서비스에 들어가는 기술을 test 데이터로 평가합니다. 마치 유저가 들어온 것처럼요."
      ]
    },
    {
      "cell_type": "code",
      "metadata": {
        "id": "erlbgiieIzrT"
      },
      "source": [
        "# 모델을 하나 정해서, test data에 대한 inference를 진행합니다.\n",
        "final = lgb.predict(X_test_standard)\n",
        "final2 = lgb2.predict(X_test_robust)"
      ],
      "execution_count": null,
      "outputs": []
    },
    {
      "cell_type": "code",
      "metadata": {
        "colab": {
          "base_uri": "https://localhost:8080/"
        },
        "id": "AY1x0pXXolph",
        "outputId": "884b5c55-f242-44d7-e1dc-a8ab55d33f78"
      },
      "source": [
        "# 성능 테스트\n",
        "print('LightGBM with Standard Scaler accuracy score : {0:0.4f}'.format(accuracy_score(y_test, final)))\n",
        "print('LightGBM with Robust Scaler accuracy score : {0:0.4f}'.format(accuracy_score(y_test, final2)))"
      ],
      "execution_count": null,
      "outputs": [
        {
          "output_type": "stream",
          "name": "stdout",
          "text": [
            "LightGBM with Standard Scaler accuracy score : 0.8197\n",
            "LightGBM with Robust Scaler accuracy score : 0.8188\n"
          ]
        }
      ]
    },
    {
      "cell_type": "code",
      "metadata": {
        "colab": {
          "base_uri": "https://localhost:8080/",
          "height": 447
        },
        "id": "TsTZOzZmJXuV",
        "outputId": "6620bcca-a349-4909-f0f5-08586e1baa5e"
      },
      "source": [
        "# 결과 파일 생성\n",
        "result = pd.DataFrame({\"ID\":X_test.index, \"target\":final}).set_index(\"ID\").sort_index()\n",
        "result"
      ],
      "execution_count": null,
      "outputs": [
        {
          "output_type": "execute_result",
          "data": {
            "text/html": [
              "<div>\n",
              "<style scoped>\n",
              "    .dataframe tbody tr th:only-of-type {\n",
              "        vertical-align: middle;\n",
              "    }\n",
              "\n",
              "    .dataframe tbody tr th {\n",
              "        vertical-align: top;\n",
              "    }\n",
              "\n",
              "    .dataframe thead th {\n",
              "        text-align: right;\n",
              "    }\n",
              "</style>\n",
              "<table border=\"1\" class=\"dataframe\">\n",
              "  <thead>\n",
              "    <tr style=\"text-align: right;\">\n",
              "      <th></th>\n",
              "      <th>target</th>\n",
              "    </tr>\n",
              "    <tr>\n",
              "      <th>ID</th>\n",
              "      <th></th>\n",
              "    </tr>\n",
              "  </thead>\n",
              "  <tbody>\n",
              "    <tr>\n",
              "      <th>5</th>\n",
              "      <td>0</td>\n",
              "    </tr>\n",
              "    <tr>\n",
              "      <th>9</th>\n",
              "      <td>0</td>\n",
              "    </tr>\n",
              "    <tr>\n",
              "      <th>11</th>\n",
              "      <td>0</td>\n",
              "    </tr>\n",
              "    <tr>\n",
              "      <th>12</th>\n",
              "      <td>0</td>\n",
              "    </tr>\n",
              "    <tr>\n",
              "      <th>14</th>\n",
              "      <td>0</td>\n",
              "    </tr>\n",
              "    <tr>\n",
              "      <th>...</th>\n",
              "      <td>...</td>\n",
              "    </tr>\n",
              "    <tr>\n",
              "      <th>29970</th>\n",
              "      <td>0</td>\n",
              "    </tr>\n",
              "    <tr>\n",
              "      <th>29971</th>\n",
              "      <td>0</td>\n",
              "    </tr>\n",
              "    <tr>\n",
              "      <th>29975</th>\n",
              "      <td>0</td>\n",
              "    </tr>\n",
              "    <tr>\n",
              "      <th>29988</th>\n",
              "      <td>0</td>\n",
              "    </tr>\n",
              "    <tr>\n",
              "      <th>29993</th>\n",
              "      <td>0</td>\n",
              "    </tr>\n",
              "  </tbody>\n",
              "</table>\n",
              "<p>7500 rows × 1 columns</p>\n",
              "</div>"
            ],
            "text/plain": [
              "       target\n",
              "ID           \n",
              "5           0\n",
              "9           0\n",
              "11          0\n",
              "12          0\n",
              "14          0\n",
              "...       ...\n",
              "29970       0\n",
              "29971       0\n",
              "29975       0\n",
              "29988       0\n",
              "29993       0\n",
              "\n",
              "[7500 rows x 1 columns]"
            ]
          },
          "metadata": {},
          "execution_count": 30
        }
      ]
    },
    {
      "cell_type": "markdown",
      "metadata": {
        "id": "xUz80L2m0qJI"
      },
      "source": [
        "### 문제 21. 최종 성능 정리"
      ]
    },
    {
      "cell_type": "code",
      "metadata": {
        "scrolled": false,
        "id": "qp15ChOf0qJJ",
        "colab": {
          "base_uri": "https://localhost:8080/"
        },
        "outputId": "d41fbcf4-9591-4954-a219-842658fdee8f"
      },
      "source": [
        "print('Accuracy Comparisons for Binary Models\\n')\n",
        "\n",
        "print('logreg_score:', '{0:0.5f}'.format(accuracy_score(y_test, log_reg.predict(X_test_standard))))\n",
        "print('nb_score:', '{0:0.5f}'.format(accuracy_score(y_test, nb.predict(X_test_standard))))\n",
        "print('rf_score   :', '{0:0.5f}'.format(accuracy_score(y_test, rf.predict(X_test_standard))))\n",
        "print('knn_score   :', '{0:0.5f}'.format(accuracy_score(y_test, knn.predict(X_test_standard))))\n",
        "print('svm_score   :', '{0:0.5f}'.format(accuracy_score(y_test, svc.predict(X_test_standard))))\n",
        "print('xgb_score   :', '{0:0.5f}'.format(accuracy_score(y_test, xgb.predict(X_test_standard))))\n",
        "print('lgb_score   :', '{0:0.5f}'.format(accuracy_score(y_test, lgb.predict(X_test_standard))))"
      ],
      "execution_count": null,
      "outputs": [
        {
          "output_type": "stream",
          "name": "stdout",
          "text": [
            "Accuracy Comparisons for Binary Models\n",
            "\n",
            "logreg_score: 0.81053\n",
            "nb_score: 0.72587\n",
            "rf_score   : 0.81933\n",
            "knn_score   : 0.79147\n",
            "svm_score   : 0.82093\n",
            "xgb_score   : 0.80733\n",
            "lgb_score   : 0.81973\n"
          ]
        }
      ]
    }
  ]
}
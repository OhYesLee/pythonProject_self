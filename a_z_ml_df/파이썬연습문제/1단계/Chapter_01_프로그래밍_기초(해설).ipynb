{
  "nbformat": 4,
  "nbformat_minor": 0,
  "metadata": {
    "kernelspec": {
      "display_name": "Python 3",
      "language": "python",
      "name": "python3"
    },
    "language_info": {
      "codemirror_mode": {
        "name": "ipython",
        "version": 3
      },
      "file_extension": ".py",
      "mimetype": "text/x-python",
      "name": "python",
      "nbconvert_exporter": "python",
      "pygments_lexer": "ipython3",
      "version": "3.6.6"
    },
    "toc": {
      "base_numbering": 1,
      "nav_menu": {},
      "number_sections": true,
      "sideBar": true,
      "skip_h1_title": false,
      "title_cell": "Table of Contents",
      "title_sidebar": "Contents",
      "toc_cell": false,
      "toc_position": {},
      "toc_section_display": true,
      "toc_window_display": false
    },
    "colab": {
      "name": "Chapter 01. 프로그래밍 기초(해설)",
      "provenance": [],
      "collapsed_sections": []
    }
  },
  "cells": [
    {
      "cell_type": "markdown",
      "metadata": {
        "id": "Xn_bPjW10qHz"
      },
      "source": [
        "# Chapter 01. 프로그래밍 기초 연습하기 (총 60문제)"
      ]
    },
    {
      "cell_type": "markdown",
      "metadata": {
        "id": "hR5XfHWy0qIi"
      },
      "source": [
        "## 실습 가이드\n",
        "1. 난이도는 매우 쉬운 문제부터 점차 난이도가 있는 문제로 올라갑니다.\n",
        "\n",
        "2. 이번 파트에서 풀게 될 문제들은 \"파이썬 프로그래밍\" 파트에서 배운 내용들을 기준으로 구성 되었습니다.\n",
        "> 물론 개인의 선택에 따라 사용하셔도 되지만, 권장하지 않습니다.\n",
        "\n",
        "3. 강의에서 배운 것 뿐만 아니라, 구글링하셔서 자유롭게 코딩하셔도 상관없습니다.\n",
        "> 문제 해결에 집중해서 다양한 방법으로 풀어보세요!"
      ]
    },
    {
      "cell_type": "markdown",
      "metadata": {
        "id": "RlsQsuiB0qIm"
      },
      "source": [
        "### <b>학습목표</b>\n",
        "- 1) 파이썬 데이터 타입의 이해\n",
        "- 2) if문의 이해\n",
        "- 3) for, while문의 이해\n",
        "- 4) 함수(def)의 이해\n",
        "- 5) 외부 라이브러리에 대한 이해"
      ]
    },
    {
      "cell_type": "markdown",
      "metadata": {
        "id": "p3cbNzXr0qIn"
      },
      "source": [
        "- 출제자: 김용담 강사"
      ]
    },
    {
      "cell_type": "markdown",
      "metadata": {
        "id": "rHgTqLGDC1fc"
      },
      "source": [
        "### 문제 01. 숫자 계산1\n",
        "\n",
        "- 두 개의 숫자 a, b에 원하는 숫자를 넣고 a가 b의 배수인지 확인하는 코드를 작성하세요.\n",
        "\n",
        "- 배수라면, \"a는 b의 배수입니다.\"를 출력하고, 그렇지 않다면 \"a는 b의 배수가 아닙니다.\"를 출력하세요."
      ]
    },
    {
      "cell_type": "code",
      "metadata": {
        "colab": {
          "base_uri": "https://localhost:8080/"
        },
        "id": "WRNQuBERCyDB",
        "outputId": "e6981caf-6467-45f5-9057-c037bcc596de"
      },
      "source": [
        "a, b = 100, 6\n",
        "if a % b == 0:\n",
        "    print(\"%d는 %d의 배수입니다.\" % (a,b))\n",
        "else:\n",
        "    print(\"%d는 %d의 배수가 아닙니다.\" % (a,b))"
      ],
      "execution_count": null,
      "outputs": [
        {
          "output_type": "stream",
          "name": "stdout",
          "text": [
            "100는 6의 배수가 아닙니다.\n"
          ]
        }
      ]
    },
    {
      "cell_type": "markdown",
      "metadata": {
        "id": "Dy8YLqr5FcEL"
      },
      "source": [
        "### 문제 02. 숫자 계산2\n",
        "\n",
        "- 주어진 실수값 f, g, h에 대해서 각 실수값을 소수점 세번째 자리에서 반올림한 값을 출력하는 코드를 작성하세요.\n",
        "\n",
        "- 예를 들어 f, g, h가 각각 3.145, 6.1888, 1.00123라면 결과 출력은 3.15, 6.19, 1.00 입니다."
      ]
    },
    {
      "cell_type": "code",
      "metadata": {
        "colab": {
          "base_uri": "https://localhost:8080/"
        },
        "id": "47GXgKIeFcQp",
        "outputId": "30f74f51-3e20-43b4-a627-6459977e15ce"
      },
      "source": [
        "f, g, h = 3.159, 6.23791, 11.2795801\n",
        "print(\"%.2f, %.2f, %.2f\" % (round(f, 2), round(g, 2), round(h, 2)))"
      ],
      "execution_count": null,
      "outputs": [
        {
          "output_type": "stream",
          "name": "stdout",
          "text": [
            "3.16, 6.24, 11.28\n"
          ]
        }
      ]
    },
    {
      "cell_type": "markdown",
      "metadata": {
        "id": "cQzZX0HjDq_1"
      },
      "source": [
        "### 문제 03. 숫자 계산3\n",
        "\n",
        "- 리스트로 주어진 수열 2개가 있습니다. 해당 수열들의 중앙값을 출력하는 코드를 작성해보세요.\n",
        "\n",
        "- 중앙값의 정의는 홀수 개의 숫자에 대해서는 크기 순서대로 가장 가운데 있는 값입니다.\n",
        "\n",
        "- 짝수 개의 숫자에 대해서는 크기 순서대로 가장 가운데 있는 두 개의 숫자의 평균입니다.\n",
        "\n",
        "- 예를 들어, [5, 11, 2, 4] 수열이 주어진다면 정답은 4.5입니다.\n",
        "\n",
        "- [1, 3, 4, 5, 100] 수열이 주어진다면 정답은 4입니다."
      ]
    },
    {
      "cell_type": "code",
      "metadata": {
        "colab": {
          "base_uri": "https://localhost:8080/"
        },
        "id": "I6zp_gEoDqfG",
        "outputId": "0d7aaa98-9557-454a-b995-8ad762609956"
      },
      "source": [
        "numbers1 = [5, 10, 11, 24, 55, 100]\n",
        "numbers2 = [99, 11, 2, 6, 677, 1001, 3]\n",
        "numbers2.sort()\n",
        "\n",
        "len1 = len(numbers1)\n",
        "len2 = len(numbers2)\n",
        "\n",
        "if len1 % 2 == 0:\n",
        "    print((numbers1[int(len1/2)-1] + numbers1[int(len1/2)]) / 2)\n",
        "else:\n",
        "    print(numbers1[int(len1/2)])\n",
        "\n",
        "if len2 % 2 == 0:\n",
        "    print((numbers2[int(len2/2)-1] + numbers2[int(len2/2)]) / 2)\n",
        "else:\n",
        "    print(numbers2[int(len2/2)])"
      ],
      "execution_count": null,
      "outputs": [
        {
          "output_type": "stream",
          "name": "stdout",
          "text": [
            "17.5\n",
            "11\n"
          ]
        }
      ]
    },
    {
      "cell_type": "markdown",
      "metadata": {
        "id": "B2MLQ8Ff0qIp"
      },
      "source": [
        "### 문제 04. 윤년 계산하기\n",
        "\n",
        "- 사용자 입력을 받은 숫자 N이 있습니다.\n",
        "\n",
        "- 주어진 숫자 N이 윤년인지 아닌지 출력하는 코드를 작성해주세요.\n",
        "> print(\"%d년은 윤년입니다.\" % N) **or**\n",
        "> print(\"%d년은 윤년이 아닙니다.\" % N)\n",
        "\n",
        "- 윤년 규칙은 다음과 같습니다.\n",
        "\n",
        "> 1. 4의 배수일 것\n",
        "> 2. 100의 배수가 아닐 것(이 경우엔 1번 조건을 무시합니다.)\n",
        "> 3. 400의 배수일 것 (이 경우엔 2번 조건을 무시합니다.)\n",
        "\n",
        "- 예를 들어, 2004년은 1번 조건을 만족하므로 윤년입니다.\n",
        "- 2000년은 3번 조건을 만족하므로 윤년입니다.\n",
        "- 2100년은 2번 조건을 만족하므로 윤년이 아닙니다.\n"
      ]
    },
    {
      "cell_type": "code",
      "metadata": {
        "id": "yEUiebcx0qIq",
        "colab": {
          "base_uri": "https://localhost:8080/"
        },
        "outputId": "a26a11e3-4de7-4063-d90f-6b69f2846d1d"
      },
      "source": [
        "N = int(input(\"년도를 입력하세요 : \"))\n",
        "is_yoon = (N % 4 == 0) and (N % 100 != 0) or (N % 400 == 0)\n",
        "if is_yoon:\n",
        "    print(\"%d년은 윤년입니다.\" % N)\n",
        "else:\n",
        "    print(\"%d년은 윤년이 아닙니다.\" % N)"
      ],
      "execution_count": null,
      "outputs": [
        {
          "output_type": "stream",
          "name": "stdout",
          "text": [
            "년도를 입력하세요 : 2021\n",
            "2021년은 윤년이 아닙니다.\n"
          ]
        }
      ]
    },
    {
      "cell_type": "markdown",
      "metadata": {
        "id": "cupV8lpw0qIr"
      },
      "source": [
        "### 문제 05. 평균 계산하기\n",
        "\n",
        "- 철수는 5개의 과목에서 주어진 리스트와 같은 성적을 받았습니다.\n",
        "\n",
        "- 철수가 받은 성적의 평균을 계산하는 코드를 작성하세요."
      ]
    },
    {
      "cell_type": "code",
      "metadata": {
        "id": "rrtfD32hD-yz",
        "colab": {
          "base_uri": "https://localhost:8080/"
        },
        "outputId": "62d683ba-1b86-4fce-8465-1266cda15d81"
      },
      "source": [
        "# 각 성적은 0~100점 사이입니다.\n",
        "grades = [65, 70, 100, 43, 50]\n",
        "sum(grades) / len(grades)"
      ],
      "execution_count": null,
      "outputs": [
        {
          "output_type": "execute_result",
          "data": {
            "text/plain": [
              "65.6"
            ]
          },
          "metadata": {},
          "execution_count": 5
        }
      ]
    },
    {
      "cell_type": "markdown",
      "metadata": {
        "id": "YZMNz6Es0qIs"
      },
      "source": [
        "### 문제 06. 십의 자리 숫자 구하기\n",
        "\n",
        "- 사용자 입력을 받는 두 자리 이상 숫자 N에 대해서, 십의 자리 숫자를 출력하는 코드를 작성해보세요.\n",
        "\n",
        "- 예를 들어, 12097509172099019385이 입력으로 들어오면 출력 결과는 8\n",
        "- 80135789164791672903791035719037이 입력으로 들어오면 출력 결과는 3\n",
        "- 34가 입력으로 들어오면 출력 결과는 3"
      ]
    },
    {
      "cell_type": "code",
      "metadata": {
        "id": "SWLusfet0qIt",
        "colab": {
          "base_uri": "https://localhost:8080/"
        },
        "outputId": "7c6360b8-8193-4a7a-b2fa-17dce8a0b599"
      },
      "source": [
        "N = int(input(\"두 자리 이상 숫자를 입력하세요 : \"))\n",
        "print(N % 100 // 10)"
      ],
      "execution_count": null,
      "outputs": [
        {
          "output_type": "stream",
          "name": "stdout",
          "text": [
            "두 자리 이상 숫자를 입력하세요 : 547648742345979\n",
            "7\n"
          ]
        }
      ]
    },
    {
      "cell_type": "markdown",
      "metadata": {
        "id": "v9PMA9ZOBJSk"
      },
      "source": [
        "### 문제 07. 단어 고치기\n",
        "\n",
        "- 영희는 문장을 빠르게 입력하다가, 'w'를 모두 'q'라고 작성해버렸습니다.\n",
        "\n",
        "- 주어진 문장들을 모두 맞게 변경하여 주세요.\n",
        "> 단, 주어진 모든 문장에 사용된 'q'는 'w'가 변경된 것이라고 가정합니다.\n",
        "\n",
        "- 예를 들면, \"I am wuitting this exam.\" -> \"I am quitting this exam.\"\n",
        "- \"This is the wuickest approach I ever seen.\" -> \"Thie is the quickest approach I ever seen.\"\n",
        "- \"The wueen should make wuick decision\" -> \"The queen should make quick decision.\""
      ]
    },
    {
      "cell_type": "code",
      "metadata": {
        "id": "LqYtcDqX0qIw",
        "colab": {
          "base_uri": "https://localhost:8080/"
        },
        "outputId": "ace8417a-3c7f-44a0-8939-99d101ac7681"
      },
      "source": [
        "sentences = [\"I am wuitting this exam.\", \"This is wuickest approach I ever seen.\", \"The wueen should make wuick decision.\"]\n",
        "for sentence in sentences:\n",
        "    print(sentence.replace(\"w\", \"q\"))"
      ],
      "execution_count": null,
      "outputs": [
        {
          "output_type": "stream",
          "name": "stdout",
          "text": [
            "I am quitting this exam.\n",
            "This is quickest approach I ever seen.\n",
            "The queen should make quick decision.\n"
          ]
        }
      ]
    },
    {
      "cell_type": "markdown",
      "metadata": {
        "id": "GkBEQj9G0qI0"
      },
      "source": [
        "### 문제 08. 단어 개수 파악하기\n",
        "\n",
        "- 주어진 문장들에 대해서 몇 개의 단어가 있는지 출력하는 코드를 작성하세요.\n",
        "\n",
        "- 예를 들어, \"I am quitting this exam\"이란 문장은 5개의 단어가 있습니다.\n",
        "\n",
        "- \"This is quickest approach I ever seen.\"이란 문장은 7개의 단어가 있습니다."
      ]
    },
    {
      "cell_type": "code",
      "metadata": {
        "id": "HcmHjiQ10qI0",
        "colab": {
          "base_uri": "https://localhost:8080/"
        },
        "outputId": "ec148ac3-c1c0-4079-835b-5280e1be1fb8"
      },
      "source": [
        "sentences = [\"I am quitting this exam.\", \"This is quickest approach I ever seen.\", \"The queen should make quick decision.\"]\n",
        "\n",
        "for sentence in sentences:\n",
        "    print(len(sentence.split()))"
      ],
      "execution_count": null,
      "outputs": [
        {
          "output_type": "stream",
          "name": "stdout",
          "text": [
            "5\n",
            "7\n",
            "6\n"
          ]
        }
      ]
    },
    {
      "cell_type": "markdown",
      "metadata": {
        "id": "AiAe1P2R0qI0"
      },
      "source": [
        "### 문제 09. 주민등록번호 가리기\n",
        "\n",
        "- 우리의 개인 정보는 소중합니다. 주어진 주민등록번호들의 뒤에 6자리를 가려주는 코드를 작성하세요.\n",
        "\n",
        "- 예를 들면, 911210-1234567 -> 911210-1\\*\\*\\*\\*\\*\\*로 변경됩니다.\n",
        "\n",
        "- 011220-3123456 -> 011220-3\\*\\*\\*\\*\\*\\*로 변경됩니다."
      ]
    },
    {
      "cell_type": "code",
      "metadata": {
        "id": "5Qz-n54aEDfj",
        "colab": {
          "base_uri": "https://localhost:8080/"
        },
        "outputId": "3703d076-322a-468a-b971-fcf073ed7807"
      },
      "source": [
        "old_man = \"911210-1234567\"\n",
        "young_man = \"011220-3123456\"\n",
        "old_woman = \"891103-2513455\"\n",
        "young_woman = \"040302-4912911\"\n",
        "\n",
        "print(old_man[:-6] + \"******\")\n",
        "print(young_man[:-6] + \"******\")\n",
        "print(old_woman[:-6] + \"******\")\n",
        "print(young_woman[:-6] + \"******\")"
      ],
      "execution_count": null,
      "outputs": [
        {
          "output_type": "stream",
          "name": "stdout",
          "text": [
            "911210-1******\n",
            "011220-3******\n",
            "891103-2******\n",
            "040302-4******\n"
          ]
        }
      ]
    },
    {
      "cell_type": "markdown",
      "metadata": {
        "id": "1w_hZJREUzAo"
      },
      "source": [
        "### 문제 10. 학습 결과 출력하기\n",
        "- 머신러닝에서는 모델이 학습을 하게 되면, 학습에 주어진 인자들을 가지고 어떤 결과가 나왔는지 출력을 하게 됩니다.\n",
        "\n",
        "- 주어진 인자를 해당 하는 자리에 위치하는 출력문을 작성해보세요.\n",
        "(각 용어의 의미는 현재 중요하지 않습니다.)\n",
        "\n",
        "\n",
        "- 다음은 출력문의 예시입니다.\n",
        "\n",
        "\n",
        "\"ResNet44 모델로 10 epoch를 돌려 학습시킨 결과는 학습 정확도 : 0.85, 검증 정확도 : 0.83, 테스트 정확도 : 0.76으로 나왔습니다\"\n",
        "\n",
        "\"U-Net 모델로 10000 epoch를 돌려 학습시킨 결과는 학습 정확도 0.87, 검증 정확도 : 0.5, 테스트 정확도 : 0.43으로 나왔습니다.\"\n"
      ]
    },
    {
      "cell_type": "code",
      "metadata": {
        "id": "NGkhV7vr2hhX",
        "colab": {
          "base_uri": "https://localhost:8080/"
        },
        "outputId": "faf85be5-bc55-4107-c966-6cd3294eb241"
      },
      "source": [
        "# 다음 주어진 변수를 활용하여 문제3의 코드를 작성하세요.\n",
        "epoch = 10\n",
        "train_accuracy = 0.85; val_accuracy = 0.83; test_accuracy = 0.76\n",
        "model_name = \"ResNet44\"\n",
        "\n",
        "\n",
        "# 가능하면 배웠던 3가지 케이스를 모두 사용해보세요;.\n",
        "# case1 %\n",
        "print(\"{} 모델로 {} epoch를 돌려 학습시킨 결과는 학습 정확도 : {}, 검증 정확도 : {}, 테스트 정확도 : {}으로 나왔습니다\".format(\"ResNet44\", 10, 0.85, 0.83, 0.76))\n",
        "# case2\n",
        "print(\"%s 모델로 %d epoch를 돌려 학습시킨 결과는 학습 정확도 : %.2f, 검증 정확도 : %.2f, 테스트 정확도 : %.2f으로 나왔습니다\" % (\"ResNet44\", 10, 0.85, 0.83, 0.76))\n",
        "# case3\n",
        "print(f\"{model_name} 모델로 {epoch} epoch를 돌려 학습시킨 결과는 학습 정확도 : {train_accuracy}, 검증 정확도 : {val_accuracy}, 테스트 정확도 : {test_accuracy}으로 나왔습니다\")"
      ],
      "execution_count": null,
      "outputs": [
        {
          "output_type": "stream",
          "name": "stdout",
          "text": [
            "ResNet44 모델로 10 epoch를 돌려 학습시킨 결과는 학습 정확도 : 0.85, 검증 정확도 : 0.83, 테스트 정확도 : 0.76으로 나왔습니다\n",
            "ResNet44 모델로 10 epoch를 돌려 학습시킨 결과는 학습 정확도 : 0.85, 검증 정확도 : 0.83, 테스트 정확도 : 0.76으로 나왔습니다\n",
            "ResNet44 모델로 10 epoch를 돌려 학습시킨 결과는 학습 정확도 : 0.85, 검증 정확도 : 0.83, 테스트 정확도 : 0.76으로 나왔습니다\n"
          ]
        }
      ]
    },
    {
      "cell_type": "code",
      "metadata": {
        "id": "4cuxw6gZK_z4"
      },
      "source": [
        ""
      ],
      "execution_count": null,
      "outputs": []
    },
    {
      "cell_type": "markdown",
      "metadata": {
        "id": "JvCz3HyC9A1E"
      },
      "source": [
        "### 문제 11. 리스트를 한 번 만들어볼까요?\n",
        "* 어떤 학급의 아이 5명의 키에 대한 정보가 주어집니다.\n",
        "* 이를 리스트로 만들고 heights 라는 변수에 담아주세요.\n",
        "*  175.3, 146, 184, 160, 167 \n",
        "> 단위인 cm는 표시하지 마세요. 숫자만!"
      ]
    },
    {
      "cell_type": "code",
      "metadata": {
        "colab": {
          "base_uri": "https://localhost:8080/"
        },
        "id": "zCE2uymj2hb2",
        "outputId": "559ed1bc-47e3-47c2-a3ae-5efcb79f1e9a"
      },
      "source": [
        "heights = [175.3, 146, 184, 160, 167]\n",
        "heights"
      ],
      "execution_count": null,
      "outputs": [
        {
          "output_type": "execute_result",
          "data": {
            "text/plain": [
              "[175.3, 146, 184, 160, 167]"
            ]
          },
          "metadata": {},
          "execution_count": 11
        }
      ]
    },
    {
      "cell_type": "markdown",
      "metadata": {
        "id": "ifFKQEe37ufP"
      },
      "source": [
        "### 문제 12. 키 순으로 줄세우기\n",
        "* 문제10의 아이들의 키가 작은 순서부터 큰 순서로 정렬하여 출력해주세요."
      ]
    },
    {
      "cell_type": "code",
      "metadata": {
        "colab": {
          "base_uri": "https://localhost:8080/"
        },
        "id": "QiZOqw3c2heu",
        "outputId": "937a6aef-9893-48c3-d274-e89d53e0fe5e"
      },
      "source": [
        "# heights = [175.3, 146, 184, 160, 167]\n",
        "\n",
        "heights.sort()\n",
        "heights"
      ],
      "execution_count": null,
      "outputs": [
        {
          "output_type": "execute_result",
          "data": {
            "text/plain": [
              "[146, 160, 167, 175.3, 184]"
            ]
          },
          "metadata": {},
          "execution_count": 12
        }
      ]
    },
    {
      "cell_type": "markdown",
      "metadata": {
        "id": "xZuLz1Cq9Y2C"
      },
      "source": [
        "### 문제 13. 리스트의 데이터 타입을 한 번 만들어볼까요?\n",
        " - 위 문제 11번에서 만든 리스트의 데이터 타입을 확인해봅시다. \n",
        "> HINT : type() 를 이용하시면 됩니다. : )"
      ]
    },
    {
      "cell_type": "code",
      "metadata": {
        "colab": {
          "base_uri": "https://localhost:8080/"
        },
        "id": "3tOm6YXe2hZg",
        "outputId": "c281a7d3-2a6a-4c75-91af-d6570db1f952"
      },
      "source": [
        "type(heights)"
      ],
      "execution_count": null,
      "outputs": [
        {
          "output_type": "execute_result",
          "data": {
            "text/plain": [
              "list"
            ]
          },
          "metadata": {},
          "execution_count": 13
        }
      ]
    },
    {
      "cell_type": "markdown",
      "metadata": {
        "id": "Lil9sCF-9x9V"
      },
      "source": [
        "### 문제 14. 리스트 heights의 길이를  확인해볼까요?\n",
        " - 위 문제 12번에서 만든 리스트(heights)의 데이터 길이를 확인해봅시다. \n",
        "> HINT : len() 를 이용해보세요."
      ]
    },
    {
      "cell_type": "code",
      "metadata": {
        "colab": {
          "base_uri": "https://localhost:8080/"
        },
        "id": "vGAMEU4t2hW6",
        "outputId": "aad7ad61-504e-451f-e0b4-c7ecb8b9129b"
      },
      "source": [
        "len(heights)"
      ],
      "execution_count": null,
      "outputs": [
        {
          "output_type": "execute_result",
          "data": {
            "text/plain": [
              "5"
            ]
          },
          "metadata": {},
          "execution_count": 14
        }
      ]
    },
    {
      "cell_type": "markdown",
      "metadata": {
        "id": "uMeiEuYmO5YG"
      },
      "source": [
        "### 문제 15. 제일 키가 큰 아이가 전학을 가게 되었군요.\n",
        "* 아이들 중 키가 제일 컸던 친구가 전학을 가게 되었습니다. 이를 코드로 구현해보고, heights의 길이를 구해보세요\n",
        "* 5명의 아이 중 한 명이 전학을 갔으니, 4명이 되었겠군요.\n",
        "> HINT : remove()"
      ]
    },
    {
      "cell_type": "code",
      "metadata": {
        "colab": {
          "base_uri": "https://localhost:8080/"
        },
        "id": "ObQPM60VO5KC",
        "outputId": "c6678f12-77c5-4e50-cc89-01a3fcb11fbd"
      },
      "source": [
        "# heights = [146, 160, 167, 175.3, 184]\n",
        "\n",
        "heights.remove(184)\n",
        "len(heights)"
      ],
      "execution_count": null,
      "outputs": [
        {
          "output_type": "execute_result",
          "data": {
            "text/plain": [
              "4"
            ]
          },
          "metadata": {},
          "execution_count": 15
        }
      ]
    },
    {
      "cell_type": "code",
      "metadata": {
        "colab": {
          "base_uri": "https://localhost:8080/"
        },
        "id": "h8VrA9p0Pr59",
        "outputId": "b3c76db1-8b7d-4266-dbe9-e42b38687805"
      },
      "source": [
        "# 또 다른 방법: pop()\n",
        "heights = [146, 160, 167, 175.3, 184]\n",
        "heights.pop() #pop()함수는 리스트의 가장 마지막 원소를 제거해줍니다.\n",
        "len(heights)"
      ],
      "execution_count": null,
      "outputs": [
        {
          "output_type": "execute_result",
          "data": {
            "text/plain": [
              "4"
            ]
          },
          "metadata": {},
          "execution_count": 16
        }
      ]
    },
    {
      "cell_type": "markdown",
      "metadata": {
        "id": "HQYRPrFYQC2u"
      },
      "source": [
        "### 문제 16. '장훈이'이라는 친구가 전학을 왔네요.\n",
        "* 전학을 갔던 친구보다 더 키가 큰 장훈이 라는 친구가 전학을 왔군요.\n",
        "* 이 친구의 키는 207cm 입니다. ()\n",
        "* 이를 반영하여 코드로 구현해보고, heights의 길이를 구해보세요\n",
        "* 다시 한 명이 전학을 왔으니, 5명이 되었겠군요.\n",
        "* 마찬가지로, cm는 표시하지 않습니다.\n",
        "> HINT : append()"
      ]
    },
    {
      "cell_type": "code",
      "metadata": {
        "colab": {
          "base_uri": "https://localhost:8080/"
        },
        "id": "w8tn-8NdPr1j",
        "outputId": "95143df7-7fde-4594-ca06-056bc2b30a75"
      },
      "source": [
        "# heights = [146, 160, 167, 175.3]\n",
        "\n",
        "heights.append(207)\n",
        "len(heights)"
      ],
      "execution_count": null,
      "outputs": [
        {
          "output_type": "execute_result",
          "data": {
            "text/plain": [
              "5"
            ]
          },
          "metadata": {},
          "execution_count": 17
        }
      ]
    },
    {
      "cell_type": "markdown",
      "metadata": {
        "id": "0WpNsD6mKdNc"
      },
      "source": [
        "### 문제 17. 데이터를 보호하자.\n",
        "\n",
        "- 이제 학교에서 더 이상 전학을 받지도, 보내지도 않기로 결정이 되었습니다. \n",
        "\n",
        "- 아이들의 키 데이터를 리스트로 불러왔습니다. 불러온 데이터의 값이 더 이상 변경되지 않기를 원합니다.\n",
        "\n",
        "- 불러온 데이터가 저장된 리스트의 값을 변경할 수 없게 바꿔주는 코드를 작성하세요.\n",
        "\n",
        "> HINT : 데이터 타입을 바꾸시면 됩니다 :)"
      ]
    },
    {
      "cell_type": "code",
      "metadata": {
        "colab": {
          "base_uri": "https://localhost:8080/"
        },
        "id": "rCw6xz7p2MeN",
        "outputId": "cda5d592-dcc5-4a26-a09c-d0088619c7f7"
      },
      "source": [
        "# heights = [146, 160, 167, 175.3, 207]\n",
        "heights = tuple(heights)\n",
        "heights[0]"
      ],
      "execution_count": null,
      "outputs": [
        {
          "output_type": "execute_result",
          "data": {
            "text/plain": [
              "146"
            ]
          },
          "metadata": {},
          "execution_count": 18
        }
      ]
    },
    {
      "cell_type": "code",
      "metadata": {
        "colab": {
          "base_uri": "https://localhost:8080/"
        },
        "id": "fc98EDW1N4Rq",
        "outputId": "c02dd83f-ec19-47a9-f670-714ff2017dac"
      },
      "source": [
        "# 데이터 타입 확인\n",
        "type(heights)"
      ],
      "execution_count": null,
      "outputs": [
        {
          "output_type": "execute_result",
          "data": {
            "text/plain": [
              "tuple"
            ]
          },
          "metadata": {},
          "execution_count": 19
        }
      ]
    },
    {
      "cell_type": "code",
      "metadata": {
        "colab": {
          "base_uri": "https://localhost:8080/"
        },
        "id": "7yqVTuX2O5Hs",
        "outputId": "d7a421b9-1465-49d1-a907-669baef4de86"
      },
      "source": [
        "# 데이터 확인\n",
        "heights"
      ],
      "execution_count": null,
      "outputs": [
        {
          "output_type": "execute_result",
          "data": {
            "text/plain": [
              "(146, 160, 167, 175.3, 207)"
            ]
          },
          "metadata": {},
          "execution_count": 20
        }
      ]
    },
    {
      "cell_type": "markdown",
      "metadata": {
        "id": "1wtAj7DqV_FY"
      },
      "source": [
        "### 문제 18. 장훈이만 이름이 있는 것이 아니다!\n",
        "- 5명의 아이들의 키는 있지만, 누구의 키인지 알 수 없었지만, 이제 알 수 있습니다.\n",
        "  - 양세형: 146(cm),  유세윤: 160(cm),  서강준: 167(cm),  유재석: 175.3(cm),  서장훈: 207cm\n",
        "  - cm 는 표시하지 않습니다.\n",
        "- 데이터 타입 중 Dictionary로 위처럼 이름(name - key)과 키(height - value)를 같이 붙여주려고 합니다. \n",
        "- 이를 코드로 작성해서 class_A 라는 변수에 담아줍니다. "
      ]
    },
    {
      "cell_type": "code",
      "metadata": {
        "colab": {
          "base_uri": "https://localhost:8080/"
        },
        "id": "AfOf1NL2V-af",
        "outputId": "e6b2fd4e-9cfa-4cb5-c827-11da200e2aa9"
      },
      "source": [
        "class_A = {\"양세형\": 146, \"유세윤\": 160, \"서강준\": 167, \"유재석\": 175.3, \"서장훈\": 207}\n",
        "class_A"
      ],
      "execution_count": null,
      "outputs": [
        {
          "output_type": "execute_result",
          "data": {
            "text/plain": [
              "{'서강준': 167, '서장훈': 207, '양세형': 146, '유세윤': 160, '유재석': 175.3}"
            ]
          },
          "metadata": {},
          "execution_count": 21
        }
      ]
    },
    {
      "cell_type": "code",
      "metadata": {
        "colab": {
          "base_uri": "https://localhost:8080/"
        },
        "id": "deSMlvUkV-X4",
        "outputId": "c3e6070e-bcc0-4090-95bc-dc964818afec"
      },
      "source": [
        "## 세형이의 키를 알아볼까요?\n",
        "class_A[\"양세형\"]"
      ],
      "execution_count": null,
      "outputs": [
        {
          "output_type": "execute_result",
          "data": {
            "text/plain": [
              "146"
            ]
          },
          "metadata": {},
          "execution_count": 22
        }
      ]
    },
    {
      "cell_type": "markdown",
      "metadata": {
        "id": "mPpq8SnVYNAi"
      },
      "source": [
        "### 문제 19. 이번에는 키로 학급의 어린이를 검색해보려고 합니다. \n",
        " - 예를 들면, \"175.3cm 인 친구는 누구였지?\"\n",
        " - 이를 코드로 구현해보고, 키가 175.3cm 인 친구를 찾아봅시다.\n",
        " > HINT : for 문을 이용해봅시다."
      ]
    },
    {
      "cell_type": "code",
      "metadata": {
        "colab": {
          "base_uri": "https://localhost:8080/"
        },
        "id": "OmOVfV84ZLiI",
        "outputId": "701e5351-6ed9-4f63-a4ca-b1bf40a4151f"
      },
      "source": [
        "for name, height in class_A.items():\n",
        "    if height == 175.3:\n",
        "        print(name)"
      ],
      "execution_count": null,
      "outputs": [
        {
          "output_type": "stream",
          "name": "stdout",
          "text": [
            "유재석\n"
          ]
        }
      ]
    },
    {
      "cell_type": "code",
      "metadata": {
        "colab": {
          "base_uri": "https://localhost:8080/"
        },
        "id": "euh5ltr4V-VQ",
        "outputId": "7448c18b-b780-446a-c8e8-a109a6da1707"
      },
      "source": [
        "# 다르지만 간단하게 \n",
        "[name for name, height in class_A.items() if height == 175.3]"
      ],
      "execution_count": null,
      "outputs": [
        {
          "output_type": "execute_result",
          "data": {
            "text/plain": [
              "['유재석']"
            ]
          },
          "metadata": {},
          "execution_count": 24
        }
      ]
    },
    {
      "cell_type": "markdown",
      "metadata": {
        "id": "AxBl-tOeAE1o"
      },
      "source": [
        "### 문제 20. 농구부를 뽑아볼까요?\n",
        " - class_A의 학급 친구들을 기억하시나요? 허재 감독이 미래의 농구 꿈나무를 선발하여 농구부를 만든다고 합니다. \n",
        " - 키가 175cm 이상인 친구들을 뽑아서 농구부를 결성한다고 합니다. \n",
        " - basketball_team  이라는 빈 리스트를 작성하여, 농구부가 될 아이들의 이름만 추가하는 코드를 작성해보세요.\n",
        " - 마지막에 basketball_team 을 출력해봅시다."
      ]
    },
    {
      "cell_type": "code",
      "metadata": {
        "id": "7B7Er3fJSrl9"
      },
      "source": [
        "class_A = {\"양세형\": 146, \"유세윤\": 160, \"서강준\": 167, \"유재석\": 175.3, \"서장훈\": 207}\n",
        "\n",
        "basket_ball = []\n",
        "\n",
        "## 코드를 작성해보세요 ##\n",
        "\n",
        "\n",
        "\n",
        "\n",
        "\n"
      ],
      "execution_count": null,
      "outputs": []
    },
    {
      "cell_type": "code",
      "metadata": {
        "colab": {
          "base_uri": "https://localhost:8080/"
        },
        "id": "vNVYKH7VSrjW",
        "outputId": "412a28bb-a309-400b-8a56-0d7a816149e1"
      },
      "source": [
        "## (정답)\n",
        "\n",
        "class_A = {\"양세형\": 146, \"유세윤\": 160, \"서강준\": 167, \"유재석\": 175.3, \"서장훈\": 207}\n",
        "\n",
        "basket_ball = []\n",
        "\n",
        "for name, height in class_A.items():\n",
        "    if height >= 175:\n",
        "        basket_ball.append(name)\n",
        "\n",
        "basket_ball "
      ],
      "execution_count": null,
      "outputs": [
        {
          "output_type": "execute_result",
          "data": {
            "text/plain": [
              "['유재석', '서장훈']"
            ]
          },
          "metadata": {},
          "execution_count": 26
        }
      ]
    },
    {
      "cell_type": "code",
      "metadata": {
        "colab": {
          "base_uri": "https://localhost:8080/"
        },
        "id": "XY3qpUOrBPsO",
        "outputId": "ca18db59-0759-4f53-9181-6468be91ca69"
      },
      "source": [
        "# 다르지만 간단하게 \n",
        "class_A = {\"양세형\": 146, \"유세윤\": 160, \"서강준\": 167, \"유재석\": 175.3, \"서장훈\": 207}\n",
        "\n",
        "basketball_team = [name for name, height in class_A.items() if height >= 175]\n",
        "basketball_team "
      ],
      "execution_count": null,
      "outputs": [
        {
          "output_type": "execute_result",
          "data": {
            "text/plain": [
              "['유재석', '서장훈']"
            ]
          },
          "metadata": {},
          "execution_count": 27
        }
      ]
    },
    {
      "cell_type": "code",
      "metadata": {
        "id": "ywzGh6mUEDon"
      },
      "source": [
        ""
      ],
      "execution_count": null,
      "outputs": []
    },
    {
      "cell_type": "markdown",
      "metadata": {
        "id": "OlsjX1CACsK-"
      },
      "source": [
        "### 문제 21. 강준이의 키가 커졌네요.\n",
        " - 강준이가 키가 5cm 나 커졌네요. \n",
        " - 이를 코드로 작성해보세요 "
      ]
    },
    {
      "cell_type": "code",
      "metadata": {
        "id": "VxS0FhjpDAB6"
      },
      "source": [
        "## 코드를 작성해보세요 \n",
        "\n",
        "\n",
        "\n",
        "\n",
        "\n",
        "\n",
        "\n"
      ],
      "execution_count": null,
      "outputs": []
    },
    {
      "cell_type": "code",
      "metadata": {
        "colab": {
          "base_uri": "https://localhost:8080/"
        },
        "id": "Yc_v3WqBC__C",
        "outputId": "ed26dece-b8a5-4cea-9e8f-83aab8dd2c80"
      },
      "source": [
        "## (정답)\n",
        "\n",
        "class_A['서강준'] = class_A['서강준'] + 5\n",
        "\n",
        "class_A['서강준'] "
      ],
      "execution_count": null,
      "outputs": [
        {
          "output_type": "execute_result",
          "data": {
            "text/plain": [
              "172"
            ]
          },
          "metadata": {},
          "execution_count": 29
        }
      ]
    },
    {
      "cell_type": "markdown",
      "metadata": {
        "id": "a9BTPzG7-oT2"
      },
      "source": [
        "### 문제 23. 다음 원소들은 포함하는 리스트 'L3'를 만들어봅시다. \n",
        "- 1, ['a', 2], 3.14, \"누구냐 넌?\" "
      ]
    },
    {
      "cell_type": "code",
      "metadata": {
        "colab": {
          "base_uri": "https://localhost:8080/"
        },
        "id": "qyc2_dsk-nIt",
        "outputId": "e6d16c0a-f0df-4b5f-c1f5-9928945e0dd8"
      },
      "source": [
        "L3 = [1, ['a', 2], 3.14, \"누구냐 넌?\"] # 리스트에는 다양한 타입의 원소를 다 포함할 수 있습니다. 심지어 리스트도.\n",
        "L3"
      ],
      "execution_count": null,
      "outputs": [
        {
          "output_type": "execute_result",
          "data": {
            "text/plain": [
              "[1, ['a', 2], 3.14, '누구냐 넌?']"
            ]
          },
          "metadata": {},
          "execution_count": 31
        }
      ]
    },
    {
      "cell_type": "markdown",
      "metadata": {
        "id": "R_clyyGjHxhN"
      },
      "source": [
        "### 문제 22. L3를 다르게 slicing해볼까요?\n",
        " - 이번에는 L3의 index2 부터 끝까지 잘라보겠습니다."
      ]
    },
    {
      "cell_type": "code",
      "metadata": {
        "colab": {
          "base_uri": "https://localhost:8080/"
        },
        "id": "u6ajJC6NIJYb",
        "outputId": "fb43a63f-2ca0-42e3-98a0-d5af4875e96e"
      },
      "source": [
        "# 끝의 index를 생략하면, 자동으로 index는 -1이 된다. (맨 끝)\n",
        "L3[2:]"
      ],
      "execution_count": null,
      "outputs": [
        {
          "output_type": "execute_result",
          "data": {
            "text/plain": [
              "[3.14, '누구냐 넌?']"
            ]
          },
          "metadata": {},
          "execution_count": 32
        }
      ]
    },
    {
      "cell_type": "code",
      "metadata": {
        "colab": {
          "base_uri": "https://localhost:8080/"
        },
        "id": "UQz_PHnlEj_g",
        "outputId": "400506a7-24a6-497f-8aa7-4d52c6ff1c9e"
      },
      "source": [
        "# 끝을 의미하는 index 는 실제 L3의 길이보다 1보다 작은 양의 정수입니다. 이를 이용하면 다음과 같이 나타낼 수 있습니다. \n",
        "L3[2:len(L3)-1]"
      ],
      "execution_count": null,
      "outputs": [
        {
          "output_type": "execute_result",
          "data": {
            "text/plain": [
              "[3.14]"
            ]
          },
          "metadata": {},
          "execution_count": 33
        }
      ]
    },
    {
      "cell_type": "markdown",
      "metadata": {
        "id": "6c1CdSg4_5Lw"
      },
      "source": [
        "### 문제 24. 리스트 L3의 index가 0에 해당하는 원소는 무엇일까요? \n",
        "- 리스트의 index는 맨 앞부터 0으로 시작하며, 1씩 증가하는 정수 index를 사용합니다.\n",
        "\n",
        "   e.g. [1, 2, 3]이면 첫번째 원소는 index가 0이고, 두번째 원소는 index가 1입니다.\n",
        "\n",
        "- L3의 경우, index가 0에 해당하는 원소는 1입니다. 출력 결과가 1이 나와야겠죠?"
      ]
    },
    {
      "cell_type": "code",
      "metadata": {
        "colab": {
          "base_uri": "https://localhost:8080/"
        },
        "id": "c6fdFu_Q_OLr",
        "outputId": "35448e3c-2c88-40d3-8204-16f64ce9129e"
      },
      "source": [
        "# L3 = [1, ['a', 2], 3.14, \"누구냐 넌?\"]\n",
        "L3[0]"
      ],
      "execution_count": null,
      "outputs": [
        {
          "output_type": "execute_result",
          "data": {
            "text/plain": [
              "1"
            ]
          },
          "metadata": {},
          "execution_count": 34
        }
      ]
    },
    {
      "cell_type": "markdown",
      "metadata": {
        "id": "EJDhHAQjA1lY"
      },
      "source": [
        "### 문제 25. 리스트 L3의 index가 -1에 해당하는 원소는 무엇일까요? \n",
        "\n",
        "- 파이썬에서는 음수 index도 제공하는데, 이는 뒤쪽부터 접근할 수 있는 방법입니다.\n",
        "\n",
        "  e.g. [1, 2, 3]이면 뒤에서 첫번째(맨 마지막)원소는 index가 -1이고, 뒤에서 두번째 원소는 index가 -2입니다.\n",
        "\n",
        "- L3의 경우, index가 -1에 해당하는 원소는 \"누구냐 넌?\"입니다. 출력 결과가 \"누구냐 넌\"이 나와야겠죠?"
      ]
    },
    {
      "cell_type": "code",
      "metadata": {
        "colab": {
          "base_uri": "https://localhost:8080/",
          "height": 35
        },
        "id": "0ITh1O47_N4r",
        "outputId": "5d84e8ca-4a0e-4446-b858-4c771e69d82c"
      },
      "source": [
        "# L3 = [1, ['a', 2], 3.14, \"누구냐 넌?\"]\n",
        "L3[-1]"
      ],
      "execution_count": null,
      "outputs": [
        {
          "output_type": "execute_result",
          "data": {
            "application/vnd.google.colaboratory.intrinsic+json": {
              "type": "string"
            },
            "text/plain": [
              "'누구냐 넌?'"
            ]
          },
          "metadata": {},
          "execution_count": 35
        }
      ]
    },
    {
      "cell_type": "markdown",
      "metadata": {
        "id": "6g75KDP4BsnA"
      },
      "source": [
        "### 문제 26. 위 문제19을 다르게도 풀어볼까요?\n",
        "\n",
        "- index를 통해 접근하는 방법은 해당 변수이름에 []를 사용하며, []안에 index를 넣어서 접근할 수 있습니다.\n",
        "\n",
        "    e.g L = [1, 2, 3]이면 L[0]은 1이고, L[2]는 L[-1]이며 3입니다.\n",
        "\n",
        "- L3의 경우, index가 -1에 해당하는 원소는 L3의 가장 마지막 원소입니다. 이것을 양수의 index로 구현해봅시다. 물론, 출력 결과가 \"누구냐 넌\"이 나와야겠죠?"
      ]
    },
    {
      "cell_type": "code",
      "metadata": {
        "colab": {
          "base_uri": "https://localhost:8080/",
          "height": 35
        },
        "id": "oU5D2Iu7-nF2",
        "outputId": "0f1e6d41-95af-4177-c5be-00fafdec35fb"
      },
      "source": [
        "# L3 = [1, ['a', 2], 3.14, \"누구냐 넌?\"]\n",
        "L3[3]"
      ],
      "execution_count": null,
      "outputs": [
        {
          "output_type": "execute_result",
          "data": {
            "application/vnd.google.colaboratory.intrinsic+json": {
              "type": "string"
            },
            "text/plain": [
              "'누구냐 넌?'"
            ]
          },
          "metadata": {},
          "execution_count": 36
        }
      ]
    },
    {
      "cell_type": "code",
      "metadata": {
        "colab": {
          "base_uri": "https://localhost:8080/",
          "height": 35
        },
        "id": "w8g608eIKW4F",
        "outputId": "fd8d028b-8294-46ba-dd56-4558a9c2efcd"
      },
      "source": [
        "# 끝을 의미하는 index 는 실제 L3의 길이보다 1보다 작은 양의 정수입니다. 이를 이용하면 다음과 같이 나타낼 수 있습니다.\n",
        "L3[len(L3)-1]"
      ],
      "execution_count": null,
      "outputs": [
        {
          "output_type": "execute_result",
          "data": {
            "application/vnd.google.colaboratory.intrinsic+json": {
              "type": "string"
            },
            "text/plain": [
              "'누구냐 넌?'"
            ]
          },
          "metadata": {},
          "execution_count": 37
        }
      ]
    },
    {
      "cell_type": "markdown",
      "metadata": {
        "id": "nvsaAlx2DflV"
      },
      "source": [
        "### 문제 27. L3의 원소 중 [ 'a', 2 ]를 indexing해서 'a'를 출력해봅시다. \n",
        "\n",
        " - 리스트에는 다양한 타입의 원소를 다 포함할 수 있습니다. 심지어 리스트도.\n",
        " - L3의 경우, [ 'a', 2 ]는 index가 1에 해당하는 원소입니다. \n",
        " - 여기서 한 번 더 index를 한다면, 'a'를 출력할 수 있지 않을까요?\n",
        "> HINT : [index_num1][index_num]"
      ]
    },
    {
      "cell_type": "code",
      "metadata": {
        "colab": {
          "base_uri": "https://localhost:8080/",
          "height": 35
        },
        "id": "ZlH1tAPA-nAH",
        "outputId": "e7e5d82d-e4c3-404e-99ce-b7ac1d263f03"
      },
      "source": [
        "# L3 = [1, ['a', 2], 3.14, \"누구냐 넌?\"]\n",
        "L3[1][0]"
      ],
      "execution_count": null,
      "outputs": [
        {
          "output_type": "execute_result",
          "data": {
            "application/vnd.google.colaboratory.intrinsic+json": {
              "type": "string"
            },
            "text/plain": [
              "'a'"
            ]
          },
          "metadata": {},
          "execution_count": 38
        }
      ]
    },
    {
      "cell_type": "markdown",
      "metadata": {
        "id": "BIEwPoUjFtzc"
      },
      "source": [
        "### 문제 28. L3를 slicing을 해볼까요? (1) \n",
        " - L3의 index2부터 끝까지 잘라보겠습니다."
      ]
    },
    {
      "cell_type": "code",
      "metadata": {
        "colab": {
          "base_uri": "https://localhost:8080/"
        },
        "id": "LtJIAED5EkEr",
        "outputId": "8a11b7cf-e54b-4d4b-8816-7283120d4887"
      },
      "source": [
        "# L3의 첫번째부터 index2 까지 자르기\n",
        "L3[2:len(L3)]"
      ],
      "execution_count": null,
      "outputs": [
        {
          "output_type": "execute_result",
          "data": {
            "text/plain": [
              "[3.14, '누구냐 넌?']"
            ]
          },
          "metadata": {},
          "execution_count": 39
        }
      ]
    },
    {
      "cell_type": "code",
      "metadata": {
        "colab": {
          "base_uri": "https://localhost:8080/"
        },
        "id": "cKZNAWwaZ1tM",
        "outputId": "a9deeb75-d600-41db-dcbc-2cbecef320de"
      },
      "source": [
        "# 방법 01\n",
        "# 끝을 의미하는 index 는 실제 L3의 길이보다 1보다 작은 양의 정수입니다. 이를 이용하면 다음과 같이 나타낼 수 있습니다.\n",
        "L3[2: len(L3)]\n",
        "# 여기서 끝을 나타내는 index 표시할 때 마지막 원소까지 포함해야하므로 (len(L3) -1) + 1 되어 len(L3) 이 됩니다."
      ],
      "execution_count": null,
      "outputs": [
        {
          "output_type": "execute_result",
          "data": {
            "text/plain": [
              "[3.14, '누구냐 넌?']"
            ]
          },
          "metadata": {},
          "execution_count": 40
        }
      ]
    },
    {
      "cell_type": "code",
      "metadata": {
        "colab": {
          "base_uri": "https://localhost:8080/"
        },
        "id": "4GwYmui3aI3x",
        "outputId": "d697e093-8051-4989-a9bf-f5c10bc941f3"
      },
      "source": [
        "# 방법 02\n",
        "# 끝을 나타내는 index를 생략하면, '끝까지'를 의미하게 됩니다. \n",
        "L3[2: ]"
      ],
      "execution_count": null,
      "outputs": [
        {
          "output_type": "execute_result",
          "data": {
            "text/plain": [
              "[3.14, '누구냐 넌?']"
            ]
          },
          "metadata": {},
          "execution_count": 41
        }
      ]
    },
    {
      "cell_type": "markdown",
      "metadata": {
        "id": "JHPox647GKvB"
      },
      "source": [
        "### 문제 29. L3를 slicing해볼까요? (2)\n",
        " - L3의 첫번째부터 index2 까지 잘라보겠습니다."
      ]
    },
    {
      "cell_type": "code",
      "metadata": {
        "colab": {
          "base_uri": "https://localhost:8080/"
        },
        "id": "eRCqmz7HHyqk",
        "outputId": "8886151a-98d2-444a-b8e9-bf431ec65867"
      },
      "source": [
        "L3[0:2]"
      ],
      "execution_count": null,
      "outputs": [
        {
          "output_type": "execute_result",
          "data": {
            "text/plain": [
              "[1, ['a', 2]]"
            ]
          },
          "metadata": {},
          "execution_count": 42
        }
      ]
    },
    {
      "cell_type": "code",
      "metadata": {
        "colab": {
          "base_uri": "https://localhost:8080/"
        },
        "id": "VRfl-_0tEkCA",
        "outputId": "3933827b-aed4-4c3d-c797-646998636374"
      },
      "source": [
        "# 시작 index를 생략하면, 자동으로 index는 0이 됩니다. (맨 처음)\n",
        "L3[:2]"
      ],
      "execution_count": null,
      "outputs": [
        {
          "output_type": "execute_result",
          "data": {
            "text/plain": [
              "[1, ['a', 2]]"
            ]
          },
          "metadata": {},
          "execution_count": 43
        }
      ]
    },
    {
      "cell_type": "code",
      "metadata": {
        "id": "gD9uJMZGK2bq"
      },
      "source": [
        ""
      ],
      "execution_count": null,
      "outputs": []
    },
    {
      "cell_type": "markdown",
      "metadata": {
        "id": "osx22zW_I0U8"
      },
      "source": [
        "### 문제 30. L3의 리스트 함수들을 알아볼까요?\n",
        "- 리스트는 append, remove만 있는 게 아닙니다. 다른 함수들도 있는데, 무엇이 있는지 알아볼까요?\n",
        "\n",
        "> HINT : dir()"
      ]
    },
    {
      "cell_type": "code",
      "metadata": {
        "id": "2NoCVnaDJU6D"
      },
      "source": [
        "## 코드를 작성해보세요 ##\n",
        "L3 = [1, ['a', 2], 3.14, '누구냐 넌?']\n",
        "\n",
        "\n",
        "\n",
        "\n",
        "\n",
        "\n"
      ],
      "execution_count": null,
      "outputs": []
    },
    {
      "cell_type": "code",
      "metadata": {
        "colab": {
          "base_uri": "https://localhost:8080/"
        },
        "id": "3YYss6sKHqCG",
        "outputId": "117518b1-09a6-4717-cd35-05098eb01635"
      },
      "source": [
        "## (정답)\n",
        "dir(L3)"
      ],
      "execution_count": null,
      "outputs": [
        {
          "output_type": "execute_result",
          "data": {
            "text/plain": [
              "['__add__',\n",
              " '__class__',\n",
              " '__contains__',\n",
              " '__delattr__',\n",
              " '__delitem__',\n",
              " '__dir__',\n",
              " '__doc__',\n",
              " '__eq__',\n",
              " '__format__',\n",
              " '__ge__',\n",
              " '__getattribute__',\n",
              " '__getitem__',\n",
              " '__gt__',\n",
              " '__hash__',\n",
              " '__iadd__',\n",
              " '__imul__',\n",
              " '__init__',\n",
              " '__init_subclass__',\n",
              " '__iter__',\n",
              " '__le__',\n",
              " '__len__',\n",
              " '__lt__',\n",
              " '__mul__',\n",
              " '__ne__',\n",
              " '__new__',\n",
              " '__reduce__',\n",
              " '__reduce_ex__',\n",
              " '__repr__',\n",
              " '__reversed__',\n",
              " '__rmul__',\n",
              " '__setattr__',\n",
              " '__setitem__',\n",
              " '__sizeof__',\n",
              " '__str__',\n",
              " '__subclasshook__',\n",
              " 'append',\n",
              " 'clear',\n",
              " 'copy',\n",
              " 'count',\n",
              " 'extend',\n",
              " 'index',\n",
              " 'insert',\n",
              " 'pop',\n",
              " 'remove',\n",
              " 'reverse',\n",
              " 'sort']"
            ]
          },
          "metadata": {},
          "execution_count": 45
        }
      ]
    },
    {
      "cell_type": "markdown",
      "metadata": {
        "id": "Sl85WtKKJtCy"
      },
      "source": [
        "### 문제 31. L3의 리스트 함수들 중 c로 시작하는 함수들만을 보고 싶군요. \n",
        "- dir(L3) 결과로 나온 리스트 함수들 중 c로 시작하는 함수만을 출력하고 싶습니다.\n",
        "> HINT : for문, if문"
      ]
    },
    {
      "cell_type": "code",
      "metadata": {
        "id": "qCI5IgvJJsjB"
      },
      "source": [
        "## 코드를 작성해보세요\n",
        "\n",
        "\n",
        "\n",
        "\n",
        "\n",
        "\n",
        "\n"
      ],
      "execution_count": null,
      "outputs": []
    },
    {
      "cell_type": "code",
      "metadata": {
        "colab": {
          "base_uri": "https://localhost:8080/"
        },
        "id": "iHrRew6DDmV8",
        "outputId": "7ccc4fd8-9985-41ca-df6a-8c50fd4cb8f0"
      },
      "source": [
        "## (정답)\n",
        "\n",
        "for func in dir(L3):\n",
        "    if func[0] == 'c':\n",
        "        print(func)\n",
        "\n",
        "        "
      ],
      "execution_count": null,
      "outputs": [
        {
          "output_type": "stream",
          "name": "stdout",
          "text": [
            "clear\n",
            "copy\n",
            "count\n"
          ]
        }
      ]
    },
    {
      "cell_type": "code",
      "metadata": {
        "colab": {
          "base_uri": "https://localhost:8080/"
        },
        "id": "80iC_k2NSrdt",
        "outputId": "2af65f8a-4c09-4d0e-cfad-acbc09528e2b"
      },
      "source": [
        "## 다르게 간단하게\n",
        "\n",
        "[func for func in dir(L3) if func[0] == 'c']"
      ],
      "execution_count": null,
      "outputs": [
        {
          "output_type": "execute_result",
          "data": {
            "text/plain": [
              "['clear', 'copy', 'count']"
            ]
          },
          "metadata": {},
          "execution_count": 48
        }
      ]
    },
    {
      "cell_type": "markdown",
      "metadata": {
        "id": "RDinWK3kF7Od"
      },
      "source": [
        "### 문제 32. 구구단 가로 출력 (for문)\n",
        "- 다음처럼 구구단을 가로로 출력해봅시다. \n",
        "    \n",
        "```\n",
        "2x1=2, 3x1=3, ..., 2x9= 18\n",
        "...\n",
        "2x9=19, 3x9=27, ..., 9x9= 81\n",
        "```\n",
        "\n",
        "> HINT\n",
        "\n",
        "- 이중 for문 안에 for문\n",
        "    \n",
        "- print: end = \"\\t\"\n",
        "    \n",
        "- string: format"
      ]
    },
    {
      "cell_type": "code",
      "metadata": {
        "id": "TGX9_GgWGK0f"
      },
      "source": [
        "## 코드를 작성해보세요\n",
        "\n",
        "\n",
        "\n",
        "\n",
        "\n",
        "\n",
        "\n"
      ],
      "execution_count": null,
      "outputs": []
    },
    {
      "cell_type": "code",
      "metadata": {
        "colab": {
          "base_uri": "https://localhost:8080/"
        },
        "id": "34bIHKbaFDiZ",
        "outputId": "8f45b664-3f6d-482f-9283-bd1650f5dd24"
      },
      "source": [
        "## (정답)\n",
        "  \n",
        "for num2 in range(1, 10):\n",
        "    for num1 in range(2, 10):\n",
        "        print(\"{} x {} = {}\".format(num1, num2, num1*num2), end= \"\\t\")\n",
        "    print()"
      ],
      "execution_count": null,
      "outputs": [
        {
          "output_type": "stream",
          "name": "stdout",
          "text": [
            "2 x 1 = 2\t3 x 1 = 3\t4 x 1 = 4\t5 x 1 = 5\t6 x 1 = 6\t7 x 1 = 7\t8 x 1 = 8\t9 x 1 = 9\t\n",
            "2 x 2 = 4\t3 x 2 = 6\t4 x 2 = 8\t5 x 2 = 10\t6 x 2 = 12\t7 x 2 = 14\t8 x 2 = 16\t9 x 2 = 18\t\n",
            "2 x 3 = 6\t3 x 3 = 9\t4 x 3 = 12\t5 x 3 = 15\t6 x 3 = 18\t7 x 3 = 21\t8 x 3 = 24\t9 x 3 = 27\t\n",
            "2 x 4 = 8\t3 x 4 = 12\t4 x 4 = 16\t5 x 4 = 20\t6 x 4 = 24\t7 x 4 = 28\t8 x 4 = 32\t9 x 4 = 36\t\n",
            "2 x 5 = 10\t3 x 5 = 15\t4 x 5 = 20\t5 x 5 = 25\t6 x 5 = 30\t7 x 5 = 35\t8 x 5 = 40\t9 x 5 = 45\t\n",
            "2 x 6 = 12\t3 x 6 = 18\t4 x 6 = 24\t5 x 6 = 30\t6 x 6 = 36\t7 x 6 = 42\t8 x 6 = 48\t9 x 6 = 54\t\n",
            "2 x 7 = 14\t3 x 7 = 21\t4 x 7 = 28\t5 x 7 = 35\t6 x 7 = 42\t7 x 7 = 49\t8 x 7 = 56\t9 x 7 = 63\t\n",
            "2 x 8 = 16\t3 x 8 = 24\t4 x 8 = 32\t5 x 8 = 40\t6 x 8 = 48\t7 x 8 = 56\t8 x 8 = 64\t9 x 8 = 72\t\n",
            "2 x 9 = 18\t3 x 9 = 27\t4 x 9 = 36\t5 x 9 = 45\t6 x 9 = 54\t7 x 9 = 63\t8 x 9 = 72\t9 x 9 = 81\t\n"
          ]
        }
      ]
    },
    {
      "cell_type": "code",
      "metadata": {
        "id": "okEHIENiFDff"
      },
      "source": [
        ""
      ],
      "execution_count": null,
      "outputs": []
    },
    {
      "cell_type": "markdown",
      "metadata": {
        "id": "f-FfBWD5G35k"
      },
      "source": [
        "### 문제 33. 구구단 가로 출력 (while문)\n",
        "- 다음처럼 구구단을 가로로 출력해봅시다. \n",
        "    \n",
        "```\n",
        "2x1=2, 3x1=3, ..., 2x9= 18\n",
        "...\n",
        "2x9=19, 3x9=27, ..., 9x9= 81\n",
        "```\n",
        "\n",
        "> HINT\n",
        "\n",
        "- 이중 while문 안에 while문\n",
        "    \n",
        "- print: end = \"\\t\"\n",
        "    \n",
        "- string: format"
      ]
    },
    {
      "cell_type": "code",
      "metadata": {
        "id": "3ZDEDWRmFDco"
      },
      "source": [
        "## 코드를 작성해보세요\n",
        "\n",
        "\n",
        "\n",
        "\n",
        "\n",
        "\n",
        "\n"
      ],
      "execution_count": null,
      "outputs": []
    },
    {
      "cell_type": "code",
      "metadata": {
        "colab": {
          "base_uri": "https://localhost:8080/"
        },
        "id": "ky-sWODRFDZP",
        "outputId": "bc01a7e6-a223-48fa-ac63-9667b6a76741"
      },
      "source": [
        "## (정답)\n",
        "\n",
        "num2=1\n",
        "while num2 < 10:\n",
        "    num1=2\n",
        "    while num1 < 10:\n",
        "        print(\"{} x {} = {}\".format(num1, num2, num1*num2), end= \"\\t\")\n",
        "        num1+=1\n",
        "    print()\n",
        "    num2+=1"
      ],
      "execution_count": null,
      "outputs": [
        {
          "output_type": "stream",
          "name": "stdout",
          "text": [
            "2 x 1 = 2\t3 x 1 = 3\t4 x 1 = 4\t5 x 1 = 5\t6 x 1 = 6\t7 x 1 = 7\t8 x 1 = 8\t9 x 1 = 9\t\n",
            "2 x 2 = 4\t3 x 2 = 6\t4 x 2 = 8\t5 x 2 = 10\t6 x 2 = 12\t7 x 2 = 14\t8 x 2 = 16\t9 x 2 = 18\t\n",
            "2 x 3 = 6\t3 x 3 = 9\t4 x 3 = 12\t5 x 3 = 15\t6 x 3 = 18\t7 x 3 = 21\t8 x 3 = 24\t9 x 3 = 27\t\n",
            "2 x 4 = 8\t3 x 4 = 12\t4 x 4 = 16\t5 x 4 = 20\t6 x 4 = 24\t7 x 4 = 28\t8 x 4 = 32\t9 x 4 = 36\t\n",
            "2 x 5 = 10\t3 x 5 = 15\t4 x 5 = 20\t5 x 5 = 25\t6 x 5 = 30\t7 x 5 = 35\t8 x 5 = 40\t9 x 5 = 45\t\n",
            "2 x 6 = 12\t3 x 6 = 18\t4 x 6 = 24\t5 x 6 = 30\t6 x 6 = 36\t7 x 6 = 42\t8 x 6 = 48\t9 x 6 = 54\t\n",
            "2 x 7 = 14\t3 x 7 = 21\t4 x 7 = 28\t5 x 7 = 35\t6 x 7 = 42\t7 x 7 = 49\t8 x 7 = 56\t9 x 7 = 63\t\n",
            "2 x 8 = 16\t3 x 8 = 24\t4 x 8 = 32\t5 x 8 = 40\t6 x 8 = 48\t7 x 8 = 56\t8 x 8 = 64\t9 x 8 = 72\t\n",
            "2 x 9 = 18\t3 x 9 = 27\t4 x 9 = 36\t5 x 9 = 45\t6 x 9 = 54\t7 x 9 = 63\t8 x 9 = 72\t9 x 9 = 81\t\n"
          ]
        }
      ]
    },
    {
      "cell_type": "markdown",
      "metadata": {
        "id": "wUrzCeOKR6Qn"
      },
      "source": [
        "### 문제 34. 얼마나 걸릴까요?\n",
        "- for문을 이용하여 1부터 1000000까지의 숫자 중 3의 배수인 숫자들을 찾고, 몇 개가 있는지 알아보는 코드를 작성해보세요. \n",
        "- 또한 컴퓨터가 이 코드를 수행하는 데 걸린 시간을 알아볼 수 있는 코드도 같이 작성하세요.\n",
        "> HINT: for문, import time"
      ]
    },
    {
      "cell_type": "code",
      "metadata": {
        "id": "X77wa6mkR58j"
      },
      "source": [
        "## 코드를 작성해보세요 ##\n",
        "\n",
        "\n",
        "\n",
        "\n",
        "\n",
        "\n",
        "\n"
      ],
      "execution_count": null,
      "outputs": []
    },
    {
      "cell_type": "code",
      "metadata": {
        "colab": {
          "base_uri": "https://localhost:8080/"
        },
        "id": "I7vMRxjFScBd",
        "outputId": "b54f2709-394b-41cb-f217-e8de1e7dbe91"
      },
      "source": [
        "## (정답)\n",
        "import time\n",
        "start = time.time()\n",
        "\n",
        "ls = []\n",
        "for num in range(1, 1000000+1):\n",
        "    if num%3 == 0:\n",
        "        ls.append(num)\n",
        "\n",
        "end = time.time()\n",
        "print(f\"소요시간: {end - start}\")\n",
        "\n",
        "len(ls)"
      ],
      "execution_count": null,
      "outputs": [
        {
          "output_type": "stream",
          "name": "stdout",
          "text": [
            "소요시간: 0.21270394325256348\n"
          ]
        },
        {
          "output_type": "execute_result",
          "data": {
            "text/plain": [
              "333333"
            ]
          },
          "metadata": {},
          "execution_count": 54
        }
      ]
    },
    {
      "cell_type": "markdown",
      "metadata": {
        "id": "NaCiRg09TqQi"
      },
      "source": [
        "### 문제 35. 구구단은 얼마나 걸릴까요?\n",
        " - 위 문제 32번에서 작성한 코드를 이용하여 코드를 작성해봅시다. \n"
      ]
    },
    {
      "cell_type": "code",
      "metadata": {
        "id": "xRNLRGOWTpfk"
      },
      "source": [
        "## 코드를 작성해보세요 ##\n",
        "\n",
        "\n",
        "\n",
        "\n",
        "\n",
        "\n",
        "\n"
      ],
      "execution_count": null,
      "outputs": []
    },
    {
      "cell_type": "code",
      "metadata": {
        "colab": {
          "base_uri": "https://localhost:8080/"
        },
        "id": "byVizW8rRcCV",
        "outputId": "4bb6dea5-f89b-4738-b34c-356aa6abeaca"
      },
      "source": [
        "## (정답)\n",
        "import time\n",
        "start = time.time()\n",
        "\n",
        "for num2 in range(1, 10):\n",
        "    for num1 in range(2, 10):\n",
        "        print(\"{} x {} = {}\".format(num1, num2, num1*num2), end= \"\\t\")\n",
        "    print()\n",
        "\n",
        "\n",
        "end = time.time()\n",
        "print(f\"소요시간: {end - start}\")"
      ],
      "execution_count": null,
      "outputs": [
        {
          "output_type": "stream",
          "name": "stdout",
          "text": [
            "2 x 1 = 2\t3 x 1 = 3\t4 x 1 = 4\t5 x 1 = 5\t6 x 1 = 6\t7 x 1 = 7\t8 x 1 = 8\t9 x 1 = 9\t\n",
            "2 x 2 = 4\t3 x 2 = 6\t4 x 2 = 8\t5 x 2 = 10\t6 x 2 = 12\t7 x 2 = 14\t8 x 2 = 16\t9 x 2 = 18\t\n",
            "2 x 3 = 6\t3 x 3 = 9\t4 x 3 = 12\t5 x 3 = 15\t6 x 3 = 18\t7 x 3 = 21\t8 x 3 = 24\t9 x 3 = 27\t\n",
            "2 x 4 = 8\t3 x 4 = 12\t4 x 4 = 16\t5 x 4 = 20\t6 x 4 = 24\t7 x 4 = 28\t8 x 4 = 32\t9 x 4 = 36\t\n",
            "2 x 5 = 10\t3 x 5 = 15\t4 x 5 = 20\t5 x 5 = 25\t6 x 5 = 30\t7 x 5 = 35\t8 x 5 = 40\t9 x 5 = 45\t\n",
            "2 x 6 = 12\t3 x 6 = 18\t4 x 6 = 24\t5 x 6 = 30\t6 x 6 = 36\t7 x 6 = 42\t8 x 6 = 48\t9 x 6 = 54\t\n",
            "2 x 7 = 14\t3 x 7 = 21\t4 x 7 = 28\t5 x 7 = 35\t6 x 7 = 42\t7 x 7 = 49\t8 x 7 = 56\t9 x 7 = 63\t\n",
            "2 x 8 = 16\t3 x 8 = 24\t4 x 8 = 32\t5 x 8 = 40\t6 x 8 = 48\t7 x 8 = 56\t8 x 8 = 64\t9 x 8 = 72\t\n",
            "2 x 9 = 18\t3 x 9 = 27\t4 x 9 = 36\t5 x 9 = 45\t6 x 9 = 54\t7 x 9 = 63\t8 x 9 = 72\t9 x 9 = 81\t\n",
            "소요시간: 0.006751060485839844\n"
          ]
        }
      ]
    },
    {
      "cell_type": "code",
      "metadata": {
        "id": "0pLbeek5Rb_3"
      },
      "source": [
        ""
      ],
      "execution_count": null,
      "outputs": []
    },
    {
      "cell_type": "code",
      "metadata": {
        "id": "anSat5qpRb8o"
      },
      "source": [
        ""
      ],
      "execution_count": null,
      "outputs": []
    },
    {
      "cell_type": "markdown",
      "metadata": {
        "id": "BBViXvHbLiU9"
      },
      "source": [
        "### 문제 36. 무엇을 타고 집에 갈까요?\n",
        "- 강준이라는 친구가 키가 5cm 자라더니 학교가 끝나고 집에 갈 때 잘 걸어가려 하지 않습니다. \n",
        "\n",
        "    - 강준이가 5000원 이상 소지하고 있을 경우 택시를 타고 집에 귀가할 수 있지만, 걸어서 귀가할 수도 있습니다.  \n",
        "        - print(\"택시를 탑니다.\")\n",
        "        - 택시를 탈 경우, 3000원이 소비됩니다. \n",
        "        - 남은 잔액도 출력해주세요\n",
        "    - 2000원 이상 있을 경우 버스를 타고 귀가하기로 했습니다.\n",
        "        - print(\"버스를 탑니다.\")\n",
        "        - 버스를 탈 경우, 1000원이 소비됩니다. \n",
        "        - 남은 잔액도 출력해주세요\n",
        "    - 2000원 미만일 경우 걸어서 귀가하기로 했습니다.\n",
        "        - print(\"걸어서 귀가합니다.\")\n",
        "\n",
        "- 이를 반영한 코드를 작성해보세요"
      ]
    },
    {
      "cell_type": "code",
      "metadata": {
        "id": "Jp1GKT2yHqKe"
      },
      "source": [
        "\n",
        "## 강준이가 소지하고 있는 금액을 money 라는 변수로 받습니다. \n",
        "## 현재 10000원이 있네요.\n",
        "money = 10000\n",
        "\n",
        "## 택시는 타겠다고 하네요.\n",
        "taxi = True\n",
        "\n",
        "## 코드를 작성해보세요 \n",
        "\n",
        "\n",
        "\n",
        "\n",
        "\n",
        "\n",
        "\n"
      ],
      "execution_count": null,
      "outputs": []
    },
    {
      "cell_type": "code",
      "metadata": {
        "colab": {
          "base_uri": "https://localhost:8080/"
        },
        "id": "03cDw6TGHqGx",
        "outputId": "ed160cc3-6e4c-42cb-85cf-05145c3be48d"
      },
      "source": [
        "## (정답)\n",
        "money = 10000\n",
        "taxi = True\n",
        "\n",
        "if money >= 5000:\n",
        "    if taxi:\n",
        "        print(\"택시를 탑니다.\")\n",
        "        print(f\"잔액: {money - 3000}\")\n",
        "    else:\n",
        "         print(\"걸어서 귀가합니다.\")\n",
        "\n",
        "elif money >= 2000:\n",
        "    print(\"버스를 탑니다.\")\n",
        "else:\n",
        "    print(\"걸어서 귀가합니다.\")\n"
      ],
      "execution_count": null,
      "outputs": [
        {
          "output_type": "stream",
          "name": "stdout",
          "text": [
            "택시를 탑니다.\n",
            "잔액: 7000\n"
          ]
        }
      ]
    },
    {
      "cell_type": "markdown",
      "metadata": {
        "id": "RDg7xlCsVNqv"
      },
      "source": [
        "### 문제 37. 오락에 빠진 강준이\n",
        "- 강준이가 택시에 내려서 걸어서 귀가하던 중, 집 근처 오락실에서 '철권'게임을 하고 싶어졌습니다. 회당 500원인 이 게임을 몇 번이나 할 수 있을까요?\n",
        "- 매번 게임을 진행한 뒤의 강준이가 가지고 있는 잔액과 몇 번 게임을 했는지 횟수를 출력해주는 코드를 작성해보세요. \n",
        "> HINT : while 문"
      ]
    },
    {
      "cell_type": "code",
      "metadata": {
        "id": "x0wqvZyURb25"
      },
      "source": [
        "\n",
        "## 강준이가 소지하고 있는 금액을 money 라는 변수로 받습니다. \n",
        "## 현재 택시에서 내려서 잔액이 7000원이군요.\n",
        "money = 7000\n",
        "# 현재 강준이의 게임횟수(counts)는 0번입니다.\n",
        "counts = 0\n",
        "\n",
        "## 코드를 작성해보세요 \n",
        "\n",
        "\n",
        "\n",
        "\n",
        "\n",
        "\n",
        "\n",
        "\n"
      ],
      "execution_count": null,
      "outputs": []
    },
    {
      "cell_type": "code",
      "metadata": {
        "colab": {
          "base_uri": "https://localhost:8080/"
        },
        "id": "0AaCXSvNU0zK",
        "outputId": "287310b0-82e7-4261-9ed2-541dd275feed"
      },
      "source": [
        "## (정답)\n",
        "\n",
        "money = 7000\n",
        "counts = 0\n",
        "\n",
        "while money > 0:\n",
        "    counts += 1\n",
        "    money -= 500\n",
        "\n",
        "    print(f\"현재까지의 게임한 횟수: {counts}\")\n",
        "    print(f\"현재 잔액: {money}\")\n",
        "\n",
        "print()\n",
        "print(f\"최종 게임 횟수: {counts}\")\n",
        "print(f\"최종 잔액: {money}\")"
      ],
      "execution_count": null,
      "outputs": [
        {
          "output_type": "stream",
          "name": "stdout",
          "text": [
            "현재까지의 게임한 횟수: 1\n",
            "현재 잔액: 6500\n",
            "현재까지의 게임한 횟수: 2\n",
            "현재 잔액: 6000\n",
            "현재까지의 게임한 횟수: 3\n",
            "현재 잔액: 5500\n",
            "현재까지의 게임한 횟수: 4\n",
            "현재 잔액: 5000\n",
            "현재까지의 게임한 횟수: 5\n",
            "현재 잔액: 4500\n",
            "현재까지의 게임한 횟수: 6\n",
            "현재 잔액: 4000\n",
            "현재까지의 게임한 횟수: 7\n",
            "현재 잔액: 3500\n",
            "현재까지의 게임한 횟수: 8\n",
            "현재 잔액: 3000\n",
            "현재까지의 게임한 횟수: 9\n",
            "현재 잔액: 2500\n",
            "현재까지의 게임한 횟수: 10\n",
            "현재 잔액: 2000\n",
            "현재까지의 게임한 횟수: 11\n",
            "현재 잔액: 1500\n",
            "현재까지의 게임한 횟수: 12\n",
            "현재 잔액: 1000\n",
            "현재까지의 게임한 횟수: 13\n",
            "현재 잔액: 500\n",
            "현재까지의 게임한 횟수: 14\n",
            "현재 잔액: 0\n",
            "\n",
            "최종 게임 횟수: 14\n",
            "최종 잔액: 0\n"
          ]
        }
      ]
    },
    {
      "cell_type": "markdown",
      "metadata": {
        "id": "zfCd6ANbUMlt"
      },
      "source": [
        "## Function & magic command\n",
        "\n",
        "- 문제 38 ~ 문제 53\n",
        "- 개발 분야뿐만 아니라 데이터 분석에서도 파이썬의 함수는 강력한 위력을 발휘합니다.\n",
        "- 다양한 함수를 만들어보고 경험해봅시다.\n"
      ]
    },
    {
      "cell_type": "markdown",
      "metadata": {
        "id": "_B742fQwXbHF"
      },
      "source": [
        "### 문제 38. 함수를 선언해볼까요? \n",
        " - func()라는 변수에 빈리스트를 선언하는 코드를 작성해봅시다.\n",
        " - 함수를 실행하면, \"This is the Infinity Gaunthlet\" 메세지가 뜨도록 합니다.\n",
        "\n",
        "> HINT:  def function_name():"
      ]
    },
    {
      "cell_type": "code",
      "metadata": {
        "id": "WGQdoOpl4pNI"
      },
      "source": [
        "## 코드를 작성해보세요 ##\n",
        "\n",
        "\n",
        "\n",
        "\n",
        "\n",
        "\n",
        "\n"
      ],
      "execution_count": null,
      "outputs": []
    },
    {
      "cell_type": "code",
      "metadata": {
        "colab": {
          "base_uri": "https://localhost:8080/"
        },
        "id": "EgzBY2kH4tjg",
        "outputId": "928ad24c-a193-45bd-dd1d-3e5d6e738f6e"
      },
      "source": [
        "## (정답) 다음과 같이 함수 선언이 가능합니다. \n",
        "\n",
        "def func():\n",
        "\n",
        "    print(\"This is the Infinity Gaunthlet\")\n",
        "\n",
        "func()"
      ],
      "execution_count": null,
      "outputs": [
        {
          "output_type": "stream",
          "name": "stdout",
          "text": [
            "This is the Infinity Gaunthlet\n"
          ]
        }
      ]
    },
    {
      "cell_type": "code",
      "metadata": {
        "colab": {
          "base_uri": "https://localhost:8080/"
        },
        "id": "aHYfUPAGUMlu",
        "outputId": "4dae8909-2e39-40d2-958f-f96569103e63"
      },
      "source": [
        "## (해설) 다음과 같이 함수 선언이 가능합니다. \n",
        "\n",
        "## 1) 함수를 선언합니다.\n",
        "def func():\n",
        "\n",
        "    ## 2) 함수를 실행하면 출력됩니다.\n",
        "    print(\"This is the Infinity Gaunthlet\")\n",
        "\n",
        "\n",
        "\n",
        "## 3) 함수를 실행해봅니다.\n",
        "func()"
      ],
      "execution_count": null,
      "outputs": [
        {
          "output_type": "stream",
          "name": "stdout",
          "text": [
            "This is the Infinity Gaunthlet\n"
          ]
        }
      ]
    },
    {
      "cell_type": "markdown",
      "metadata": {
        "id": "12jM5CBpCj9D"
      },
      "source": [
        "### 문제 38. 간단한 계산기 함수를 만들어봅시다. \n",
        " - 더하기 기능의 간단한 함수를 코드로 작성해봅니다. \n",
        " - 이번에는 파라미터 number_01, number_02 를 받고, 이 둘을 더하는 함수 plus()를 코드로 작성합니다.\n",
        "    - 파라미터: 함수를 선언할 때 호출하는 부분에서 보내주는 데이터를 받는 변수를 뜻합니다. \n",
        "    - 아규먼트: 함수를 호출할 때 함수에 보내주는 데이터를 뜻합니다.\n",
        " - 함수를 구현한 후, 숫자 100과 23을 함수에 대입하여 함수를 실행해봅시다.\n",
        "\n",
        "> HINT: def function_name(a, b)"
      ]
    },
    {
      "cell_type": "code",
      "metadata": {
        "id": "HPOEsw29-d6J"
      },
      "source": [
        "## 코드를 작성해보세요 ##\n",
        "\n",
        "\n",
        "\n",
        "\n",
        "\n",
        "\n",
        "\n"
      ],
      "execution_count": null,
      "outputs": []
    },
    {
      "cell_type": "code",
      "metadata": {
        "colab": {
          "base_uri": "https://localhost:8080/"
        },
        "id": "BgnFg2D3Xrl2",
        "outputId": "09569596-be5e-4043-b271-aa0fd763bca7"
      },
      "source": [
        "## (정답) 이런 방법으로도 선언이 가능합니다. \n",
        "\n",
        "## 1) 함수를 선언합니다.\n",
        "def plus(number_01, number_02):\n",
        "    print(number_01 + number_02)\n",
        "\n",
        "## 2) number_01와 number_02의 자리에 각각 100과 23을 넣고 함수를 실행합니다. \n",
        "plus(100, 23) # 100과 23은 '아규먼트'라고 합니다."
      ],
      "execution_count": null,
      "outputs": [
        {
          "output_type": "stream",
          "name": "stdout",
          "text": [
            "123\n"
          ]
        }
      ]
    },
    {
      "cell_type": "code",
      "metadata": {
        "colab": {
          "base_uri": "https://localhost:8080/"
        },
        "id": "Q5Af5TF4ESQt",
        "outputId": "d66a131f-40bf-4dee-8252-96b0e985a540"
      },
      "source": [
        "## 3) 다음과 같이 입력하고 실행해도 같은 결과가 나옵니다. \n",
        "## number_01, number_02 를 함수의 '파라미터'라고 합니다.\n",
        "plus(number_01 = 100, number_02 = 23)"
      ],
      "execution_count": null,
      "outputs": [
        {
          "output_type": "stream",
          "name": "stdout",
          "text": [
            "123\n"
          ]
        }
      ]
    },
    {
      "cell_type": "markdown",
      "metadata": {
        "id": "0I6o77dQX-Kp"
      },
      "source": [
        "### 문제 39. 조금 특별한 계산기를 만들어봅시다. \n",
        "\n",
        " - 위 함수와 동일하지만, 파라미터 number_01, number_02 중 number_02 를 default 값으로 100이 되도록 합니다.\n",
        " - 이 함수를 plus_ver2()로 합니다.\n",
        " - 디폴트 파라미터: 함수 선언할 때 파라미터의 값을 할당해둡니다. 함수 실행(호출)시 별도의 지정이 없으면, 처음에 할당된 파라미터의 값으로 파라미터가 할당이 되고 함수가 실행됩니다.\n",
        "\n",
        "- number_01 파라미터 하나에 숫자 11을 넣고 함수 plus_ver2()를 실행해봅니다."
      ]
    },
    {
      "cell_type": "code",
      "metadata": {
        "id": "dQaZEmQF99ni"
      },
      "source": [
        "## 코드를 작성해보세요 ##\n",
        "\n",
        "\n",
        "\n",
        "\n",
        "\n",
        "\n",
        "\n"
      ],
      "execution_count": null,
      "outputs": []
    },
    {
      "cell_type": "code",
      "metadata": {
        "id": "bGQCI3Y5XASV",
        "colab": {
          "base_uri": "https://localhost:8080/"
        },
        "outputId": "8c3f4ad8-62ec-424c-cc46-6db9e3cec6d3"
      },
      "source": [
        "## (정답) \n",
        "\n",
        "def plus_ver2(number_01, number_02 = 100):\n",
        "    \n",
        "    print(number_01 + number_02)\n",
        "\n",
        "plus_ver2(11)"
      ],
      "execution_count": null,
      "outputs": [
        {
          "output_type": "stream",
          "name": "stdout",
          "text": [
            "111\n"
          ]
        }
      ]
    },
    {
      "cell_type": "code",
      "metadata": {
        "id": "fK9YFNJI-Gyu",
        "colab": {
          "base_uri": "https://localhost:8080/"
        },
        "outputId": "78377a82-f826-4e36-c5a6-6710ffe0fc8e"
      },
      "source": [
        "## (해설) 이런 방법으로도 선언이 가능합니다. \n",
        "\n",
        "## 1) 함수를 선언합니다.\n",
        "def plus_ver2(number_01, number_02 = 100):\n",
        "\n",
        "    ## 2) number_02 = 100 -> number_02를 '디폴트 파라미터'라고 합니다.\n",
        "    print(number_01 + number_02)\n",
        "\n",
        "## 3) number_01에 11을 넣고 함수를 실행합니다. \n",
        "plus_ver2(11)"
      ],
      "execution_count": null,
      "outputs": [
        {
          "output_type": "stream",
          "name": "stdout",
          "text": [
            "111\n"
          ]
        }
      ]
    },
    {
      "cell_type": "markdown",
      "metadata": {
        "id": "6CyWebmgUMlv"
      },
      "source": [
        "### 문제 40. number_02에 100말고 다른 값으로 함수 실행할 수 있을까요?\n",
        "\n",
        "- plus_ver2() 함수를 실행(호출)할 때, number_01에 숫자 0을, number_02에 77을 넣어보고 실행해봅시다.\n"
      ]
    },
    {
      "cell_type": "code",
      "metadata": {
        "id": "3dYj61jz95ty"
      },
      "source": [
        "## 코드를 작성해보세요 ##\n",
        "\n",
        "\n",
        "\n",
        "\n",
        "\n",
        "\n",
        "\n"
      ],
      "execution_count": null,
      "outputs": []
    },
    {
      "cell_type": "code",
      "metadata": {
        "colab": {
          "base_uri": "https://localhost:8080/"
        },
        "id": "hmkloHXTUMlv",
        "outputId": "e4557fef-2313-4bd6-a830-7008ff330532"
      },
      "source": [
        "## (정답)\n",
        "\n",
        "plus_ver2(number_01 = 0, number_02 = 77)"
      ],
      "execution_count": null,
      "outputs": [
        {
          "output_type": "stream",
          "name": "stdout",
          "text": [
            "77\n"
          ]
        }
      ]
    },
    {
      "cell_type": "markdown",
      "metadata": {
        "id": "W_o431zcaPjb"
      },
      "source": [
        "### 문제 41. 숫자를 2개만 더하라는 법이 있습니까?\n",
        " - 이번에는 숫자를 개수에 제한없이 더할 수 있는 함수 plus_infinite()를 코드로 작성해봅니다. \n",
        "    > Hint : sum() 함수를 이용합니다.\n",
        " - *args\n",
        "   : 함수를 호출할때 아규먼트의 갯수를 특정지을 수 없을 때 사용합니다.\n",
        "   - 불특정한 수의 숫자들은 'args'라는 튜플에 추가됩니다. type(args) 로 데이터 타입과 args를 출력해봅시다. \n",
        " - 함수를 작성하고 숫자 1부터 17까지 넣고 함수를 실행해봅니다. \n",
        "   - 1, 2, 3, 4, 5, 6, 7, 8, 9, 10, 11, 12, 13, 14, 15, 16, 17"
      ]
    },
    {
      "cell_type": "code",
      "metadata": {
        "id": "_9pB0fz89dQu"
      },
      "source": [
        "## 코드를 작성해보세요\n",
        "\n",
        "\n",
        "\n",
        "\n",
        "\n",
        "\n",
        "\n"
      ],
      "execution_count": null,
      "outputs": []
    },
    {
      "cell_type": "code",
      "metadata": {
        "colab": {
          "base_uri": "https://localhost:8080/"
        },
        "id": "laRbauDBZy4l",
        "outputId": "7fa22196-bc52-4aa2-b1c0-426989beeb55"
      },
      "source": [
        "## (정답)\n",
        "\n",
        "def plus_infinite(*args):\n",
        "\n",
        "    print(type(args), args) \n",
        "    sum(args)\n",
        "\n",
        "    print(sum(args))\n",
        "\n",
        "plus_infinite(1, 2, 3, 4, 5, 6, 7, 8, 9, 10, 11, 12, 13, 14, 15, 16, 17)"
      ],
      "execution_count": null,
      "outputs": [
        {
          "output_type": "stream",
          "name": "stdout",
          "text": [
            "<class 'tuple'> (1, 2, 3, 4, 5, 6, 7, 8, 9, 10, 11, 12, 13, 14, 15, 16, 17)\n",
            "153\n"
          ]
        }
      ]
    },
    {
      "cell_type": "code",
      "metadata": {
        "id": "7CfATcch9laV",
        "colab": {
          "base_uri": "https://localhost:8080/"
        },
        "outputId": "6f82660f-013d-4a3a-f52f-edf1cece4890"
      },
      "source": [
        "## (해설)\n",
        "\n",
        "## 1) *args 이용하여 plus_infinite() 함수 선언합니다. \n",
        "def plus_infinite(*args):\n",
        "    \n",
        "    ## 2) args라는 튜플의 형태로 값을 받습니다. \n",
        "    print(type(args), args) # 데이터 타입과, args 출력\n",
        "\n",
        "    ## 3) sun() 함수를 이용해서 합을 구합니다. \n",
        "    sum(args)\n",
        "\n",
        "    ## 4) 결과 출력합니다.\n",
        "    print(sum(args))\n",
        "\n",
        "## 5) 숫자 1부터 17까지 넣고 실행해봅니다.\n",
        "plus_infinite(1, 2, 3, 4, 5, 6, 7, 8, 9, 10, 11, 12, 13, 14, 15, 16, 17)"
      ],
      "execution_count": null,
      "outputs": [
        {
          "output_type": "stream",
          "name": "stdout",
          "text": [
            "<class 'tuple'> (1, 2, 3, 4, 5, 6, 7, 8, 9, 10, 11, 12, 13, 14, 15, 16, 17)\n",
            "153\n"
          ]
        }
      ]
    },
    {
      "cell_type": "markdown",
      "metadata": {
        "id": "lnVe_GR-UMlv"
      },
      "source": [
        "### 문제 42. 이번에는 키워드 아규먼트도 여러개 받아서 실행해볼까요?\n",
        "\n",
        "- 위 문제 05의 함수 plus_infinite() 선언 코드를 추가하여 새롭게 선언합니다. \n",
        "> HINT : **kwargs : 함수를 호출할때 키워드 아규먼트의 갯수를 특정지을 수 없을 때 사용합니다.\n",
        "\n",
        "\n",
        "- 불특정한 수의 키워드 아규먼트들은 'kwargs'라는 딕셔너리에 추가됩니다. type(kwargs) 로 데이터 타입과 kwargs를 출력해봅시다. \n",
        "\n",
        "- 이번에는 plus_infinite() 함수에 1, 2, 3, 4, num1 = 100, num2 = 3000, num3 = 20, num4 = 7 을 넣고 함수를 실행해봅니다."
      ]
    },
    {
      "cell_type": "code",
      "metadata": {
        "id": "as_33DYu8CBk",
        "colab": {
          "base_uri": "https://localhost:8080/",
          "height": 129
        },
        "outputId": "6706624e-6343-44d7-8ab1-d5a933e3303c"
      },
      "source": [
        "## 코드를 작성해보세요 \n",
        "\n",
        "def plus_infinite(*args, **kwargs):\n"
      ],
      "execution_count": null,
      "outputs": [
        {
          "output_type": "error",
          "ename": "SyntaxError",
          "evalue": "ignored",
          "traceback": [
            "\u001b[0;36m  File \u001b[0;32m\"<ipython-input-75-2795d1418a62>\"\u001b[0;36m, line \u001b[0;32m12\u001b[0m\n\u001b[0;31m    \u001b[0m\n\u001b[0m    ^\u001b[0m\n\u001b[0;31mSyntaxError\u001b[0m\u001b[0;31m:\u001b[0m unexpected EOF while parsing\n"
          ]
        }
      ]
    },
    {
      "cell_type": "code",
      "metadata": {
        "colab": {
          "base_uri": "https://localhost:8080/"
        },
        "id": "19FVlxo08G-g",
        "outputId": "a229f3e8-da37-48f2-9915-7d6772a760d4"
      },
      "source": [
        "## (정답)\n",
        "\n",
        "def plus_infinite(*args, **kwargs):\n",
        "    '''\n",
        "    이 함수에 대해서 알고 싶나?\n",
        "    '''\n",
        "    \n",
        "    print(type(kwargs), kwargs) \n",
        "\n",
        "    sum(kwargs.values())\n",
        "    sum(args) \n",
        "    \n",
        "    print( sum(args) + sum(kwargs.values()) )\n",
        "\n",
        "plus_infinite( 1, 2, 3, 4, num1 = 100, num2 = 3000, num3 = 20, num4 = 7)"
      ],
      "execution_count": null,
      "outputs": [
        {
          "output_type": "stream",
          "name": "stdout",
          "text": [
            "<class 'dict'> {'num1': 100, 'num2': 3000, 'num3': 20, 'num4': 7}\n",
            "3137\n"
          ]
        }
      ]
    },
    {
      "cell_type": "code",
      "metadata": {
        "colab": {
          "base_uri": "https://localhost:8080/"
        },
        "id": "l2Z-9oX1UMlv",
        "outputId": "ed50f674-4960-49eb-a49b-a8a6bdf383d1"
      },
      "source": [
        "## (해설)\n",
        "\n",
        "## 1) *args 이용하여 plus_infinite() 함수 선언합니다. \n",
        "def plus_infinite(*args, **kwargs):\n",
        "    '''\n",
        "    이 함수에 대해서 알고 싶나?\n",
        "    '''\n",
        "    \n",
        "    ## 2) kwargs라는 딕셔너리의 형태로 값을 받습니다. \n",
        "    print(type(kwargs), kwargs) # 데이터 타입과, kwargs 출력\n",
        "\n",
        "    ## 3) sun() 함수를 이용해서 합을 구합니다. \n",
        "    sum(kwargs.values()) ## 키워드 아규먼트의 합\n",
        "    sum(args) ## 아규먼트의 합\n",
        "    \n",
        "    ## 4) 결과 출력합니다.\n",
        "    print( sum(args) + sum(kwargs.values()) )\n",
        "\n",
        "## 5)  1, 2, 3, 4, num1 = 100, num2 = 3000, num3 = 20, num4 = 7를 넣고 함수를 s실행해봅니다.\n",
        "plus_infinite( 1, 2, 3, 4, num1 = 100, num2 = 3000, num3 = 20, num4 = 7)"
      ],
      "execution_count": null,
      "outputs": [
        {
          "output_type": "stream",
          "name": "stdout",
          "text": [
            "<class 'dict'> {'num1': 100, 'num2': 3000, 'num3': 20, 'num4': 7}\n",
            "3137\n"
          ]
        }
      ]
    },
    {
      "cell_type": "markdown",
      "metadata": {
        "id": "djV1HcXkOmr_"
      },
      "source": [
        "### 문제 43. list 를 통째로 함수에 넣으면 어떤 일이 일어날까요?\n",
        " - 위 문제 6번의 plus_infinite()를 그대로 사용합니다. \n",
        " - list_numbers 라는 다음 리스트를 넣고 실행해봅니다. \n",
        "   - list_numbers = [1, 2, 3, 4, 5, 6, 7, 8, 9, 10]\n",
        "   - 어떻게 넣고 실행하면 될까요?\n",
        "\n",
        "> HINT : *args"
      ]
    },
    {
      "cell_type": "code",
      "metadata": {
        "id": "8DFYOjzcPJNP"
      },
      "source": [
        "list_numbers = [1, 2, 3, 4, 5, 6, 7, 8, 9, 10]\n",
        "\n",
        "## 코드를 작성해보세요 \n",
        "#???#에 들어갈 코드는 무엇일까요?\n",
        "plus_inifinte(#???#)\n",
        "\n",
        "\n",
        "\n",
        "\n",
        "\n",
        "\n"
      ],
      "execution_count": null,
      "outputs": []
    },
    {
      "cell_type": "code",
      "metadata": {
        "colab": {
          "base_uri": "https://localhost:8080/"
        },
        "id": "Ob-UD9VaOmM2",
        "outputId": "93c676fa-bfea-4bbe-c63a-49d8c93fd549"
      },
      "source": [
        "## (정답)\n",
        "list_numbers = [1, 2, 3, 4, 5, 6, 7, 8, 9, 10]\n",
        "\n",
        "\n",
        "## 실행하면, list_numbers 의 모든 원소들의 합이 출력됩니다.\n",
        "plus_infinite(*list_numbers)"
      ],
      "execution_count": null,
      "outputs": [
        {
          "output_type": "stream",
          "name": "stdout",
          "text": [
            "<class 'dict'> {}\n",
            "55\n"
          ]
        }
      ]
    },
    {
      "cell_type": "markdown",
      "metadata": {
        "id": "NJiegcI0PoR1"
      },
      "source": [
        "### 문제 44. 그렇다면 이번에는 딕셔너리를 통째로 함수에 넣고 실행해볼까요?\n",
        "\n",
        " - 위 문제 6번의 plus_infinite()를 그대로 사용합니다.\n",
        " - dict_heights 라는 딕셔너리를 넣고 실행해봅니다.\n",
        "   - dict_heights = {'rohoon_height' : 178, 'yongdam_height': 180, 'sungwoong_height' : 175, 'youngmin_height' : 176}\n",
        "\n",
        "   - 어떻게 넣고 실행하면 될까요?\n",
        "\n",
        "   \n",
        "> HINT : **kwargs"
      ]
    },
    {
      "cell_type": "code",
      "metadata": {
        "id": "ijAHWTJGQ1yq"
      },
      "source": [
        "dict_heights = {'rohoon_height' : 178, 'yongdam_height': 180, 'sungwoong_height' : 175, 'youngmin_height' : 176, 'Gwangsoo_height': 180}\n",
        "\n",
        "## 코드를 작성해보세요 ##\n",
        "#???#에 들어갈 코드는 무엇일까요?\n",
        "plus_inifinte(#???#)\n",
        "\n",
        "\n",
        "\n"
      ],
      "execution_count": null,
      "outputs": []
    },
    {
      "cell_type": "code",
      "metadata": {
        "colab": {
          "base_uri": "https://localhost:8080/"
        },
        "id": "cy0Wo8AbQ1wi",
        "outputId": "b9466644-2717-4a50-8477-cc1ebb4050af"
      },
      "source": [
        "## (정답)\n",
        "dict_heights = {'rohoon_height' : 178, 'yongdam_height': 180, 'sungwoong_height' : 175, 'youngmin_height' : 176, 'Gwangsoo_height': 180}\n",
        "\n",
        "\n",
        "## 실행하면, list_numbers 의 모든 원소들의 합이 출력됩니다.\n",
        "plus_infinite(**dict_heights)"
      ],
      "execution_count": null,
      "outputs": [
        {
          "output_type": "stream",
          "name": "stdout",
          "text": [
            "<class 'dict'> {'rohoon_height': 178, 'yongdam_height': 180, 'sungwoong_height': 175, 'youngmin_height': 176, 'Gwangsoo_height': 180}\n",
            "889\n"
          ]
        }
      ]
    },
    {
      "cell_type": "markdown",
      "metadata": {
        "id": "bNeqpE0LRDo6"
      },
      "source": [
        "### 문제 45. Docstring을 확인해봅시다.\n",
        " - Docstring 이란? \n",
        "   : 함수의 설명을 작성해놓은 기술문서입니다.\n",
        " - 기술Doc이라고도 하며, 수많은 파이썬 함수의 사용법과 정보를 나타냅니다.\n",
        " - 다음 명령어로 함수의 Docstring을 조회해봅시다. \n",
        "    -  plus_infinite?\n",
        "    -  plus_infinite??\n",
        "    -  help(plus_infinite)\n",
        "\n",
        "\n",
        "- 파이썬 내장 함수 중 sum(), type() 함수에 대한 Docstring을 조회해봅시다.\n",
        "- 앞으로 개발이든, 데이터분석에서든 Docstring을 확인할 일이 많을 것입니다."
      ]
    },
    {
      "cell_type": "code",
      "metadata": {
        "id": "Z25en1H67W1C"
      },
      "source": [
        "## 코드를 작성해보세요 ##\n",
        "\n",
        "\n",
        "\n",
        "\n",
        "\n",
        "\n",
        "\n"
      ],
      "execution_count": null,
      "outputs": []
    },
    {
      "cell_type": "code",
      "metadata": {
        "id": "1iV25G4aRC5E"
      },
      "source": [
        "## 정답\n",
        "## 함수의 DOCSTRING 확인방법 01\n",
        "plus_infinite?"
      ],
      "execution_count": null,
      "outputs": []
    },
    {
      "cell_type": "code",
      "metadata": {
        "id": "r-fgsZs2Q1th"
      },
      "source": [
        "## 함수의 DOCSTRING 확인방법 02\n",
        "plus_infinite??"
      ],
      "execution_count": null,
      "outputs": []
    },
    {
      "cell_type": "code",
      "metadata": {
        "colab": {
          "base_uri": "https://localhost:8080/"
        },
        "id": "t-ExxMKoQ1qw",
        "outputId": "dcae95d9-0162-4e22-acaa-537c87bcca70"
      },
      "source": [
        "## 함수의 DOCSTRING 확인방법 03\n",
        "help(plus_infinite)"
      ],
      "execution_count": null,
      "outputs": [
        {
          "output_type": "stream",
          "name": "stdout",
          "text": [
            "Help on function plus_infinite in module __main__:\n",
            "\n",
            "plus_infinite(*args, **kwargs)\n",
            "    이 함수에 대해서 알고 싶나?\n",
            "\n"
          ]
        }
      ]
    },
    {
      "cell_type": "code",
      "metadata": {
        "colab": {
          "base_uri": "https://localhost:8080/"
        },
        "id": "QskyzfXZQ1oE",
        "outputId": "133eb354-77e7-4bc8-85f1-7bb7b607ca4f"
      },
      "source": [
        "## 파이썬 내장함수에 대해서도 조회해봅시다. - sum\n",
        "help(sum)"
      ],
      "execution_count": null,
      "outputs": [
        {
          "output_type": "stream",
          "name": "stdout",
          "text": [
            "Help on built-in function sum in module builtins:\n",
            "\n",
            "sum(iterable, start=0, /)\n",
            "    Return the sum of a 'start' value (default: 0) plus an iterable of numbers\n",
            "    \n",
            "    When the iterable is empty, return the start value.\n",
            "    This function is intended specifically for use with numeric values and may\n",
            "    reject non-numeric types.\n",
            "\n"
          ]
        }
      ]
    },
    {
      "cell_type": "code",
      "metadata": {
        "id": "8RfuEMekclbX"
      },
      "source": [
        "## 파이썬 내장함수에 대해서도 조회해봅시다. - type\n",
        "type??"
      ],
      "execution_count": null,
      "outputs": []
    },
    {
      "cell_type": "markdown",
      "metadata": {
        "id": "pAd2pSGrZqvZ"
      },
      "source": [
        "### 문제 46. plus 함수를 간단한 코드로 작성할 수 없을까요?\n",
        "\n",
        "-  pythagoras() 함수는 2개의 숫자 아규먼트를 받고 각가 더한 값의 제곱근값을 return 합니다. \n",
        " - return : 함수의 값을 저장하고 싶을 때 사용합니다.\n",
        "\n",
        "\n",
        "> HINT: lambda 함수: 파라미터를 간단한 계산으로 리턴되는 함수입니다.\n",
        "\n",
        "- pythagoras() 함수를 lambda 함수로 표현한 후 숫자 3과 4를 넣고 실행해봅니다. \n",
        "\n",
        "- lambda로 표현한 함수를 pythagoras_lambda라는 이름의 함수로 정의합니다. \n"
      ]
    },
    {
      "cell_type": "code",
      "metadata": {
        "id": "lH8fmXyKS6d4"
      },
      "source": [
        "## 다음 코드를 lambda 함수로 구현해보세요\n",
        "\n",
        "def pythagoras(num1, num2):\n",
        "    return (num1**2 + num2**2)**0.5\n",
        "\n",
        "\n",
        "\n",
        "\n",
        "pythagoras_lambda =\n",
        "\n"
      ],
      "execution_count": null,
      "outputs": []
    },
    {
      "cell_type": "code",
      "metadata": {
        "colab": {
          "base_uri": "https://localhost:8080/"
        },
        "id": "YXpk3EAgb6Xz",
        "outputId": "50bf6784-b7b9-4e85-9e2f-ef57a8f067c2"
      },
      "source": [
        "## (정답)\n",
        "\n",
        "## 1) pythagoras 함수를 lambda 함수로 구현한 pythagoras_lambda() 입니다. \n",
        "pythagoras_lambda = lambda num1, num2 : (num1**2 + num2**2)**0.5\n",
        "\n",
        "## 2) 숫자 3, 4를 pythagoras_lambda()에 넣고 실행합니다.\n",
        "pythagoras_lambda(3, 4)"
      ],
      "execution_count": null,
      "outputs": [
        {
          "output_type": "execute_result",
          "data": {
            "text/plain": [
              "5.0"
            ]
          },
          "metadata": {},
          "execution_count": 87
        }
      ]
    },
    {
      "cell_type": "markdown",
      "metadata": {
        "id": "bUDhIYJocu1T"
      },
      "source": [
        "### 문제 47. 조건문이 들어간 간단한 함수를 코드 한 줄로 구현해봅시다.\n",
        "\n",
        " - 키가 180cm이상인 사람들의 경우, \"키가 정말 크군요\" 라는 메세지가 출력, 그렇지 않은 경우를 \"계속 키가 클 것입니다. : )\" 라는 메세지로 출력하도록 합니다.\n",
        " \n",
        " - height_high(181)과 height_high(178)을 각각 실행해볼까요?"
      ]
    },
    {
      "cell_type": "code",
      "metadata": {
        "id": "PEoSnwTp6s1n"
      },
      "source": [
        "## 코드를 작성해보세요 ##\n",
        "\n",
        "def height_high(height):\n",
        "\n",
        "\n",
        "\n",
        "\n",
        "\n"
      ],
      "execution_count": null,
      "outputs": []
    },
    {
      "cell_type": "code",
      "metadata": {
        "id": "1DOKY2HwcnHA"
      },
      "source": [
        "## (정답)\n",
        "\n",
        "## 1) height_high 함수를 다음과 같인 선언합니다. \n",
        "def height_high(height):\n",
        "    \n",
        "    return '키가 정말 크군요' if height >= 180 else '계속 클 것 입니다. : )'\n",
        "    ## 2) 위 코드는 아래 코드와 동일합니다. 아래 코드를 한 줄로 표현한 것입니다. \n",
        "    ## if height >= 180:\n",
        "    ##    return '키가 정말 크군요'\n",
        "    ## else:\n",
        "    ##     return '계속 클 것 입니다. : )'"
      ],
      "execution_count": null,
      "outputs": []
    },
    {
      "cell_type": "code",
      "metadata": {
        "colab": {
          "base_uri": "https://localhost:8080/",
          "height": 35
        },
        "id": "Cc8hbS9gffT1",
        "outputId": "78c3971f-ac15-43e0-f4e2-22c9a9eeb63b"
      },
      "source": [
        "## 3) height_high(181)을 각각 실행해볼까요?\n",
        "height_high(181)"
      ],
      "execution_count": null,
      "outputs": [
        {
          "output_type": "execute_result",
          "data": {
            "application/vnd.google.colaboratory.intrinsic+json": {
              "type": "string"
            },
            "text/plain": [
              "'키가 정말 크군요'"
            ]
          },
          "metadata": {},
          "execution_count": 89
        }
      ]
    },
    {
      "cell_type": "code",
      "metadata": {
        "colab": {
          "base_uri": "https://localhost:8080/",
          "height": 35
        },
        "id": "i0U11dwPffKa",
        "outputId": "c6380617-159c-427d-a052-d381560676e3"
      },
      "source": [
        "## 4) height_high(178)을 각각 실행해볼까요?\n",
        "height_high(178)"
      ],
      "execution_count": null,
      "outputs": [
        {
          "output_type": "execute_result",
          "data": {
            "application/vnd.google.colaboratory.intrinsic+json": {
              "type": "string"
            },
            "text/plain": [
              "'계속 클 것 입니다. : )'"
            ]
          },
          "metadata": {},
          "execution_count": 90
        }
      ]
    },
    {
      "cell_type": "markdown",
      "metadata": {
        "id": "DPLvW5YufPt5"
      },
      "source": [
        "### 문제 48. 다음 다섯 사람의 키입니다. 이 사람들의 키에 대해서 height_high() 함수에 넣고 실행해봅시다.\n",
        " - dict_heights = {'rohoon_height' : 178, 'yongdam_height': 180, 'sungwoong_height' : 175, 'youngmin_height' : 176, 'Gwangsoo_height': 180}\n",
        " - 문제 11의 height_high() 함수를 이용합니다.\n",
        " - 결과는 리스트 형태로 출력합니다.\n",
        " - (Hint) map 함수를 이용합니다."
      ]
    },
    {
      "cell_type": "code",
      "metadata": {
        "id": "GVeoqLySlT4U"
      },
      "source": [
        "dict_heights = {'rohoon_height' : 178, 'yongdam_height': 180, 'sungwoong_height' : 175, 'youngmin_height' : 176, 'Gwangsoo_height': 180}\n",
        "\n",
        "## 코드를 작성해보세요 ##\n",
        "\n",
        "\n",
        "\n",
        "\n"
      ],
      "execution_count": null,
      "outputs": []
    },
    {
      "cell_type": "code",
      "metadata": {
        "colab": {
          "base_uri": "https://localhost:8080/"
        },
        "id": "UtJilNtnfPe3",
        "outputId": "0fbe08fd-95fb-4a2e-a8a3-509d08828916"
      },
      "source": [
        "## (정답)\n",
        "\n",
        "dict_heights = {'rohoon_height' : 178, 'yongdam_height': 180, 'sungwoong_height' : 175, 'youngmin_height' : 176, 'Gwangsoo_height': 180}\n",
        "\n",
        "list(map(height_high, dict_heights.values()))"
      ],
      "execution_count": null,
      "outputs": [
        {
          "output_type": "execute_result",
          "data": {
            "text/plain": [
              "['계속 클 것 입니다. : )',\n",
              " '키가 정말 크군요',\n",
              " '계속 클 것 입니다. : )',\n",
              " '계속 클 것 입니다. : )',\n",
              " '키가 정말 크군요']"
            ]
          },
          "metadata": {},
          "execution_count": 91
        }
      ]
    },
    {
      "cell_type": "code",
      "metadata": {
        "colab": {
          "base_uri": "https://localhost:8080/"
        },
        "id": "KT_ctQNUhPxs",
        "outputId": "9455eec0-8a99-4ff9-ba3c-1f70de2ead9b"
      },
      "source": [
        "## 해설\n",
        "\n",
        "## 1) map(function, *iterables) 형태로 사용가능합니다.\n",
        "##   - iterable 이란?: 원소를 하나씩 차례로 반환 가능한 object를 의미합니다.\n",
        "##   - iterable  예: list, str, tuple 등\n",
        "\n",
        "## 2) list(): 리스트로 만들어줍니다.\n",
        "list(map(height_high, dict_heights.values()))"
      ],
      "execution_count": null,
      "outputs": [
        {
          "output_type": "execute_result",
          "data": {
            "text/plain": [
              "['계속 클 것 입니다. : )',\n",
              " '키가 정말 크군요',\n",
              " '계속 클 것 입니다. : )',\n",
              " '계속 클 것 입니다. : )',\n",
              " '키가 정말 크군요']"
            ]
          },
          "metadata": {},
          "execution_count": 92
        }
      ]
    },
    {
      "cell_type": "markdown",
      "metadata": {
        "id": "KFX8C8IMi95j"
      },
      "source": [
        "### 문제 49. 키가 180이상인 사람들만 남겨볼까요?\n",
        "> HINT: filter 함수를 사용합니다."
      ]
    },
    {
      "cell_type": "code",
      "metadata": {
        "id": "qkhk_N2RlY-j"
      },
      "source": [
        "dict_heights = {'rohoon_height' : 178, 'yongdam_height': 180, 'sungwoong_height' : 175, 'youngmin_height' : 176, 'Gwangsoo_height': 180}\n",
        "\n",
        "## 코드를 작성해보세요 ##\n",
        "\n",
        "\n",
        "\n",
        "\n"
      ],
      "execution_count": null,
      "outputs": []
    },
    {
      "cell_type": "code",
      "metadata": {
        "colab": {
          "base_uri": "https://localhost:8080/"
        },
        "id": "B488MJLWhPvJ",
        "outputId": "bcf26835-51d7-4230-bdca-88dc02605697"
      },
      "source": [
        "## (정답)\n",
        "\n",
        "dict_heights = {'rohoon_height' : 178, 'yongdam_height': 180, 'sungwoong_height' : 175, 'youngmin_height' : 176, 'Gwangsoo_height': 180}\n",
        "\n",
        "list(filter(lambda name : True if dict_heights[name] >= 180 else False, dict_heights))"
      ],
      "execution_count": null,
      "outputs": [
        {
          "output_type": "execute_result",
          "data": {
            "text/plain": [
              "['yongdam_height', 'Gwangsoo_height']"
            ]
          },
          "metadata": {},
          "execution_count": 93
        }
      ]
    },
    {
      "cell_type": "code",
      "metadata": {
        "colab": {
          "base_uri": "https://localhost:8080/"
        },
        "id": "MMTAi1H6hPsH",
        "outputId": "07a66b2a-38d5-4b55-c0b6-cee3b56eea37"
      },
      "source": [
        "## (해설)\n",
        "\n",
        "## 1) filter(function, *iterables) 형태로 사용가능합니다.\n",
        "## 2) filter 함수 내부의 function에 lambda 함수를 이용하여 키가 180이상인 경우 True로 반환하도록 함수를 구현하였습니다.\n",
        "## 3) list(): 리스트로 만들어줍니다.\n",
        "list(filter(lambda name : True if dict_heights[name] >= 180 else False, dict_heights))"
      ],
      "execution_count": null,
      "outputs": [
        {
          "output_type": "execute_result",
          "data": {
            "text/plain": [
              "['yongdam_height', 'Gwangsoo_height']"
            ]
          },
          "metadata": {},
          "execution_count": 94
        }
      ]
    },
    {
      "cell_type": "markdown",
      "metadata": {
        "id": "-2R6nDfPlkBy"
      },
      "source": [
        "### 문제 50. dict_heights의 정보를 하나씩 가져올 수 있도록 해보면 어떨까요?\n",
        "\n",
        "> HINT : iter(), next() 함수를 이용합니다.\n",
        "\n",
        "\n",
        "\n",
        "    - iter() 함수로 반복 가능한 객체를 생성합니다. \n",
        "    - next() 함수로 반복 가능한 객체의 원소를 하나씩 반환하도록 합니다.\n",
        "    - next() 함수를 총 세 번을 실행하고, 각 실행시의 출력결과를 살펴보세요.\n",
        " "
      ]
    },
    {
      "cell_type": "code",
      "metadata": {
        "id": "oVsY-min6JwD"
      },
      "source": [
        "## 코드를 작성해보세요 ##\n",
        "\n",
        "\n",
        "\n",
        "\n",
        "\n"
      ],
      "execution_count": null,
      "outputs": []
    },
    {
      "cell_type": "code",
      "metadata": {
        "id": "A8IrRMshhPom"
      },
      "source": [
        "## (정답)\n",
        "\n",
        "## iter() 함수로 반복 가능한 객체로 반환합니다. \n",
        "height_iter = iter(dict_heights)"
      ],
      "execution_count": null,
      "outputs": []
    },
    {
      "cell_type": "code",
      "metadata": {
        "colab": {
          "base_uri": "https://localhost:8080/",
          "height": 35
        },
        "id": "T_PHj1VTkI9P",
        "outputId": "d9a42292-66d7-4d92-8ece-0c488b0750b2"
      },
      "source": [
        "## next() 함수 첫 번째 실행\n",
        "next(height_iter)"
      ],
      "execution_count": null,
      "outputs": [
        {
          "output_type": "execute_result",
          "data": {
            "application/vnd.google.colaboratory.intrinsic+json": {
              "type": "string"
            },
            "text/plain": [
              "'rohoon_height'"
            ]
          },
          "metadata": {},
          "execution_count": 96
        }
      ]
    },
    {
      "cell_type": "code",
      "metadata": {
        "colab": {
          "base_uri": "https://localhost:8080/",
          "height": 35
        },
        "id": "mLtR6_4Jl26Q",
        "outputId": "471a5f41-e06e-407b-e894-c6cadec807a6"
      },
      "source": [
        "## next() 함수 두 번째 실행\n",
        "next(height_iter)"
      ],
      "execution_count": null,
      "outputs": [
        {
          "output_type": "execute_result",
          "data": {
            "application/vnd.google.colaboratory.intrinsic+json": {
              "type": "string"
            },
            "text/plain": [
              "'yongdam_height'"
            ]
          },
          "metadata": {},
          "execution_count": 97
        }
      ]
    },
    {
      "cell_type": "code",
      "metadata": {
        "colab": {
          "base_uri": "https://localhost:8080/",
          "height": 35
        },
        "id": "OJ9NsfUYmBHw",
        "outputId": "9f6392b1-e508-40f4-dda2-c4ea2efa9cbc"
      },
      "source": [
        "## next() 함수 세 번째 실행\n",
        "next(height_iter)"
      ],
      "execution_count": null,
      "outputs": [
        {
          "output_type": "execute_result",
          "data": {
            "application/vnd.google.colaboratory.intrinsic+json": {
              "type": "string"
            },
            "text/plain": [
              "'sungwoong_height'"
            ]
          },
          "metadata": {},
          "execution_count": 98
        }
      ]
    },
    {
      "cell_type": "markdown",
      "metadata": {
        "id": "qbjdiqLzmdtv"
      },
      "source": [
        "### 문제 51. 단어 단위로 끊어진 대사를 다시 한 문장으로 합쳐볼까요?\n",
        " - \"Everything that has a beginning has an end, Neo.\" (Matrix)\n",
        "   \n",
        "   : \"시작이 있는 곳에 끝이 있어. 네오\"\n",
        "\n",
        " - 파이썬 string의 join 함수를 이용해서 합쳐봅시다.\n"
      ]
    },
    {
      "cell_type": "code",
      "metadata": {
        "id": "M3wQPReHnvwC"
      },
      "source": [
        "list_words = [\"Everything\", \"that\", \"has\", \"a\", \"beginning\", \"has\", \"an\", \"end\", \",\", \"Neo.\"]\n",
        "\n",
        "### 코드를 작성해보세요 ###\n",
        "#???# 부분과 #?????# 부분에 들어갈 코드는 무엇일까요?\n",
        "\n",
        "\n",
        "#???#.join(#?????#)\n",
        "\n",
        "\n",
        "\n"
      ],
      "execution_count": null,
      "outputs": []
    },
    {
      "cell_type": "code",
      "metadata": {
        "colab": {
          "base_uri": "https://localhost:8080/",
          "height": 35
        },
        "id": "1VqgQYZomCA2",
        "outputId": "a12c3f11-56cf-48ec-91e2-ad6f36bc7ab3"
      },
      "source": [
        "## (정답)\n",
        "\n",
        "list_words = [\"Everything\", \"that\", \"has\", \"a\", \"beginning\", \"has\", \"an\", \"end\", \",\", \"Neo.\"]\n",
        "\n",
        "## \" \".join(문자열 데이터의 리스트) 의 형태로 사용합니다. \n",
        "## - \" \" : (space, 구분자)입니다. 이것을 문자열 데이터로만 구성된 리스트의 각 단어(문자열 데이터) 사이에 넣어서 하나의 문자열로 합쳐줍니다.\n",
        "\" \".join(list_words)"
      ],
      "execution_count": null,
      "outputs": [
        {
          "output_type": "execute_result",
          "data": {
            "application/vnd.google.colaboratory.intrinsic+json": {
              "type": "string"
            },
            "text/plain": [
              "'Everything that has a beginning has an end , Neo.'"
            ]
          },
          "metadata": {},
          "execution_count": 99
        }
      ]
    },
    {
      "cell_type": "markdown",
      "metadata": {
        "id": "b19buNsJpaHF"
      },
      "source": [
        "### 문제 52. 현재 선언된 변수들은 어떤 것들이 있을까요?\n",
        "\n",
        "> %who, %whos\n",
        "\n",
        "- 위 두 커맨드는 '매직커맨드'라고 합니다. RAN에 load 된 변수들을 확인합니다. \n",
        "- 실제로 데이터 분석시, 데이터 용량이 크기 때문에, RAM 관리시에 도움이 되는 커맨드 중 하나입니다. "
      ]
    },
    {
      "cell_type": "code",
      "metadata": {
        "colab": {
          "base_uri": "https://localhost:8080/"
        },
        "id": "8hO-Mh4ZpAs0",
        "outputId": "2bc15d4b-ef6d-4971-fa76-da638888054c"
      },
      "source": [
        "# RAM에 load 된 변수들을 조회합니다.\n",
        "%who"
      ],
      "execution_count": null,
      "outputs": [
        {
          "output_type": "stream",
          "name": "stdout",
          "text": [
            "L3\t N\t a\t b\t basket_ball\t basketball_team\t class_A\t counts\t dict_heights\t \n",
            "end\t epoch\t f\t func\t g\t grades\t h\t height\t height_high\t \n",
            "height_iter\t heights\t is_yoon\t len1\t len2\t list_numbers\t list_words\t lotto_generator\t ls\t \n",
            "model_name\t money\t name\t num\t num1\t num2\t numbers1\t numbers2\t old_man\t \n",
            "old_woman\t plus\t plus_infinite\t plus_ver2\t pythagoras_lambda\t sentence\t sentences\t start\t taxi\t \n",
            "test_accuracy\t time\t train_accuracy\t val_accuracy\t young_man\t young_woman\t \n"
          ]
        }
      ]
    },
    {
      "cell_type": "code",
      "metadata": {
        "colab": {
          "base_uri": "https://localhost:8080/"
        },
        "id": "o-_yAZ9PsGr4",
        "outputId": "df5c6309-af7c-4783-9a98-1513f3fca8a7"
      },
      "source": [
        "# RAM에 load 된 변수들을 상세하게 조회합니다.\n",
        "%whos"
      ],
      "execution_count": null,
      "outputs": [
        {
          "output_type": "stream",
          "name": "stdout",
          "text": [
            "Variable            Type                Data/Info\n",
            "-------------------------------------------------\n",
            "L3                  list                n=4\n",
            "N                   int                 547648742345979\n",
            "a                   int                 100\n",
            "b                   int                 6\n",
            "basket_ball         list                n=2\n",
            "basketball_team     list                n=2\n",
            "class_A             dict                n=5\n",
            "counts              int                 14\n",
            "dict_heights        dict                n=5\n",
            "end                 float               1635322490.3495018\n",
            "epoch               int                 10\n",
            "f                   float               3.159\n",
            "func                function            <function func at 0x7f45e3466dd0>\n",
            "g                   float               6.23791\n",
            "grades              list                n=5\n",
            "h                   float               11.2795801\n",
            "height              int                 207\n",
            "height_high         function            <function height_high at 0x7f45df960f80>\n",
            "height_iter         dict_keyiterator    <dict_keyiterator object at 0x7f45dee4e530>\n",
            "heights             tuple               n=5\n",
            "is_yoon             bool                False\n",
            "len1                int                 6\n",
            "len2                int                 7\n",
            "list_numbers        list                n=10\n",
            "list_words          list                n=10\n",
            "lotto_generator     function            <function lotto_generator at 0x7f45dedec9e0>\n",
            "ls                  list                n=333333\n",
            "model_name          str                 ResNet44\n",
            "money               int                 0\n",
            "name                str                 서장훈\n",
            "num                 int                 1000000\n",
            "num1                int                 9\n",
            "num2                int                 9\n",
            "numbers1            list                n=6\n",
            "numbers2            list                n=7\n",
            "old_man             str                 911210-1234567\n",
            "old_woman           str                 891103-2513455\n",
            "plus                function            <function plus at 0x7f45df963320>\n",
            "plus_infinite       function            <function plus_infinite at 0x7f45df9608c0>\n",
            "plus_ver2           function            <function plus_ver2 at 0x7f45df9635f0>\n",
            "pythagoras_lambda   function            <function <lambda> at 0x7f45dee2d560>\n",
            "sentence            str                 The queen should make quick decision.\n",
            "sentences           list                n=3\n",
            "start               float               1635322490.3427508\n",
            "taxi                bool                True\n",
            "test_accuracy       float               0.76\n",
            "time                module              <module 'time' (built-in)>\n",
            "train_accuracy      float               0.85\n",
            "val_accuracy        float               0.83\n",
            "young_man           str                 011220-3123456\n",
            "young_woman         str                 040302-4912911\n"
          ]
        }
      ]
    },
    {
      "cell_type": "markdown",
      "metadata": {
        "id": "CaeIVk19sLQr"
      },
      "source": [
        "### 문제 53. 현재 선언된 변수들을 모두 지워버리고 싶다면 어떻게 하는 것이 좋을까요?\n",
        "\n",
        "> %reset\n",
        "\n",
        "- 위 '매직커맨드'라고 합니다. RAN에 load 된 변수들을 없애줍니다. 초기화합니다.\n",
        "한 번 실행해볼까요?\n",
        "- 실제 사용시에는 매우 신중해야겠죠?"
      ]
    },
    {
      "cell_type": "code",
      "metadata": {
        "colab": {
          "base_uri": "https://localhost:8080/"
        },
        "id": "aqKhLH71bv7t",
        "outputId": "6e475df3-dc8b-40f2-8ba6-767595c2ba7b"
      },
      "source": [
        "%reset"
      ],
      "execution_count": null,
      "outputs": [
        {
          "name": "stdout",
          "output_type": "stream",
          "text": [
            "Once deleted, variables cannot be recovered. Proceed (y/[n])? y\n"
          ]
        }
      ]
    },
    {
      "cell_type": "code",
      "metadata": {
        "colab": {
          "base_uri": "https://localhost:8080/"
        },
        "id": "KQXLcdtRcZde",
        "outputId": "06bb7145-e0d9-4685-ac97-3d81bd124ad8"
      },
      "source": [
        "# 확인해볼까요?\n",
        "%who"
      ],
      "execution_count": null,
      "outputs": [
        {
          "output_type": "stream",
          "name": "stdout",
          "text": [
            "Interactive namespace is empty.\n"
          ]
        }
      ]
    },
    {
      "cell_type": "code",
      "metadata": {
        "colab": {
          "base_uri": "https://localhost:8080/"
        },
        "id": "AI6n6WyTcZaw",
        "outputId": "6acba950-d12a-4b92-e810-081ebba402c2"
      },
      "source": [
        "# 다시 한 번 확인해봅시다.\n",
        "%whos"
      ],
      "execution_count": null,
      "outputs": [
        {
          "output_type": "stream",
          "name": "stdout",
          "text": [
            "Interactive namespace is empty.\n"
          ]
        }
      ]
    },
    {
      "cell_type": "markdown",
      "metadata": {
        "id": "1JauaOeb5eb6"
      },
      "source": [
        "***모든 변수가 제거 되었군요. : )***"
      ]
    },
    {
      "cell_type": "code",
      "metadata": {
        "id": "Wz9N-6IvSrTR"
      },
      "source": [
        ""
      ],
      "execution_count": null,
      "outputs": []
    },
    {
      "cell_type": "markdown",
      "metadata": {
        "id": "hNNwC8rs2h_I"
      },
      "source": [
        "## Lotto Generator\n",
        "- **문제 54 ~ 문제 60**\n",
        "- 로또를 구매시 자동으로 하자니 찝찝하고, 그렇다고 매장에서 자동으로 하자니 '그래도 되나?' 싶은 마음도 있을 것 입니다. 파이썬 코드로 구현해볼까요?\n",
        "\n",
        "- 지금까지 배운 파이썬 문법으로도 충분합니다. (List, while 을 이용)\n"
      ]
    },
    {
      "cell_type": "markdown",
      "metadata": {
        "id": "iQyPWPbFN5rk"
      },
      "source": [
        "### 문제 54. 로또 번호 6개를 담을 빈 리스트를 'lotto_numbers'라는 변수에 선언하고, 1 ~ 45 까지의 임의로 나오는 숫자 1개를 이 리스트에 추가해볼까요?\n",
        "> HINT : import random"
      ]
    },
    {
      "cell_type": "code",
      "metadata": {
        "id": "PgDkSY9ON5FR"
      },
      "source": [
        "##### Hint #####\n",
        "lotto_numbers = []\n",
        "\n",
        "## 1) random 라이브러리를 import 합니다.\n",
        "import random\n",
        "\n",
        "## 2) 위 라인에서 import한 random 라이브러리를 이용하여, 1 ~ 45 까지 임의의 숫자 1개를 무작위로 추출합니다. \n",
        "##   아래 코드를 1번 실행할 때마다 1개의 숫자를 임의로 뽑아줍니다. \n",
        "lotto_num = \n",
        "\n",
        "## 3) 실행하여 임의로 추출된 숫자를 확인해봅니다.\n",
        "lotto_num "
      ],
      "execution_count": null,
      "outputs": []
    },
    {
      "cell_type": "code",
      "metadata": {
        "colab": {
          "base_uri": "https://localhost:8080/"
        },
        "id": "mzYke33yOM49",
        "outputId": "2a3b24d6-140f-48c5-aac7-20845f8c120b"
      },
      "source": [
        "## (정답)  \n",
        "## 다음과 같이 선언할 수 있습니다. \n",
        "lotto_numbers = list()\n",
        "\n",
        "## 1) random 라이브러리를 import 합니다.\n",
        "import random\n",
        "\n",
        "## 2) 위 라인에서 import한 random 라이브러리를 이용하여, 1 ~ 45 까지 임의의 숫자 1개를 무작위로 추출합니다. \n",
        "##   아래 코드를 1번 실행할 때마다 1개의 숫자를 임의로 뽑아줍니다. \n",
        "lotto_num = random.randint(1, 45) \n",
        "\n",
        "## 3) 실행하여 임의로 추출된 숫자를 확인해봅니다.\n",
        "lotto_num "
      ],
      "execution_count": null,
      "outputs": [
        {
          "output_type": "execute_result",
          "data": {
            "text/plain": [
              "43"
            ]
          },
          "metadata": {},
          "execution_count": 105
        }
      ]
    },
    {
      "cell_type": "code",
      "metadata": {
        "colab": {
          "base_uri": "https://localhost:8080/"
        },
        "id": "NgfEiolgfPuN",
        "outputId": "383e8bfa-b7d9-46e2-eeff-90a8abda805e"
      },
      "source": [
        "## 4) 다음 코드로, lotto_numbers 라는 리스트에 lotto_num을 추가합니다. \n",
        "lotto_numbers.append(lotto_num)\n",
        "lotto_numbers  ## lotto_num 1개의 숫자가 리스트에 잘 추가되었는지 확인해봅니다. "
      ],
      "execution_count": null,
      "outputs": [
        {
          "output_type": "execute_result",
          "data": {
            "text/plain": [
              "[43]"
            ]
          },
          "metadata": {},
          "execution_count": 106
        }
      ]
    },
    {
      "cell_type": "markdown",
      "metadata": {
        "id": "jX1VKUU7Q7W0"
      },
      "source": [
        "### 문제 55. if 조건문으로 lotto_numbers에 lotto_num을 중복없이 추가하는 코드를 작성해봅시다. \n",
        "\n",
        "- 문제 02에서 임의로 숫자를 추출하다보면, 숫자가 중복되어 추출될 수 있습니다. 로또에는 숫자가 중복될 수 없기 때문입니다. \n",
        "\n",
        "> HINT: not in "
      ]
    },
    {
      "cell_type": "code",
      "metadata": {
        "id": "Xk15ueweg48f"
      },
      "source": [
        "## 먼저 다음 코드를 한 번 더 실행하여 임의로 숫자 하나를 더 뽑아봅시다. \n",
        "lotto_num = random.randint(1, 45) \n",
        "\n",
        "\n",
        "\n"
      ],
      "execution_count": null,
      "outputs": []
    },
    {
      "cell_type": "code",
      "metadata": {
        "id": "1SlFflXDTN12",
        "colab": {
          "base_uri": "https://localhost:8080/"
        },
        "outputId": "db1cca40-4976-4adf-d167-b6a39dfaca70"
      },
      "source": [
        "## (정답)\n",
        "## 1) 먼저 다음 코드를 한 번 더 실행하여 임의로 숫자 하나를 더 뽑아봅시다. \n",
        "# lotto_num = random.randint(1, 45) \n",
        "\n",
        "## 2) 다음 코드로 중복없이 추가할 수 있습니다. \n",
        "\n",
        "if lotto_num not in lotto_numbers:\n",
        "    lotto_numbers.append(lotto_num)\n",
        "\n",
        "lotto_numbers"
      ],
      "execution_count": null,
      "outputs": [
        {
          "output_type": "execute_result",
          "data": {
            "text/plain": [
              "[43]"
            ]
          },
          "metadata": {},
          "execution_count": 107
        }
      ]
    },
    {
      "cell_type": "code",
      "metadata": {
        "id": "jh96VQcoSDFR"
      },
      "source": [
        "## (해설 -미실행) ##\n",
        "\n",
        "## 한 번 더 실행하여 임의로 숫자 하나를 더 뽑아봅시다. \n",
        "lotto_num = random.randint(1, 45) \n",
        "\n",
        "## 1) if 조건문으로, lotto_numbers 리스트에 lotto_num 이 있지 않다면\n",
        "if lotto_num not in lotto_numbers:\n",
        "\n",
        "    ## 2) 위 1번의 if문이 True일 경우, 즉, lotto_numbers 리스트에 lotto_num이 없을 때에만, \n",
        "    ##   lotto_numbers 리스트에 lotto_num을 추가합니다. \n",
        "    ##   (lotto_numbers 리스트에 lotto_num가 있다면, 추가하지 않습니다.)\n",
        "    lotto_numbers.append(lotto_num)"
      ],
      "execution_count": null,
      "outputs": []
    },
    {
      "cell_type": "markdown",
      "metadata": {
        "id": "pxGk4IEaW4sZ"
      },
      "source": [
        "### 문제 56. 우리가 지금까지 몇 개의 숫자를 뽑았는지 알아볼까요?\n",
        " - wlrma까지 2개의 숫자를 뽑았는데, (우리의 머리가 아닌) 몇 개를 뽑았는 지 알 수 있는 코드를 작성해볼까요? \n",
        "\n",
        "> HINT : len()"
      ]
    },
    {
      "cell_type": "code",
      "metadata": {
        "id": "1l_asXLYW4Qe"
      },
      "source": [
        "## 코드를 작성해보세요.\n",
        "\n",
        "\n"
      ],
      "execution_count": null,
      "outputs": []
    },
    {
      "cell_type": "code",
      "metadata": {
        "id": "T_PLBg52XtWH",
        "colab": {
          "base_uri": "https://localhost:8080/"
        },
        "outputId": "2e51e85e-0b95-4599-9372-b1f4facf76fc"
      },
      "source": [
        "## (해설 - 미실행) ##\n",
        "len(lotto_numbers)\n",
        "## lotto_numbers는 리스트입니다. 파이썬의 리스트에 있는 원소들의 개수는 len(리스트명) 함수를 통해 알 수 있습니다. \n",
        "## 데이터 분석이나, 머신러닝 등에서 자주 많이 쓰이는 기능들 중 하나입니다. "
      ],
      "execution_count": null,
      "outputs": [
        {
          "output_type": "execute_result",
          "data": {
            "text/plain": [
              "2"
            ]
          },
          "metadata": {},
          "execution_count": 109
        }
      ]
    },
    {
      "cell_type": "markdown",
      "metadata": {
        "id": "a0bmlmpFUMt_"
      },
      "source": [
        "### 문제 57. 숫자(로또 번호) 6개를 뽑아보는 코드를 작성해봅시다. (while 문을 이용)\n",
        "\n",
        "> HINT : while len(  )<= :\n"
      ]
    },
    {
      "cell_type": "code",
      "metadata": {
        "id": "HlsFDHwViJUL"
      },
      "source": [
        "## 코드를 작성하세요\n",
        "\n",
        "\n",
        "\n",
        "\n"
      ],
      "execution_count": null,
      "outputs": []
    },
    {
      "cell_type": "code",
      "metadata": {
        "colab": {
          "base_uri": "https://localhost:8080/"
        },
        "id": "-pDy9N7kUKs-",
        "outputId": "ead64a55-ef77-43e8-887f-d6cb9cb37f41"
      },
      "source": [
        "## (정답) 다음 코드로 로또 번호 6개를 뽑아볼 수 있습니다. \n",
        "\n",
        "while len(lotto_numbers) <= 5:\n",
        "    lotto_num = random.randint(1, 45)\n",
        "\n",
        "    if lotto_num not in lotto_numbers:\n",
        "        lotto_numbers.append(lotto_num)\n",
        "\n",
        "lotto_numbers"
      ],
      "execution_count": null,
      "outputs": [
        {
          "output_type": "execute_result",
          "data": {
            "text/plain": [
              "[43, 22, 41, 4, 7, 24]"
            ]
          },
          "metadata": {},
          "execution_count": 110
        }
      ]
    },
    {
      "cell_type": "code",
      "metadata": {
        "id": "GxoBXeflUKqM",
        "colab": {
          "base_uri": "https://localhost:8080/"
        },
        "outputId": "cd005935-e5fb-414e-b642-18e4642dfdf9"
      },
      "source": [
        "## (해설 - 미실행) ##\n",
        "\n",
        "while len(lotto_numbers) <= 5:\n",
        "## 1) while 문\n",
        "##  : 'while (조건)'의 형태로 이루어져있는데, 조건 부분을 만족하는 동안(즉, 조건을 만족하지 않을 때까지) \n",
        "##     while 아래 코드(로또 번호 임의 추출 및 lotto_numbers에 추가)를 반복합니다. \n",
        "\n",
        "## 2) len(lotto_numbers) < = 5 \n",
        "##  : while문의 '조건'입니다. 이 조건문을 보면, len(lotto_numbers)가 0, 1, 3, 4, 5를 만족하는 동안, \n",
        "##    while 문 아래 코드(로또 번호 임의 추출 및 lotto_numbers에 추가)를 반복하게 됩니다. \n",
        "##    len(lotto_numbers)= 5일 때에도 반복을 하게 되면 최종적으로 len(lotto_numbers)가 6이 됩니다. \n",
        "##    즉, 우리가 필요한 로또 번호의 개수가 6개가 되고 멈추게 됩니다.\n",
        "\n",
        "    ## 3) 1~ 45까지의 숫자 1개를 뽑아서 lotto_num 에 할당합니다. \n",
        "    lotto_num = random.randint(1, 45)\n",
        "\n",
        "    ## 4) lotto_num를 숫자의 중복없이 lotto_numbers 리스트에 추가합니다. \n",
        "    if lotto_num not in lotto_numbers:\n",
        "        lotto_numbers.append(lotto_num)\n",
        "\n",
        "\n",
        "    ## while의 조건문을 만족하는 동안, 3)과 4)을 반복합니다. \n",
        "\n",
        "## 6개의 로또 번호를 확인해봅니다. \n",
        "lotto_numbers"
      ],
      "execution_count": null,
      "outputs": [
        {
          "output_type": "execute_result",
          "data": {
            "text/plain": [
              "[43, 22, 41, 4, 7, 24]"
            ]
          },
          "metadata": {},
          "execution_count": 111
        }
      ]
    },
    {
      "cell_type": "markdown",
      "metadata": {
        "id": "W-OppkL2aR3b"
      },
      "source": [
        "### 문제 58.  이번에는 for문을 이용하여, 숫자(로또 번호) 6개를 뽑아보는 코드를 작성해봅시다.\n",
        "\n",
        ">  HINT : for문, range(6)"
      ]
    },
    {
      "cell_type": "code",
      "metadata": {
        "id": "D966w0DeaRgj"
      },
      "source": [
        "## 코드를 작성해보세요.\n",
        "\n",
        "## 1) for문을 이용해 새롭게 뽑을 숫자 6개를 담을 리스트입니다. \n",
        "lotto_numbers_for = []\n",
        "\n",
        "## 2) 아래 코드를 이용해보세요.\n",
        "lotto_num = random.randint(1, 45) # 임의로 숫자 1개를 뽑는 코드입니다.\n",
        "\n",
        "\n",
        "\n",
        "\n",
        "## 3) lotto_num를 숫자의 중복없이 lotto_numbers_for 리스트에 추가합니다. \n",
        "if lotto_num not in lotto_numbers:\n",
        "    lotto_numbers_for.append(lotto_num)\n",
        "\n",
        "\n",
        "\n",
        "\n"
      ],
      "execution_count": null,
      "outputs": []
    },
    {
      "cell_type": "code",
      "metadata": {
        "colab": {
          "base_uri": "https://localhost:8080/"
        },
        "id": "XmvQ2-6HbHLK",
        "outputId": "6ea7ada7-1569-4061-e99b-c8eabd141406"
      },
      "source": [
        "## (정답) 다음 코드로 로또 번호 6개를 뽑을 수 있습니다. \n",
        "\n",
        "lotto_numbers_for = []\n",
        "\n",
        "for count in range(6):\n",
        "\n",
        "    lotto_num = random.randint(1, 45)\n",
        "    if lotto_num not in lotto_numbers:\n",
        "        lotto_numbers_for.append(lotto_num)\n",
        "\n",
        "lotto_numbers_for"
      ],
      "execution_count": null,
      "outputs": [
        {
          "output_type": "execute_result",
          "data": {
            "text/plain": [
              "[35, 16, 11, 2, 3, 17]"
            ]
          },
          "metadata": {},
          "execution_count": 112
        }
      ]
    },
    {
      "cell_type": "code",
      "metadata": {
        "id": "Q9XA15ALbiTb",
        "colab": {
          "base_uri": "https://localhost:8080/"
        },
        "outputId": "bd8a64bb-b8eb-4325-a573-7f0f101f7ee2"
      },
      "source": [
        "## (해설 - 미실행) ##\n",
        "\n",
        "## 1) for문을 이용해 새롭게 뽑을 숫자 6개를 담을 리스트입니다.\n",
        "lotto_numbers_for = []\n",
        "\n",
        "## 2) for문\n",
        "##  - range(6) : range(6)는 0 ~ 5까지를 의미합니다. \n",
        "##               count = 0, 1, 2, 3, 4, 5 일 때, for문 이하 코드(로또 번호 임의 추출 및 lotto_numbers에 추가)를 실행합니다.\n",
        "##  - for문은 지금처럼 단순히 횟수를 반복할 때에도 많이 사용됩니다. \n",
        "for count in range(6):\n",
        "\n",
        "    ## 3) 임의로 숫자 1개를 뽑는 코드입니다.\n",
        "    lotto_num = random.randint(1, 45)\n",
        "    \n",
        "    ## 4) lotto_num를 숫자의 중복없이 lotto_numbers_for 리스트에 추가합니다. \n",
        "    if lotto_num not in lotto_numbers:\n",
        "        lotto_numbers_for.append(lotto_num)\n",
        "\n",
        "## 6개의 로또 번호를 확인해봅니다. \n",
        "lotto_numbers_for"
      ],
      "execution_count": null,
      "outputs": [
        {
          "output_type": "execute_result",
          "data": {
            "text/plain": [
              "[37, 33, 3, 30, 27, 11]"
            ]
          },
          "metadata": {},
          "execution_count": 113
        }
      ]
    },
    {
      "cell_type": "markdown",
      "metadata": {
        "id": "1GAR9T9Qc8w3"
      },
      "source": [
        "### 문제 59. 이번에는 lotto_generator() 라는 함수로 만들어볼까요?\n",
        "- 매번 3~4줄의 코드를 작성하는 것보다, 함수로 구현해놓고, 원할 때마다 함수를 실행해서 로또 번호 6개가 나오게끔 하면 훨씬 편하지 않을까요?\n"
      ]
    },
    {
      "cell_type": "code",
      "metadata": {
        "id": "iYbvxSYmcgCB"
      },
      "source": [
        "## 코드를 작성해보세요 \n",
        "\n",
        "## 1) 함수 선언\n",
        "def lotto_generator():\n",
        "    ## 위 문제 5번 혹은 7번에서 작성한 코드를 이용하셔도 됩니다. \n",
        "\n",
        "\n",
        "\n",
        "\n",
        "\n",
        "    return\n",
        "\n"
      ],
      "execution_count": null,
      "outputs": []
    },
    {
      "cell_type": "code",
      "metadata": {
        "colab": {
          "base_uri": "https://localhost:8080/"
        },
        "id": "IUcN4cAtev-S",
        "outputId": "8393c903-cfff-4348-c7a4-85c28abc0393"
      },
      "source": [
        "## 정답은 01, 02 둘 중 하나의 형태면 됩니다. \n",
        "\n",
        "\n",
        "## (정답01) 다음 코드로 lotto_generator 함수를 구현할 수 있습니다. \n",
        "\n",
        "## 1) 함수 선언\n",
        "def lotto_generator():\n",
        "\n",
        "    ## 2) 문제 5번 이용\n",
        "    lotto_numbers_for = []\n",
        "\n",
        "    while len(lotto_numbers) <= 5:\n",
        "        lotto_num = random.randint(1, 45)\n",
        "        \n",
        "        if lotto_num not in lotto_numbers:\n",
        "            lotto_numbers.append(lotto_num)\n",
        "\n",
        "    ## 3) 오름차순으로 정렬합니다. \n",
        "    lotto_numbers.sort()\n",
        "\n",
        "    ## 4) 6개의 로또번호 반환!\n",
        "    return lotto_numbers\n",
        "\n",
        "## 5) 함수 실행!\n",
        "lotto_generator()"
      ],
      "execution_count": null,
      "outputs": [
        {
          "output_type": "execute_result",
          "data": {
            "text/plain": [
              "[4, 7, 22, 24, 41, 43]"
            ]
          },
          "metadata": {},
          "execution_count": 114
        }
      ]
    },
    {
      "cell_type": "code",
      "metadata": {
        "colab": {
          "base_uri": "https://localhost:8080/"
        },
        "id": "ID1VylsEcf_4",
        "outputId": "7f2e13f8-b529-4d80-b577-da0377b0064d"
      },
      "source": [
        "## (정답02) 다음 코드로 lotto_generator 함수를 구현할 수 있습니다. \n",
        "\n",
        "## 1) 함수 선언\n",
        "def lotto_generator():\n",
        "\n",
        "    ## 2) 문제 7번 이용\n",
        "    lotto_numbers_for = []\n",
        "\n",
        "    for count in range(6):\n",
        "        lotto_num = random.randint(1, 45)\n",
        "        if lotto_num not in lotto_numbers:\n",
        "            lotto_numbers_for.append(lotto_num)\n",
        "\n",
        "    ## 3) 오름차순으로 정렬합니다. \n",
        "    lotto_numbers_for.sort()\n",
        "    \n",
        "    ## 4) 6개의 로또번호 반환!\n",
        "    return lotto_numbers_for\n",
        "\n",
        "## 5) 함수 실행!\n",
        "lotto_generator()"
      ],
      "execution_count": null,
      "outputs": [
        {
          "output_type": "execute_result",
          "data": {
            "text/plain": [
              "[10, 12, 17, 20, 33]"
            ]
          },
          "metadata": {},
          "execution_count": 115
        }
      ]
    },
    {
      "cell_type": "markdown",
      "metadata": {
        "id": "CarZ5HRpiQq4"
      },
      "source": [
        "### 문제 60. [심화학습] Decorator 함수를 이용하여, 비밀번호를 입력하여 이용할 수 있도록 해봅시다.\n",
        "- 비밀번호는 'python38' 로 설정합니다.\n",
        "\n",
        "> HINT : 이전 문제에서 작성한 코드를 이용하여 작성하셔도 됩니다."
      ]
    },
    {
      "cell_type": "code",
      "metadata": {
        "id": "GvjaQfojjXDE"
      },
      "source": [
        "## 코드를 작성해보세요 \n",
        "\n",
        "\n",
        "\n",
        "\n",
        "\n"
      ],
      "execution_count": null,
      "outputs": []
    },
    {
      "cell_type": "code",
      "metadata": {
        "id": "QQ6Evdv4iP8I"
      },
      "source": [
        "## (정답) 데코레이터 함수를 이용해서, lotto_genrator가 비밀번호를 입력하여 실행가능하도록 합니다.\n",
        "\n",
        "## 1) 데코레이터 함수 작성\n",
        "def do_you_know_password(func):\n",
        "    def wrapper(*args, **kwargs):\n",
        "        # 비밀번호 입력\n",
        "        right_password = 'python38'\n",
        "        passwords = input(\"비밀번호를 입력하세요: \")\n",
        "        if passwords == right_password:\n",
        "            result = func(*args, **kwargs)\n",
        "        else:\n",
        "            result = '입력하신 비밀번호는 올바른 비밀번호가 아닙니다.'\n",
        "        return result\n",
        "    return wrapper\n",
        "\n",
        "## 2) 어노테이션으로 데코레이터 함수 추가\n",
        "@do_you_know_password\n",
        "def lotto_generator():\n",
        "    lotto_numbers_for = []\n",
        "    for count in range(6):\n",
        "        lotto_num = random.randint(1, 45)\n",
        "        if lotto_num not in lotto_numbers:\n",
        "            lotto_numbers_for.append(lotto_num)\n",
        "\n",
        "    lotto_numbers_for.sort()\n",
        "    return lotto_numbers_for"
      ],
      "execution_count": null,
      "outputs": []
    },
    {
      "cell_type": "code",
      "metadata": {
        "colab": {
          "base_uri": "https://localhost:8080/"
        },
        "id": "5yH9VXYEkHT3",
        "outputId": "cba8baed-1073-424c-8148-b02911547878"
      },
      "source": [
        "## 3) 비밀 번호가 바르게 입력한 경우\n",
        "lotto_generator()"
      ],
      "execution_count": null,
      "outputs": [
        {
          "name": "stdout",
          "output_type": "stream",
          "text": [
            "비밀번호를 입력하세요: python38\n"
          ]
        },
        {
          "output_type": "execute_result",
          "data": {
            "text/plain": [
              "[2, 5, 6, 12, 36]"
            ]
          },
          "metadata": {},
          "execution_count": 117
        }
      ]
    },
    {
      "cell_type": "code",
      "metadata": {
        "id": "P_7ZBYxpkJvR"
      },
      "source": [
        "## 4) 비밀 번호가 틀리게 입력한 경우\n",
        "lotto_generator()"
      ],
      "execution_count": null,
      "outputs": []
    },
    {
      "cell_type": "code",
      "metadata": {
        "id": "5YL6R_-_kXxP"
      },
      "source": [
        ""
      ],
      "execution_count": null,
      "outputs": []
    },
    {
      "cell_type": "code",
      "metadata": {
        "id": "bQr1TNsUjrX7",
        "colab": {
          "base_uri": "https://localhost:8080/"
        },
        "outputId": "08f2860a-68e4-427b-e475-0917ce10e1cc"
      },
      "source": [
        "## (해설 - 미실행) ##\n",
        "\n",
        "## 01 데코레이터 함수 작성\n",
        "def do_you_know_password(func):\n",
        "    def wrapper(*args, **kwargs):\n",
        "        ## 1) 올바른 비밀번호 right_password\n",
        "        right_password = 'python38'\n",
        "        ## 2) 사용자가 입력하는 비밀번호 passwords\n",
        "        passwords = input(\"비밀번호를 입력하세요: \")\n",
        "        ## 3) 위 1), 2)의 비밀번호가 일치하는 경우\n",
        "        ##   func 의 자리에 들어오는 함수의 실행한 결과값을 result 변수에 저장\n",
        "        if passwords == right_password:\n",
        "            result = func(*args, **kwargs)\n",
        "        ## 4) 위 1), 2) 비밀번호가 불일치하는 경우\n",
        "        ## '입력하신 비밀번호는 올바른 비밀번호가 아닙니다.'를 result 변수에 저장\n",
        "        else:\n",
        "            result = '입력하신 비밀번호는 올바른 비밀번호가 아닙니다.'\n",
        "        ## 5) 결과값을 반환 \n",
        "        return result\n",
        "    return wrapper\n",
        "\n",
        "\n",
        "## 02 lotto_generator 함수 선언\n",
        "@do_you_know_password\n",
        "def lotto_generator():\n",
        "\n",
        "    ## 1) 문제 7번 이용\n",
        "    lotto_numbers_for = []\n",
        "    for count in range(6):\n",
        "        lotto_num = random.randint(1, 45)\n",
        "        if lotto_num not in lotto_numbers:\n",
        "            lotto_numbers_for.append(lotto_num)\n",
        "\n",
        "    ## 2) 오름차순으로 정렬합니다. \n",
        "    lotto_numbers_for.sort()\n",
        "    \n",
        "    ## 3) 6개의 로또번호 반환!\n",
        "    return lotto_numbers_for\n",
        "\n",
        "## 03 함수 실행!\n",
        "lotto_generator()"
      ],
      "execution_count": null,
      "outputs": [
        {
          "name": "stdout",
          "output_type": "stream",
          "text": [
            "비밀번호를 입력하세요: python38\n"
          ]
        },
        {
          "output_type": "execute_result",
          "data": {
            "text/plain": [
              "[17, 18, 32, 45]"
            ]
          },
          "metadata": {},
          "execution_count": 118
        }
      ]
    },
    {
      "cell_type": "code",
      "metadata": {
        "colab": {
          "base_uri": "https://localhost:8080/"
        },
        "id": "hBPVNyjQpJ--",
        "outputId": "86a64c5f-fd5a-4477-f686-91b4e57589c7"
      },
      "source": [
        "from google.colab import drive\n",
        "drive.mount('/content/drive')"
      ],
      "execution_count": null,
      "outputs": [
        {
          "output_type": "stream",
          "name": "stdout",
          "text": [
            "Mounted at /content/drive\n"
          ]
        }
      ]
    },
    {
      "cell_type": "code",
      "metadata": {
        "id": "6ap4iRCrpTxM"
      },
      "source": [
        "## 현재 경로\n",
        "base_path = '/content/drive/MyDrive/Colab Notebooks/data/'"
      ],
      "execution_count": null,
      "outputs": []
    },
    {
      "cell_type": "markdown",
      "metadata": {
        "id": "WgspUu_yotc4"
      },
      "source": [
        "### 문제 61. 이번에는 way.txt 의 첫 줄만을 출력해볼까요?\n",
        "\n",
        "> HINT:  open(path,  'r') as f"
      ]
    },
    {
      "cell_type": "code",
      "metadata": {
        "id": "0WQmu8Doom7g"
      },
      "source": [
        "## 코드를 작성해보세요\n",
        "\n",
        "\n",
        "\n",
        "\n",
        "\n",
        "\n",
        "\n"
      ],
      "execution_count": null,
      "outputs": []
    },
    {
      "cell_type": "code",
      "metadata": {
        "colab": {
          "base_uri": "https://localhost:8080/",
          "height": 35
        },
        "id": "-nqQX-Iqom5E",
        "outputId": "e61d21b5-f349-4334-8273-07d766fbd181"
      },
      "source": [
        "## (정답)\n",
        "\n",
        "## f.readline()를 통해 test.txt를 read mode로 열어봅니다.\n",
        "with open(base_path+\"way.txt\", 'r') as f:\n",
        "    data=f.readline() # txt 파일의 첫번째 줄만 가져옵니다. \n",
        "data"
      ],
      "execution_count": null,
      "outputs": [
        {
          "output_type": "execute_result",
          "data": {
            "application/vnd.google.colaboratory.intrinsic+json": {
              "type": "string"
            },
            "text/plain": [
              "'멈춘 시간 속 잠든 너를 찾아가\\n'"
            ]
          },
          "metadata": {},
          "execution_count": 124
        }
      ]
    },
    {
      "cell_type": "markdown",
      "metadata": {
        "id": "WobxasvCq6x6"
      },
      "source": [
        "### 문제 62. 이번에는 way.txt 의 모든 줄을 출력해볼까요?\n",
        "\n",
        "- 첫 줄만 뽑아보니, 무언가 감미로운 시같은 문장이 나오는 군요. \n",
        "- 모든 줄을 출력해보려고 합니다. 출력해볼까요?\n",
        "\n",
        "> HINT:  f.readlines()"
      ]
    },
    {
      "cell_type": "code",
      "metadata": {
        "id": "TqR-kD_uom2O"
      },
      "source": [
        "## 코드를 작성해보세요\n",
        "\n",
        "\n",
        "\n",
        "\n",
        "\n",
        "\n",
        "\n"
      ],
      "execution_count": null,
      "outputs": []
    },
    {
      "cell_type": "code",
      "metadata": {
        "colab": {
          "base_uri": "https://localhost:8080/"
        },
        "id": "1C2g5RZWomz4",
        "outputId": "6f10efe6-ad01-4ab1-fb59-089661cbe66d"
      },
      "source": [
        "## (정답)\n",
        "## f.readlines()를 통해 test.txt를 read mode로 열어봅니다.\n",
        "with open(base_path+ \"way.txt\", 'r') as f:\n",
        "    data= f.readlines() # 각 줄의 문자 데이터를 하나의 문자 데이터로 인식하여 가져옵니다.\n",
        "data"
      ],
      "execution_count": null,
      "outputs": [
        {
          "output_type": "execute_result",
          "data": {
            "text/plain": [
              "['멈춘 시간 속 잠든 너를 찾아가\\n',\n",
              " '아무리 막아도 결국 너의 곁인 걸\\n',\n",
              " '길고 긴 여행을 끝내 이젠 돌아가\\n',\n",
              " '너라는 집으로 지금 다시 way back home\\n',\n",
              " '아무리 힘껏 닫아도 다시 열린 서랍 같아\\n',\n",
              " '하늘로 높이 날린 넌 자꾸 내게 되돌아와\\n',\n",
              " '힘들게 삼킨 이별도 다 그대로인 걸 oh, oh, oh\\n',\n",
              " '수없이 떠난 길 위에서 난 너를 발견하고\\n',\n",
              " '비우려 했던 맘은 또 이렇게 너로 차올라\\n',\n",
              " '발걸음의 끝에 늘 니가 부딪혀\\n',\n",
              " '그만 그만\\n',\n",
              " '멈춘 시간 속 잠든 너를 찾아가\\n',\n",
              " '아무리 막아도 결국 너의 곁인 걸\\n',\n",
              " '길고 긴 여행을 끝내 이젠 돌아가\\n',\n",
              " '너라는 집으로 지금 다시 way back home\\n',\n",
              " '조용히 잠든 방을 열어 기억을 꺼내 들어\\n',\n",
              " '부서진 시간 위에서 선명히 너는 떠올라\\n',\n",
              " '길 잃은 맘 속에 널 가둔 채 살아\\n',\n",
              " '그만 그만\\n',\n",
              " '멈춘 시간 속 잠든 너를 찾아가\\n',\n",
              " '아무리 막아도 결국 너의 곁인 걸\\n',\n",
              " '길고 긴 여행을 끝내 이젠 돌아가\\n',\n",
              " '너라는 집으로 지금 다시 way back home\\n',\n",
              " '세상을 뒤집어 찾으려 해\\n',\n",
              " '오직 너로 완결된 이야기를\\n',\n",
              " '모든 걸 잃어도 난 너 하나면 돼\\n',\n",
              " '빛이 다 꺼진 여기 나를 안아줘\\n',\n",
              " '눈을 감으면 소리 없이 밀려와\\n',\n",
              " '이 마음 그 위로 넌 또 한 겹 쌓여가\\n',\n",
              " '내겐 그 누구도 아닌 니가 필요해\\n',\n",
              " \"돌아와 내 곁에 그날까지 I'm not done\\n\",\n",
              " '소스: Musixmatch\\n',\n",
              " '작사: Shaun / Jq / Ji Hye I\\n',\n",
              " 'Way Back Home 가사 © Prossima Music Ent. Co. Ltd., Makeumine Works']"
            ]
          },
          "metadata": {},
          "execution_count": 125
        }
      ]
    },
    {
      "cell_type": "code",
      "metadata": {
        "id": "5B2TiPKComxR"
      },
      "source": [
        ""
      ],
      "execution_count": null,
      "outputs": []
    },
    {
      "cell_type": "markdown",
      "metadata": {
        "id": "0O23IGFwr5mO"
      },
      "source": [
        "### 문제 63. for문을 이용하여 way.txt 의 모든 줄을 출력해볼까요?\n",
        "- 노래 가사군요.\n",
        "- 이번에는 f.readlines(), readline() 함수를 사용하지 않고, for 문으로 출력해볼까요?"
      ]
    },
    {
      "cell_type": "code",
      "metadata": {
        "id": "zqg0mrSTsCEa"
      },
      "source": [
        "## 코드를 작성해보세요 ##\n",
        "\n",
        "\n",
        "\n",
        "\n",
        "\n",
        "\n",
        "\n"
      ],
      "execution_count": null,
      "outputs": []
    },
    {
      "cell_type": "code",
      "metadata": {
        "colab": {
          "base_uri": "https://localhost:8080/"
        },
        "id": "0xtfNz40omu5",
        "outputId": "712b8952-b56b-470d-f243-bc52808e0f30"
      },
      "source": [
        "# for문을 통해 data 폴더안에 있는 test.txt를 read mode로 열어서 출력해봅니다.\n",
        "with open(base_path+\"way.txt\", 'r') as f:\n",
        "    for line in f:\n",
        "        print(line)"
      ],
      "execution_count": null,
      "outputs": [
        {
          "output_type": "stream",
          "name": "stdout",
          "text": [
            "멈춘 시간 속 잠든 너를 찾아가\n",
            "\n",
            "아무리 막아도 결국 너의 곁인 걸\n",
            "\n",
            "길고 긴 여행을 끝내 이젠 돌아가\n",
            "\n",
            "너라는 집으로 지금 다시 way back home\n",
            "\n",
            "아무리 힘껏 닫아도 다시 열린 서랍 같아\n",
            "\n",
            "하늘로 높이 날린 넌 자꾸 내게 되돌아와\n",
            "\n",
            "힘들게 삼킨 이별도 다 그대로인 걸 oh, oh, oh\n",
            "\n",
            "수없이 떠난 길 위에서 난 너를 발견하고\n",
            "\n",
            "비우려 했던 맘은 또 이렇게 너로 차올라\n",
            "\n",
            "발걸음의 끝에 늘 니가 부딪혀\n",
            "\n",
            "그만 그만\n",
            "\n",
            "멈춘 시간 속 잠든 너를 찾아가\n",
            "\n",
            "아무리 막아도 결국 너의 곁인 걸\n",
            "\n",
            "길고 긴 여행을 끝내 이젠 돌아가\n",
            "\n",
            "너라는 집으로 지금 다시 way back home\n",
            "\n",
            "조용히 잠든 방을 열어 기억을 꺼내 들어\n",
            "\n",
            "부서진 시간 위에서 선명히 너는 떠올라\n",
            "\n",
            "길 잃은 맘 속에 널 가둔 채 살아\n",
            "\n",
            "그만 그만\n",
            "\n",
            "멈춘 시간 속 잠든 너를 찾아가\n",
            "\n",
            "아무리 막아도 결국 너의 곁인 걸\n",
            "\n",
            "길고 긴 여행을 끝내 이젠 돌아가\n",
            "\n",
            "너라는 집으로 지금 다시 way back home\n",
            "\n",
            "세상을 뒤집어 찾으려 해\n",
            "\n",
            "오직 너로 완결된 이야기를\n",
            "\n",
            "모든 걸 잃어도 난 너 하나면 돼\n",
            "\n",
            "빛이 다 꺼진 여기 나를 안아줘\n",
            "\n",
            "눈을 감으면 소리 없이 밀려와\n",
            "\n",
            "이 마음 그 위로 넌 또 한 겹 쌓여가\n",
            "\n",
            "내겐 그 누구도 아닌 니가 필요해\n",
            "\n",
            "돌아와 내 곁에 그날까지 I'm not done\n",
            "\n",
            "소스: Musixmatch\n",
            "\n",
            "작사: Shaun / Jq / Ji Hye I\n",
            "\n",
            "Way Back Home 가사 © Prossima Music Ent. Co. Ltd., Makeumine Works\n"
          ]
        }
      ]
    },
    {
      "cell_type": "code",
      "metadata": {
        "id": "6x0rt-EaomsV"
      },
      "source": [
        ""
      ],
      "execution_count": null,
      "outputs": []
    },
    {
      "cell_type": "markdown",
      "metadata": {
        "id": "LjaoWSTTsKHg"
      },
      "source": [
        "### 문제 64. way.txt를 열어서 '그만 그만' 은 부분을 모두 다 지우고 싶습니다. 어떻게 해야할까요?\n",
        " - 다 좋은데, '그만 그만'은 왠지 마음에 들지 않아 지우고 싶어졌습니다.\n",
        " - 또한, 밑에 소스, 작사 부분도 지우고 싶어졌습니다. \n",
        " - 위 두 가지 사항을 지운 노래가사를 result.txt 파일에 작성하여 저장하도록 해보세요.\n",
        " - 이를 반영하는 코드를 작성해보세요."
      ]
    },
    {
      "cell_type": "code",
      "metadata": {
        "id": "11jcmuDIsVFl"
      },
      "source": [
        "## 코드를 작성해보세요 \n",
        "\n",
        "\n",
        "\n",
        "\n",
        "\n",
        "\n",
        "\n"
      ],
      "execution_count": null,
      "outputs": []
    },
    {
      "cell_type": "code",
      "metadata": {
        "colab": {
          "base_uri": "https://localhost:8080/"
        },
        "id": "udGu9OV1vuit",
        "outputId": "85355294-ba73-49ae-8be7-8cbd6f0dfdeb"
      },
      "source": [
        "## 정답 및 해설\n",
        "\n",
        "# 1) '그만 그만'이 없는 글자를 담을 리스트를 만듭니다.\n",
        "output = []\n",
        "\n",
        "# 2) test.txt를 read mode로 열고 할 일이 끝나면 자동으로 닫습니다.\n",
        "with open(base_path + \"way.txt\", 'r') as f:\n",
        "    for line in f: # 3) 줄 별로 읽되,\n",
        "        line = line.strip() # 4) 양 옆의 공백을 제거합니다. \n",
        "        if line != '그만 그만' and line[:2] != '소스' and line[:2] != '작사':\n",
        "            output.append(line)\n",
        "# 5) 한글자 이상인 텍스트만 output list에 저장합니다.\n",
        "output"
      ],
      "execution_count": null,
      "outputs": [
        {
          "output_type": "execute_result",
          "data": {
            "text/plain": [
              "['멈춘 시간 속 잠든 너를 찾아가',\n",
              " '아무리 막아도 결국 너의 곁인 걸',\n",
              " '길고 긴 여행을 끝내 이젠 돌아가',\n",
              " '너라는 집으로 지금 다시 way back home',\n",
              " '아무리 힘껏 닫아도 다시 열린 서랍 같아',\n",
              " '하늘로 높이 날린 넌 자꾸 내게 되돌아와',\n",
              " '힘들게 삼킨 이별도 다 그대로인 걸 oh, oh, oh',\n",
              " '수없이 떠난 길 위에서 난 너를 발견하고',\n",
              " '비우려 했던 맘은 또 이렇게 너로 차올라',\n",
              " '발걸음의 끝에 늘 니가 부딪혀',\n",
              " '멈춘 시간 속 잠든 너를 찾아가',\n",
              " '아무리 막아도 결국 너의 곁인 걸',\n",
              " '길고 긴 여행을 끝내 이젠 돌아가',\n",
              " '너라는 집으로 지금 다시 way back home',\n",
              " '조용히 잠든 방을 열어 기억을 꺼내 들어',\n",
              " '부서진 시간 위에서 선명히 너는 떠올라',\n",
              " '길 잃은 맘 속에 널 가둔 채 살아',\n",
              " '멈춘 시간 속 잠든 너를 찾아가',\n",
              " '아무리 막아도 결국 너의 곁인 걸',\n",
              " '길고 긴 여행을 끝내 이젠 돌아가',\n",
              " '너라는 집으로 지금 다시 way back home',\n",
              " '세상을 뒤집어 찾으려 해',\n",
              " '오직 너로 완결된 이야기를',\n",
              " '모든 걸 잃어도 난 너 하나면 돼',\n",
              " '빛이 다 꺼진 여기 나를 안아줘',\n",
              " '눈을 감으면 소리 없이 밀려와',\n",
              " '이 마음 그 위로 넌 또 한 겹 쌓여가',\n",
              " '내겐 그 누구도 아닌 니가 필요해',\n",
              " \"돌아와 내 곁에 그날까지 I'm not done\",\n",
              " 'Way Back Home 가사 © Prossima Music Ent. Co. Ltd., Makeumine Works']"
            ]
          },
          "metadata": {},
          "execution_count": 127
        }
      ]
    },
    {
      "cell_type": "code",
      "metadata": {
        "id": "EJedjSQcqAdn"
      },
      "source": [
        "# 6) result.txt로 output list에 있는 내용을 저장하기 위해 write mode로 열었습니다.\n",
        "with open(base_path + \"result.txt\", 'w') as f:\n",
        "    for line in output:\n",
        "        print(line, file=f)"
      ],
      "execution_count": null,
      "outputs": []
    },
    {
      "cell_type": "code",
      "metadata": {
        "colab": {
          "base_uri": "https://localhost:8080/"
        },
        "id": "_XMWgpQYqAXX",
        "outputId": "c0d7b281-1747-46de-db21-d525841be6c3"
      },
      "source": [
        "# 7) 제대로 데이터가 저장되어 있는지, 불러와서 확인한다.\n",
        "with open(base_path + \"result.txt\", \"r\") as f:\n",
        "    for line in f:\n",
        "        print(line)"
      ],
      "execution_count": null,
      "outputs": [
        {
          "output_type": "stream",
          "name": "stdout",
          "text": [
            "멈춘 시간 속 잠든 너를 찾아가\n",
            "\n",
            "아무리 막아도 결국 너의 곁인 걸\n",
            "\n",
            "길고 긴 여행을 끝내 이젠 돌아가\n",
            "\n",
            "너라는 집으로 지금 다시 way back home\n",
            "\n",
            "아무리 힘껏 닫아도 다시 열린 서랍 같아\n",
            "\n",
            "하늘로 높이 날린 넌 자꾸 내게 되돌아와\n",
            "\n",
            "힘들게 삼킨 이별도 다 그대로인 걸 oh, oh, oh\n",
            "\n",
            "수없이 떠난 길 위에서 난 너를 발견하고\n",
            "\n",
            "비우려 했던 맘은 또 이렇게 너로 차올라\n",
            "\n",
            "발걸음의 끝에 늘 니가 부딪혀\n",
            "\n",
            "멈춘 시간 속 잠든 너를 찾아가\n",
            "\n",
            "아무리 막아도 결국 너의 곁인 걸\n",
            "\n",
            "길고 긴 여행을 끝내 이젠 돌아가\n",
            "\n",
            "너라는 집으로 지금 다시 way back home\n",
            "\n",
            "조용히 잠든 방을 열어 기억을 꺼내 들어\n",
            "\n",
            "부서진 시간 위에서 선명히 너는 떠올라\n",
            "\n",
            "길 잃은 맘 속에 널 가둔 채 살아\n",
            "\n",
            "멈춘 시간 속 잠든 너를 찾아가\n",
            "\n",
            "아무리 막아도 결국 너의 곁인 걸\n",
            "\n",
            "길고 긴 여행을 끝내 이젠 돌아가\n",
            "\n",
            "너라는 집으로 지금 다시 way back home\n",
            "\n",
            "세상을 뒤집어 찾으려 해\n",
            "\n",
            "오직 너로 완결된 이야기를\n",
            "\n",
            "모든 걸 잃어도 난 너 하나면 돼\n",
            "\n",
            "빛이 다 꺼진 여기 나를 안아줘\n",
            "\n",
            "눈을 감으면 소리 없이 밀려와\n",
            "\n",
            "이 마음 그 위로 넌 또 한 겹 쌓여가\n",
            "\n",
            "내겐 그 누구도 아닌 니가 필요해\n",
            "\n",
            "돌아와 내 곁에 그날까지 I'm not done\n",
            "\n",
            "Way Back Home 가사 © Prossima Music Ent. Co. Ltd., Makeumine Works\n",
            "\n"
          ]
        }
      ]
    },
    {
      "cell_type": "code",
      "metadata": {
        "id": "6rWsHytBp-ob"
      },
      "source": [
        ""
      ],
      "execution_count": null,
      "outputs": []
    }
  ]
}
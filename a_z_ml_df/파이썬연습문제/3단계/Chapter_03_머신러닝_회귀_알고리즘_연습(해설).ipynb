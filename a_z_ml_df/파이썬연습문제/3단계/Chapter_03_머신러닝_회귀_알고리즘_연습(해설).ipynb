{
  "nbformat": 4,
  "nbformat_minor": 0,
  "metadata": {
    "kernelspec": {
      "display_name": "Python 3",
      "language": "python",
      "name": "python3"
    },
    "language_info": {
      "codemirror_mode": {
        "name": "ipython",
        "version": 3
      },
      "file_extension": ".py",
      "mimetype": "text/x-python",
      "name": "python",
      "nbconvert_exporter": "python",
      "pygments_lexer": "ipython3",
      "version": "3.6.6"
    },
    "toc": {
      "base_numbering": 1,
      "nav_menu": {},
      "number_sections": true,
      "sideBar": true,
      "skip_h1_title": false,
      "title_cell": "Table of Contents",
      "title_sidebar": "Contents",
      "toc_cell": false,
      "toc_position": {},
      "toc_section_display": true,
      "toc_window_display": false
    },
    "colab": {
      "name": "Chapter 03. 머신러닝 회귀 알고리즘 연습(해설)",
      "provenance": [],
      "collapsed_sections": []
    }
  },
  "cells": [
    {
      "cell_type": "markdown",
      "metadata": {
        "id": "Xn_bPjW10qHz"
      },
      "source": [
        "# Chapter 03. 머신러닝 회귀 문제 연습하기"
      ]
    },
    {
      "cell_type": "code",
      "metadata": {
        "colab": {
          "base_uri": "https://localhost:8080/"
        },
        "id": "yx-hyOnbRdm_",
        "outputId": "019b8a20-16f0-47bf-d0a2-fbbca58914c5"
      },
      "source": [
        "from google.colab import drive\n",
        "drive.mount('/content/drive')"
      ],
      "execution_count": null,
      "outputs": [
        {
          "output_type": "stream",
          "name": "stdout",
          "text": [
            "Drive already mounted at /content/drive; to attempt to forcibly remount, call drive.mount(\"/content/drive\", force_remount=True).\n"
          ]
        }
      ]
    },
    {
      "cell_type": "markdown",
      "metadata": {
        "id": "hR5XfHWy0qIi"
      },
      "source": [
        "## 실습 가이드\n",
        "1. 데이터를 다운로드하여 Colab에 불러옵니다.\n",
        "> 다운로드한 데이터의 위치는 **Colab Notebooks/data/** 로 통일합니다.\n",
        "\n",
        "2. 필요한 라이브러리는 모두 코드로 작성되어 있습니다.\n",
        "3. 코드는 위에서부터 아래로 순서대로 실행합니다.\n",
        "4. 전체 문제 구성은 좌측 첫 번째 아이콘을 통해 확인할 수 있습니다."
      ]
    },
    {
      "cell_type": "markdown",
      "metadata": {
        "id": "arCV66fJ0qIk"
      },
      "source": [
        "### <b> 데이터의 속성</b>\n",
        "**시작 전에** 원본 데이콘 페이지에서 상세한 데이터에 대한 설명을 확인하세요 !\n",
        "\n",
        "Reference : https://dacon.io/competitions/official/235736/data\n"
      ]
    },
    {
      "cell_type": "markdown",
      "metadata": {
        "id": "RlsQsuiB0qIm"
      },
      "source": [
        "### <b>학습목표</b>\n",
        "- 1) Regression 모델의 이해\n",
        "- 2) 학습했던 다양한 머신러닝 회귀모델의 이해\n",
        "- 3) 회귀를 위한 데이터 전처리 방법에 대한 이해\n",
        "- 4) feature engineering에 대한 이해\n",
        "- 5) 평가결과를 바탕으로 모델을 개선하는 방법 습득"
      ]
    },
    {
      "cell_type": "markdown",
      "metadata": {
        "id": "p3cbNzXr0qIn"
      },
      "source": [
        "- 출제자: 김용담 강사"
      ]
    },
    {
      "cell_type": "markdown",
      "metadata": {
        "id": "L0CtisIz0qIo"
      },
      "source": [
        "## Step 1. 예측할 데이터 불러오기"
      ]
    },
    {
      "cell_type": "markdown",
      "metadata": {
        "id": "B2MLQ8Ff0qIp"
      },
      "source": [
        "### 문제 01. 데이터 불러오기"
      ]
    },
    {
      "cell_type": "code",
      "metadata": {
        "id": "yEUiebcx0qIq"
      },
      "source": [
        "# 분석에 필요한 라이브러리를 불러옵니다\n",
        "import numpy as np\n",
        "import pandas as pd\n",
        "import matplotlib.pyplot as plt\n",
        "import seaborn as sns \n",
        "\n",
        "import warnings\n",
        "warnings.filterwarnings('ignore')"
      ],
      "execution_count": null,
      "outputs": []
    },
    {
      "cell_type": "code",
      "metadata": {
        "id": "DRCsZ6CBEBM5"
      },
      "source": [
        "base_path = '/content/drive/MyDrive/Colab Notebooks/data/energy'\n",
        "train = pd.read_csv(base_path + \"/train.csv\", encoding='cp949')\n",
        "test = pd.read_csv(base_path + \"/test.csv\", encoding='cp949')"
      ],
      "execution_count": null,
      "outputs": []
    },
    {
      "cell_type": "markdown",
      "metadata": {
        "id": "cupV8lpw0qIr"
      },
      "source": [
        "### 문제 02. 데이터 미리보기"
      ]
    },
    {
      "cell_type": "code",
      "metadata": {
        "id": "rrtfD32hD-yz",
        "colab": {
          "base_uri": "https://localhost:8080/",
          "height": 409
        },
        "outputId": "c14bc478-c14e-4678-d80c-56471f2ef9e4"
      },
      "source": [
        "# 데이터 크기 확인\n",
        "print(train.shape, test.shape)\n",
        "\n",
        "# 데이터 일부 확인\n",
        "display(train.head())\n",
        "display(test.head())"
      ],
      "execution_count": null,
      "outputs": [
        {
          "output_type": "stream",
          "name": "stdout",
          "text": [
            "(122400, 10) (10080, 9)\n"
          ]
        },
        {
          "output_type": "display_data",
          "data": {
            "text/html": [
              "<div>\n",
              "<style scoped>\n",
              "    .dataframe tbody tr th:only-of-type {\n",
              "        vertical-align: middle;\n",
              "    }\n",
              "\n",
              "    .dataframe tbody tr th {\n",
              "        vertical-align: top;\n",
              "    }\n",
              "\n",
              "    .dataframe thead th {\n",
              "        text-align: right;\n",
              "    }\n",
              "</style>\n",
              "<table border=\"1\" class=\"dataframe\">\n",
              "  <thead>\n",
              "    <tr style=\"text-align: right;\">\n",
              "      <th></th>\n",
              "      <th>num</th>\n",
              "      <th>date_time</th>\n",
              "      <th>전력사용량(kWh)</th>\n",
              "      <th>기온(°C)</th>\n",
              "      <th>풍속(m/s)</th>\n",
              "      <th>습도(%)</th>\n",
              "      <th>강수량(mm)</th>\n",
              "      <th>일조(hr)</th>\n",
              "      <th>비전기냉방설비운영</th>\n",
              "      <th>태양광보유</th>\n",
              "    </tr>\n",
              "  </thead>\n",
              "  <tbody>\n",
              "    <tr>\n",
              "      <th>0</th>\n",
              "      <td>1</td>\n",
              "      <td>2020-06-01 00</td>\n",
              "      <td>8179.056</td>\n",
              "      <td>17.6</td>\n",
              "      <td>2.5</td>\n",
              "      <td>92.0</td>\n",
              "      <td>0.8</td>\n",
              "      <td>0.0</td>\n",
              "      <td>0.0</td>\n",
              "      <td>0.0</td>\n",
              "    </tr>\n",
              "    <tr>\n",
              "      <th>1</th>\n",
              "      <td>1</td>\n",
              "      <td>2020-06-01 01</td>\n",
              "      <td>8135.640</td>\n",
              "      <td>17.7</td>\n",
              "      <td>2.9</td>\n",
              "      <td>91.0</td>\n",
              "      <td>0.3</td>\n",
              "      <td>0.0</td>\n",
              "      <td>0.0</td>\n",
              "      <td>0.0</td>\n",
              "    </tr>\n",
              "    <tr>\n",
              "      <th>2</th>\n",
              "      <td>1</td>\n",
              "      <td>2020-06-01 02</td>\n",
              "      <td>8107.128</td>\n",
              "      <td>17.5</td>\n",
              "      <td>3.2</td>\n",
              "      <td>91.0</td>\n",
              "      <td>0.0</td>\n",
              "      <td>0.0</td>\n",
              "      <td>0.0</td>\n",
              "      <td>0.0</td>\n",
              "    </tr>\n",
              "    <tr>\n",
              "      <th>3</th>\n",
              "      <td>1</td>\n",
              "      <td>2020-06-01 03</td>\n",
              "      <td>8048.808</td>\n",
              "      <td>17.1</td>\n",
              "      <td>3.2</td>\n",
              "      <td>91.0</td>\n",
              "      <td>0.0</td>\n",
              "      <td>0.0</td>\n",
              "      <td>0.0</td>\n",
              "      <td>0.0</td>\n",
              "    </tr>\n",
              "    <tr>\n",
              "      <th>4</th>\n",
              "      <td>1</td>\n",
              "      <td>2020-06-01 04</td>\n",
              "      <td>8043.624</td>\n",
              "      <td>17.0</td>\n",
              "      <td>3.3</td>\n",
              "      <td>92.0</td>\n",
              "      <td>0.0</td>\n",
              "      <td>0.0</td>\n",
              "      <td>0.0</td>\n",
              "      <td>0.0</td>\n",
              "    </tr>\n",
              "  </tbody>\n",
              "</table>\n",
              "</div>"
            ],
            "text/plain": [
              "   num      date_time  전력사용량(kWh)  기온(°C)  ...  강수량(mm)  일조(hr)  비전기냉방설비운영  태양광보유\n",
              "0    1  2020-06-01 00    8179.056    17.6  ...      0.8     0.0        0.0    0.0\n",
              "1    1  2020-06-01 01    8135.640    17.7  ...      0.3     0.0        0.0    0.0\n",
              "2    1  2020-06-01 02    8107.128    17.5  ...      0.0     0.0        0.0    0.0\n",
              "3    1  2020-06-01 03    8048.808    17.1  ...      0.0     0.0        0.0    0.0\n",
              "4    1  2020-06-01 04    8043.624    17.0  ...      0.0     0.0        0.0    0.0\n",
              "\n",
              "[5 rows x 10 columns]"
            ]
          },
          "metadata": {}
        },
        {
          "output_type": "display_data",
          "data": {
            "text/html": [
              "<div>\n",
              "<style scoped>\n",
              "    .dataframe tbody tr th:only-of-type {\n",
              "        vertical-align: middle;\n",
              "    }\n",
              "\n",
              "    .dataframe tbody tr th {\n",
              "        vertical-align: top;\n",
              "    }\n",
              "\n",
              "    .dataframe thead th {\n",
              "        text-align: right;\n",
              "    }\n",
              "</style>\n",
              "<table border=\"1\" class=\"dataframe\">\n",
              "  <thead>\n",
              "    <tr style=\"text-align: right;\">\n",
              "      <th></th>\n",
              "      <th>num</th>\n",
              "      <th>date_time</th>\n",
              "      <th>기온(°C)</th>\n",
              "      <th>풍속(m/s)</th>\n",
              "      <th>습도(%)</th>\n",
              "      <th>강수량(mm, 6시간)</th>\n",
              "      <th>일조(hr, 3시간)</th>\n",
              "      <th>비전기냉방설비운영</th>\n",
              "      <th>태양광보유</th>\n",
              "    </tr>\n",
              "  </thead>\n",
              "  <tbody>\n",
              "    <tr>\n",
              "      <th>0</th>\n",
              "      <td>1</td>\n",
              "      <td>2020-08-25 00</td>\n",
              "      <td>27.8</td>\n",
              "      <td>1.5</td>\n",
              "      <td>74.0</td>\n",
              "      <td>0.0</td>\n",
              "      <td>0.0</td>\n",
              "      <td>NaN</td>\n",
              "      <td>NaN</td>\n",
              "    </tr>\n",
              "    <tr>\n",
              "      <th>1</th>\n",
              "      <td>1</td>\n",
              "      <td>2020-08-25 01</td>\n",
              "      <td>NaN</td>\n",
              "      <td>NaN</td>\n",
              "      <td>NaN</td>\n",
              "      <td>NaN</td>\n",
              "      <td>NaN</td>\n",
              "      <td>NaN</td>\n",
              "      <td>NaN</td>\n",
              "    </tr>\n",
              "    <tr>\n",
              "      <th>2</th>\n",
              "      <td>1</td>\n",
              "      <td>2020-08-25 02</td>\n",
              "      <td>NaN</td>\n",
              "      <td>NaN</td>\n",
              "      <td>NaN</td>\n",
              "      <td>NaN</td>\n",
              "      <td>NaN</td>\n",
              "      <td>NaN</td>\n",
              "      <td>NaN</td>\n",
              "    </tr>\n",
              "    <tr>\n",
              "      <th>3</th>\n",
              "      <td>1</td>\n",
              "      <td>2020-08-25 03</td>\n",
              "      <td>27.3</td>\n",
              "      <td>1.1</td>\n",
              "      <td>78.0</td>\n",
              "      <td>NaN</td>\n",
              "      <td>0.0</td>\n",
              "      <td>NaN</td>\n",
              "      <td>NaN</td>\n",
              "    </tr>\n",
              "    <tr>\n",
              "      <th>4</th>\n",
              "      <td>1</td>\n",
              "      <td>2020-08-25 04</td>\n",
              "      <td>NaN</td>\n",
              "      <td>NaN</td>\n",
              "      <td>NaN</td>\n",
              "      <td>NaN</td>\n",
              "      <td>NaN</td>\n",
              "      <td>NaN</td>\n",
              "      <td>NaN</td>\n",
              "    </tr>\n",
              "  </tbody>\n",
              "</table>\n",
              "</div>"
            ],
            "text/plain": [
              "   num      date_time  기온(°C)  ...  일조(hr, 3시간)  비전기냉방설비운영  태양광보유\n",
              "0    1  2020-08-25 00    27.8  ...          0.0        NaN    NaN\n",
              "1    1  2020-08-25 01     NaN  ...          NaN        NaN    NaN\n",
              "2    1  2020-08-25 02     NaN  ...          NaN        NaN    NaN\n",
              "3    1  2020-08-25 03    27.3  ...          0.0        NaN    NaN\n",
              "4    1  2020-08-25 04     NaN  ...          NaN        NaN    NaN\n",
              "\n",
              "[5 rows x 9 columns]"
            ]
          },
          "metadata": {}
        }
      ]
    },
    {
      "cell_type": "markdown",
      "metadata": {
        "id": "YZMNz6Es0qIs"
      },
      "source": [
        "### 문제 03. 데이터 확인하기"
      ]
    },
    {
      "cell_type": "code",
      "metadata": {
        "id": "SWLusfet0qIt",
        "colab": {
          "base_uri": "https://localhost:8080/"
        },
        "outputId": "d3d10d03-ed63-4ef6-95a4-10401613c833"
      },
      "source": [
        "# train 데이터에서 결측치가 있는 column 확인하기\n",
        "train.info()"
      ],
      "execution_count": null,
      "outputs": [
        {
          "output_type": "stream",
          "name": "stdout",
          "text": [
            "<class 'pandas.core.frame.DataFrame'>\n",
            "RangeIndex: 122400 entries, 0 to 122399\n",
            "Data columns (total 10 columns):\n",
            " #   Column      Non-Null Count   Dtype  \n",
            "---  ------      --------------   -----  \n",
            " 0   num         122400 non-null  int64  \n",
            " 1   date_time   122400 non-null  object \n",
            " 2   전력사용량(kWh)  122400 non-null  float64\n",
            " 3   기온(°C)      122400 non-null  float64\n",
            " 4   풍속(m/s)     122400 non-null  float64\n",
            " 5   습도(%)       122400 non-null  float64\n",
            " 6   강수량(mm)     122400 non-null  float64\n",
            " 7   일조(hr)      122400 non-null  float64\n",
            " 8   비전기냉방설비운영   122400 non-null  float64\n",
            " 9   태양광보유       122400 non-null  float64\n",
            "dtypes: float64(8), int64(1), object(1)\n",
            "memory usage: 9.3+ MB\n"
          ]
        }
      ]
    },
    {
      "cell_type": "code",
      "metadata": {
        "id": "LqYtcDqX0qIw",
        "colab": {
          "base_uri": "https://localhost:8080/"
        },
        "outputId": "17a8ec0c-a130-49e0-c0d9-14d297b3a5d4"
      },
      "source": [
        "# test도 확인\n",
        "test.info()"
      ],
      "execution_count": null,
      "outputs": [
        {
          "output_type": "stream",
          "name": "stdout",
          "text": [
            "<class 'pandas.core.frame.DataFrame'>\n",
            "RangeIndex: 10080 entries, 0 to 10079\n",
            "Data columns (total 9 columns):\n",
            " #   Column        Non-Null Count  Dtype  \n",
            "---  ------        --------------  -----  \n",
            " 0   num           10080 non-null  int64  \n",
            " 1   date_time     10080 non-null  object \n",
            " 2   기온(°C)        3360 non-null   float64\n",
            " 3   풍속(m/s)       3360 non-null   float64\n",
            " 4   습도(%)         3360 non-null   float64\n",
            " 5   강수량(mm, 6시간)  1680 non-null   float64\n",
            " 6   일조(hr, 3시간)   3360 non-null   float64\n",
            " 7   비전기냉방설비운영     2296 non-null   float64\n",
            " 8   태양광보유         1624 non-null   float64\n",
            "dtypes: float64(7), int64(1), object(1)\n",
            "memory usage: 708.9+ KB\n"
          ]
        }
      ]
    },
    {
      "cell_type": "markdown",
      "metadata": {
        "id": "wB0Eo_-D0qIx"
      },
      "source": [
        "## Step 2. Data Preprocessing\n",
        "\n",
        "- 데이터에 있는 결측치를 처리합니다.\n",
        "\n",
        "- 결측치를 처리하기 위해 데이터에 잘못 기록된 점들을 확인합니다."
      ]
    },
    {
      "cell_type": "markdown",
      "metadata": {
        "id": "uL3ndm06e7S1"
      },
      "source": [
        "### 문제 04. train data에서 결측치가 있는 데이터 뽑기"
      ]
    },
    {
      "cell_type": "code",
      "metadata": {
        "colab": {
          "base_uri": "https://localhost:8080/",
          "height": 49
        },
        "id": "2aFU8iCqfkyp",
        "outputId": "331edf19-0667-4d7e-d889-7d798e3001ad"
      },
      "source": [
        "# 데이터가 거의 비어있는 row가 있는지 확인합니다.\n",
        "missing_rows = train[train.isnull().any(axis=1)]\n",
        "missing_rows"
      ],
      "execution_count": null,
      "outputs": [
        {
          "output_type": "execute_result",
          "data": {
            "text/html": [
              "<div>\n",
              "<style scoped>\n",
              "    .dataframe tbody tr th:only-of-type {\n",
              "        vertical-align: middle;\n",
              "    }\n",
              "\n",
              "    .dataframe tbody tr th {\n",
              "        vertical-align: top;\n",
              "    }\n",
              "\n",
              "    .dataframe thead th {\n",
              "        text-align: right;\n",
              "    }\n",
              "</style>\n",
              "<table border=\"1\" class=\"dataframe\">\n",
              "  <thead>\n",
              "    <tr style=\"text-align: right;\">\n",
              "      <th></th>\n",
              "      <th>num</th>\n",
              "      <th>date_time</th>\n",
              "      <th>전력사용량(kWh)</th>\n",
              "      <th>기온(°C)</th>\n",
              "      <th>풍속(m/s)</th>\n",
              "      <th>습도(%)</th>\n",
              "      <th>강수량(mm)</th>\n",
              "      <th>일조(hr)</th>\n",
              "      <th>비전기냉방설비운영</th>\n",
              "      <th>태양광보유</th>\n",
              "    </tr>\n",
              "  </thead>\n",
              "  <tbody>\n",
              "  </tbody>\n",
              "</table>\n",
              "</div>"
            ],
            "text/plain": [
              "Empty DataFrame\n",
              "Columns: [num, date_time, 전력사용량(kWh), 기온(°C), 풍속(m/s), 습도(%), 강수량(mm), 일조(hr), 비전기냉방설비운영, 태양광보유]\n",
              "Index: []"
            ]
          },
          "metadata": {},
          "execution_count": 7
        }
      ]
    },
    {
      "cell_type": "markdown",
      "metadata": {
        "id": "TJc3-Mz8gSR6"
      },
      "source": [
        "### 문제 05. test data에서 결측치가 있는 데이터 뽑기"
      ]
    },
    {
      "cell_type": "code",
      "metadata": {
        "colab": {
          "base_uri": "https://localhost:8080/",
          "height": 420
        },
        "id": "6N1S5Ux-iaqz",
        "outputId": "972fa8f0-3a24-4a00-9a4a-2b18b8fcd714"
      },
      "source": [
        "# dtype이 object인 column들을 가져옵니다.\n",
        "missing_rows = test[test.isnull().any(axis=1)]\n",
        "missing_rows"
      ],
      "execution_count": null,
      "outputs": [
        {
          "output_type": "execute_result",
          "data": {
            "text/html": [
              "<div>\n",
              "<style scoped>\n",
              "    .dataframe tbody tr th:only-of-type {\n",
              "        vertical-align: middle;\n",
              "    }\n",
              "\n",
              "    .dataframe tbody tr th {\n",
              "        vertical-align: top;\n",
              "    }\n",
              "\n",
              "    .dataframe thead th {\n",
              "        text-align: right;\n",
              "    }\n",
              "</style>\n",
              "<table border=\"1\" class=\"dataframe\">\n",
              "  <thead>\n",
              "    <tr style=\"text-align: right;\">\n",
              "      <th></th>\n",
              "      <th>num</th>\n",
              "      <th>date_time</th>\n",
              "      <th>기온(°C)</th>\n",
              "      <th>풍속(m/s)</th>\n",
              "      <th>습도(%)</th>\n",
              "      <th>강수량(mm, 6시간)</th>\n",
              "      <th>일조(hr, 3시간)</th>\n",
              "      <th>비전기냉방설비운영</th>\n",
              "      <th>태양광보유</th>\n",
              "    </tr>\n",
              "  </thead>\n",
              "  <tbody>\n",
              "    <tr>\n",
              "      <th>0</th>\n",
              "      <td>1</td>\n",
              "      <td>2020-08-25 00</td>\n",
              "      <td>27.8</td>\n",
              "      <td>1.5</td>\n",
              "      <td>74.0</td>\n",
              "      <td>0.0</td>\n",
              "      <td>0.0</td>\n",
              "      <td>NaN</td>\n",
              "      <td>NaN</td>\n",
              "    </tr>\n",
              "    <tr>\n",
              "      <th>1</th>\n",
              "      <td>1</td>\n",
              "      <td>2020-08-25 01</td>\n",
              "      <td>NaN</td>\n",
              "      <td>NaN</td>\n",
              "      <td>NaN</td>\n",
              "      <td>NaN</td>\n",
              "      <td>NaN</td>\n",
              "      <td>NaN</td>\n",
              "      <td>NaN</td>\n",
              "    </tr>\n",
              "    <tr>\n",
              "      <th>2</th>\n",
              "      <td>1</td>\n",
              "      <td>2020-08-25 02</td>\n",
              "      <td>NaN</td>\n",
              "      <td>NaN</td>\n",
              "      <td>NaN</td>\n",
              "      <td>NaN</td>\n",
              "      <td>NaN</td>\n",
              "      <td>NaN</td>\n",
              "      <td>NaN</td>\n",
              "    </tr>\n",
              "    <tr>\n",
              "      <th>3</th>\n",
              "      <td>1</td>\n",
              "      <td>2020-08-25 03</td>\n",
              "      <td>27.3</td>\n",
              "      <td>1.1</td>\n",
              "      <td>78.0</td>\n",
              "      <td>NaN</td>\n",
              "      <td>0.0</td>\n",
              "      <td>NaN</td>\n",
              "      <td>NaN</td>\n",
              "    </tr>\n",
              "    <tr>\n",
              "      <th>4</th>\n",
              "      <td>1</td>\n",
              "      <td>2020-08-25 04</td>\n",
              "      <td>NaN</td>\n",
              "      <td>NaN</td>\n",
              "      <td>NaN</td>\n",
              "      <td>NaN</td>\n",
              "      <td>NaN</td>\n",
              "      <td>NaN</td>\n",
              "      <td>NaN</td>\n",
              "    </tr>\n",
              "    <tr>\n",
              "      <th>...</th>\n",
              "      <td>...</td>\n",
              "      <td>...</td>\n",
              "      <td>...</td>\n",
              "      <td>...</td>\n",
              "      <td>...</td>\n",
              "      <td>...</td>\n",
              "      <td>...</td>\n",
              "      <td>...</td>\n",
              "      <td>...</td>\n",
              "    </tr>\n",
              "    <tr>\n",
              "      <th>10075</th>\n",
              "      <td>60</td>\n",
              "      <td>2020-08-31 19</td>\n",
              "      <td>NaN</td>\n",
              "      <td>NaN</td>\n",
              "      <td>NaN</td>\n",
              "      <td>NaN</td>\n",
              "      <td>NaN</td>\n",
              "      <td>NaN</td>\n",
              "      <td>NaN</td>\n",
              "    </tr>\n",
              "    <tr>\n",
              "      <th>10076</th>\n",
              "      <td>60</td>\n",
              "      <td>2020-08-31 20</td>\n",
              "      <td>NaN</td>\n",
              "      <td>NaN</td>\n",
              "      <td>NaN</td>\n",
              "      <td>NaN</td>\n",
              "      <td>NaN</td>\n",
              "      <td>NaN</td>\n",
              "      <td>NaN</td>\n",
              "    </tr>\n",
              "    <tr>\n",
              "      <th>10077</th>\n",
              "      <td>60</td>\n",
              "      <td>2020-08-31 21</td>\n",
              "      <td>27.9</td>\n",
              "      <td>4.1</td>\n",
              "      <td>68.0</td>\n",
              "      <td>NaN</td>\n",
              "      <td>0.0</td>\n",
              "      <td>1.0</td>\n",
              "      <td>1.0</td>\n",
              "    </tr>\n",
              "    <tr>\n",
              "      <th>10078</th>\n",
              "      <td>60</td>\n",
              "      <td>2020-08-31 22</td>\n",
              "      <td>NaN</td>\n",
              "      <td>NaN</td>\n",
              "      <td>NaN</td>\n",
              "      <td>NaN</td>\n",
              "      <td>NaN</td>\n",
              "      <td>NaN</td>\n",
              "      <td>NaN</td>\n",
              "    </tr>\n",
              "    <tr>\n",
              "      <th>10079</th>\n",
              "      <td>60</td>\n",
              "      <td>2020-08-31 23</td>\n",
              "      <td>NaN</td>\n",
              "      <td>NaN</td>\n",
              "      <td>NaN</td>\n",
              "      <td>NaN</td>\n",
              "      <td>NaN</td>\n",
              "      <td>NaN</td>\n",
              "      <td>NaN</td>\n",
              "    </tr>\n",
              "  </tbody>\n",
              "</table>\n",
              "<p>9492 rows × 9 columns</p>\n",
              "</div>"
            ],
            "text/plain": [
              "       num      date_time  기온(°C)  ...  일조(hr, 3시간)  비전기냉방설비운영  태양광보유\n",
              "0        1  2020-08-25 00    27.8  ...          0.0        NaN    NaN\n",
              "1        1  2020-08-25 01     NaN  ...          NaN        NaN    NaN\n",
              "2        1  2020-08-25 02     NaN  ...          NaN        NaN    NaN\n",
              "3        1  2020-08-25 03    27.3  ...          0.0        NaN    NaN\n",
              "4        1  2020-08-25 04     NaN  ...          NaN        NaN    NaN\n",
              "...    ...            ...     ...  ...          ...        ...    ...\n",
              "10075   60  2020-08-31 19     NaN  ...          NaN        NaN    NaN\n",
              "10076   60  2020-08-31 20     NaN  ...          NaN        NaN    NaN\n",
              "10077   60  2020-08-31 21    27.9  ...          0.0        1.0    1.0\n",
              "10078   60  2020-08-31 22     NaN  ...          NaN        NaN    NaN\n",
              "10079   60  2020-08-31 23     NaN  ...          NaN        NaN    NaN\n",
              "\n",
              "[9492 rows x 9 columns]"
            ]
          },
          "metadata": {},
          "execution_count": 8
        }
      ]
    },
    {
      "cell_type": "markdown",
      "metadata": {
        "id": "yOJdhhAFfL_S"
      },
      "source": [
        "## 결측치 채우기\n",
        "\n",
        "- test data의 결측치를 채워봅시다.\n",
        "\n",
        "- 이 데이터는 시간 순서에 따른 정보를 가지는 시계열 데이터(time-series data)이므로, 평균이나 최빈값 같은값으로 한번에 채우는 것은 위험합니다.\n",
        "\n",
        "- column마다 특성이 다르므로, 날씨와 관련된 정보들(numeric features)과 건물 정보(categorical features)를 다른 방법으로 결측치를 처리해줍니다.\n",
        "\n",
        "- 날씨 정보들은 시간 순으로 인접한 데이터를 통해서 값을 채워주는 보간법(interpolation method)를 사용해서 결측치를 채워봅시다.\n",
        "\n",
        "- 건물 정보들은 train data를 보고, 같은 건물 번호가 같은 정보를 가진다면, 그 정보들만 추출해서 채워줍니다."
      ]
    },
    {
      "cell_type": "markdown",
      "metadata": {
        "id": "2azgZATtnKb8"
      },
      "source": [
        "### 문제 06. 결측치 패턴 파악하기"
      ]
    },
    {
      "cell_type": "code",
      "metadata": {
        "id": "k5nfgaF2j2fz",
        "colab": {
          "base_uri": "https://localhost:8080/",
          "height": 981
        },
        "outputId": "7d21d76c-f68c-4ab9-87d7-2a257afb4a78"
      },
      "source": [
        "# 결측치 패턴 확인하기\n",
        "test.head(30)"
      ],
      "execution_count": null,
      "outputs": [
        {
          "output_type": "execute_result",
          "data": {
            "text/html": [
              "<div>\n",
              "<style scoped>\n",
              "    .dataframe tbody tr th:only-of-type {\n",
              "        vertical-align: middle;\n",
              "    }\n",
              "\n",
              "    .dataframe tbody tr th {\n",
              "        vertical-align: top;\n",
              "    }\n",
              "\n",
              "    .dataframe thead th {\n",
              "        text-align: right;\n",
              "    }\n",
              "</style>\n",
              "<table border=\"1\" class=\"dataframe\">\n",
              "  <thead>\n",
              "    <tr style=\"text-align: right;\">\n",
              "      <th></th>\n",
              "      <th>num</th>\n",
              "      <th>date_time</th>\n",
              "      <th>기온(°C)</th>\n",
              "      <th>풍속(m/s)</th>\n",
              "      <th>습도(%)</th>\n",
              "      <th>강수량(mm, 6시간)</th>\n",
              "      <th>일조(hr, 3시간)</th>\n",
              "      <th>비전기냉방설비운영</th>\n",
              "      <th>태양광보유</th>\n",
              "    </tr>\n",
              "  </thead>\n",
              "  <tbody>\n",
              "    <tr>\n",
              "      <th>0</th>\n",
              "      <td>1</td>\n",
              "      <td>2020-08-25 00</td>\n",
              "      <td>27.8</td>\n",
              "      <td>1.5</td>\n",
              "      <td>74.0</td>\n",
              "      <td>0.0</td>\n",
              "      <td>0.0</td>\n",
              "      <td>NaN</td>\n",
              "      <td>NaN</td>\n",
              "    </tr>\n",
              "    <tr>\n",
              "      <th>1</th>\n",
              "      <td>1</td>\n",
              "      <td>2020-08-25 01</td>\n",
              "      <td>NaN</td>\n",
              "      <td>NaN</td>\n",
              "      <td>NaN</td>\n",
              "      <td>NaN</td>\n",
              "      <td>NaN</td>\n",
              "      <td>NaN</td>\n",
              "      <td>NaN</td>\n",
              "    </tr>\n",
              "    <tr>\n",
              "      <th>2</th>\n",
              "      <td>1</td>\n",
              "      <td>2020-08-25 02</td>\n",
              "      <td>NaN</td>\n",
              "      <td>NaN</td>\n",
              "      <td>NaN</td>\n",
              "      <td>NaN</td>\n",
              "      <td>NaN</td>\n",
              "      <td>NaN</td>\n",
              "      <td>NaN</td>\n",
              "    </tr>\n",
              "    <tr>\n",
              "      <th>3</th>\n",
              "      <td>1</td>\n",
              "      <td>2020-08-25 03</td>\n",
              "      <td>27.3</td>\n",
              "      <td>1.1</td>\n",
              "      <td>78.0</td>\n",
              "      <td>NaN</td>\n",
              "      <td>0.0</td>\n",
              "      <td>NaN</td>\n",
              "      <td>NaN</td>\n",
              "    </tr>\n",
              "    <tr>\n",
              "      <th>4</th>\n",
              "      <td>1</td>\n",
              "      <td>2020-08-25 04</td>\n",
              "      <td>NaN</td>\n",
              "      <td>NaN</td>\n",
              "      <td>NaN</td>\n",
              "      <td>NaN</td>\n",
              "      <td>NaN</td>\n",
              "      <td>NaN</td>\n",
              "      <td>NaN</td>\n",
              "    </tr>\n",
              "    <tr>\n",
              "      <th>5</th>\n",
              "      <td>1</td>\n",
              "      <td>2020-08-25 05</td>\n",
              "      <td>NaN</td>\n",
              "      <td>NaN</td>\n",
              "      <td>NaN</td>\n",
              "      <td>NaN</td>\n",
              "      <td>NaN</td>\n",
              "      <td>NaN</td>\n",
              "      <td>NaN</td>\n",
              "    </tr>\n",
              "    <tr>\n",
              "      <th>6</th>\n",
              "      <td>1</td>\n",
              "      <td>2020-08-25 06</td>\n",
              "      <td>26.1</td>\n",
              "      <td>1.3</td>\n",
              "      <td>83.0</td>\n",
              "      <td>0.0</td>\n",
              "      <td>0.0</td>\n",
              "      <td>NaN</td>\n",
              "      <td>NaN</td>\n",
              "    </tr>\n",
              "    <tr>\n",
              "      <th>7</th>\n",
              "      <td>1</td>\n",
              "      <td>2020-08-25 07</td>\n",
              "      <td>NaN</td>\n",
              "      <td>NaN</td>\n",
              "      <td>NaN</td>\n",
              "      <td>NaN</td>\n",
              "      <td>NaN</td>\n",
              "      <td>NaN</td>\n",
              "      <td>NaN</td>\n",
              "    </tr>\n",
              "    <tr>\n",
              "      <th>8</th>\n",
              "      <td>1</td>\n",
              "      <td>2020-08-25 08</td>\n",
              "      <td>NaN</td>\n",
              "      <td>NaN</td>\n",
              "      <td>NaN</td>\n",
              "      <td>NaN</td>\n",
              "      <td>NaN</td>\n",
              "      <td>NaN</td>\n",
              "      <td>NaN</td>\n",
              "    </tr>\n",
              "    <tr>\n",
              "      <th>9</th>\n",
              "      <td>1</td>\n",
              "      <td>2020-08-25 09</td>\n",
              "      <td>28.8</td>\n",
              "      <td>1.2</td>\n",
              "      <td>77.0</td>\n",
              "      <td>NaN</td>\n",
              "      <td>1.1</td>\n",
              "      <td>NaN</td>\n",
              "      <td>NaN</td>\n",
              "    </tr>\n",
              "    <tr>\n",
              "      <th>10</th>\n",
              "      <td>1</td>\n",
              "      <td>2020-08-25 10</td>\n",
              "      <td>NaN</td>\n",
              "      <td>NaN</td>\n",
              "      <td>NaN</td>\n",
              "      <td>NaN</td>\n",
              "      <td>NaN</td>\n",
              "      <td>NaN</td>\n",
              "      <td>NaN</td>\n",
              "    </tr>\n",
              "    <tr>\n",
              "      <th>11</th>\n",
              "      <td>1</td>\n",
              "      <td>2020-08-25 11</td>\n",
              "      <td>NaN</td>\n",
              "      <td>NaN</td>\n",
              "      <td>NaN</td>\n",
              "      <td>NaN</td>\n",
              "      <td>NaN</td>\n",
              "      <td>NaN</td>\n",
              "      <td>NaN</td>\n",
              "    </tr>\n",
              "    <tr>\n",
              "      <th>12</th>\n",
              "      <td>1</td>\n",
              "      <td>2020-08-25 12</td>\n",
              "      <td>32.7</td>\n",
              "      <td>3.4</td>\n",
              "      <td>57.0</td>\n",
              "      <td>0.0</td>\n",
              "      <td>3.0</td>\n",
              "      <td>NaN</td>\n",
              "      <td>NaN</td>\n",
              "    </tr>\n",
              "    <tr>\n",
              "      <th>13</th>\n",
              "      <td>1</td>\n",
              "      <td>2020-08-25 13</td>\n",
              "      <td>NaN</td>\n",
              "      <td>NaN</td>\n",
              "      <td>NaN</td>\n",
              "      <td>NaN</td>\n",
              "      <td>NaN</td>\n",
              "      <td>NaN</td>\n",
              "      <td>NaN</td>\n",
              "    </tr>\n",
              "    <tr>\n",
              "      <th>14</th>\n",
              "      <td>1</td>\n",
              "      <td>2020-08-25 14</td>\n",
              "      <td>NaN</td>\n",
              "      <td>NaN</td>\n",
              "      <td>NaN</td>\n",
              "      <td>NaN</td>\n",
              "      <td>NaN</td>\n",
              "      <td>NaN</td>\n",
              "      <td>NaN</td>\n",
              "    </tr>\n",
              "    <tr>\n",
              "      <th>15</th>\n",
              "      <td>1</td>\n",
              "      <td>2020-08-25 15</td>\n",
              "      <td>34.4</td>\n",
              "      <td>4.0</td>\n",
              "      <td>50.0</td>\n",
              "      <td>NaN</td>\n",
              "      <td>2.7</td>\n",
              "      <td>NaN</td>\n",
              "      <td>NaN</td>\n",
              "    </tr>\n",
              "    <tr>\n",
              "      <th>16</th>\n",
              "      <td>1</td>\n",
              "      <td>2020-08-25 16</td>\n",
              "      <td>NaN</td>\n",
              "      <td>NaN</td>\n",
              "      <td>NaN</td>\n",
              "      <td>NaN</td>\n",
              "      <td>NaN</td>\n",
              "      <td>NaN</td>\n",
              "      <td>NaN</td>\n",
              "    </tr>\n",
              "    <tr>\n",
              "      <th>17</th>\n",
              "      <td>1</td>\n",
              "      <td>2020-08-25 17</td>\n",
              "      <td>NaN</td>\n",
              "      <td>NaN</td>\n",
              "      <td>NaN</td>\n",
              "      <td>NaN</td>\n",
              "      <td>NaN</td>\n",
              "      <td>NaN</td>\n",
              "      <td>NaN</td>\n",
              "    </tr>\n",
              "    <tr>\n",
              "      <th>18</th>\n",
              "      <td>1</td>\n",
              "      <td>2020-08-25 18</td>\n",
              "      <td>31.6</td>\n",
              "      <td>3.2</td>\n",
              "      <td>63.0</td>\n",
              "      <td>0.0</td>\n",
              "      <td>0.8</td>\n",
              "      <td>NaN</td>\n",
              "      <td>NaN</td>\n",
              "    </tr>\n",
              "    <tr>\n",
              "      <th>19</th>\n",
              "      <td>1</td>\n",
              "      <td>2020-08-25 19</td>\n",
              "      <td>NaN</td>\n",
              "      <td>NaN</td>\n",
              "      <td>NaN</td>\n",
              "      <td>NaN</td>\n",
              "      <td>NaN</td>\n",
              "      <td>NaN</td>\n",
              "      <td>NaN</td>\n",
              "    </tr>\n",
              "    <tr>\n",
              "      <th>20</th>\n",
              "      <td>1</td>\n",
              "      <td>2020-08-25 20</td>\n",
              "      <td>NaN</td>\n",
              "      <td>NaN</td>\n",
              "      <td>NaN</td>\n",
              "      <td>NaN</td>\n",
              "      <td>NaN</td>\n",
              "      <td>NaN</td>\n",
              "      <td>NaN</td>\n",
              "    </tr>\n",
              "    <tr>\n",
              "      <th>21</th>\n",
              "      <td>1</td>\n",
              "      <td>2020-08-25 21</td>\n",
              "      <td>29.3</td>\n",
              "      <td>1.0</td>\n",
              "      <td>72.0</td>\n",
              "      <td>NaN</td>\n",
              "      <td>0.0</td>\n",
              "      <td>NaN</td>\n",
              "      <td>NaN</td>\n",
              "    </tr>\n",
              "    <tr>\n",
              "      <th>22</th>\n",
              "      <td>1</td>\n",
              "      <td>2020-08-25 22</td>\n",
              "      <td>NaN</td>\n",
              "      <td>NaN</td>\n",
              "      <td>NaN</td>\n",
              "      <td>NaN</td>\n",
              "      <td>NaN</td>\n",
              "      <td>NaN</td>\n",
              "      <td>NaN</td>\n",
              "    </tr>\n",
              "    <tr>\n",
              "      <th>23</th>\n",
              "      <td>1</td>\n",
              "      <td>2020-08-25 23</td>\n",
              "      <td>NaN</td>\n",
              "      <td>NaN</td>\n",
              "      <td>NaN</td>\n",
              "      <td>NaN</td>\n",
              "      <td>NaN</td>\n",
              "      <td>NaN</td>\n",
              "      <td>NaN</td>\n",
              "    </tr>\n",
              "    <tr>\n",
              "      <th>24</th>\n",
              "      <td>1</td>\n",
              "      <td>2020-08-26 00</td>\n",
              "      <td>28.7</td>\n",
              "      <td>2.7</td>\n",
              "      <td>76.0</td>\n",
              "      <td>0.0</td>\n",
              "      <td>0.0</td>\n",
              "      <td>NaN</td>\n",
              "      <td>NaN</td>\n",
              "    </tr>\n",
              "    <tr>\n",
              "      <th>25</th>\n",
              "      <td>1</td>\n",
              "      <td>2020-08-26 01</td>\n",
              "      <td>NaN</td>\n",
              "      <td>NaN</td>\n",
              "      <td>NaN</td>\n",
              "      <td>NaN</td>\n",
              "      <td>NaN</td>\n",
              "      <td>NaN</td>\n",
              "      <td>NaN</td>\n",
              "    </tr>\n",
              "    <tr>\n",
              "      <th>26</th>\n",
              "      <td>1</td>\n",
              "      <td>2020-08-26 02</td>\n",
              "      <td>NaN</td>\n",
              "      <td>NaN</td>\n",
              "      <td>NaN</td>\n",
              "      <td>NaN</td>\n",
              "      <td>NaN</td>\n",
              "      <td>NaN</td>\n",
              "      <td>NaN</td>\n",
              "    </tr>\n",
              "    <tr>\n",
              "      <th>27</th>\n",
              "      <td>1</td>\n",
              "      <td>2020-08-26 03</td>\n",
              "      <td>27.6</td>\n",
              "      <td>2.0</td>\n",
              "      <td>80.0</td>\n",
              "      <td>NaN</td>\n",
              "      <td>0.0</td>\n",
              "      <td>NaN</td>\n",
              "      <td>NaN</td>\n",
              "    </tr>\n",
              "    <tr>\n",
              "      <th>28</th>\n",
              "      <td>1</td>\n",
              "      <td>2020-08-26 04</td>\n",
              "      <td>NaN</td>\n",
              "      <td>NaN</td>\n",
              "      <td>NaN</td>\n",
              "      <td>NaN</td>\n",
              "      <td>NaN</td>\n",
              "      <td>NaN</td>\n",
              "      <td>NaN</td>\n",
              "    </tr>\n",
              "    <tr>\n",
              "      <th>29</th>\n",
              "      <td>1</td>\n",
              "      <td>2020-08-26 05</td>\n",
              "      <td>NaN</td>\n",
              "      <td>NaN</td>\n",
              "      <td>NaN</td>\n",
              "      <td>NaN</td>\n",
              "      <td>NaN</td>\n",
              "      <td>NaN</td>\n",
              "      <td>NaN</td>\n",
              "    </tr>\n",
              "  </tbody>\n",
              "</table>\n",
              "</div>"
            ],
            "text/plain": [
              "    num      date_time  기온(°C)  ...  일조(hr, 3시간)  비전기냉방설비운영  태양광보유\n",
              "0     1  2020-08-25 00    27.8  ...          0.0        NaN    NaN\n",
              "1     1  2020-08-25 01     NaN  ...          NaN        NaN    NaN\n",
              "2     1  2020-08-25 02     NaN  ...          NaN        NaN    NaN\n",
              "3     1  2020-08-25 03    27.3  ...          0.0        NaN    NaN\n",
              "4     1  2020-08-25 04     NaN  ...          NaN        NaN    NaN\n",
              "5     1  2020-08-25 05     NaN  ...          NaN        NaN    NaN\n",
              "6     1  2020-08-25 06    26.1  ...          0.0        NaN    NaN\n",
              "7     1  2020-08-25 07     NaN  ...          NaN        NaN    NaN\n",
              "8     1  2020-08-25 08     NaN  ...          NaN        NaN    NaN\n",
              "9     1  2020-08-25 09    28.8  ...          1.1        NaN    NaN\n",
              "10    1  2020-08-25 10     NaN  ...          NaN        NaN    NaN\n",
              "11    1  2020-08-25 11     NaN  ...          NaN        NaN    NaN\n",
              "12    1  2020-08-25 12    32.7  ...          3.0        NaN    NaN\n",
              "13    1  2020-08-25 13     NaN  ...          NaN        NaN    NaN\n",
              "14    1  2020-08-25 14     NaN  ...          NaN        NaN    NaN\n",
              "15    1  2020-08-25 15    34.4  ...          2.7        NaN    NaN\n",
              "16    1  2020-08-25 16     NaN  ...          NaN        NaN    NaN\n",
              "17    1  2020-08-25 17     NaN  ...          NaN        NaN    NaN\n",
              "18    1  2020-08-25 18    31.6  ...          0.8        NaN    NaN\n",
              "19    1  2020-08-25 19     NaN  ...          NaN        NaN    NaN\n",
              "20    1  2020-08-25 20     NaN  ...          NaN        NaN    NaN\n",
              "21    1  2020-08-25 21    29.3  ...          0.0        NaN    NaN\n",
              "22    1  2020-08-25 22     NaN  ...          NaN        NaN    NaN\n",
              "23    1  2020-08-25 23     NaN  ...          NaN        NaN    NaN\n",
              "24    1  2020-08-26 00    28.7  ...          0.0        NaN    NaN\n",
              "25    1  2020-08-26 01     NaN  ...          NaN        NaN    NaN\n",
              "26    1  2020-08-26 02     NaN  ...          NaN        NaN    NaN\n",
              "27    1  2020-08-26 03    27.6  ...          0.0        NaN    NaN\n",
              "28    1  2020-08-26 04     NaN  ...          NaN        NaN    NaN\n",
              "29    1  2020-08-26 05     NaN  ...          NaN        NaN    NaN\n",
              "\n",
              "[30 rows x 9 columns]"
            ]
          },
          "metadata": {},
          "execution_count": 9
        }
      ]
    },
    {
      "cell_type": "markdown",
      "metadata": {
        "id": "No6tNT3Pmjr_"
      },
      "source": [
        "- 기온, 풍속, 습도, 일조량은 3시간마다 측정되어 사이사이에 2칸씩 결측치가 있습니다.\n",
        "\n",
        "- 강수량은 6시간마다 측정되어 사이사이에 5칸씩 결측치가 있습니다.\n",
        "\n",
        "- 건물 정보들은 랜덤하게 비어있습니다."
      ]
    },
    {
      "cell_type": "markdown",
      "metadata": {
        "id": "W4oZ1yV-kNgM"
      },
      "source": [
        "### 문제 07. 건물 정보 추출하기\n",
        "\n",
        "- test data의 건물 정보를 채우기 위해서 train data에 있는 건물 정보를 추출합니다."
      ]
    },
    {
      "cell_type": "code",
      "metadata": {
        "colab": {
          "base_uri": "https://localhost:8080/",
          "height": 420
        },
        "id": "e_EZhH_dkNxm",
        "outputId": "545a32d1-09c4-44b2-fb6e-06af7e3c1293"
      },
      "source": [
        "# train data에서 건물 정보만 추출하기\n",
        "building_info = train[[\"num\", \"비전기냉방설비운영\", \"태양광보유\"]]\n",
        "building_info"
      ],
      "execution_count": null,
      "outputs": [
        {
          "output_type": "execute_result",
          "data": {
            "text/html": [
              "<div>\n",
              "<style scoped>\n",
              "    .dataframe tbody tr th:only-of-type {\n",
              "        vertical-align: middle;\n",
              "    }\n",
              "\n",
              "    .dataframe tbody tr th {\n",
              "        vertical-align: top;\n",
              "    }\n",
              "\n",
              "    .dataframe thead th {\n",
              "        text-align: right;\n",
              "    }\n",
              "</style>\n",
              "<table border=\"1\" class=\"dataframe\">\n",
              "  <thead>\n",
              "    <tr style=\"text-align: right;\">\n",
              "      <th></th>\n",
              "      <th>num</th>\n",
              "      <th>비전기냉방설비운영</th>\n",
              "      <th>태양광보유</th>\n",
              "    </tr>\n",
              "  </thead>\n",
              "  <tbody>\n",
              "    <tr>\n",
              "      <th>0</th>\n",
              "      <td>1</td>\n",
              "      <td>0.0</td>\n",
              "      <td>0.0</td>\n",
              "    </tr>\n",
              "    <tr>\n",
              "      <th>1</th>\n",
              "      <td>1</td>\n",
              "      <td>0.0</td>\n",
              "      <td>0.0</td>\n",
              "    </tr>\n",
              "    <tr>\n",
              "      <th>2</th>\n",
              "      <td>1</td>\n",
              "      <td>0.0</td>\n",
              "      <td>0.0</td>\n",
              "    </tr>\n",
              "    <tr>\n",
              "      <th>3</th>\n",
              "      <td>1</td>\n",
              "      <td>0.0</td>\n",
              "      <td>0.0</td>\n",
              "    </tr>\n",
              "    <tr>\n",
              "      <th>4</th>\n",
              "      <td>1</td>\n",
              "      <td>0.0</td>\n",
              "      <td>0.0</td>\n",
              "    </tr>\n",
              "    <tr>\n",
              "      <th>...</th>\n",
              "      <td>...</td>\n",
              "      <td>...</td>\n",
              "      <td>...</td>\n",
              "    </tr>\n",
              "    <tr>\n",
              "      <th>122395</th>\n",
              "      <td>60</td>\n",
              "      <td>1.0</td>\n",
              "      <td>1.0</td>\n",
              "    </tr>\n",
              "    <tr>\n",
              "      <th>122396</th>\n",
              "      <td>60</td>\n",
              "      <td>1.0</td>\n",
              "      <td>1.0</td>\n",
              "    </tr>\n",
              "    <tr>\n",
              "      <th>122397</th>\n",
              "      <td>60</td>\n",
              "      <td>1.0</td>\n",
              "      <td>1.0</td>\n",
              "    </tr>\n",
              "    <tr>\n",
              "      <th>122398</th>\n",
              "      <td>60</td>\n",
              "      <td>1.0</td>\n",
              "      <td>1.0</td>\n",
              "    </tr>\n",
              "    <tr>\n",
              "      <th>122399</th>\n",
              "      <td>60</td>\n",
              "      <td>1.0</td>\n",
              "      <td>1.0</td>\n",
              "    </tr>\n",
              "  </tbody>\n",
              "</table>\n",
              "<p>122400 rows × 3 columns</p>\n",
              "</div>"
            ],
            "text/plain": [
              "        num  비전기냉방설비운영  태양광보유\n",
              "0         1        0.0    0.0\n",
              "1         1        0.0    0.0\n",
              "2         1        0.0    0.0\n",
              "3         1        0.0    0.0\n",
              "4         1        0.0    0.0\n",
              "...     ...        ...    ...\n",
              "122395   60        1.0    1.0\n",
              "122396   60        1.0    1.0\n",
              "122397   60        1.0    1.0\n",
              "122398   60        1.0    1.0\n",
              "122399   60        1.0    1.0\n",
              "\n",
              "[122400 rows x 3 columns]"
            ]
          },
          "metadata": {},
          "execution_count": 10
        }
      ]
    },
    {
      "cell_type": "code",
      "metadata": {
        "colab": {
          "base_uri": "https://localhost:8080/",
          "height": 1000
        },
        "id": "km4KDZ-Xvmhk",
        "outputId": "43755aef-d108-4842-faf4-4fcdcdf505f7"
      },
      "source": [
        "# 같은 건물번호인 데이터는 모두 같은 데이터를 가집니다. (한번 확인해보세요)\n",
        "# 하나의 건물당 하나의 정보를 남기고 중복되는 행을 지웁니다.\n",
        "building_info = building_info.drop_duplicates()\n",
        "building_info"
      ],
      "execution_count": null,
      "outputs": [
        {
          "output_type": "execute_result",
          "data": {
            "text/html": [
              "<div>\n",
              "<style scoped>\n",
              "    .dataframe tbody tr th:only-of-type {\n",
              "        vertical-align: middle;\n",
              "    }\n",
              "\n",
              "    .dataframe tbody tr th {\n",
              "        vertical-align: top;\n",
              "    }\n",
              "\n",
              "    .dataframe thead th {\n",
              "        text-align: right;\n",
              "    }\n",
              "</style>\n",
              "<table border=\"1\" class=\"dataframe\">\n",
              "  <thead>\n",
              "    <tr style=\"text-align: right;\">\n",
              "      <th></th>\n",
              "      <th>num</th>\n",
              "      <th>비전기냉방설비운영</th>\n",
              "      <th>태양광보유</th>\n",
              "    </tr>\n",
              "  </thead>\n",
              "  <tbody>\n",
              "    <tr>\n",
              "      <th>0</th>\n",
              "      <td>1</td>\n",
              "      <td>0.0</td>\n",
              "      <td>0.0</td>\n",
              "    </tr>\n",
              "    <tr>\n",
              "      <th>2040</th>\n",
              "      <td>2</td>\n",
              "      <td>1.0</td>\n",
              "      <td>0.0</td>\n",
              "    </tr>\n",
              "    <tr>\n",
              "      <th>4080</th>\n",
              "      <td>3</td>\n",
              "      <td>1.0</td>\n",
              "      <td>1.0</td>\n",
              "    </tr>\n",
              "    <tr>\n",
              "      <th>6120</th>\n",
              "      <td>4</td>\n",
              "      <td>1.0</td>\n",
              "      <td>1.0</td>\n",
              "    </tr>\n",
              "    <tr>\n",
              "      <th>8160</th>\n",
              "      <td>5</td>\n",
              "      <td>1.0</td>\n",
              "      <td>0.0</td>\n",
              "    </tr>\n",
              "    <tr>\n",
              "      <th>10200</th>\n",
              "      <td>6</td>\n",
              "      <td>0.0</td>\n",
              "      <td>0.0</td>\n",
              "    </tr>\n",
              "    <tr>\n",
              "      <th>12240</th>\n",
              "      <td>7</td>\n",
              "      <td>1.0</td>\n",
              "      <td>0.0</td>\n",
              "    </tr>\n",
              "    <tr>\n",
              "      <th>14280</th>\n",
              "      <td>8</td>\n",
              "      <td>1.0</td>\n",
              "      <td>1.0</td>\n",
              "    </tr>\n",
              "    <tr>\n",
              "      <th>16320</th>\n",
              "      <td>9</td>\n",
              "      <td>0.0</td>\n",
              "      <td>1.0</td>\n",
              "    </tr>\n",
              "    <tr>\n",
              "      <th>18360</th>\n",
              "      <td>10</td>\n",
              "      <td>1.0</td>\n",
              "      <td>0.0</td>\n",
              "    </tr>\n",
              "    <tr>\n",
              "      <th>20400</th>\n",
              "      <td>11</td>\n",
              "      <td>0.0</td>\n",
              "      <td>0.0</td>\n",
              "    </tr>\n",
              "    <tr>\n",
              "      <th>22440</th>\n",
              "      <td>12</td>\n",
              "      <td>1.0</td>\n",
              "      <td>1.0</td>\n",
              "    </tr>\n",
              "    <tr>\n",
              "      <th>24480</th>\n",
              "      <td>13</td>\n",
              "      <td>1.0</td>\n",
              "      <td>0.0</td>\n",
              "    </tr>\n",
              "    <tr>\n",
              "      <th>26520</th>\n",
              "      <td>14</td>\n",
              "      <td>1.0</td>\n",
              "      <td>1.0</td>\n",
              "    </tr>\n",
              "    <tr>\n",
              "      <th>28560</th>\n",
              "      <td>15</td>\n",
              "      <td>1.0</td>\n",
              "      <td>0.0</td>\n",
              "    </tr>\n",
              "    <tr>\n",
              "      <th>30600</th>\n",
              "      <td>16</td>\n",
              "      <td>1.0</td>\n",
              "      <td>1.0</td>\n",
              "    </tr>\n",
              "    <tr>\n",
              "      <th>32640</th>\n",
              "      <td>17</td>\n",
              "      <td>1.0</td>\n",
              "      <td>0.0</td>\n",
              "    </tr>\n",
              "    <tr>\n",
              "      <th>34680</th>\n",
              "      <td>18</td>\n",
              "      <td>0.0</td>\n",
              "      <td>0.0</td>\n",
              "    </tr>\n",
              "    <tr>\n",
              "      <th>36720</th>\n",
              "      <td>19</td>\n",
              "      <td>0.0</td>\n",
              "      <td>0.0</td>\n",
              "    </tr>\n",
              "    <tr>\n",
              "      <th>38760</th>\n",
              "      <td>20</td>\n",
              "      <td>0.0</td>\n",
              "      <td>0.0</td>\n",
              "    </tr>\n",
              "    <tr>\n",
              "      <th>40800</th>\n",
              "      <td>21</td>\n",
              "      <td>0.0</td>\n",
              "      <td>1.0</td>\n",
              "    </tr>\n",
              "    <tr>\n",
              "      <th>42840</th>\n",
              "      <td>22</td>\n",
              "      <td>1.0</td>\n",
              "      <td>0.0</td>\n",
              "    </tr>\n",
              "    <tr>\n",
              "      <th>44880</th>\n",
              "      <td>23</td>\n",
              "      <td>0.0</td>\n",
              "      <td>1.0</td>\n",
              "    </tr>\n",
              "    <tr>\n",
              "      <th>46920</th>\n",
              "      <td>24</td>\n",
              "      <td>1.0</td>\n",
              "      <td>1.0</td>\n",
              "    </tr>\n",
              "    <tr>\n",
              "      <th>48960</th>\n",
              "      <td>25</td>\n",
              "      <td>1.0</td>\n",
              "      <td>0.0</td>\n",
              "    </tr>\n",
              "    <tr>\n",
              "      <th>51000</th>\n",
              "      <td>26</td>\n",
              "      <td>0.0</td>\n",
              "      <td>1.0</td>\n",
              "    </tr>\n",
              "    <tr>\n",
              "      <th>53040</th>\n",
              "      <td>27</td>\n",
              "      <td>1.0</td>\n",
              "      <td>1.0</td>\n",
              "    </tr>\n",
              "    <tr>\n",
              "      <th>55080</th>\n",
              "      <td>28</td>\n",
              "      <td>1.0</td>\n",
              "      <td>0.0</td>\n",
              "    </tr>\n",
              "    <tr>\n",
              "      <th>57120</th>\n",
              "      <td>29</td>\n",
              "      <td>0.0</td>\n",
              "      <td>0.0</td>\n",
              "    </tr>\n",
              "    <tr>\n",
              "      <th>59160</th>\n",
              "      <td>30</td>\n",
              "      <td>1.0</td>\n",
              "      <td>1.0</td>\n",
              "    </tr>\n",
              "    <tr>\n",
              "      <th>61200</th>\n",
              "      <td>31</td>\n",
              "      <td>1.0</td>\n",
              "      <td>0.0</td>\n",
              "    </tr>\n",
              "    <tr>\n",
              "      <th>63240</th>\n",
              "      <td>32</td>\n",
              "      <td>0.0</td>\n",
              "      <td>0.0</td>\n",
              "    </tr>\n",
              "    <tr>\n",
              "      <th>65280</th>\n",
              "      <td>33</td>\n",
              "      <td>1.0</td>\n",
              "      <td>0.0</td>\n",
              "    </tr>\n",
              "    <tr>\n",
              "      <th>67320</th>\n",
              "      <td>34</td>\n",
              "      <td>1.0</td>\n",
              "      <td>1.0</td>\n",
              "    </tr>\n",
              "    <tr>\n",
              "      <th>69360</th>\n",
              "      <td>35</td>\n",
              "      <td>1.0</td>\n",
              "      <td>0.0</td>\n",
              "    </tr>\n",
              "    <tr>\n",
              "      <th>71400</th>\n",
              "      <td>36</td>\n",
              "      <td>0.0</td>\n",
              "      <td>1.0</td>\n",
              "    </tr>\n",
              "    <tr>\n",
              "      <th>73440</th>\n",
              "      <td>37</td>\n",
              "      <td>1.0</td>\n",
              "      <td>1.0</td>\n",
              "    </tr>\n",
              "    <tr>\n",
              "      <th>75480</th>\n",
              "      <td>38</td>\n",
              "      <td>1.0</td>\n",
              "      <td>1.0</td>\n",
              "    </tr>\n",
              "    <tr>\n",
              "      <th>77520</th>\n",
              "      <td>39</td>\n",
              "      <td>1.0</td>\n",
              "      <td>1.0</td>\n",
              "    </tr>\n",
              "    <tr>\n",
              "      <th>79560</th>\n",
              "      <td>40</td>\n",
              "      <td>1.0</td>\n",
              "      <td>1.0</td>\n",
              "    </tr>\n",
              "    <tr>\n",
              "      <th>81600</th>\n",
              "      <td>41</td>\n",
              "      <td>1.0</td>\n",
              "      <td>0.0</td>\n",
              "    </tr>\n",
              "    <tr>\n",
              "      <th>83640</th>\n",
              "      <td>42</td>\n",
              "      <td>1.0</td>\n",
              "      <td>1.0</td>\n",
              "    </tr>\n",
              "    <tr>\n",
              "      <th>85680</th>\n",
              "      <td>43</td>\n",
              "      <td>1.0</td>\n",
              "      <td>1.0</td>\n",
              "    </tr>\n",
              "    <tr>\n",
              "      <th>87720</th>\n",
              "      <td>44</td>\n",
              "      <td>1.0</td>\n",
              "      <td>1.0</td>\n",
              "    </tr>\n",
              "    <tr>\n",
              "      <th>89760</th>\n",
              "      <td>45</td>\n",
              "      <td>0.0</td>\n",
              "      <td>1.0</td>\n",
              "    </tr>\n",
              "    <tr>\n",
              "      <th>91800</th>\n",
              "      <td>46</td>\n",
              "      <td>1.0</td>\n",
              "      <td>0.0</td>\n",
              "    </tr>\n",
              "    <tr>\n",
              "      <th>93840</th>\n",
              "      <td>47</td>\n",
              "      <td>1.0</td>\n",
              "      <td>1.0</td>\n",
              "    </tr>\n",
              "    <tr>\n",
              "      <th>95880</th>\n",
              "      <td>48</td>\n",
              "      <td>0.0</td>\n",
              "      <td>0.0</td>\n",
              "    </tr>\n",
              "    <tr>\n",
              "      <th>97920</th>\n",
              "      <td>49</td>\n",
              "      <td>0.0</td>\n",
              "      <td>0.0</td>\n",
              "    </tr>\n",
              "    <tr>\n",
              "      <th>99960</th>\n",
              "      <td>50</td>\n",
              "      <td>0.0</td>\n",
              "      <td>0.0</td>\n",
              "    </tr>\n",
              "    <tr>\n",
              "      <th>102000</th>\n",
              "      <td>51</td>\n",
              "      <td>0.0</td>\n",
              "      <td>1.0</td>\n",
              "    </tr>\n",
              "    <tr>\n",
              "      <th>104040</th>\n",
              "      <td>52</td>\n",
              "      <td>1.0</td>\n",
              "      <td>1.0</td>\n",
              "    </tr>\n",
              "    <tr>\n",
              "      <th>106080</th>\n",
              "      <td>53</td>\n",
              "      <td>1.0</td>\n",
              "      <td>0.0</td>\n",
              "    </tr>\n",
              "    <tr>\n",
              "      <th>108120</th>\n",
              "      <td>54</td>\n",
              "      <td>1.0</td>\n",
              "      <td>0.0</td>\n",
              "    </tr>\n",
              "    <tr>\n",
              "      <th>110160</th>\n",
              "      <td>55</td>\n",
              "      <td>1.0</td>\n",
              "      <td>1.0</td>\n",
              "    </tr>\n",
              "    <tr>\n",
              "      <th>112200</th>\n",
              "      <td>56</td>\n",
              "      <td>0.0</td>\n",
              "      <td>1.0</td>\n",
              "    </tr>\n",
              "    <tr>\n",
              "      <th>114240</th>\n",
              "      <td>57</td>\n",
              "      <td>1.0</td>\n",
              "      <td>0.0</td>\n",
              "    </tr>\n",
              "    <tr>\n",
              "      <th>116280</th>\n",
              "      <td>58</td>\n",
              "      <td>1.0</td>\n",
              "      <td>0.0</td>\n",
              "    </tr>\n",
              "    <tr>\n",
              "      <th>118320</th>\n",
              "      <td>59</td>\n",
              "      <td>1.0</td>\n",
              "      <td>0.0</td>\n",
              "    </tr>\n",
              "    <tr>\n",
              "      <th>120360</th>\n",
              "      <td>60</td>\n",
              "      <td>1.0</td>\n",
              "      <td>1.0</td>\n",
              "    </tr>\n",
              "  </tbody>\n",
              "</table>\n",
              "</div>"
            ],
            "text/plain": [
              "        num  비전기냉방설비운영  태양광보유\n",
              "0         1        0.0    0.0\n",
              "2040      2        1.0    0.0\n",
              "4080      3        1.0    1.0\n",
              "6120      4        1.0    1.0\n",
              "8160      5        1.0    0.0\n",
              "10200     6        0.0    0.0\n",
              "12240     7        1.0    0.0\n",
              "14280     8        1.0    1.0\n",
              "16320     9        0.0    1.0\n",
              "18360    10        1.0    0.0\n",
              "20400    11        0.0    0.0\n",
              "22440    12        1.0    1.0\n",
              "24480    13        1.0    0.0\n",
              "26520    14        1.0    1.0\n",
              "28560    15        1.0    0.0\n",
              "30600    16        1.0    1.0\n",
              "32640    17        1.0    0.0\n",
              "34680    18        0.0    0.0\n",
              "36720    19        0.0    0.0\n",
              "38760    20        0.0    0.0\n",
              "40800    21        0.0    1.0\n",
              "42840    22        1.0    0.0\n",
              "44880    23        0.0    1.0\n",
              "46920    24        1.0    1.0\n",
              "48960    25        1.0    0.0\n",
              "51000    26        0.0    1.0\n",
              "53040    27        1.0    1.0\n",
              "55080    28        1.0    0.0\n",
              "57120    29        0.0    0.0\n",
              "59160    30        1.0    1.0\n",
              "61200    31        1.0    0.0\n",
              "63240    32        0.0    0.0\n",
              "65280    33        1.0    0.0\n",
              "67320    34        1.0    1.0\n",
              "69360    35        1.0    0.0\n",
              "71400    36        0.0    1.0\n",
              "73440    37        1.0    1.0\n",
              "75480    38        1.0    1.0\n",
              "77520    39        1.0    1.0\n",
              "79560    40        1.0    1.0\n",
              "81600    41        1.0    0.0\n",
              "83640    42        1.0    1.0\n",
              "85680    43        1.0    1.0\n",
              "87720    44        1.0    1.0\n",
              "89760    45        0.0    1.0\n",
              "91800    46        1.0    0.0\n",
              "93840    47        1.0    1.0\n",
              "95880    48        0.0    0.0\n",
              "97920    49        0.0    0.0\n",
              "99960    50        0.0    0.0\n",
              "102000   51        0.0    1.0\n",
              "104040   52        1.0    1.0\n",
              "106080   53        1.0    0.0\n",
              "108120   54        1.0    0.0\n",
              "110160   55        1.0    1.0\n",
              "112200   56        0.0    1.0\n",
              "114240   57        1.0    0.0\n",
              "116280   58        1.0    0.0\n",
              "118320   59        1.0    0.0\n",
              "120360   60        1.0    1.0"
            ]
          },
          "metadata": {},
          "execution_count": 11
        }
      ]
    },
    {
      "cell_type": "markdown",
      "metadata": {
        "id": "pRCLeS3VlARY"
      },
      "source": [
        "### 문제 08. 건물 정보 결측치 채우기\n",
        "\n",
        "- 추출한 건물 정보에서 같은 건물번호를 가지는 건물정보를 가져와서, 데이터를 채워줍니다."
      ]
    },
    {
      "cell_type": "code",
      "metadata": {
        "id": "UdvdyrZAkl6M",
        "colab": {
          "base_uri": "https://localhost:8080/",
          "height": 420
        },
        "outputId": "18d36852-3f17-46a0-f55e-80e2ce047d02"
      },
      "source": [
        "# test data의 건물번호가 building_info에 있는 번호와 같으면 해당 정보로 결측치를 채워줍니다.\n",
        "for num in range(1, 61):\n",
        "    test.loc[test.num == num, \"비전기냉방설비운영\"] = building_info.loc[building_info.num == num, \"비전기냉방설비운영\"].values[0]\n",
        "    test.loc[test.num == num, \"태양광보유\"] = building_info.loc[building_info.num == num, \"태양광보유\"].values[0]\n",
        "\n",
        "test"
      ],
      "execution_count": null,
      "outputs": [
        {
          "output_type": "execute_result",
          "data": {
            "text/html": [
              "<div>\n",
              "<style scoped>\n",
              "    .dataframe tbody tr th:only-of-type {\n",
              "        vertical-align: middle;\n",
              "    }\n",
              "\n",
              "    .dataframe tbody tr th {\n",
              "        vertical-align: top;\n",
              "    }\n",
              "\n",
              "    .dataframe thead th {\n",
              "        text-align: right;\n",
              "    }\n",
              "</style>\n",
              "<table border=\"1\" class=\"dataframe\">\n",
              "  <thead>\n",
              "    <tr style=\"text-align: right;\">\n",
              "      <th></th>\n",
              "      <th>num</th>\n",
              "      <th>date_time</th>\n",
              "      <th>기온(°C)</th>\n",
              "      <th>풍속(m/s)</th>\n",
              "      <th>습도(%)</th>\n",
              "      <th>강수량(mm, 6시간)</th>\n",
              "      <th>일조(hr, 3시간)</th>\n",
              "      <th>비전기냉방설비운영</th>\n",
              "      <th>태양광보유</th>\n",
              "    </tr>\n",
              "  </thead>\n",
              "  <tbody>\n",
              "    <tr>\n",
              "      <th>0</th>\n",
              "      <td>1</td>\n",
              "      <td>2020-08-25 00</td>\n",
              "      <td>27.8</td>\n",
              "      <td>1.5</td>\n",
              "      <td>74.0</td>\n",
              "      <td>0.0</td>\n",
              "      <td>0.0</td>\n",
              "      <td>0.0</td>\n",
              "      <td>0.0</td>\n",
              "    </tr>\n",
              "    <tr>\n",
              "      <th>1</th>\n",
              "      <td>1</td>\n",
              "      <td>2020-08-25 01</td>\n",
              "      <td>NaN</td>\n",
              "      <td>NaN</td>\n",
              "      <td>NaN</td>\n",
              "      <td>NaN</td>\n",
              "      <td>NaN</td>\n",
              "      <td>0.0</td>\n",
              "      <td>0.0</td>\n",
              "    </tr>\n",
              "    <tr>\n",
              "      <th>2</th>\n",
              "      <td>1</td>\n",
              "      <td>2020-08-25 02</td>\n",
              "      <td>NaN</td>\n",
              "      <td>NaN</td>\n",
              "      <td>NaN</td>\n",
              "      <td>NaN</td>\n",
              "      <td>NaN</td>\n",
              "      <td>0.0</td>\n",
              "      <td>0.0</td>\n",
              "    </tr>\n",
              "    <tr>\n",
              "      <th>3</th>\n",
              "      <td>1</td>\n",
              "      <td>2020-08-25 03</td>\n",
              "      <td>27.3</td>\n",
              "      <td>1.1</td>\n",
              "      <td>78.0</td>\n",
              "      <td>NaN</td>\n",
              "      <td>0.0</td>\n",
              "      <td>0.0</td>\n",
              "      <td>0.0</td>\n",
              "    </tr>\n",
              "    <tr>\n",
              "      <th>4</th>\n",
              "      <td>1</td>\n",
              "      <td>2020-08-25 04</td>\n",
              "      <td>NaN</td>\n",
              "      <td>NaN</td>\n",
              "      <td>NaN</td>\n",
              "      <td>NaN</td>\n",
              "      <td>NaN</td>\n",
              "      <td>0.0</td>\n",
              "      <td>0.0</td>\n",
              "    </tr>\n",
              "    <tr>\n",
              "      <th>...</th>\n",
              "      <td>...</td>\n",
              "      <td>...</td>\n",
              "      <td>...</td>\n",
              "      <td>...</td>\n",
              "      <td>...</td>\n",
              "      <td>...</td>\n",
              "      <td>...</td>\n",
              "      <td>...</td>\n",
              "      <td>...</td>\n",
              "    </tr>\n",
              "    <tr>\n",
              "      <th>10075</th>\n",
              "      <td>60</td>\n",
              "      <td>2020-08-31 19</td>\n",
              "      <td>NaN</td>\n",
              "      <td>NaN</td>\n",
              "      <td>NaN</td>\n",
              "      <td>NaN</td>\n",
              "      <td>NaN</td>\n",
              "      <td>1.0</td>\n",
              "      <td>1.0</td>\n",
              "    </tr>\n",
              "    <tr>\n",
              "      <th>10076</th>\n",
              "      <td>60</td>\n",
              "      <td>2020-08-31 20</td>\n",
              "      <td>NaN</td>\n",
              "      <td>NaN</td>\n",
              "      <td>NaN</td>\n",
              "      <td>NaN</td>\n",
              "      <td>NaN</td>\n",
              "      <td>1.0</td>\n",
              "      <td>1.0</td>\n",
              "    </tr>\n",
              "    <tr>\n",
              "      <th>10077</th>\n",
              "      <td>60</td>\n",
              "      <td>2020-08-31 21</td>\n",
              "      <td>27.9</td>\n",
              "      <td>4.1</td>\n",
              "      <td>68.0</td>\n",
              "      <td>NaN</td>\n",
              "      <td>0.0</td>\n",
              "      <td>1.0</td>\n",
              "      <td>1.0</td>\n",
              "    </tr>\n",
              "    <tr>\n",
              "      <th>10078</th>\n",
              "      <td>60</td>\n",
              "      <td>2020-08-31 22</td>\n",
              "      <td>NaN</td>\n",
              "      <td>NaN</td>\n",
              "      <td>NaN</td>\n",
              "      <td>NaN</td>\n",
              "      <td>NaN</td>\n",
              "      <td>1.0</td>\n",
              "      <td>1.0</td>\n",
              "    </tr>\n",
              "    <tr>\n",
              "      <th>10079</th>\n",
              "      <td>60</td>\n",
              "      <td>2020-08-31 23</td>\n",
              "      <td>NaN</td>\n",
              "      <td>NaN</td>\n",
              "      <td>NaN</td>\n",
              "      <td>NaN</td>\n",
              "      <td>NaN</td>\n",
              "      <td>1.0</td>\n",
              "      <td>1.0</td>\n",
              "    </tr>\n",
              "  </tbody>\n",
              "</table>\n",
              "<p>10080 rows × 9 columns</p>\n",
              "</div>"
            ],
            "text/plain": [
              "       num      date_time  기온(°C)  ...  일조(hr, 3시간)  비전기냉방설비운영  태양광보유\n",
              "0        1  2020-08-25 00    27.8  ...          0.0        0.0    0.0\n",
              "1        1  2020-08-25 01     NaN  ...          NaN        0.0    0.0\n",
              "2        1  2020-08-25 02     NaN  ...          NaN        0.0    0.0\n",
              "3        1  2020-08-25 03    27.3  ...          0.0        0.0    0.0\n",
              "4        1  2020-08-25 04     NaN  ...          NaN        0.0    0.0\n",
              "...    ...            ...     ...  ...          ...        ...    ...\n",
              "10075   60  2020-08-31 19     NaN  ...          NaN        1.0    1.0\n",
              "10076   60  2020-08-31 20     NaN  ...          NaN        1.0    1.0\n",
              "10077   60  2020-08-31 21    27.9  ...          0.0        1.0    1.0\n",
              "10078   60  2020-08-31 22     NaN  ...          NaN        1.0    1.0\n",
              "10079   60  2020-08-31 23     NaN  ...          NaN        1.0    1.0\n",
              "\n",
              "[10080 rows x 9 columns]"
            ]
          },
          "metadata": {},
          "execution_count": 12
        }
      ]
    },
    {
      "cell_type": "markdown",
      "metadata": {
        "id": "ZjnYBx_jn1Qo"
      },
      "source": [
        "### 문제 09. table join을 사용하여 결측치 채우기\n",
        "\n",
        "- 위의 for문을 사용하는 방법보다 좀 더 간단하게, test 데이터와 building_info의 num를 기준으로 join 연산을 수행하면 한번에 해결할 수 있습니다."
      ]
    },
    {
      "cell_type": "code",
      "metadata": {
        "colab": {
          "base_uri": "https://localhost:8080/",
          "height": 420
        },
        "id": "c49lEF_pr1Zs",
        "outputId": "71223e52-6023-4818-8a18-36c071c211bb"
      },
      "source": [
        "# join을 수행하기 위해서 test 데이터에 있는 기존 column을 제거합니다.\n",
        "test.drop(columns=[\"비전기냉방설비운영\", \"태양광보유\"], inplace=True)\n",
        "test"
      ],
      "execution_count": null,
      "outputs": [
        {
          "output_type": "execute_result",
          "data": {
            "text/html": [
              "<div>\n",
              "<style scoped>\n",
              "    .dataframe tbody tr th:only-of-type {\n",
              "        vertical-align: middle;\n",
              "    }\n",
              "\n",
              "    .dataframe tbody tr th {\n",
              "        vertical-align: top;\n",
              "    }\n",
              "\n",
              "    .dataframe thead th {\n",
              "        text-align: right;\n",
              "    }\n",
              "</style>\n",
              "<table border=\"1\" class=\"dataframe\">\n",
              "  <thead>\n",
              "    <tr style=\"text-align: right;\">\n",
              "      <th></th>\n",
              "      <th>num</th>\n",
              "      <th>date_time</th>\n",
              "      <th>기온(°C)</th>\n",
              "      <th>풍속(m/s)</th>\n",
              "      <th>습도(%)</th>\n",
              "      <th>강수량(mm, 6시간)</th>\n",
              "      <th>일조(hr, 3시간)</th>\n",
              "    </tr>\n",
              "  </thead>\n",
              "  <tbody>\n",
              "    <tr>\n",
              "      <th>0</th>\n",
              "      <td>1</td>\n",
              "      <td>2020-08-25 00</td>\n",
              "      <td>27.8</td>\n",
              "      <td>1.5</td>\n",
              "      <td>74.0</td>\n",
              "      <td>0.0</td>\n",
              "      <td>0.0</td>\n",
              "    </tr>\n",
              "    <tr>\n",
              "      <th>1</th>\n",
              "      <td>1</td>\n",
              "      <td>2020-08-25 01</td>\n",
              "      <td>NaN</td>\n",
              "      <td>NaN</td>\n",
              "      <td>NaN</td>\n",
              "      <td>NaN</td>\n",
              "      <td>NaN</td>\n",
              "    </tr>\n",
              "    <tr>\n",
              "      <th>2</th>\n",
              "      <td>1</td>\n",
              "      <td>2020-08-25 02</td>\n",
              "      <td>NaN</td>\n",
              "      <td>NaN</td>\n",
              "      <td>NaN</td>\n",
              "      <td>NaN</td>\n",
              "      <td>NaN</td>\n",
              "    </tr>\n",
              "    <tr>\n",
              "      <th>3</th>\n",
              "      <td>1</td>\n",
              "      <td>2020-08-25 03</td>\n",
              "      <td>27.3</td>\n",
              "      <td>1.1</td>\n",
              "      <td>78.0</td>\n",
              "      <td>NaN</td>\n",
              "      <td>0.0</td>\n",
              "    </tr>\n",
              "    <tr>\n",
              "      <th>4</th>\n",
              "      <td>1</td>\n",
              "      <td>2020-08-25 04</td>\n",
              "      <td>NaN</td>\n",
              "      <td>NaN</td>\n",
              "      <td>NaN</td>\n",
              "      <td>NaN</td>\n",
              "      <td>NaN</td>\n",
              "    </tr>\n",
              "    <tr>\n",
              "      <th>...</th>\n",
              "      <td>...</td>\n",
              "      <td>...</td>\n",
              "      <td>...</td>\n",
              "      <td>...</td>\n",
              "      <td>...</td>\n",
              "      <td>...</td>\n",
              "      <td>...</td>\n",
              "    </tr>\n",
              "    <tr>\n",
              "      <th>10075</th>\n",
              "      <td>60</td>\n",
              "      <td>2020-08-31 19</td>\n",
              "      <td>NaN</td>\n",
              "      <td>NaN</td>\n",
              "      <td>NaN</td>\n",
              "      <td>NaN</td>\n",
              "      <td>NaN</td>\n",
              "    </tr>\n",
              "    <tr>\n",
              "      <th>10076</th>\n",
              "      <td>60</td>\n",
              "      <td>2020-08-31 20</td>\n",
              "      <td>NaN</td>\n",
              "      <td>NaN</td>\n",
              "      <td>NaN</td>\n",
              "      <td>NaN</td>\n",
              "      <td>NaN</td>\n",
              "    </tr>\n",
              "    <tr>\n",
              "      <th>10077</th>\n",
              "      <td>60</td>\n",
              "      <td>2020-08-31 21</td>\n",
              "      <td>27.9</td>\n",
              "      <td>4.1</td>\n",
              "      <td>68.0</td>\n",
              "      <td>NaN</td>\n",
              "      <td>0.0</td>\n",
              "    </tr>\n",
              "    <tr>\n",
              "      <th>10078</th>\n",
              "      <td>60</td>\n",
              "      <td>2020-08-31 22</td>\n",
              "      <td>NaN</td>\n",
              "      <td>NaN</td>\n",
              "      <td>NaN</td>\n",
              "      <td>NaN</td>\n",
              "      <td>NaN</td>\n",
              "    </tr>\n",
              "    <tr>\n",
              "      <th>10079</th>\n",
              "      <td>60</td>\n",
              "      <td>2020-08-31 23</td>\n",
              "      <td>NaN</td>\n",
              "      <td>NaN</td>\n",
              "      <td>NaN</td>\n",
              "      <td>NaN</td>\n",
              "      <td>NaN</td>\n",
              "    </tr>\n",
              "  </tbody>\n",
              "</table>\n",
              "<p>10080 rows × 7 columns</p>\n",
              "</div>"
            ],
            "text/plain": [
              "       num      date_time  기온(°C)  풍속(m/s)  습도(%)  강수량(mm, 6시간)  일조(hr, 3시간)\n",
              "0        1  2020-08-25 00    27.8      1.5   74.0           0.0          0.0\n",
              "1        1  2020-08-25 01     NaN      NaN    NaN           NaN          NaN\n",
              "2        1  2020-08-25 02     NaN      NaN    NaN           NaN          NaN\n",
              "3        1  2020-08-25 03    27.3      1.1   78.0           NaN          0.0\n",
              "4        1  2020-08-25 04     NaN      NaN    NaN           NaN          NaN\n",
              "...    ...            ...     ...      ...    ...           ...          ...\n",
              "10075   60  2020-08-31 19     NaN      NaN    NaN           NaN          NaN\n",
              "10076   60  2020-08-31 20     NaN      NaN    NaN           NaN          NaN\n",
              "10077   60  2020-08-31 21    27.9      4.1   68.0           NaN          0.0\n",
              "10078   60  2020-08-31 22     NaN      NaN    NaN           NaN          NaN\n",
              "10079   60  2020-08-31 23     NaN      NaN    NaN           NaN          NaN\n",
              "\n",
              "[10080 rows x 7 columns]"
            ]
          },
          "metadata": {},
          "execution_count": 13
        }
      ]
    },
    {
      "cell_type": "code",
      "metadata": {
        "colab": {
          "base_uri": "https://localhost:8080/",
          "height": 420
        },
        "id": "hf_c_ytHs7q0",
        "outputId": "48233eec-97f1-4ce8-b5ab-2ef45c7c9091"
      },
      "source": [
        "# num column을 기준으로 join 연산을 수행합니다.\n",
        "test = pd.merge(test, building_info, on=\"num\")\n",
        "test"
      ],
      "execution_count": null,
      "outputs": [
        {
          "output_type": "execute_result",
          "data": {
            "text/html": [
              "<div>\n",
              "<style scoped>\n",
              "    .dataframe tbody tr th:only-of-type {\n",
              "        vertical-align: middle;\n",
              "    }\n",
              "\n",
              "    .dataframe tbody tr th {\n",
              "        vertical-align: top;\n",
              "    }\n",
              "\n",
              "    .dataframe thead th {\n",
              "        text-align: right;\n",
              "    }\n",
              "</style>\n",
              "<table border=\"1\" class=\"dataframe\">\n",
              "  <thead>\n",
              "    <tr style=\"text-align: right;\">\n",
              "      <th></th>\n",
              "      <th>num</th>\n",
              "      <th>date_time</th>\n",
              "      <th>기온(°C)</th>\n",
              "      <th>풍속(m/s)</th>\n",
              "      <th>습도(%)</th>\n",
              "      <th>강수량(mm, 6시간)</th>\n",
              "      <th>일조(hr, 3시간)</th>\n",
              "      <th>비전기냉방설비운영</th>\n",
              "      <th>태양광보유</th>\n",
              "    </tr>\n",
              "  </thead>\n",
              "  <tbody>\n",
              "    <tr>\n",
              "      <th>0</th>\n",
              "      <td>1</td>\n",
              "      <td>2020-08-25 00</td>\n",
              "      <td>27.8</td>\n",
              "      <td>1.5</td>\n",
              "      <td>74.0</td>\n",
              "      <td>0.0</td>\n",
              "      <td>0.0</td>\n",
              "      <td>0.0</td>\n",
              "      <td>0.0</td>\n",
              "    </tr>\n",
              "    <tr>\n",
              "      <th>1</th>\n",
              "      <td>1</td>\n",
              "      <td>2020-08-25 01</td>\n",
              "      <td>NaN</td>\n",
              "      <td>NaN</td>\n",
              "      <td>NaN</td>\n",
              "      <td>NaN</td>\n",
              "      <td>NaN</td>\n",
              "      <td>0.0</td>\n",
              "      <td>0.0</td>\n",
              "    </tr>\n",
              "    <tr>\n",
              "      <th>2</th>\n",
              "      <td>1</td>\n",
              "      <td>2020-08-25 02</td>\n",
              "      <td>NaN</td>\n",
              "      <td>NaN</td>\n",
              "      <td>NaN</td>\n",
              "      <td>NaN</td>\n",
              "      <td>NaN</td>\n",
              "      <td>0.0</td>\n",
              "      <td>0.0</td>\n",
              "    </tr>\n",
              "    <tr>\n",
              "      <th>3</th>\n",
              "      <td>1</td>\n",
              "      <td>2020-08-25 03</td>\n",
              "      <td>27.3</td>\n",
              "      <td>1.1</td>\n",
              "      <td>78.0</td>\n",
              "      <td>NaN</td>\n",
              "      <td>0.0</td>\n",
              "      <td>0.0</td>\n",
              "      <td>0.0</td>\n",
              "    </tr>\n",
              "    <tr>\n",
              "      <th>4</th>\n",
              "      <td>1</td>\n",
              "      <td>2020-08-25 04</td>\n",
              "      <td>NaN</td>\n",
              "      <td>NaN</td>\n",
              "      <td>NaN</td>\n",
              "      <td>NaN</td>\n",
              "      <td>NaN</td>\n",
              "      <td>0.0</td>\n",
              "      <td>0.0</td>\n",
              "    </tr>\n",
              "    <tr>\n",
              "      <th>...</th>\n",
              "      <td>...</td>\n",
              "      <td>...</td>\n",
              "      <td>...</td>\n",
              "      <td>...</td>\n",
              "      <td>...</td>\n",
              "      <td>...</td>\n",
              "      <td>...</td>\n",
              "      <td>...</td>\n",
              "      <td>...</td>\n",
              "    </tr>\n",
              "    <tr>\n",
              "      <th>10075</th>\n",
              "      <td>60</td>\n",
              "      <td>2020-08-31 19</td>\n",
              "      <td>NaN</td>\n",
              "      <td>NaN</td>\n",
              "      <td>NaN</td>\n",
              "      <td>NaN</td>\n",
              "      <td>NaN</td>\n",
              "      <td>1.0</td>\n",
              "      <td>1.0</td>\n",
              "    </tr>\n",
              "    <tr>\n",
              "      <th>10076</th>\n",
              "      <td>60</td>\n",
              "      <td>2020-08-31 20</td>\n",
              "      <td>NaN</td>\n",
              "      <td>NaN</td>\n",
              "      <td>NaN</td>\n",
              "      <td>NaN</td>\n",
              "      <td>NaN</td>\n",
              "      <td>1.0</td>\n",
              "      <td>1.0</td>\n",
              "    </tr>\n",
              "    <tr>\n",
              "      <th>10077</th>\n",
              "      <td>60</td>\n",
              "      <td>2020-08-31 21</td>\n",
              "      <td>27.9</td>\n",
              "      <td>4.1</td>\n",
              "      <td>68.0</td>\n",
              "      <td>NaN</td>\n",
              "      <td>0.0</td>\n",
              "      <td>1.0</td>\n",
              "      <td>1.0</td>\n",
              "    </tr>\n",
              "    <tr>\n",
              "      <th>10078</th>\n",
              "      <td>60</td>\n",
              "      <td>2020-08-31 22</td>\n",
              "      <td>NaN</td>\n",
              "      <td>NaN</td>\n",
              "      <td>NaN</td>\n",
              "      <td>NaN</td>\n",
              "      <td>NaN</td>\n",
              "      <td>1.0</td>\n",
              "      <td>1.0</td>\n",
              "    </tr>\n",
              "    <tr>\n",
              "      <th>10079</th>\n",
              "      <td>60</td>\n",
              "      <td>2020-08-31 23</td>\n",
              "      <td>NaN</td>\n",
              "      <td>NaN</td>\n",
              "      <td>NaN</td>\n",
              "      <td>NaN</td>\n",
              "      <td>NaN</td>\n",
              "      <td>1.0</td>\n",
              "      <td>1.0</td>\n",
              "    </tr>\n",
              "  </tbody>\n",
              "</table>\n",
              "<p>10080 rows × 9 columns</p>\n",
              "</div>"
            ],
            "text/plain": [
              "       num      date_time  기온(°C)  ...  일조(hr, 3시간)  비전기냉방설비운영  태양광보유\n",
              "0        1  2020-08-25 00    27.8  ...          0.0        0.0    0.0\n",
              "1        1  2020-08-25 01     NaN  ...          NaN        0.0    0.0\n",
              "2        1  2020-08-25 02     NaN  ...          NaN        0.0    0.0\n",
              "3        1  2020-08-25 03    27.3  ...          0.0        0.0    0.0\n",
              "4        1  2020-08-25 04     NaN  ...          NaN        0.0    0.0\n",
              "...    ...            ...     ...  ...          ...        ...    ...\n",
              "10075   60  2020-08-31 19     NaN  ...          NaN        1.0    1.0\n",
              "10076   60  2020-08-31 20     NaN  ...          NaN        1.0    1.0\n",
              "10077   60  2020-08-31 21    27.9  ...          0.0        1.0    1.0\n",
              "10078   60  2020-08-31 22     NaN  ...          NaN        1.0    1.0\n",
              "10079   60  2020-08-31 23     NaN  ...          NaN        1.0    1.0\n",
              "\n",
              "[10080 rows x 9 columns]"
            ]
          },
          "metadata": {},
          "execution_count": 14
        }
      ]
    },
    {
      "cell_type": "markdown",
      "metadata": {
        "id": "K7o5EkGjtJm0"
      },
      "source": [
        "### 문제 10. 날씨 정보 결측치 채우기"
      ]
    },
    {
      "cell_type": "code",
      "metadata": {
        "colab": {
          "base_uri": "https://localhost:8080/",
          "height": 420
        },
        "id": "DdJrA5QQ6Fm_",
        "outputId": "dc0cd7aa-7676-4165-8c47-790e38f517cc"
      },
      "source": [
        "# test 데이터의 날씨 정보 column들을 보간법으로 채웁니다.\n",
        "# pad method를 사용하면 이전에 등장했던 가장 가까운 값으로 채워줍니다.\n",
        "test = test.interpolate(method=\"pad\")\n",
        "test"
      ],
      "execution_count": null,
      "outputs": [
        {
          "output_type": "execute_result",
          "data": {
            "text/html": [
              "<div>\n",
              "<style scoped>\n",
              "    .dataframe tbody tr th:only-of-type {\n",
              "        vertical-align: middle;\n",
              "    }\n",
              "\n",
              "    .dataframe tbody tr th {\n",
              "        vertical-align: top;\n",
              "    }\n",
              "\n",
              "    .dataframe thead th {\n",
              "        text-align: right;\n",
              "    }\n",
              "</style>\n",
              "<table border=\"1\" class=\"dataframe\">\n",
              "  <thead>\n",
              "    <tr style=\"text-align: right;\">\n",
              "      <th></th>\n",
              "      <th>num</th>\n",
              "      <th>date_time</th>\n",
              "      <th>기온(°C)</th>\n",
              "      <th>풍속(m/s)</th>\n",
              "      <th>습도(%)</th>\n",
              "      <th>강수량(mm, 6시간)</th>\n",
              "      <th>일조(hr, 3시간)</th>\n",
              "      <th>비전기냉방설비운영</th>\n",
              "      <th>태양광보유</th>\n",
              "    </tr>\n",
              "  </thead>\n",
              "  <tbody>\n",
              "    <tr>\n",
              "      <th>0</th>\n",
              "      <td>1</td>\n",
              "      <td>2020-08-25 00</td>\n",
              "      <td>27.8</td>\n",
              "      <td>1.5</td>\n",
              "      <td>74.0</td>\n",
              "      <td>0.0</td>\n",
              "      <td>0.0</td>\n",
              "      <td>0.0</td>\n",
              "      <td>0.0</td>\n",
              "    </tr>\n",
              "    <tr>\n",
              "      <th>1</th>\n",
              "      <td>1</td>\n",
              "      <td>2020-08-25 01</td>\n",
              "      <td>27.8</td>\n",
              "      <td>1.5</td>\n",
              "      <td>74.0</td>\n",
              "      <td>0.0</td>\n",
              "      <td>0.0</td>\n",
              "      <td>0.0</td>\n",
              "      <td>0.0</td>\n",
              "    </tr>\n",
              "    <tr>\n",
              "      <th>2</th>\n",
              "      <td>1</td>\n",
              "      <td>2020-08-25 02</td>\n",
              "      <td>27.8</td>\n",
              "      <td>1.5</td>\n",
              "      <td>74.0</td>\n",
              "      <td>0.0</td>\n",
              "      <td>0.0</td>\n",
              "      <td>0.0</td>\n",
              "      <td>0.0</td>\n",
              "    </tr>\n",
              "    <tr>\n",
              "      <th>3</th>\n",
              "      <td>1</td>\n",
              "      <td>2020-08-25 03</td>\n",
              "      <td>27.3</td>\n",
              "      <td>1.1</td>\n",
              "      <td>78.0</td>\n",
              "      <td>0.0</td>\n",
              "      <td>0.0</td>\n",
              "      <td>0.0</td>\n",
              "      <td>0.0</td>\n",
              "    </tr>\n",
              "    <tr>\n",
              "      <th>4</th>\n",
              "      <td>1</td>\n",
              "      <td>2020-08-25 04</td>\n",
              "      <td>27.3</td>\n",
              "      <td>1.1</td>\n",
              "      <td>78.0</td>\n",
              "      <td>0.0</td>\n",
              "      <td>0.0</td>\n",
              "      <td>0.0</td>\n",
              "      <td>0.0</td>\n",
              "    </tr>\n",
              "    <tr>\n",
              "      <th>...</th>\n",
              "      <td>...</td>\n",
              "      <td>...</td>\n",
              "      <td>...</td>\n",
              "      <td>...</td>\n",
              "      <td>...</td>\n",
              "      <td>...</td>\n",
              "      <td>...</td>\n",
              "      <td>...</td>\n",
              "      <td>...</td>\n",
              "    </tr>\n",
              "    <tr>\n",
              "      <th>10075</th>\n",
              "      <td>60</td>\n",
              "      <td>2020-08-31 19</td>\n",
              "      <td>29.0</td>\n",
              "      <td>3.3</td>\n",
              "      <td>65.0</td>\n",
              "      <td>0.0</td>\n",
              "      <td>0.8</td>\n",
              "      <td>1.0</td>\n",
              "      <td>1.0</td>\n",
              "    </tr>\n",
              "    <tr>\n",
              "      <th>10076</th>\n",
              "      <td>60</td>\n",
              "      <td>2020-08-31 20</td>\n",
              "      <td>29.0</td>\n",
              "      <td>3.3</td>\n",
              "      <td>65.0</td>\n",
              "      <td>0.0</td>\n",
              "      <td>0.8</td>\n",
              "      <td>1.0</td>\n",
              "      <td>1.0</td>\n",
              "    </tr>\n",
              "    <tr>\n",
              "      <th>10077</th>\n",
              "      <td>60</td>\n",
              "      <td>2020-08-31 21</td>\n",
              "      <td>27.9</td>\n",
              "      <td>4.1</td>\n",
              "      <td>68.0</td>\n",
              "      <td>0.0</td>\n",
              "      <td>0.0</td>\n",
              "      <td>1.0</td>\n",
              "      <td>1.0</td>\n",
              "    </tr>\n",
              "    <tr>\n",
              "      <th>10078</th>\n",
              "      <td>60</td>\n",
              "      <td>2020-08-31 22</td>\n",
              "      <td>27.9</td>\n",
              "      <td>4.1</td>\n",
              "      <td>68.0</td>\n",
              "      <td>0.0</td>\n",
              "      <td>0.0</td>\n",
              "      <td>1.0</td>\n",
              "      <td>1.0</td>\n",
              "    </tr>\n",
              "    <tr>\n",
              "      <th>10079</th>\n",
              "      <td>60</td>\n",
              "      <td>2020-08-31 23</td>\n",
              "      <td>27.9</td>\n",
              "      <td>4.1</td>\n",
              "      <td>68.0</td>\n",
              "      <td>0.0</td>\n",
              "      <td>0.0</td>\n",
              "      <td>1.0</td>\n",
              "      <td>1.0</td>\n",
              "    </tr>\n",
              "  </tbody>\n",
              "</table>\n",
              "<p>10080 rows × 9 columns</p>\n",
              "</div>"
            ],
            "text/plain": [
              "       num      date_time  기온(°C)  ...  일조(hr, 3시간)  비전기냉방설비운영  태양광보유\n",
              "0        1  2020-08-25 00    27.8  ...          0.0        0.0    0.0\n",
              "1        1  2020-08-25 01    27.8  ...          0.0        0.0    0.0\n",
              "2        1  2020-08-25 02    27.8  ...          0.0        0.0    0.0\n",
              "3        1  2020-08-25 03    27.3  ...          0.0        0.0    0.0\n",
              "4        1  2020-08-25 04    27.3  ...          0.0        0.0    0.0\n",
              "...    ...            ...     ...  ...          ...        ...    ...\n",
              "10075   60  2020-08-31 19    29.0  ...          0.8        1.0    1.0\n",
              "10076   60  2020-08-31 20    29.0  ...          0.8        1.0    1.0\n",
              "10077   60  2020-08-31 21    27.9  ...          0.0        1.0    1.0\n",
              "10078   60  2020-08-31 22    27.9  ...          0.0        1.0    1.0\n",
              "10079   60  2020-08-31 23    27.9  ...          0.0        1.0    1.0\n",
              "\n",
              "[10080 rows x 9 columns]"
            ]
          },
          "metadata": {},
          "execution_count": 15
        }
      ]
    },
    {
      "cell_type": "code",
      "metadata": {
        "id": "L7VhUDCtn0f9",
        "colab": {
          "base_uri": "https://localhost:8080/",
          "height": 420
        },
        "outputId": "ac0f3723-cdf1-401c-a445-0ad35ab97c35"
      },
      "source": [
        "# 사이 정보를 선형식으로 채워주는 linear method가 좀 더 좋아보입니다.\n",
        "test = test.interpolate(method=\"linear\")\n",
        "test"
      ],
      "execution_count": null,
      "outputs": [
        {
          "output_type": "execute_result",
          "data": {
            "text/html": [
              "<div>\n",
              "<style scoped>\n",
              "    .dataframe tbody tr th:only-of-type {\n",
              "        vertical-align: middle;\n",
              "    }\n",
              "\n",
              "    .dataframe tbody tr th {\n",
              "        vertical-align: top;\n",
              "    }\n",
              "\n",
              "    .dataframe thead th {\n",
              "        text-align: right;\n",
              "    }\n",
              "</style>\n",
              "<table border=\"1\" class=\"dataframe\">\n",
              "  <thead>\n",
              "    <tr style=\"text-align: right;\">\n",
              "      <th></th>\n",
              "      <th>num</th>\n",
              "      <th>date_time</th>\n",
              "      <th>기온(°C)</th>\n",
              "      <th>풍속(m/s)</th>\n",
              "      <th>습도(%)</th>\n",
              "      <th>강수량(mm, 6시간)</th>\n",
              "      <th>일조(hr, 3시간)</th>\n",
              "      <th>비전기냉방설비운영</th>\n",
              "      <th>태양광보유</th>\n",
              "    </tr>\n",
              "  </thead>\n",
              "  <tbody>\n",
              "    <tr>\n",
              "      <th>0</th>\n",
              "      <td>1</td>\n",
              "      <td>2020-08-25 00</td>\n",
              "      <td>27.8</td>\n",
              "      <td>1.5</td>\n",
              "      <td>74.0</td>\n",
              "      <td>0.0</td>\n",
              "      <td>0.0</td>\n",
              "      <td>0.0</td>\n",
              "      <td>0.0</td>\n",
              "    </tr>\n",
              "    <tr>\n",
              "      <th>1</th>\n",
              "      <td>1</td>\n",
              "      <td>2020-08-25 01</td>\n",
              "      <td>27.8</td>\n",
              "      <td>1.5</td>\n",
              "      <td>74.0</td>\n",
              "      <td>0.0</td>\n",
              "      <td>0.0</td>\n",
              "      <td>0.0</td>\n",
              "      <td>0.0</td>\n",
              "    </tr>\n",
              "    <tr>\n",
              "      <th>2</th>\n",
              "      <td>1</td>\n",
              "      <td>2020-08-25 02</td>\n",
              "      <td>27.8</td>\n",
              "      <td>1.5</td>\n",
              "      <td>74.0</td>\n",
              "      <td>0.0</td>\n",
              "      <td>0.0</td>\n",
              "      <td>0.0</td>\n",
              "      <td>0.0</td>\n",
              "    </tr>\n",
              "    <tr>\n",
              "      <th>3</th>\n",
              "      <td>1</td>\n",
              "      <td>2020-08-25 03</td>\n",
              "      <td>27.3</td>\n",
              "      <td>1.1</td>\n",
              "      <td>78.0</td>\n",
              "      <td>0.0</td>\n",
              "      <td>0.0</td>\n",
              "      <td>0.0</td>\n",
              "      <td>0.0</td>\n",
              "    </tr>\n",
              "    <tr>\n",
              "      <th>4</th>\n",
              "      <td>1</td>\n",
              "      <td>2020-08-25 04</td>\n",
              "      <td>27.3</td>\n",
              "      <td>1.1</td>\n",
              "      <td>78.0</td>\n",
              "      <td>0.0</td>\n",
              "      <td>0.0</td>\n",
              "      <td>0.0</td>\n",
              "      <td>0.0</td>\n",
              "    </tr>\n",
              "    <tr>\n",
              "      <th>...</th>\n",
              "      <td>...</td>\n",
              "      <td>...</td>\n",
              "      <td>...</td>\n",
              "      <td>...</td>\n",
              "      <td>...</td>\n",
              "      <td>...</td>\n",
              "      <td>...</td>\n",
              "      <td>...</td>\n",
              "      <td>...</td>\n",
              "    </tr>\n",
              "    <tr>\n",
              "      <th>10075</th>\n",
              "      <td>60</td>\n",
              "      <td>2020-08-31 19</td>\n",
              "      <td>29.0</td>\n",
              "      <td>3.3</td>\n",
              "      <td>65.0</td>\n",
              "      <td>0.0</td>\n",
              "      <td>0.8</td>\n",
              "      <td>1.0</td>\n",
              "      <td>1.0</td>\n",
              "    </tr>\n",
              "    <tr>\n",
              "      <th>10076</th>\n",
              "      <td>60</td>\n",
              "      <td>2020-08-31 20</td>\n",
              "      <td>29.0</td>\n",
              "      <td>3.3</td>\n",
              "      <td>65.0</td>\n",
              "      <td>0.0</td>\n",
              "      <td>0.8</td>\n",
              "      <td>1.0</td>\n",
              "      <td>1.0</td>\n",
              "    </tr>\n",
              "    <tr>\n",
              "      <th>10077</th>\n",
              "      <td>60</td>\n",
              "      <td>2020-08-31 21</td>\n",
              "      <td>27.9</td>\n",
              "      <td>4.1</td>\n",
              "      <td>68.0</td>\n",
              "      <td>0.0</td>\n",
              "      <td>0.0</td>\n",
              "      <td>1.0</td>\n",
              "      <td>1.0</td>\n",
              "    </tr>\n",
              "    <tr>\n",
              "      <th>10078</th>\n",
              "      <td>60</td>\n",
              "      <td>2020-08-31 22</td>\n",
              "      <td>27.9</td>\n",
              "      <td>4.1</td>\n",
              "      <td>68.0</td>\n",
              "      <td>0.0</td>\n",
              "      <td>0.0</td>\n",
              "      <td>1.0</td>\n",
              "      <td>1.0</td>\n",
              "    </tr>\n",
              "    <tr>\n",
              "      <th>10079</th>\n",
              "      <td>60</td>\n",
              "      <td>2020-08-31 23</td>\n",
              "      <td>27.9</td>\n",
              "      <td>4.1</td>\n",
              "      <td>68.0</td>\n",
              "      <td>0.0</td>\n",
              "      <td>0.0</td>\n",
              "      <td>1.0</td>\n",
              "      <td>1.0</td>\n",
              "    </tr>\n",
              "  </tbody>\n",
              "</table>\n",
              "<p>10080 rows × 9 columns</p>\n",
              "</div>"
            ],
            "text/plain": [
              "       num      date_time  기온(°C)  ...  일조(hr, 3시간)  비전기냉방설비운영  태양광보유\n",
              "0        1  2020-08-25 00    27.8  ...          0.0        0.0    0.0\n",
              "1        1  2020-08-25 01    27.8  ...          0.0        0.0    0.0\n",
              "2        1  2020-08-25 02    27.8  ...          0.0        0.0    0.0\n",
              "3        1  2020-08-25 03    27.3  ...          0.0        0.0    0.0\n",
              "4        1  2020-08-25 04    27.3  ...          0.0        0.0    0.0\n",
              "...    ...            ...     ...  ...          ...        ...    ...\n",
              "10075   60  2020-08-31 19    29.0  ...          0.8        1.0    1.0\n",
              "10076   60  2020-08-31 20    29.0  ...          0.8        1.0    1.0\n",
              "10077   60  2020-08-31 21    27.9  ...          0.0        1.0    1.0\n",
              "10078   60  2020-08-31 22    27.9  ...          0.0        1.0    1.0\n",
              "10079   60  2020-08-31 23    27.9  ...          0.0        1.0    1.0\n",
              "\n",
              "[10080 rows x 9 columns]"
            ]
          },
          "metadata": {},
          "execution_count": 16
        }
      ]
    },
    {
      "cell_type": "markdown",
      "metadata": {
        "id": "L4jRExCetYGb"
      },
      "source": [
        "## Step 3. Feature Engineering\n",
        "\n",
        "- 분석에 사용할 feature들을 만들고, 학습을 위한 데이터를 준비하는 단계입니다.\n",
        "\n",
        "- 모든 categorical feature들을 변환하여 데이터를 feature vector로 만들어봅니다."
      ]
    },
    {
      "cell_type": "markdown",
      "metadata": {
        "id": "X5XVN43Uz-dt"
      },
      "source": [
        "### 문제 11. categorical feature들 확인하기"
      ]
    },
    {
      "cell_type": "code",
      "metadata": {
        "id": "lMTdk2Y5z-Vx"
      },
      "source": [
        "# train, test categorical feature들 확인하기\n",
        "train_categories = [col for col, dtype in zip(train.columns, train.dtypes) if dtype=='object']\n",
        "test_categories = [col for col, dtype in zip(test.columns, test.dtypes) if dtype=='object']"
      ],
      "execution_count": null,
      "outputs": []
    },
    {
      "cell_type": "code",
      "metadata": {
        "colab": {
          "base_uri": "https://localhost:8080/"
        },
        "id": "0M5a2kv0z6J9",
        "outputId": "edb7211f-7c5f-46fa-c588-a1bd3f132ba0"
      },
      "source": [
        "print(train_categories)\n",
        "print(test_categories)"
      ],
      "execution_count": null,
      "outputs": [
        {
          "output_type": "stream",
          "name": "stdout",
          "text": [
            "['date_time']\n",
            "['date_time']\n"
          ]
        }
      ]
    },
    {
      "cell_type": "markdown",
      "metadata": {
        "id": "sRnKXsre1SUr"
      },
      "source": [
        "### 문제 12. date_time을 시간정보로 변환하기\n",
        "\n",
        "- date_time feature로 사용하기 위해서 시간 정보로 변환해줍니다."
      ]
    },
    {
      "cell_type": "code",
      "metadata": {
        "id": "dJriF5wM1RlM"
      },
      "source": [
        "# datetime data type으로 변환하기\n",
        "train.date_time = pd.to_datetime(train.date_time)\n",
        "test.date_time = pd.to_datetime(test.date_time)"
      ],
      "execution_count": null,
      "outputs": []
    },
    {
      "cell_type": "code",
      "metadata": {
        "colab": {
          "base_uri": "https://localhost:8080/"
        },
        "id": "hutDOGQe8fKC",
        "outputId": "e8710ce0-d7a2-4b15-82f9-e9787dfb9b7d"
      },
      "source": [
        "# 변경되었는지 확인하기\n",
        "train.info()"
      ],
      "execution_count": null,
      "outputs": [
        {
          "output_type": "stream",
          "name": "stdout",
          "text": [
            "<class 'pandas.core.frame.DataFrame'>\n",
            "RangeIndex: 122400 entries, 0 to 122399\n",
            "Data columns (total 10 columns):\n",
            " #   Column      Non-Null Count   Dtype         \n",
            "---  ------      --------------   -----         \n",
            " 0   num         122400 non-null  int64         \n",
            " 1   date_time   122400 non-null  datetime64[ns]\n",
            " 2   전력사용량(kWh)  122400 non-null  float64       \n",
            " 3   기온(°C)      122400 non-null  float64       \n",
            " 4   풍속(m/s)     122400 non-null  float64       \n",
            " 5   습도(%)       122400 non-null  float64       \n",
            " 6   강수량(mm)     122400 non-null  float64       \n",
            " 7   일조(hr)      122400 non-null  float64       \n",
            " 8   비전기냉방설비운영   122400 non-null  float64       \n",
            " 9   태양광보유       122400 non-null  float64       \n",
            "dtypes: datetime64[ns](1), float64(8), int64(1)\n",
            "memory usage: 9.3 MB\n"
          ]
        }
      ]
    },
    {
      "cell_type": "code",
      "metadata": {
        "id": "dM8cqdGo-1qo",
        "colab": {
          "base_uri": "https://localhost:8080/"
        },
        "outputId": "249dfa74-2527-43a8-c94d-1084e5198bc2"
      },
      "source": [
        "# test data도 확인하기\n",
        "test.info()"
      ],
      "execution_count": null,
      "outputs": [
        {
          "output_type": "stream",
          "name": "stdout",
          "text": [
            "<class 'pandas.core.frame.DataFrame'>\n",
            "Int64Index: 10080 entries, 0 to 10079\n",
            "Data columns (total 9 columns):\n",
            " #   Column        Non-Null Count  Dtype         \n",
            "---  ------        --------------  -----         \n",
            " 0   num           10080 non-null  int64         \n",
            " 1   date_time     10080 non-null  datetime64[ns]\n",
            " 2   기온(°C)        10080 non-null  float64       \n",
            " 3   풍속(m/s)       10080 non-null  float64       \n",
            " 4   습도(%)         10080 non-null  float64       \n",
            " 5   강수량(mm, 6시간)  10080 non-null  float64       \n",
            " 6   일조(hr, 3시간)   10080 non-null  float64       \n",
            " 7   비전기냉방설비운영     10080 non-null  float64       \n",
            " 8   태양광보유         10080 non-null  float64       \n",
            "dtypes: datetime64[ns](1), float64(7), int64(1)\n",
            "memory usage: 787.5 KB\n"
          ]
        }
      ]
    },
    {
      "cell_type": "markdown",
      "metadata": {
        "id": "nVbiZ6d23Ja3"
      },
      "source": [
        "### 문제 13. date_time 패턴 파악하기"
      ]
    },
    {
      "cell_type": "code",
      "metadata": {
        "colab": {
          "base_uri": "https://localhost:8080/",
          "height": 391
        },
        "id": "J3BzgJu34AVE",
        "outputId": "0d4274fe-b89d-486b-c03a-52c91b9b0699"
      },
      "source": [
        "plt.figure(figsize=(10, 6))\n",
        "sns.lineplot(data=train, x=\"date_time\", y=\"전력사용량(kWh)\")\n",
        "plt.show()"
      ],
      "execution_count": null,
      "outputs": [
        {
          "output_type": "display_data",
          "data": {
            "image/png": "[encoded data removed]",
            "text/plain": [
              "<Figure size 720x432 with 1 Axes>"
            ]
          },
          "metadata": {
            "needs_background": "light"
          }
        }
      ]
    },
    {
      "cell_type": "markdown",
      "metadata": {
        "id": "0VildAOf70Y1"
      },
      "source": [
        "- 전력사용량 패턴을 보니, 5일과 2일의 패턴이 다르고, 그러한 패턴이 반복됩니다.\n",
        "\n",
        "- 주중/주말에 건물의 전력사용량 패턴이 다르다는 사실을 파악하고, 이를 feature로 만들어봅니다."
      ]
    },
    {
      "cell_type": "markdown",
      "metadata": {
        "id": "L99yG6eh-wA_"
      },
      "source": [
        "## 문제 14. is_weekday feature 만들기\n",
        "\n",
        "- date_time의 요일을 보고, 주중/주말을 구분하는 feature를 생성합니다.\n",
        "\n",
        "- date_time에서 요일정보를 추출해서, 주중(1), 주말(0)의 feature를 생성합니다."
      ]
    },
    {
      "cell_type": "code",
      "metadata": {
        "colab": {
          "base_uri": "https://localhost:8080/"
        },
        "id": "v6-499yW_DRU",
        "outputId": "49857b5f-1129-447a-8a2d-f5295cc2104c"
      },
      "source": [
        "# weekday를 확인합니다.\n",
        "train.date_time.apply(lambda x: x.weekday())"
      ],
      "execution_count": null,
      "outputs": [
        {
          "output_type": "execute_result",
          "data": {
            "text/plain": [
              "0         0\n",
              "1         0\n",
              "2         0\n",
              "3         0\n",
              "4         0\n",
              "         ..\n",
              "122395    0\n",
              "122396    0\n",
              "122397    0\n",
              "122398    0\n",
              "122399    0\n",
              "Name: date_time, Length: 122400, dtype: int64"
            ]
          },
          "metadata": {},
          "execution_count": 23
        }
      ]
    },
    {
      "cell_type": "code",
      "metadata": {
        "colab": {
          "base_uri": "https://localhost:8080/",
          "height": 607
        },
        "id": "1Iko3gZbAUrO",
        "outputId": "3c13e34e-9bd8-4c0c-cf7c-09f1aab4ae2f"
      },
      "source": [
        "# weekday는 0이 월요일이고, 6이 일요일을 나타냅니다.\n",
        "# 5 이상을 주말, 나머지는 주중으로 나타내는 is_weekday feature를 만들어봅니다.\n",
        "train[\"is_weekday\"] = np.ones(len(train))\n",
        "train.loc[train.date_time.apply(lambda x:x.weekday()) >= 5, \"is_weekday\"] = 0\n",
        "train"
      ],
      "execution_count": null,
      "outputs": [
        {
          "output_type": "execute_result",
          "data": {
            "text/html": [
              "<div>\n",
              "<style scoped>\n",
              "    .dataframe tbody tr th:only-of-type {\n",
              "        vertical-align: middle;\n",
              "    }\n",
              "\n",
              "    .dataframe tbody tr th {\n",
              "        vertical-align: top;\n",
              "    }\n",
              "\n",
              "    .dataframe thead th {\n",
              "        text-align: right;\n",
              "    }\n",
              "</style>\n",
              "<table border=\"1\" class=\"dataframe\">\n",
              "  <thead>\n",
              "    <tr style=\"text-align: right;\">\n",
              "      <th></th>\n",
              "      <th>num</th>\n",
              "      <th>date_time</th>\n",
              "      <th>전력사용량(kWh)</th>\n",
              "      <th>기온(°C)</th>\n",
              "      <th>풍속(m/s)</th>\n",
              "      <th>습도(%)</th>\n",
              "      <th>강수량(mm)</th>\n",
              "      <th>일조(hr)</th>\n",
              "      <th>비전기냉방설비운영</th>\n",
              "      <th>태양광보유</th>\n",
              "      <th>is_weekday</th>\n",
              "    </tr>\n",
              "  </thead>\n",
              "  <tbody>\n",
              "    <tr>\n",
              "      <th>0</th>\n",
              "      <td>1</td>\n",
              "      <td>2020-06-01 00:00:00</td>\n",
              "      <td>8179.056</td>\n",
              "      <td>17.6</td>\n",
              "      <td>2.5</td>\n",
              "      <td>92.0</td>\n",
              "      <td>0.8</td>\n",
              "      <td>0.0</td>\n",
              "      <td>0.0</td>\n",
              "      <td>0.0</td>\n",
              "      <td>1.0</td>\n",
              "    </tr>\n",
              "    <tr>\n",
              "      <th>1</th>\n",
              "      <td>1</td>\n",
              "      <td>2020-06-01 01:00:00</td>\n",
              "      <td>8135.640</td>\n",
              "      <td>17.7</td>\n",
              "      <td>2.9</td>\n",
              "      <td>91.0</td>\n",
              "      <td>0.3</td>\n",
              "      <td>0.0</td>\n",
              "      <td>0.0</td>\n",
              "      <td>0.0</td>\n",
              "      <td>1.0</td>\n",
              "    </tr>\n",
              "    <tr>\n",
              "      <th>2</th>\n",
              "      <td>1</td>\n",
              "      <td>2020-06-01 02:00:00</td>\n",
              "      <td>8107.128</td>\n",
              "      <td>17.5</td>\n",
              "      <td>3.2</td>\n",
              "      <td>91.0</td>\n",
              "      <td>0.0</td>\n",
              "      <td>0.0</td>\n",
              "      <td>0.0</td>\n",
              "      <td>0.0</td>\n",
              "      <td>1.0</td>\n",
              "    </tr>\n",
              "    <tr>\n",
              "      <th>3</th>\n",
              "      <td>1</td>\n",
              "      <td>2020-06-01 03:00:00</td>\n",
              "      <td>8048.808</td>\n",
              "      <td>17.1</td>\n",
              "      <td>3.2</td>\n",
              "      <td>91.0</td>\n",
              "      <td>0.0</td>\n",
              "      <td>0.0</td>\n",
              "      <td>0.0</td>\n",
              "      <td>0.0</td>\n",
              "      <td>1.0</td>\n",
              "    </tr>\n",
              "    <tr>\n",
              "      <th>4</th>\n",
              "      <td>1</td>\n",
              "      <td>2020-06-01 04:00:00</td>\n",
              "      <td>8043.624</td>\n",
              "      <td>17.0</td>\n",
              "      <td>3.3</td>\n",
              "      <td>92.0</td>\n",
              "      <td>0.0</td>\n",
              "      <td>0.0</td>\n",
              "      <td>0.0</td>\n",
              "      <td>0.0</td>\n",
              "      <td>1.0</td>\n",
              "    </tr>\n",
              "    <tr>\n",
              "      <th>...</th>\n",
              "      <td>...</td>\n",
              "      <td>...</td>\n",
              "      <td>...</td>\n",
              "      <td>...</td>\n",
              "      <td>...</td>\n",
              "      <td>...</td>\n",
              "      <td>...</td>\n",
              "      <td>...</td>\n",
              "      <td>...</td>\n",
              "      <td>...</td>\n",
              "      <td>...</td>\n",
              "    </tr>\n",
              "    <tr>\n",
              "      <th>122395</th>\n",
              "      <td>60</td>\n",
              "      <td>2020-08-24 19:00:00</td>\n",
              "      <td>4114.368</td>\n",
              "      <td>27.8</td>\n",
              "      <td>2.3</td>\n",
              "      <td>68.0</td>\n",
              "      <td>0.0</td>\n",
              "      <td>0.7</td>\n",
              "      <td>1.0</td>\n",
              "      <td>1.0</td>\n",
              "      <td>1.0</td>\n",
              "    </tr>\n",
              "    <tr>\n",
              "      <th>122396</th>\n",
              "      <td>60</td>\n",
              "      <td>2020-08-24 20:00:00</td>\n",
              "      <td>3975.696</td>\n",
              "      <td>27.3</td>\n",
              "      <td>1.2</td>\n",
              "      <td>71.0</td>\n",
              "      <td>0.0</td>\n",
              "      <td>0.0</td>\n",
              "      <td>1.0</td>\n",
              "      <td>1.0</td>\n",
              "      <td>1.0</td>\n",
              "    </tr>\n",
              "    <tr>\n",
              "      <th>122397</th>\n",
              "      <td>60</td>\n",
              "      <td>2020-08-24 21:00:00</td>\n",
              "      <td>3572.208</td>\n",
              "      <td>27.3</td>\n",
              "      <td>1.8</td>\n",
              "      <td>71.0</td>\n",
              "      <td>0.0</td>\n",
              "      <td>0.0</td>\n",
              "      <td>1.0</td>\n",
              "      <td>1.0</td>\n",
              "      <td>1.0</td>\n",
              "    </tr>\n",
              "    <tr>\n",
              "      <th>122398</th>\n",
              "      <td>60</td>\n",
              "      <td>2020-08-24 22:00:00</td>\n",
              "      <td>3299.184</td>\n",
              "      <td>27.1</td>\n",
              "      <td>1.8</td>\n",
              "      <td>74.0</td>\n",
              "      <td>0.0</td>\n",
              "      <td>0.0</td>\n",
              "      <td>1.0</td>\n",
              "      <td>1.0</td>\n",
              "      <td>1.0</td>\n",
              "    </tr>\n",
              "    <tr>\n",
              "      <th>122399</th>\n",
              "      <td>60</td>\n",
              "      <td>2020-08-24 23:00:00</td>\n",
              "      <td>3204.576</td>\n",
              "      <td>27.1</td>\n",
              "      <td>2.6</td>\n",
              "      <td>75.0</td>\n",
              "      <td>0.0</td>\n",
              "      <td>0.0</td>\n",
              "      <td>1.0</td>\n",
              "      <td>1.0</td>\n",
              "      <td>1.0</td>\n",
              "    </tr>\n",
              "  </tbody>\n",
              "</table>\n",
              "<p>122400 rows × 11 columns</p>\n",
              "</div>"
            ],
            "text/plain": [
              "        num           date_time  전력사용량(kWh)  ...  비전기냉방설비운영  태양광보유  is_weekday\n",
              "0         1 2020-06-01 00:00:00    8179.056  ...        0.0    0.0         1.0\n",
              "1         1 2020-06-01 01:00:00    8135.640  ...        0.0    0.0         1.0\n",
              "2         1 2020-06-01 02:00:00    8107.128  ...        0.0    0.0         1.0\n",
              "3         1 2020-06-01 03:00:00    8048.808  ...        0.0    0.0         1.0\n",
              "4         1 2020-06-01 04:00:00    8043.624  ...        0.0    0.0         1.0\n",
              "...     ...                 ...         ...  ...        ...    ...         ...\n",
              "122395   60 2020-08-24 19:00:00    4114.368  ...        1.0    1.0         1.0\n",
              "122396   60 2020-08-24 20:00:00    3975.696  ...        1.0    1.0         1.0\n",
              "122397   60 2020-08-24 21:00:00    3572.208  ...        1.0    1.0         1.0\n",
              "122398   60 2020-08-24 22:00:00    3299.184  ...        1.0    1.0         1.0\n",
              "122399   60 2020-08-24 23:00:00    3204.576  ...        1.0    1.0         1.0\n",
              "\n",
              "[122400 rows x 11 columns]"
            ]
          },
          "metadata": {},
          "execution_count": 24
        }
      ]
    },
    {
      "cell_type": "markdown",
      "metadata": {
        "id": "6ria9cma0qIx"
      },
      "source": [
        "### 문제 15. test에도 동일하게 is_weekday feature 생성하기"
      ]
    },
    {
      "cell_type": "code",
      "metadata": {
        "colab": {
          "base_uri": "https://localhost:8080/",
          "height": 607
        },
        "id": "WgCEjt9D-VHH",
        "outputId": "3e8399b2-2727-4db8-f098-93abcb377ad8"
      },
      "source": [
        "# weekday는 0이 월요일이고, 6이 일요일을 나타냅니다.\n",
        "# 5 이상을 주말, 나머지는 주중으로 나타내는 is_weekday feature를 만들어봅니다.\n",
        "test[\"is_weekday\"] = np.ones(len(test))\n",
        "test.loc[test.date_time.apply(lambda x:x.weekday()) >= 5, \"is_weekday\"] = 0\n",
        "test"
      ],
      "execution_count": null,
      "outputs": [
        {
          "output_type": "execute_result",
          "data": {
            "text/html": [
              "<div>\n",
              "<style scoped>\n",
              "    .dataframe tbody tr th:only-of-type {\n",
              "        vertical-align: middle;\n",
              "    }\n",
              "\n",
              "    .dataframe tbody tr th {\n",
              "        vertical-align: top;\n",
              "    }\n",
              "\n",
              "    .dataframe thead th {\n",
              "        text-align: right;\n",
              "    }\n",
              "</style>\n",
              "<table border=\"1\" class=\"dataframe\">\n",
              "  <thead>\n",
              "    <tr style=\"text-align: right;\">\n",
              "      <th></th>\n",
              "      <th>num</th>\n",
              "      <th>date_time</th>\n",
              "      <th>기온(°C)</th>\n",
              "      <th>풍속(m/s)</th>\n",
              "      <th>습도(%)</th>\n",
              "      <th>강수량(mm, 6시간)</th>\n",
              "      <th>일조(hr, 3시간)</th>\n",
              "      <th>비전기냉방설비운영</th>\n",
              "      <th>태양광보유</th>\n",
              "      <th>is_weekday</th>\n",
              "    </tr>\n",
              "  </thead>\n",
              "  <tbody>\n",
              "    <tr>\n",
              "      <th>0</th>\n",
              "      <td>1</td>\n",
              "      <td>2020-08-25 00:00:00</td>\n",
              "      <td>27.8</td>\n",
              "      <td>1.5</td>\n",
              "      <td>74.0</td>\n",
              "      <td>0.0</td>\n",
              "      <td>0.0</td>\n",
              "      <td>0.0</td>\n",
              "      <td>0.0</td>\n",
              "      <td>1.0</td>\n",
              "    </tr>\n",
              "    <tr>\n",
              "      <th>1</th>\n",
              "      <td>1</td>\n",
              "      <td>2020-08-25 01:00:00</td>\n",
              "      <td>27.8</td>\n",
              "      <td>1.5</td>\n",
              "      <td>74.0</td>\n",
              "      <td>0.0</td>\n",
              "      <td>0.0</td>\n",
              "      <td>0.0</td>\n",
              "      <td>0.0</td>\n",
              "      <td>1.0</td>\n",
              "    </tr>\n",
              "    <tr>\n",
              "      <th>2</th>\n",
              "      <td>1</td>\n",
              "      <td>2020-08-25 02:00:00</td>\n",
              "      <td>27.8</td>\n",
              "      <td>1.5</td>\n",
              "      <td>74.0</td>\n",
              "      <td>0.0</td>\n",
              "      <td>0.0</td>\n",
              "      <td>0.0</td>\n",
              "      <td>0.0</td>\n",
              "      <td>1.0</td>\n",
              "    </tr>\n",
              "    <tr>\n",
              "      <th>3</th>\n",
              "      <td>1</td>\n",
              "      <td>2020-08-25 03:00:00</td>\n",
              "      <td>27.3</td>\n",
              "      <td>1.1</td>\n",
              "      <td>78.0</td>\n",
              "      <td>0.0</td>\n",
              "      <td>0.0</td>\n",
              "      <td>0.0</td>\n",
              "      <td>0.0</td>\n",
              "      <td>1.0</td>\n",
              "    </tr>\n",
              "    <tr>\n",
              "      <th>4</th>\n",
              "      <td>1</td>\n",
              "      <td>2020-08-25 04:00:00</td>\n",
              "      <td>27.3</td>\n",
              "      <td>1.1</td>\n",
              "      <td>78.0</td>\n",
              "      <td>0.0</td>\n",
              "      <td>0.0</td>\n",
              "      <td>0.0</td>\n",
              "      <td>0.0</td>\n",
              "      <td>1.0</td>\n",
              "    </tr>\n",
              "    <tr>\n",
              "      <th>...</th>\n",
              "      <td>...</td>\n",
              "      <td>...</td>\n",
              "      <td>...</td>\n",
              "      <td>...</td>\n",
              "      <td>...</td>\n",
              "      <td>...</td>\n",
              "      <td>...</td>\n",
              "      <td>...</td>\n",
              "      <td>...</td>\n",
              "      <td>...</td>\n",
              "    </tr>\n",
              "    <tr>\n",
              "      <th>10075</th>\n",
              "      <td>60</td>\n",
              "      <td>2020-08-31 19:00:00</td>\n",
              "      <td>29.0</td>\n",
              "      <td>3.3</td>\n",
              "      <td>65.0</td>\n",
              "      <td>0.0</td>\n",
              "      <td>0.8</td>\n",
              "      <td>1.0</td>\n",
              "      <td>1.0</td>\n",
              "      <td>1.0</td>\n",
              "    </tr>\n",
              "    <tr>\n",
              "      <th>10076</th>\n",
              "      <td>60</td>\n",
              "      <td>2020-08-31 20:00:00</td>\n",
              "      <td>29.0</td>\n",
              "      <td>3.3</td>\n",
              "      <td>65.0</td>\n",
              "      <td>0.0</td>\n",
              "      <td>0.8</td>\n",
              "      <td>1.0</td>\n",
              "      <td>1.0</td>\n",
              "      <td>1.0</td>\n",
              "    </tr>\n",
              "    <tr>\n",
              "      <th>10077</th>\n",
              "      <td>60</td>\n",
              "      <td>2020-08-31 21:00:00</td>\n",
              "      <td>27.9</td>\n",
              "      <td>4.1</td>\n",
              "      <td>68.0</td>\n",
              "      <td>0.0</td>\n",
              "      <td>0.0</td>\n",
              "      <td>1.0</td>\n",
              "      <td>1.0</td>\n",
              "      <td>1.0</td>\n",
              "    </tr>\n",
              "    <tr>\n",
              "      <th>10078</th>\n",
              "      <td>60</td>\n",
              "      <td>2020-08-31 22:00:00</td>\n",
              "      <td>27.9</td>\n",
              "      <td>4.1</td>\n",
              "      <td>68.0</td>\n",
              "      <td>0.0</td>\n",
              "      <td>0.0</td>\n",
              "      <td>1.0</td>\n",
              "      <td>1.0</td>\n",
              "      <td>1.0</td>\n",
              "    </tr>\n",
              "    <tr>\n",
              "      <th>10079</th>\n",
              "      <td>60</td>\n",
              "      <td>2020-08-31 23:00:00</td>\n",
              "      <td>27.9</td>\n",
              "      <td>4.1</td>\n",
              "      <td>68.0</td>\n",
              "      <td>0.0</td>\n",
              "      <td>0.0</td>\n",
              "      <td>1.0</td>\n",
              "      <td>1.0</td>\n",
              "      <td>1.0</td>\n",
              "    </tr>\n",
              "  </tbody>\n",
              "</table>\n",
              "<p>10080 rows × 10 columns</p>\n",
              "</div>"
            ],
            "text/plain": [
              "       num           date_time  기온(°C)  ...  비전기냉방설비운영  태양광보유  is_weekday\n",
              "0        1 2020-08-25 00:00:00    27.8  ...        0.0    0.0         1.0\n",
              "1        1 2020-08-25 01:00:00    27.8  ...        0.0    0.0         1.0\n",
              "2        1 2020-08-25 02:00:00    27.8  ...        0.0    0.0         1.0\n",
              "3        1 2020-08-25 03:00:00    27.3  ...        0.0    0.0         1.0\n",
              "4        1 2020-08-25 04:00:00    27.3  ...        0.0    0.0         1.0\n",
              "...    ...                 ...     ...  ...        ...    ...         ...\n",
              "10075   60 2020-08-31 19:00:00    29.0  ...        1.0    1.0         1.0\n",
              "10076   60 2020-08-31 20:00:00    29.0  ...        1.0    1.0         1.0\n",
              "10077   60 2020-08-31 21:00:00    27.9  ...        1.0    1.0         1.0\n",
              "10078   60 2020-08-31 22:00:00    27.9  ...        1.0    1.0         1.0\n",
              "10079   60 2020-08-31 23:00:00    27.9  ...        1.0    1.0         1.0\n",
              "\n",
              "[10080 rows x 10 columns]"
            ]
          },
          "metadata": {},
          "execution_count": 25
        }
      ]
    },
    {
      "cell_type": "markdown",
      "metadata": {
        "id": "mxEweQuP0qI2"
      },
      "source": [
        "### 문제 15. 학습에 사용할 데이터 만들기"
      ]
    },
    {
      "cell_type": "code",
      "metadata": {
        "colab": {
          "base_uri": "https://localhost:8080/"
        },
        "id": "5_oS0mIIFFbT",
        "outputId": "355eaa93-db47-4843-caaa-280188bf0013"
      },
      "source": [
        "# train, test 데이터를 학습에 사용할 수 있는 상태로 만듭니다.\n",
        "X_train = train.drop(columns=[\"num\", \"date_time\", \"전력사용량(kWh)\"])\n",
        "y_train = train[\"전력사용량(kWh)\"]\n",
        "X_test = test.drop(columns=[\"num\", \"date_time\"])\n",
        "\n",
        "print(X_train.shape, y_train.shape, X_test.shape)"
      ],
      "execution_count": null,
      "outputs": [
        {
          "output_type": "stream",
          "name": "stdout",
          "text": [
            "(122400, 8) (122400,) (10080, 8)\n"
          ]
        }
      ]
    },
    {
      "cell_type": "markdown",
      "metadata": {
        "id": "gYrc0IwXGT2q"
      },
      "source": [
        "### 문제 16. feature scaling\n",
        "\n",
        "- tree method 계열은 scaling이 필요하지 않지만, linear regression 계열은 scale에 굉장히 민감하기 때문에, 사전에 scaling을 해줍니다."
      ]
    },
    {
      "cell_type": "code",
      "metadata": {
        "id": "w_T-BCbe0qI3"
      },
      "source": [
        "from sklearn.preprocessing import StandardScaler\n",
        "\n",
        "scaler = StandardScaler()\n",
        "X_train_scaled = scaler.fit_transform(X_train)\n",
        "X_test_scaled = scaler.transform(X_test)"
      ],
      "execution_count": null,
      "outputs": []
    },
    {
      "cell_type": "code",
      "metadata": {
        "id": "8fTacCwrEVBR",
        "colab": {
          "base_uri": "https://localhost:8080/"
        },
        "outputId": "700f398f-8997-451f-fdd7-e70e2589f8a1"
      },
      "source": [
        "# 스케일 조정된 X_train 데이터 확인하기\n",
        "X_train_scaled "
      ],
      "execution_count": null,
      "outputs": [
        {
          "output_type": "execute_result",
          "data": {
            "text/plain": [
              "array([[-1.95185808,  0.23002093,  0.76196737, ..., -1.46897745,\n",
              "        -0.96720415,  0.62725005],\n",
              "       [-1.92251439,  0.49413998,  0.69755844, ..., -1.46897745,\n",
              "        -0.96720415,  0.62725005],\n",
              "       [-1.98120177,  0.69222926,  0.69755844, ..., -1.46897745,\n",
              "        -0.96720415,  0.62725005],\n",
              "       ...,\n",
              "       [ 0.89447981, -0.2321874 , -0.59062005, ...,  0.68074565,\n",
              "         1.03390789,  0.62725005],\n",
              "       [ 0.83579243, -0.2321874 , -0.39739328, ...,  0.68074565,\n",
              "         1.03390789,  0.62725005],\n",
              "       [ 0.83579243,  0.29605069, -0.33298435, ...,  0.68074565,\n",
              "         1.03390789,  0.62725005]])"
            ]
          },
          "metadata": {},
          "execution_count": 28
        }
      ]
    },
    {
      "cell_type": "markdown",
      "metadata": {
        "id": "uyrluBHm0qI4"
      },
      "source": [
        "### 참고: scikit-learn에서 제공하는 피처 스케일러(scaler)\n",
        "\n",
        "- `StandardScaler`: 기본 스케일, 각 피처의 평균을 0, 표준편차를 1로 변환\n",
        "- `RobustScaler`: 위와 유사하지만 평균 대신 중간값(median)과 일분위, 삼분위값(quartile)을 사용하여 이상치 영향을 최소화\n",
        "- `MinMaxScaler`: 모든 피처의 최대치와 최소치가 각각 1, 0이 되도록 스케일 조정\n",
        "- `Normalizer`: 피처(컬럼)이 아니라 row마다 정규화되며, 유클리드 거리가 1이 되도록 데이터를 조정하여 빠르게 학습할 수 있게 함\n",
        "\n",
        "<p> 스케일 조정을 하는 이유는 데이터의 값이 너무 크거나 작을 때 학습이 제대로 되지 않을 수도 있기 때문입니다. 또한 스케일의 영향이 절대적인 분류기(예: knn과 같은 거리기반 알고리즘)의 경우, 스케일 조정을 필수적으로 검토해야 합니다.\n",
        "    \n",
        "<p> 반면 어떤 항목은 원본 데이터의 분포를 유지하는 것이 나을 수도 있습니다. 예를 들어, 데이터가 거의 한 곳에 집중되어 있는 feature를 표준화시켜 분포를 같게 만들었을 때, 작은 단위의 변화가 큰 차이를 나타내는 것처럼 학습될 수도 있습니다. 또한 스케일의 영향을 크게 받지 않는 분류기(예: 트리 기반 앙상블 알고리즘)를 사용할 경우에도 성능이 준수하게 나오거나 과대적합(overfitting)의 우려가 적다면 생략할 수도 있습니다.\n",
        "    \n",
        "<p> 스케일 조정시 유의해야할 점은 원본 데이터의 의미를 잃어버릴 수 있다는 것입니다. 최종적으로 답을 구하는 것이 목적이 아니라 모델의 해석이나 향후 다른 데이터셋으로의 응용이 더 중요할 때 원 피처에 대한 설명력을 잃어버린다면 모델 개선이 어려울 수도 있습니다. 이 점을 함께 고려하시면 좋겠습니다."
      ]
    },
    {
      "cell_type": "markdown",
      "metadata": {
        "id": "FSA1NIBa0qI6"
      },
      "source": [
        "## Step 4. Training"
      ]
    },
    {
      "cell_type": "markdown",
      "metadata": {
        "id": "h1hHD5bjCb8y"
      },
      "source": [
        "- 공부한 각 머신러닝 회귀 모델들을 돌려보고, 성능을 평가합니다.\n",
        "\n",
        "- 아래 모델들이 그 대상에 해당합니다.\n",
        "\n",
        "- Linear Regression / Ridge / Lasso / Random Forest / SVR / xgboost / lightgbm / catboost"
      ]
    },
    {
      "cell_type": "markdown",
      "metadata": {
        "id": "14kriJ_j0qI6"
      },
      "source": [
        "### 문제 17. Linear Regression 모델 돌려보기"
      ]
    },
    {
      "cell_type": "code",
      "metadata": {
        "id": "RVP2tN1U0qI7",
        "colab": {
          "base_uri": "https://localhost:8080/"
        },
        "outputId": "fffcb35d-e5f6-4f27-b0eb-e2751c3b62e9"
      },
      "source": [
        "from sklearn.linear_model import LinearRegression\n",
        "from sklearn.metrics import mean_absolute_error\n",
        "\n",
        "linear_reg = LinearRegression()\n",
        "linear_reg.fit(X_train_scaled, y_train)"
      ],
      "execution_count": null,
      "outputs": [
        {
          "output_type": "execute_result",
          "data": {
            "text/plain": [
              "LinearRegression(copy_X=True, fit_intercept=True, n_jobs=None, normalize=False)"
            ]
          },
          "metadata": {},
          "execution_count": 29
        }
      ]
    },
    {
      "cell_type": "markdown",
      "metadata": {
        "id": "fIH9m2RF0qI7"
      },
      "source": [
        "### 문제 18. Linear Regression 모델의 MAE 평가하기"
      ]
    },
    {
      "cell_type": "code",
      "metadata": {
        "scrolled": false,
        "id": "teFIrxQA0qI8",
        "colab": {
          "base_uri": "https://localhost:8080/"
        },
        "outputId": "590eb6ee-edbb-41e3-f9f1-31c3ad18a02f"
      },
      "source": [
        "pred = linear_reg.predict(X_train_scaled)\n",
        "linear_reg_score = mean_absolute_error(y_train, pred)\n",
        "\n",
        "print('Linear Regression MAE: {0:0.4f}'.format(linear_reg_score))"
      ],
      "execution_count": null,
      "outputs": [
        {
          "output_type": "stream",
          "name": "stdout",
          "text": [
            "Linear Regression MAE: 1279.9271\n"
          ]
        }
      ]
    },
    {
      "cell_type": "markdown",
      "metadata": {
        "id": "O4UkbF6yEte8"
      },
      "source": [
        "### 문제 19. Lasso 모델 돌려보기"
      ]
    },
    {
      "cell_type": "code",
      "metadata": {
        "colab": {
          "base_uri": "https://localhost:8080/"
        },
        "id": "XxIdMw4PEtqG",
        "outputId": "d413368d-54aa-4094-dbd4-dbb6c14a5bfe"
      },
      "source": [
        "from sklearn.linear_model import Lasso\n",
        "\n",
        "lasso = Lasso()\n",
        "lasso.fit(X_train_scaled, y_train)"
      ],
      "execution_count": null,
      "outputs": [
        {
          "output_type": "execute_result",
          "data": {
            "text/plain": [
              "Lasso(alpha=1.0, copy_X=True, fit_intercept=True, max_iter=1000,\n",
              "      normalize=False, positive=False, precompute=False, random_state=None,\n",
              "      selection='cyclic', tol=0.0001, warm_start=False)"
            ]
          },
          "metadata": {},
          "execution_count": 31
        }
      ]
    },
    {
      "cell_type": "markdown",
      "metadata": {
        "id": "7UFi6fqWE9qQ"
      },
      "source": [
        "### 문제 20. Lasso 평가하기"
      ]
    },
    {
      "cell_type": "code",
      "metadata": {
        "colab": {
          "base_uri": "https://localhost:8080/"
        },
        "id": "RIeh3qnxFA8f",
        "outputId": "e5bd7ea1-0218-4d4c-c067-23a9d616f856"
      },
      "source": [
        "pred = lasso.predict(X_train_scaled)\n",
        "lasso_score = mean_absolute_error(y_train, pred)\n",
        "\n",
        "print('Lasso MAE: {0:0.4f}'.format(lasso_score))"
      ],
      "execution_count": null,
      "outputs": [
        {
          "output_type": "stream",
          "name": "stdout",
          "text": [
            "Lasso MAE: 1280.1599\n"
          ]
        }
      ]
    },
    {
      "cell_type": "markdown",
      "metadata": {
        "id": "7YKA9pSIEI7G"
      },
      "source": [
        "### 문제 21. Random Forest 모델 돌려보기"
      ]
    },
    {
      "cell_type": "code",
      "metadata": {
        "colab": {
          "base_uri": "https://localhost:8080/"
        },
        "id": "tIJ8FkkJEHI4",
        "outputId": "5f8c2d39-8a03-42de-d214-63c2c2560f34"
      },
      "source": [
        "from sklearn.ensemble import RandomForestRegressor\n",
        "\n",
        "rf = RandomForestRegressor(max_depth=5, max_features=0.85)\n",
        "rf.fit(X_train_scaled, y_train)"
      ],
      "execution_count": null,
      "outputs": [
        {
          "output_type": "execute_result",
          "data": {
            "text/plain": [
              "RandomForestRegressor(bootstrap=True, ccp_alpha=0.0, criterion='mse',\n",
              "                      max_depth=5, max_features=0.85, max_leaf_nodes=None,\n",
              "                      max_samples=None, min_impurity_decrease=0.0,\n",
              "                      min_impurity_split=None, min_samples_leaf=1,\n",
              "                      min_samples_split=2, min_weight_fraction_leaf=0.0,\n",
              "                      n_estimators=100, n_jobs=None, oob_score=False,\n",
              "                      random_state=None, verbose=0, warm_start=False)"
            ]
          },
          "metadata": {},
          "execution_count": 33
        }
      ]
    },
    {
      "cell_type": "code",
      "metadata": {
        "id": "pp7fM5KvUGHE",
        "colab": {
          "base_uri": "https://localhost:8080/"
        },
        "outputId": "33b5158a-731f-43c9-e407-c10a615c8b27"
      },
      "source": [
        "pred = rf.predict(X_train_scaled) \n",
        "rf_score = mean_absolute_error(y_train, pred)\n",
        "print('Random Forest MAE : {0:0.4f}'.format(rf_score))"
      ],
      "execution_count": null,
      "outputs": [
        {
          "output_type": "stream",
          "name": "stdout",
          "text": [
            "Random Forest MAE : 1255.1938\n"
          ]
        }
      ]
    },
    {
      "cell_type": "markdown",
      "metadata": {
        "id": "a9WojjlOGe_K"
      },
      "source": [
        "### 문제 22. Support Vector Machine 모델 돌려보기"
      ]
    },
    {
      "cell_type": "code",
      "metadata": {
        "colab": {
          "base_uri": "https://localhost:8080/"
        },
        "id": "qGh_QbGPGfVQ",
        "outputId": "d2badf1b-d406-4cd1-f2e9-75797812727b"
      },
      "source": [
        "from sklearn.svm import LinearSVR\n",
        "\n",
        "# 데이터가 10000개 이상일 때는 LinearSVR을 추천합니다.\n",
        "svr = LinearSVR()\n",
        "svr.fit(X_train_scaled, y_train)"
      ],
      "execution_count": null,
      "outputs": [
        {
          "output_type": "execute_result",
          "data": {
            "text/plain": [
              "LinearSVR(C=1.0, dual=True, epsilon=0.0, fit_intercept=True,\n",
              "          intercept_scaling=1.0, loss='epsilon_insensitive', max_iter=1000,\n",
              "          random_state=None, tol=0.0001, verbose=0)"
            ]
          },
          "metadata": {},
          "execution_count": 36
        }
      ]
    },
    {
      "cell_type": "code",
      "metadata": {
        "colab": {
          "base_uri": "https://localhost:8080/"
        },
        "id": "SfV7NIdYGfPF",
        "outputId": "54c88b6e-28a4-4002-dcaa-2a8bb5a6fc34"
      },
      "source": [
        "pred = svr.predict(X_train_scaled) \n",
        "svm_score = mean_absolute_error(y_train, pred)\n",
        "print('Support Vector Machine MAE: {0:0.4f}'.format(svm_score))"
      ],
      "execution_count": null,
      "outputs": [
        {
          "output_type": "stream",
          "name": "stdout",
          "text": [
            "Support Vector Machine MAE: 1179.7997\n"
          ]
        }
      ]
    },
    {
      "cell_type": "markdown",
      "metadata": {
        "id": "wknluIW_0qJE"
      },
      "source": [
        "### 문제 23. XGBoost 모델 돌려보기\n",
        "\n",
        "- xgboost의 구현체가 많지만, 여기서는 sklearn version을 사용합니다."
      ]
    },
    {
      "cell_type": "code",
      "metadata": {
        "colab": {
          "base_uri": "https://localhost:8080/"
        },
        "id": "ig7tGMy4Hy2f",
        "outputId": "69c8e833-358f-4b8b-b025-6be94ee60cce"
      },
      "source": [
        "from xgboost.sklearn import XGBRegressor\n",
        "\n",
        "xgb = XGBRegressor(max_depth=6, max_features=0.85)\n",
        "xgb.fit(X_train_scaled, y_train)"
      ],
      "execution_count": null,
      "outputs": [
        {
          "output_type": "stream",
          "name": "stdout",
          "text": [
            "[18:47:27] WARNING: /workspace/src/objective/regression_obj.cu:152: reg:linear is now deprecated in favor of reg:squarederror.\n"
          ]
        },
        {
          "output_type": "execute_result",
          "data": {
            "text/plain": [
              "XGBRegressor(base_score=0.5, booster='gbtree', colsample_bylevel=1,\n",
              "             colsample_bynode=1, colsample_bytree=1, gamma=0,\n",
              "             importance_type='gain', learning_rate=0.1, max_delta_step=0,\n",
              "             max_depth=6, max_features=0.85, min_child_weight=1, missing=None,\n",
              "             n_estimators=100, n_jobs=1, nthread=None, objective='reg:linear',\n",
              "             random_state=0, reg_alpha=0, reg_lambda=1, scale_pos_weight=1,\n",
              "             seed=None, silent=None, subsample=1, verbosity=1)"
            ]
          },
          "metadata": {},
          "execution_count": 44
        }
      ]
    },
    {
      "cell_type": "code",
      "metadata": {
        "colab": {
          "base_uri": "https://localhost:8080/"
        },
        "id": "TW5sYu6MICW5",
        "outputId": "e2f2f95f-376c-4db1-ef79-620949ab6246"
      },
      "source": [
        "pred = xgb.predict(X_train_scaled) \n",
        "xgb_score = mean_absolute_error(y_train, pred)\n",
        "print('XGBoost MAE : {0:0.4f}'.format(xgb_score))"
      ],
      "execution_count": null,
      "outputs": [
        {
          "output_type": "stream",
          "name": "stdout",
          "text": [
            "XGBoost MAE : 1211.7975\n"
          ]
        }
      ]
    },
    {
      "cell_type": "markdown",
      "metadata": {
        "id": "6XZkWQ2E0qJG"
      },
      "source": [
        "### 문제 24. Light GBM 모델 돌려보기"
      ]
    },
    {
      "cell_type": "code",
      "metadata": {
        "colab": {
          "base_uri": "https://localhost:8080/"
        },
        "id": "2zV3jXvMIIM0",
        "outputId": "58c3a53d-3391-4a70-f3ff-8bd6c123aa8c"
      },
      "source": [
        "from lightgbm.sklearn import LGBMRegressor\n",
        "\n",
        "lgb = LGBMRegressor(max_depth=6, max_features=0.85)\n",
        "lgb.fit(X_train_scaled, y_train)"
      ],
      "execution_count": null,
      "outputs": [
        {
          "output_type": "execute_result",
          "data": {
            "text/plain": [
              "LGBMRegressor(boosting_type='gbdt', class_weight=None, colsample_bytree=1.0,\n",
              "              importance_type='split', learning_rate=0.1, max_depth=6,\n",
              "              max_features=0.85, min_child_samples=20, min_child_weight=0.001,\n",
              "              min_split_gain=0.0, n_estimators=100, n_jobs=-1, num_leaves=31,\n",
              "              objective=None, random_state=None, reg_alpha=0.0, reg_lambda=0.0,\n",
              "              silent=True, subsample=1.0, subsample_for_bin=200000,\n",
              "              subsample_freq=0)"
            ]
          },
          "metadata": {},
          "execution_count": 46
        }
      ]
    },
    {
      "cell_type": "code",
      "metadata": {
        "colab": {
          "base_uri": "https://localhost:8080/"
        },
        "id": "ZAyGd8_nIYer",
        "outputId": "d5648b60-11dd-44fc-b18a-dd62a84498fd"
      },
      "source": [
        "pred = lgb.predict(X_train_scaled) \n",
        "lgb_score = mean_absolute_error(y_train, pred)\n",
        "print('LightGBM MAE: {0:0.4f}'.format(lgb_score))"
      ],
      "execution_count": null,
      "outputs": [
        {
          "output_type": "stream",
          "name": "stdout",
          "text": [
            "LightGBM MAE: 1219.7405\n"
          ]
        }
      ]
    },
    {
      "cell_type": "markdown",
      "metadata": {
        "id": "7_5l_T2-0qJE"
      },
      "source": [
        "### 참고 : 부스팅(Boosting) 모델 개요\n",
        "\n",
        "\n",
        "- 부스팅은 여러 트리의 적합 결과를 합하는 앙상블 알고리즘의 하나로, 이 때 sequential의 개념이 추가되어 있습니다. 즉 연속적인 weak learner, 바로 직전 weak learner의 error를 반영한 현재 weak learner를 잡겠다는 것입니다. 이 아이디어는 Gradient Boosting Model(GBM)에서 loss를 계속 줄이는 방향으로 weak learner를 잡는다는 개념으로 확장됩니다.\n",
        "\n",
        "![boost](https://pluralsight2.imgix.net/guides/81232a78-2e99-4ccc-ba8e-8cd873625fdf_2.jpg)\n",
        "\n",
        "\n",
        "- 부스팅 계열 모델은 XGBoost, LightGBM, CatBoost 등이 있습니다.\n",
        "\n",
        "\n",
        "- 더 자세한 내용은 다음 Step에서 살펴보겠습니다."
      ]
    },
    {
      "cell_type": "markdown",
      "metadata": {
        "id": "F15Q5DnCI0BJ"
      },
      "source": [
        "### 문제 25. Test prediction\n",
        "\n",
        "- 학습한 모델을 기반하여 test 데이터를 평가합니다. 그 예측값이 대회 제출이 되는 기준입니다.\n",
        "\n",
        "\n",
        "- 실제 현업에서는 서비스에 들어가는 기술을 test 데이터로 평가합니다. 마치 유저가 들어온 것처럼요."
      ]
    },
    {
      "cell_type": "code",
      "metadata": {
        "colab": {
          "base_uri": "https://localhost:8080/"
        },
        "id": "erlbgiieIzrT",
        "outputId": "2effc2be-dc03-4d3f-d24d-f464ca3d5cab"
      },
      "source": [
        "# 모델을 하나 정해서, test data에 대한 inference를 진행합니다.\n",
        "final = lgb.predict(X_test_scaled)\n",
        "final"
      ],
      "execution_count": null,
      "outputs": [
        {
          "output_type": "execute_result",
          "data": {
            "text/plain": [
              "array([2669.37447868, 2669.37447868, 2669.37447868, ..., 3010.21633851,\n",
              "       3010.21633851, 3010.21633851])"
            ]
          },
          "metadata": {},
          "execution_count": 48
        }
      ]
    },
    {
      "cell_type": "code",
      "metadata": {
        "colab": {
          "base_uri": "https://localhost:8080/",
          "height": 420
        },
        "id": "ghRjOQtrKToF",
        "outputId": "f6da19c3-1ef3-4dba-9ef3-1c312ddb4c60"
      },
      "source": [
        "# 제출 템플릿 불러오기\n",
        "submission = pd.read_csv(base_path + \"/sample_submission.csv\")\n",
        "submission"
      ],
      "execution_count": null,
      "outputs": [
        {
          "output_type": "execute_result",
          "data": {
            "text/html": [
              "<div>\n",
              "<style scoped>\n",
              "    .dataframe tbody tr th:only-of-type {\n",
              "        vertical-align: middle;\n",
              "    }\n",
              "\n",
              "    .dataframe tbody tr th {\n",
              "        vertical-align: top;\n",
              "    }\n",
              "\n",
              "    .dataframe thead th {\n",
              "        text-align: right;\n",
              "    }\n",
              "</style>\n",
              "<table border=\"1\" class=\"dataframe\">\n",
              "  <thead>\n",
              "    <tr style=\"text-align: right;\">\n",
              "      <th></th>\n",
              "      <th>num_date_time</th>\n",
              "      <th>answer</th>\n",
              "    </tr>\n",
              "  </thead>\n",
              "  <tbody>\n",
              "    <tr>\n",
              "      <th>0</th>\n",
              "      <td>1 2020-08-25 00</td>\n",
              "      <td>0</td>\n",
              "    </tr>\n",
              "    <tr>\n",
              "      <th>1</th>\n",
              "      <td>1 2020-08-25 01</td>\n",
              "      <td>0</td>\n",
              "    </tr>\n",
              "    <tr>\n",
              "      <th>2</th>\n",
              "      <td>1 2020-08-25 02</td>\n",
              "      <td>0</td>\n",
              "    </tr>\n",
              "    <tr>\n",
              "      <th>3</th>\n",
              "      <td>1 2020-08-25 03</td>\n",
              "      <td>0</td>\n",
              "    </tr>\n",
              "    <tr>\n",
              "      <th>4</th>\n",
              "      <td>1 2020-08-25 04</td>\n",
              "      <td>0</td>\n",
              "    </tr>\n",
              "    <tr>\n",
              "      <th>...</th>\n",
              "      <td>...</td>\n",
              "      <td>...</td>\n",
              "    </tr>\n",
              "    <tr>\n",
              "      <th>10075</th>\n",
              "      <td>60 2020-08-31 19</td>\n",
              "      <td>0</td>\n",
              "    </tr>\n",
              "    <tr>\n",
              "      <th>10076</th>\n",
              "      <td>60 2020-08-31 20</td>\n",
              "      <td>0</td>\n",
              "    </tr>\n",
              "    <tr>\n",
              "      <th>10077</th>\n",
              "      <td>60 2020-08-31 21</td>\n",
              "      <td>0</td>\n",
              "    </tr>\n",
              "    <tr>\n",
              "      <th>10078</th>\n",
              "      <td>60 2020-08-31 22</td>\n",
              "      <td>0</td>\n",
              "    </tr>\n",
              "    <tr>\n",
              "      <th>10079</th>\n",
              "      <td>60 2020-08-31 23</td>\n",
              "      <td>0</td>\n",
              "    </tr>\n",
              "  </tbody>\n",
              "</table>\n",
              "<p>10080 rows × 2 columns</p>\n",
              "</div>"
            ],
            "text/plain": [
              "          num_date_time  answer\n",
              "0       1 2020-08-25 00       0\n",
              "1       1 2020-08-25 01       0\n",
              "2       1 2020-08-25 02       0\n",
              "3       1 2020-08-25 03       0\n",
              "4       1 2020-08-25 04       0\n",
              "...                 ...     ...\n",
              "10075  60 2020-08-31 19       0\n",
              "10076  60 2020-08-31 20       0\n",
              "10077  60 2020-08-31 21       0\n",
              "10078  60 2020-08-31 22       0\n",
              "10079  60 2020-08-31 23       0\n",
              "\n",
              "[10080 rows x 2 columns]"
            ]
          },
          "metadata": {},
          "execution_count": 49
        }
      ]
    },
    {
      "cell_type": "code",
      "metadata": {
        "colab": {
          "base_uri": "https://localhost:8080/",
          "height": 420
        },
        "id": "TsTZOzZmJXuV",
        "outputId": "e9ec264d-ff9c-458b-dea7-859eff7db8b2"
      },
      "source": [
        "# 결과 파일 생성\n",
        "submission['answer'] = final\n",
        "submission"
      ],
      "execution_count": null,
      "outputs": [
        {
          "output_type": "execute_result",
          "data": {
            "text/html": [
              "<div>\n",
              "<style scoped>\n",
              "    .dataframe tbody tr th:only-of-type {\n",
              "        vertical-align: middle;\n",
              "    }\n",
              "\n",
              "    .dataframe tbody tr th {\n",
              "        vertical-align: top;\n",
              "    }\n",
              "\n",
              "    .dataframe thead th {\n",
              "        text-align: right;\n",
              "    }\n",
              "</style>\n",
              "<table border=\"1\" class=\"dataframe\">\n",
              "  <thead>\n",
              "    <tr style=\"text-align: right;\">\n",
              "      <th></th>\n",
              "      <th>num_date_time</th>\n",
              "      <th>answer</th>\n",
              "    </tr>\n",
              "  </thead>\n",
              "  <tbody>\n",
              "    <tr>\n",
              "      <th>0</th>\n",
              "      <td>1 2020-08-25 00</td>\n",
              "      <td>2669.374479</td>\n",
              "    </tr>\n",
              "    <tr>\n",
              "      <th>1</th>\n",
              "      <td>1 2020-08-25 01</td>\n",
              "      <td>2669.374479</td>\n",
              "    </tr>\n",
              "    <tr>\n",
              "      <th>2</th>\n",
              "      <td>1 2020-08-25 02</td>\n",
              "      <td>2669.374479</td>\n",
              "    </tr>\n",
              "    <tr>\n",
              "      <th>3</th>\n",
              "      <td>1 2020-08-25 03</td>\n",
              "      <td>2342.045690</td>\n",
              "    </tr>\n",
              "    <tr>\n",
              "      <th>4</th>\n",
              "      <td>1 2020-08-25 04</td>\n",
              "      <td>2342.045690</td>\n",
              "    </tr>\n",
              "    <tr>\n",
              "      <th>...</th>\n",
              "      <td>...</td>\n",
              "      <td>...</td>\n",
              "    </tr>\n",
              "    <tr>\n",
              "      <th>10075</th>\n",
              "      <td>60 2020-08-31 19</td>\n",
              "      <td>3836.843705</td>\n",
              "    </tr>\n",
              "    <tr>\n",
              "      <th>10076</th>\n",
              "      <td>60 2020-08-31 20</td>\n",
              "      <td>3836.843705</td>\n",
              "    </tr>\n",
              "    <tr>\n",
              "      <th>10077</th>\n",
              "      <td>60 2020-08-31 21</td>\n",
              "      <td>3010.216339</td>\n",
              "    </tr>\n",
              "    <tr>\n",
              "      <th>10078</th>\n",
              "      <td>60 2020-08-31 22</td>\n",
              "      <td>3010.216339</td>\n",
              "    </tr>\n",
              "    <tr>\n",
              "      <th>10079</th>\n",
              "      <td>60 2020-08-31 23</td>\n",
              "      <td>3010.216339</td>\n",
              "    </tr>\n",
              "  </tbody>\n",
              "</table>\n",
              "<p>10080 rows × 2 columns</p>\n",
              "</div>"
            ],
            "text/plain": [
              "          num_date_time       answer\n",
              "0       1 2020-08-25 00  2669.374479\n",
              "1       1 2020-08-25 01  2669.374479\n",
              "2       1 2020-08-25 02  2669.374479\n",
              "3       1 2020-08-25 03  2342.045690\n",
              "4       1 2020-08-25 04  2342.045690\n",
              "...                 ...          ...\n",
              "10075  60 2020-08-31 19  3836.843705\n",
              "10076  60 2020-08-31 20  3836.843705\n",
              "10077  60 2020-08-31 21  3010.216339\n",
              "10078  60 2020-08-31 22  3010.216339\n",
              "10079  60 2020-08-31 23  3010.216339\n",
              "\n",
              "[10080 rows x 2 columns]"
            ]
          },
          "metadata": {},
          "execution_count": 50
        }
      ]
    },
    {
      "cell_type": "markdown",
      "metadata": {
        "id": "xUz80L2m0qJI"
      },
      "source": [
        "### 문제 26. 최종 성능 정리"
      ]
    },
    {
      "cell_type": "code",
      "metadata": {
        "scrolled": false,
        "id": "qp15ChOf0qJJ",
        "colab": {
          "base_uri": "https://localhost:8080/"
        },
        "outputId": "857a30c9-7f4f-4330-d959-f7624590b8f8"
      },
      "source": [
        "print('MAE Comparisons for Various Regression Models\\n')\n",
        "print('linear_reg_score:', '{0:0.5f}'.format(linear_reg_score))\n",
        "print('lasso_score   :', '{0:0.5f}'.format(lasso_score))\n",
        "print('rf_score   :', '{0:0.5f}'.format(rf_score))\n",
        "print('svm_score   :', '{0:0.5f}'.format(svm_score))\n",
        "print('xgb_score   :', '{0:0.5f}'.format(xgb_score))\n",
        "print('lgb_score   :', '{0:0.5f}'.format(lgb_score))"
      ],
      "execution_count": null,
      "outputs": [
        {
          "output_type": "stream",
          "name": "stdout",
          "text": [
            "MAE Comparisons for Various Regression Models\n",
            "\n",
            "linear_reg_score: 1279.92713\n",
            "lasso_score   : 1280.15991\n",
            "rf_score   : 1255.19375\n",
            "svm_score   : 1179.79972\n",
            "xgb_score   : 1211.79751\n",
            "lgb_score   : 1219.74055\n"
          ]
        }
      ]
    },
    {
      "cell_type": "code",
      "metadata": {
        "id": "W05Y19ceIxQe"
      },
      "source": [
        ""
      ],
      "execution_count": null,
      "outputs": []
    }
  ]
}
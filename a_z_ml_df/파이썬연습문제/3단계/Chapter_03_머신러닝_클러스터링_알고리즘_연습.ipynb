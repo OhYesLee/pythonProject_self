{
  "nbformat": 4,
  "nbformat_minor": 0,
  "metadata": {
    "kernelspec": {
      "display_name": "Python 3",
      "language": "python",
      "name": "python3"
    },
    "language_info": {
      "codemirror_mode": {
        "name": "ipython",
        "version": 3
      },
      "file_extension": ".py",
      "mimetype": "text/x-python",
      "name": "python",
      "nbconvert_exporter": "python",
      "pygments_lexer": "ipython3",
      "version": "3.6.6"
    },
    "toc": {
      "base_numbering": 1,
      "nav_menu": {},
      "number_sections": true,
      "sideBar": true,
      "skip_h1_title": false,
      "title_cell": "Table of Contents",
      "title_sidebar": "Contents",
      "toc_cell": false,
      "toc_position": {},
      "toc_section_display": true,
      "toc_window_display": false
    },
    "colab": {
      "name": "Chapter 03. 머신러닝 클러스터링 알고리즘 연습",
      "provenance": [],
      "collapsed_sections": [],
      "machine_shape": "hm"
    }
  },
  "cells": [
    {
      "cell_type": "markdown",
      "metadata": {
        "id": "Xn_bPjW10qHz"
      },
      "source": [
        "# Chapter 03. 머신러닝 클러스터링 문제 연습하기"
      ]
    },
    {
      "cell_type": "code",
      "metadata": {
        "id": "yx-hyOnbRdm_"
      },
      "source": [
        "from google.colab import drive\n",
        "drive.mount('/content/drive')"
      ],
      "execution_count": null,
      "outputs": []
    },
    {
      "cell_type": "markdown",
      "metadata": {
        "id": "hR5XfHWy0qIi"
      },
      "source": [
        "## 실습 가이드\n",
        "1. 데이터를 다운로드하여 Colab에 불러옵니다.\n",
        "> 다운로드한 데이터의 위치는 **Colab Notebooks/data/** 로 통일합니다.\n",
        "\n",
        "2. 필요한 라이브러리는 모두 코드로 작성되어 있습니다.\n",
        "3. 코드는 위에서부터 아래로 순서대로 실행합니다.\n",
        "4. 전체 문제 구성은 좌측 첫 번째 아이콘을 통해 확인할 수 있습니다."
      ]
    },
    {
      "cell_type": "markdown",
      "metadata": {
        "id": "arCV66fJ0qIk"
      },
      "source": [
        "### <b> 데이터의 속성</b>\n",
        "**시작 전에** 원본 Kaggle 페이지에서 상세한 데이터에 대한 설명을 확인하세요 !\n",
        "\n",
        "Reference : https://www.kaggle.com/c/instacart-market-basket-analysis/data\n"
      ]
    },
    {
      "cell_type": "markdown",
      "metadata": {
        "id": "RlsQsuiB0qIm"
      },
      "source": [
        "### <b>학습목표</b>\n",
        "- 1) 클러스터링 모델의 이해\n",
        "- 2) 학습했던 다양한 머신러닝 클러스터링 모델의 이해\n",
        "- 3) 클러스터링을 위한 데이터 전처리 방법에 대한 이해\n",
        "- 4) feature engineering에 대한 이해\n",
        "- 5) 평가결과와 함께 결과 해석하는 방법에 대한 이해"
      ]
    },
    {
      "cell_type": "markdown",
      "metadata": {
        "id": "p3cbNzXr0qIn"
      },
      "source": [
        "- 출제자: 김용담 강사"
      ]
    },
    {
      "cell_type": "markdown",
      "metadata": {
        "id": "aUgMaQu_FyGT"
      },
      "source": [
        "**Customer Segmentation**\n",
        "\n",
        "- Customer Segmentation이란, 비슷한 특성을 가지는 고객들을 묶어서 고객군을 찾는 분석 기법을 말합니다.\n",
        "\n",
        "- 데이터에서 Customer를 나타낼 feature들을 고른 다음, 클러스터링 기법을 사용합니다.\n",
        "\n",
        "- 주어진 데이터를 Customer를 기준으로 변환한 다음, 여러가지 클러스터링 기법을 적용해보고 결과를 해석해봅시다.\n",
        "\n",
        "(단, 실습의 효율성을 위해서 train 데이터를 10만개로 줄여서 사용합니다.)"
      ]
    },
    {
      "cell_type": "markdown",
      "metadata": {
        "id": "L0CtisIz0qIo"
      },
      "source": [
        "## Step 1. 분석할 데이터 불러오기"
      ]
    },
    {
      "cell_type": "markdown",
      "metadata": {
        "id": "B2MLQ8Ff0qIp"
      },
      "source": [
        "### 문제 01. 데이터 불러오기"
      ]
    },
    {
      "cell_type": "code",
      "metadata": {
        "id": "yEUiebcx0qIq"
      },
      "source": [
        "# 분석에 필요한 라이브러리를 불러옵니다\n",
        "import numpy as np\n",
        "import pandas as pd\n",
        "import matplotlib.pyplot as plt\n",
        "import seaborn as sns \n",
        "\n",
        "import warnings\n",
        "warnings.filterwarnings('ignore')"
      ],
      "execution_count": null,
      "outputs": []
    },
    {
      "cell_type": "code",
      "metadata": {
        "id": "DRCsZ6CBEBM5"
      },
      "source": [
        "# prior 데이터는 분석에서 제외합니다.\n",
        "\n",
        "base_path = '/content/drive/MyDrive/Colab Notebooks/data/Instacart'\n",
        "aisles = \n",
        "orders = \n",
        "departments = \n",
        "train = \n",
        "products = "
      ],
      "execution_count": null,
      "outputs": []
    },
    {
      "cell_type": "markdown",
      "metadata": {
        "id": "cupV8lpw0qIr"
      },
      "source": [
        "### 문제 02. 데이터 미리보기"
      ]
    },
    {
      "cell_type": "code",
      "metadata": {
        "id": "rrtfD32hD-yz"
      },
      "source": [
        "# 데이터 크기 확인\n",
        "\n",
        "\n",
        "# 데이터 일부 확인\n"
      ],
      "execution_count": null,
      "outputs": []
    },
    {
      "cell_type": "markdown",
      "metadata": {
        "id": "YZMNz6Es0qIs"
      },
      "source": [
        "### 문제 03. 데이터 확인하기"
      ]
    },
    {
      "cell_type": "code",
      "metadata": {
        "id": "SWLusfet0qIt"
      },
      "source": [
        "# aisles 데이터에서 결측치가 있는 데이터 확인하기\n"
      ],
      "execution_count": null,
      "outputs": []
    },
    {
      "cell_type": "code",
      "metadata": {
        "id": "LqYtcDqX0qIw"
      },
      "source": [
        "# orders 데이터에서 결측치가 있는 데이터 확인하기\n"
      ],
      "execution_count": null,
      "outputs": []
    },
    {
      "cell_type": "code",
      "metadata": {
        "id": "6X9tMRdwEqti"
      },
      "source": [
        "# departments 데이터에서 결측치가 있는 데이터 확인하기\n"
      ],
      "execution_count": null,
      "outputs": []
    },
    {
      "cell_type": "code",
      "metadata": {
        "id": "176-q4nZEvZU"
      },
      "source": [
        "# train 데이터에서 결측치가 있는 데이터 확인하기\n"
      ],
      "execution_count": null,
      "outputs": []
    },
    {
      "cell_type": "code",
      "metadata": {
        "id": "24vuuFttE3nj"
      },
      "source": [
        "# products 데이터에서 결측치가 있는 데이터 확인하기\n"
      ],
      "execution_count": null,
      "outputs": []
    },
    {
      "cell_type": "markdown",
      "metadata": {
        "id": "wB0Eo_-D0qIx"
      },
      "source": [
        "## Step 2. Data Preprocessing\n",
        "\n",
        "- Instacart 데이터에는 결측치가 없습니다.\n",
        "\n",
        "- 데이터를 분석하기 위한 대상을 정의하기 위해, 데이터를 합쳐봅니다.\n",
        "\n"
      ]
    },
    {
      "cell_type": "markdown",
      "metadata": {
        "id": "uL3ndm06e7S1"
      },
      "source": [
        "### 문제 04. 데이터 병합하기\n",
        "\n",
        "- 불러온 데이터들을 살펴보면, 테이블마다 특정_id를 기준으로 데이터를 병합할 수 있습니다.\n",
        "\n",
        "- 이를 table join 연산이라고 하며 pandas의 pd.merge 함수를 이용하여 데이터를 모두 합쳐봅시다."
      ]
    },
    {
      "cell_type": "code",
      "metadata": {
        "id": "2aFU8iCqfkyp"
      },
      "source": [
        "# aisles과 products를 불러와봅니다.\n"
      ],
      "execution_count": null,
      "outputs": []
    },
    {
      "cell_type": "code",
      "metadata": {
        "id": "xe1HL5kiI49m"
      },
      "source": [
        "# 두 테이블 모두 aisle_id를 가지고 있으므로, aisle_id를 기준으로 데이터를 합쳐봅니다.\n",
        "temp = \n",
        "temp"
      ],
      "execution_count": null,
      "outputs": []
    },
    {
      "cell_type": "markdown",
      "metadata": {
        "id": "TJc3-Mz8gSR6"
      },
      "source": [
        "### 문제 05. 데이터 병합하기 2"
      ]
    },
    {
      "cell_type": "code",
      "metadata": {
        "id": "6N1S5Ux-iaqz"
      },
      "source": [
        "# 위에서 합친 temp와 합칠 수 있는 다른 테이블을 하나 더 가져옵니다.\n"
      ],
      "execution_count": null,
      "outputs": []
    },
    {
      "cell_type": "code",
      "metadata": {
        "id": "mdpsJMkdKApF"
      },
      "source": [
        "temp = \n",
        "temp"
      ],
      "execution_count": null,
      "outputs": []
    },
    {
      "cell_type": "markdown",
      "metadata": {
        "id": "2azgZATtnKb8"
      },
      "source": [
        "### 문제 06. 데이터 병합하기 3"
      ]
    },
    {
      "cell_type": "code",
      "metadata": {
        "id": "k5nfgaF2j2fz"
      },
      "source": [
        "# temp와 병합할 다른 테이블을 가져옵니다.\n"
      ],
      "execution_count": null,
      "outputs": []
    },
    {
      "cell_type": "code",
      "metadata": {
        "id": "eM-85bduKpCD"
      },
      "source": [
        "# 두 테이블이 공통으로 포함하고 있는 product_id를 기준으로 합칩니다.\n",
        "temp = \n",
        "temp"
      ],
      "execution_count": null,
      "outputs": []
    },
    {
      "cell_type": "markdown",
      "metadata": {
        "id": "W4oZ1yV-kNgM"
      },
      "source": [
        "### 문제 07. 데이터 병합하기 4"
      ]
    },
    {
      "cell_type": "code",
      "metadata": {
        "id": "e_EZhH_dkNxm"
      },
      "source": [
        "# temp와 병합할 데이터를 선택합니다.\n"
      ],
      "execution_count": null,
      "outputs": []
    },
    {
      "cell_type": "code",
      "metadata": {
        "id": "km4KDZ-Xvmhk"
      },
      "source": [
        "# 두 데이터가 공통으로 포함하고 있는 order_id를 기준으로 데이터를 병합합니다.\n",
        "temp = \n",
        "temp"
      ],
      "execution_count": null,
      "outputs": []
    },
    {
      "cell_type": "markdown",
      "metadata": {
        "id": "pRCLeS3VlARY"
      },
      "source": [
        "### 문제 08. Customer 정의하기\n",
        "\n",
        "- 모든 테이블을 병합한 temp table에서 Customer를 정의할 feature를 만듭니다.\n",
        "\n",
        "- 고객들의 구매 내역을 기준으로 고객을 정의하려고 합니다.\n",
        "\n",
        "- 이 때, 어떤 방식으로 고객을 정의해야할지 고민해보고 실습해봅시다."
      ]
    },
    {
      "cell_type": "code",
      "metadata": {
        "id": "UdvdyrZAkl6M"
      },
      "source": [
        "# 병합한 데이터 확인하기\n",
        "temp"
      ],
      "execution_count": null,
      "outputs": []
    },
    {
      "cell_type": "markdown",
      "metadata": {
        "id": "6D5fIduYS9Ig"
      },
      "source": [
        "- 한 명의 고객은 하나의 user_id를 가집니다. user_id 별로 데이터를 합쳐야 합니다.\n",
        "\n",
        "- 각 user가 구매한 아이템 내역으로 간단하게 정의해보려고 합니다.\n",
        "\n",
        "- user가 구매한 아이템은 products/aisles/departments 별로 정의가 되어있습니다.\n",
        "\n",
        "- 가장 간단하게 표현할 수 있는 departments level로 표현해보겠습니다."
      ]
    },
    {
      "cell_type": "code",
      "metadata": {
        "id": "toDU5DRGSg5M"
      },
      "source": [
        "# pd.crosstab 함수를 이용하여 데이터를 user_id당 departments별 구매 빈도로 변환합니다.\n",
        "data = \n",
        "data"
      ],
      "execution_count": null,
      "outputs": []
    },
    {
      "cell_type": "markdown",
      "metadata": {
        "id": "8xgBPSQzXcuE"
      },
      "source": [
        "## Step 3. 클러스터링 적용하기\n",
        "\n",
        "- 사용할 클러스터링 기법은 K-means와 Hierarchical Clustering 기법입니다.\n",
        "\n",
        "- K-means와 Hierarchical clustering 방법별로 어떤 차이가 있는지 확인합니다.\n",
        "\n",
        "\n",
        "- 클러스터링 기법에 사용할 성능 측정 지표는 Silhoutte score 입니다.\n",
        "\n",
        "- Silhoette score는 -1에서 1 사이의 값을 가지며, 1일 때 best cluster를 가지고, -1일 때 worst cluster를 가집니다."
      ]
    },
    {
      "cell_type": "markdown",
      "metadata": {
        "id": "ZjnYBx_jn1Qo"
      },
      "source": [
        "### 문제 09. K-means 클러스터링 적용하기"
      ]
    },
    {
      "cell_type": "code",
      "metadata": {
        "id": "c49lEF_pr1Zs"
      },
      "source": [
        "# scikit-learn에서 Kmeans를 불러와서 학습시킵니다.\n",
        "\n",
        "\n",
        "model = \n",
        "preds = "
      ],
      "execution_count": null,
      "outputs": []
    },
    {
      "cell_type": "code",
      "metadata": {
        "id": "hf_c_ytHs7q0"
      },
      "source": [
        "# 성능 측정을 위해 silhouette score를 불러옵니다\n",
        "\n",
        "\n",
        "score = \n",
        "print(\"Silhouette Score: %.4f\" % score)"
      ],
      "execution_count": null,
      "outputs": []
    },
    {
      "cell_type": "markdown",
      "metadata": {
        "id": "K7o5EkGjtJm0"
      },
      "source": [
        "### 문제 10. 최적의 클러스터 개수 찾기\n",
        "\n",
        "- Kmeans는 K 개수에 따라 성능 편차가 심합니다.\n",
        "\n",
        "- 최적의 K를 구하는 방법엔 어떤 것들이 있을까요?"
      ]
    },
    {
      "cell_type": "code",
      "metadata": {
        "id": "DdJrA5QQ6Fm_"
      },
      "source": [
        "# inertia(Kmeans의 objective function값)을 계산해서 K값이 변화함에 따라 inertia의 변화가 가장 커지는 K를 찾습니다.\n",
        "# K의 범위는 확인하고 싶은 모든 범위를 지정하면 됩니다. 실습에서는 2 ~ 10으로 하겠습니다.\n",
        "\n",
        "errors = []\n",
        "\n",
        "for K in range(2, 11):\n"
      ],
      "execution_count": null,
      "outputs": []
    },
    {
      "cell_type": "code",
      "metadata": {
        "id": "GnGh2CjRNI93"
      },
      "source": [
        "plt.figure(figsize=(12, 6))\n",
        "plt.title(\"Inertia for K: 2 - 10\")\n",
        "plt.plot(list(range(2, 11)), errors)\n",
        "plt.show()"
      ],
      "execution_count": null,
      "outputs": []
    },
    {
      "cell_type": "markdown",
      "metadata": {
        "id": "sbFHe-Y3Giiw"
      },
      "source": [
        "- **inertia를 기준으로 했을 때 최적의 K는 4입니다.**"
      ]
    },
    {
      "cell_type": "markdown",
      "metadata": {
        "id": "X5XVN43Uz-dt"
      },
      "source": [
        "### 문제 11. 최적의 클러스터 개수 찾기 2\n",
        "\n",
        "- 이번에는 inertia 대신에 silhouette score를 이용하여 최적의 K를 찾아봅시다."
      ]
    },
    {
      "cell_type": "code",
      "metadata": {
        "id": "lMTdk2Y5z-Vx"
      },
      "source": [
        "scores = []\n",
        "\n",
        "for K in range(2, 11):\n",
        "    "
      ],
      "execution_count": null,
      "outputs": []
    },
    {
      "cell_type": "code",
      "metadata": {
        "id": "0M5a2kv0z6J9"
      },
      "source": [
        "plt.figure(figsize=(12, 6))\n",
        "plt.title(\"Silhouette Score for K: 2 - 10\")\n",
        "plt.plot(list(range(2, 11)), scores)\n",
        "plt.show()"
      ],
      "execution_count": null,
      "outputs": []
    },
    {
      "cell_type": "markdown",
      "metadata": {
        "id": "kLwLGHByvnoO"
      },
      "source": [
        "- **silhouette을 기준으로 했을 때 최적의 K는 2입니다.**"
      ]
    },
    {
      "cell_type": "markdown",
      "metadata": {
        "id": "sRnKXsre1SUr"
      },
      "source": [
        "### 문제 12. Hierarchical Clustering 돌려보기\n",
        "\n",
        "- hierarchical clustering은 K-means와 전혀 다른 방법으로 동작합니다.\n",
        "\n",
        "- hierarchical clustering은 distance measure와 linkage method를 변경하는 것으로 다양한 형태의 클러스터를 판별할 수 있습니다."
      ]
    },
    {
      "cell_type": "code",
      "metadata": {
        "id": "dJriF5wM1RlM"
      },
      "source": [
        "# hierarchical clustering 함수를 scikit-learn에서 불러와서 학습시킵니다.\n",
        "\n",
        "\n",
        "hierarchical_model = \n",
        "preds = "
      ],
      "execution_count": null,
      "outputs": []
    },
    {
      "cell_type": "code",
      "metadata": {
        "id": "hutDOGQe8fKC"
      },
      "source": [
        "# 성능 측정을 위해 silhouette score를 계산합니다.\n",
        "score = silhouette_score(data, preds)\n",
        "print(\"Silhouette Score: %.4f\" % score)"
      ],
      "execution_count": null,
      "outputs": []
    },
    {
      "cell_type": "markdown",
      "metadata": {
        "id": "L99yG6eh-wA_"
      },
      "source": [
        "## 문제 13. linkage 바꿔보기\n",
        "\n",
        "- Hierarchical clustering은 linkage(연결 방식)을 변경하여 댜양한 형태의 데이터를 파악할 수 있습니다.\n",
        "\n",
        "- 각 방식을 scikit-learn으로 구현하여 봅시다."
      ]
    },
    {
      "cell_type": "code",
      "metadata": {
        "id": "v6-499yW_DRU"
      },
      "source": [
        "# clustering model with various linkage method\n",
        "model_single = \n",
        "model_average = \n",
        "model_complete = \n",
        "model_ward =  # default\n",
        "\n",
        "pred_single = \n",
        "pred_average = \n",
        "pred_complete = \n",
        "pred_ward = "
      ],
      "execution_count": null,
      "outputs": []
    },
    {
      "cell_type": "markdown",
      "metadata": {
        "id": "gmPX9DfA1Ae3"
      },
      "source": [
        "## 문제 14. 성능 비교\n",
        "\n",
        "- scikit-learn이 제공하는 4가지의 linkage 방법을 비교하여 성능을 확인하여 봅니다."
      ]
    },
    {
      "cell_type": "code",
      "metadata": {
        "id": "5z2wxrJo1Lt7"
      },
      "source": [
        "# 성능 측정을 위해 silhouette score를 계산합니다.\n",
        "score_single = \n",
        "score_average = \n",
        "score_complete = \n",
        "score_ward = \n",
        "print(\"Silhouette Score with single linkage: %.4f\" % score_single)\n",
        "print(\"Silhouette Score with average linkage: %.4f\" % score_average)\n",
        "print(\"Silhouette Score with complete linkage: %.4f\" % score_complete)\n",
        "print(\"Silhouette Score with ward linkage: %.4f\" % score_ward)"
      ],
      "execution_count": null,
      "outputs": []
    },
    {
      "cell_type": "markdown",
      "metadata": {
        "id": "nVbiZ6d23Ja3"
      },
      "source": [
        "### 문제 15. distance measure 바꿔보기\n",
        "\n",
        "- Hierarchical clustering의 장점 중에 하나는 다양한 거리 함수를 사용할 수 있다는 것입니다.\n",
        "\n",
        "- \"affinity=\" 파라미터를 변경하여 다른 거리 함수로 클러스터링을 시도하고 성능을 비교하여 봅시다.\n",
        "\n",
        "- \"ward linkage\"는 euclidean distance만 가능하므로, linkage는 average로 변경하여 구현합니다."
      ]
    },
    {
      "cell_type": "code",
      "metadata": {
        "id": "J3BzgJu34AVE"
      },
      "source": [
        "# hierarchical clustering\n",
        "model_l1 = \n",
        "model_l2 =  # default\n",
        "model_cos = \n",
        "\n",
        "# prediction\n",
        "pred_l1 = \n",
        "pred_l2 = \n",
        "pred_cos = "
      ],
      "execution_count": null,
      "outputs": []
    },
    {
      "cell_type": "markdown",
      "metadata": {
        "id": "0VildAOf70Y1"
      },
      "source": [
        "### 문제 16. 성능 비교"
      ]
    },
    {
      "cell_type": "code",
      "metadata": {
        "id": "1Iko3gZbAUrO"
      },
      "source": [
        "# 성능 측정을 위해 silhouette score를 계산합니다.\n",
        "score_l1 = \n",
        "score_l2 = \n",
        "score_cos = \n",
        "\n",
        "print(\"Silhouette Score with L1 distance: %.4f\" % score_l1)\n",
        "print(\"Silhouette Score with L2 distance: %.4f\" % score_l2)\n",
        "print(\"Silhouette Score with cosine distance: %.4f\" % score_cos)"
      ],
      "execution_count": null,
      "outputs": []
    },
    {
      "cell_type": "markdown",
      "metadata": {
        "id": "6ria9cma0qIx"
      },
      "source": [
        "## Item-level 바꿔보기 departments -> aisles\n",
        "\n",
        "- 지금의 데이터셋은 고객들이 구매한 아이템이 속한 21개의 departments로 고객 정보를 표현했다면, 더 세부적인 정보를 포함하고 있는 aisles 단위로 변경하여 같은 프로세스를 진행해봅니다."
      ]
    },
    {
      "cell_type": "markdown",
      "metadata": {
        "id": "bIo0yfPH4lU2"
      },
      "source": [
        "### 문제 17. (RECAP) Customer 정의하기\n",
        "\n",
        "- 이번엔 데이터를 aisles 단위로 표현해봅니다."
      ]
    },
    {
      "cell_type": "code",
      "metadata": {
        "id": "WgCEjt9D-VHH"
      },
      "source": [
        "# pd.crosstab 함수를 이용하여 데이터를 user_id당 aisles별 구매 빈도로 변환합니다.\n",
        "data = \n",
        "data"
      ],
      "execution_count": null,
      "outputs": []
    },
    {
      "cell_type": "markdown",
      "metadata": {
        "id": "dzHaAPO35SC3"
      },
      "source": [
        "### 문제 18. K-means 클러스터링 적용하기"
      ]
    },
    {
      "cell_type": "code",
      "metadata": {
        "id": "-WVwJvkq5SC_"
      },
      "source": [
        "# scikit-learn에서 Kmeans를 불러옵니다.\n",
        "\n",
        "\n"
      ],
      "execution_count": null,
      "outputs": []
    },
    {
      "cell_type": "code",
      "metadata": {
        "id": "77xUHZKB5SC_"
      },
      "source": [
        "# 성능 측정을 위해 silhouette score를 불러옵니다\n"
      ],
      "execution_count": null,
      "outputs": []
    },
    {
      "cell_type": "markdown",
      "metadata": {
        "id": "6yQMlkAl5SDA"
      },
      "source": [
        "### 문제 19. 최적의 클러스터 개수 찾기 3\n",
        "\n",
        "- Kmeans는 K 개수에 따라 성능 편차가 심합니다.\n",
        "\n",
        "- 최적의 K를 구하는 방법엔 어떤 것들이 있을까요?"
      ]
    },
    {
      "cell_type": "code",
      "metadata": {
        "id": "tFFtmomF5SDA"
      },
      "source": [
        "# inertia(Kmeans의 objective function값)을 계산해서 K값이 변화함에 따라 inertia의 변화가 가장 커지는 K를 찾습니다.\n",
        "# K의 범위는 확인하고 싶은 모든 범위를 지정하면 됩니다. 실습에서는 2 ~ 20으로 하겠습니다.\n",
        "\n"
      ],
      "execution_count": null,
      "outputs": []
    },
    {
      "cell_type": "code",
      "metadata": {
        "id": "jw-znyJo5SDA"
      },
      "source": [
        "plt.figure(figsize=(12, 6))\n",
        "plt.title(\"Inertia for K: 2 - 20\")\n",
        "plt.plot(list(range(2, 21)), errors)\n",
        "plt.xticks(list(range(2, 21)))\n",
        "plt.show()"
      ],
      "execution_count": null,
      "outputs": []
    },
    {
      "cell_type": "markdown",
      "metadata": {
        "id": "7_dIzl4w5SDA"
      },
      "source": [
        "- **inertia를 기준으로 했을 때 최적의 K는 4입니다.**"
      ]
    },
    {
      "cell_type": "markdown",
      "metadata": {
        "id": "qffQ3AcR5SDA"
      },
      "source": [
        "### 문제 20. 최적의 클러스터 개수 찾기 4\n",
        "\n",
        "- 이번에는 inertia 대신에 silhouette score를 이용하여 최적의 K를 찾아봅시다."
      ]
    },
    {
      "cell_type": "code",
      "metadata": {
        "id": "rH5cenwg5SDA"
      },
      "source": [
        "# 코드 작성\n",
        "\n"
      ],
      "execution_count": null,
      "outputs": []
    },
    {
      "cell_type": "code",
      "metadata": {
        "id": "NVDOVGA55SDA"
      },
      "source": [
        "plt.figure(figsize=(12, 6))\n",
        "plt.title(\"Silhouette Score for K: 2 - 10\")\n",
        "plt.plot(list(range(2, 21)), scores)\n",
        "plt.xticks(list(range(2, 21)))\n",
        "plt.show()"
      ],
      "execution_count": null,
      "outputs": []
    },
    {
      "cell_type": "markdown",
      "metadata": {
        "id": "iZQYfY7B5SDA"
      },
      "source": [
        "- **silhouette을 기준으로 했을 때 최적의 K는 2입니다.**"
      ]
    },
    {
      "cell_type": "markdown",
      "metadata": {
        "id": "MImLuoKq5SDA"
      },
      "source": [
        "### 문제 21. Hierarchical Clustering 돌려보기\n",
        "\n",
        "- hierarchical clustering은 K-means와 전혀 다른 방법으로 동작합니다.\n",
        "\n",
        "- hierarchical clustering은 distance measure와 linkage method를 변경하는 것으로 다양한 형태의 클러스터를 판별할 수 있습니다."
      ]
    },
    {
      "cell_type": "code",
      "metadata": {
        "id": "G0yzM7Wg5SDA"
      },
      "source": [
        "# hierarchical clustering 함수를 scikit-learn에서 불러오기\n"
      ],
      "execution_count": null,
      "outputs": []
    },
    {
      "cell_type": "code",
      "metadata": {
        "id": "X0KTLEak5SDB"
      },
      "source": [
        "# 성능 측정을 위해 silhouette score를 계산합니다.\n",
        "score = silhouette_score(data, preds)\n",
        "print(\"Silhouette Score: %.4f\" % score)"
      ],
      "execution_count": null,
      "outputs": []
    },
    {
      "cell_type": "markdown",
      "metadata": {
        "id": "Jh_j3IR35SDB"
      },
      "source": [
        "### 문제 22. linkage 바꿔보기\n",
        "\n",
        "- Hierarchical clustering은 linkage(연결 방식)을 변경하여 댜양한 형태의 데이터를 파악할 수 있습니다.\n",
        "\n",
        "- 각 방식을 scikit-learn으로 구현하여 봅시다."
      ]
    },
    {
      "cell_type": "code",
      "metadata": {
        "id": "i3-cJh7G5SDB"
      },
      "source": [
        "# clustering model with various linkage method\n",
        "\n",
        "\n"
      ],
      "execution_count": null,
      "outputs": []
    },
    {
      "cell_type": "markdown",
      "metadata": {
        "id": "PQETGlLa5SDB"
      },
      "source": [
        "### 문제 23. 성능 비교\n",
        "\n",
        "- scikit-learn이 제공하는 4가지의 linkage 방법을 비교하여 성능을 확인하여 봅니다."
      ]
    },
    {
      "cell_type": "code",
      "metadata": {
        "id": "0nxBhGkm5SDB"
      },
      "source": [
        "# 성능 측정을 위해 silhouette score를 계산합니다.\n"
      ],
      "execution_count": null,
      "outputs": []
    },
    {
      "cell_type": "markdown",
      "metadata": {
        "id": "eZSB8A6j5SDB"
      },
      "source": [
        "### 문제 24. distance measure 바꿔보기\n",
        "\n",
        "- Hierarchical clustering의 장점 중에 하나는 다양한 거리 함수를 사용할 수 있다는 것입니다.\n",
        "\n",
        "- \"affinity=\" 파라미터를 변경하여 다른 거리 함수로 클러스터링을 시도하고 성능을 비교하여 봅시다.\n",
        "\n",
        "- \"ward linkage\"는 euclidean distance만 가능하므로, linkage는 average로 변경하여 구현합니다."
      ]
    },
    {
      "cell_type": "code",
      "metadata": {
        "id": "ftcyp2505SDB"
      },
      "source": [
        "# hierarchical clustering\n",
        "\n",
        "\n",
        "\n",
        "# prediction\n",
        "\n",
        "\n"
      ],
      "execution_count": null,
      "outputs": []
    },
    {
      "cell_type": "markdown",
      "metadata": {
        "id": "uvwKxX1a5SDB"
      },
      "source": [
        "### 문제 25. 성능 비교"
      ]
    },
    {
      "cell_type": "code",
      "metadata": {
        "id": "lfGJ4VXs5SDB"
      },
      "source": [
        "# 성능 측정을 위해 silhouette score를 계산합니다.\n"
      ],
      "execution_count": null,
      "outputs": []
    },
    {
      "cell_type": "markdown",
      "metadata": {
        "id": "8LN3cHmP6xrU"
      },
      "source": [
        "## Item-level 바꿔보기 aisles -> products\n",
        "\n",
        "- 지금의 데이터셋은 고객들이 구매한 아이템이 속한 135개의 aisles로 고객 정보를 표현했다면, 더 세부적인 정보를 포함하고 있는 products 단위로 변경하여 같은 프로세스를 진행해봅니다.\n",
        "\n",
        "- products는 굉장히 많은 품목이 있어, feature vector의 차원이 엄청나게 커집니다.\n",
        "\n",
        "\n",
        "- 이렇게 고차원 데이터를 클러스터링에 사용할 경우, \"Curse of Dimensionality\" 문제로 인해 엄청난 성능 저하가 발생할 수 있습니다.\n",
        "\n",
        "- 따라서, 생성된 데이터를 PCA(Principal Component Analysis)를 사용하여 저차원 데이터로 감소시킨 후 클러스터링을 수행하여 봅니다."
      ]
    },
    {
      "cell_type": "markdown",
      "metadata": {
        "id": "uVuO1JBx7tY8"
      },
      "source": [
        "### 문제 26. (RECAP) Customer 정의하기\n",
        "\n",
        "- 이번엔 데이터를 products 단위로 표현해봅니다."
      ]
    },
    {
      "cell_type": "code",
      "metadata": {
        "id": "qbqehdD87tY9"
      },
      "source": [
        "# pd.crosstab 함수를 이용하여 데이터를 user_id당 product 구매 빈도로 변환합니다.\n",
        "data = \n",
        "data"
      ],
      "execution_count": null,
      "outputs": []
    },
    {
      "cell_type": "markdown",
      "metadata": {
        "id": "BjMxV4jB9iCW"
      },
      "source": [
        "### 문제 27. PCA로 차원 감소시키기\n",
        "\n",
        "- PCA를 사용하여 16738차원이나 되는 feature vector의 차원을 감소 시킵니다.\n",
        "\n",
        "- scikit-learn에는 2가지의 PCA 구현체가 있습니다.\n",
        "> PCA는 dense matrix를 사용할 때 적합합니다.\n",
        "> truncatedSVD는 sparse matrix를 사용할 때 적합합니다.\n",
        "\n",
        "- 현재 데이터는 sparse matrix이기 때문에, truncatedSVD를 사용하여 dimensionality reduction을 수행합니다.\n",
        "\n",
        "- 감소할 차원은 기본값이 100차원으로 일단 수행합니다. (추후에 더 많은 실험을 해보시기 바랍니다!)"
      ]
    },
    {
      "cell_type": "code",
      "metadata": {
        "id": "9H2GcGlU9x49"
      },
      "source": [
        "# scikit-learn에서 PCA 불러오기\n",
        "#from sklearn.decomposition import PCA  # 이거 말고 \n",
        "\n",
        "\n",
        "tsvd =  # 100차원으로 변환\n",
        "reduced_data ="
      ],
      "execution_count": null,
      "outputs": []
    },
    {
      "cell_type": "markdown",
      "metadata": {
        "id": "LyCSkO3s7tY-"
      },
      "source": [
        "### 문제 28. K-means 클러스터링 적용하기"
      ]
    },
    {
      "cell_type": "code",
      "metadata": {
        "id": "xxdy88pX7tY-"
      },
      "source": [
        "# scikit-learn에서 Kmeans를 불러옵니다.\n"
      ],
      "execution_count": null,
      "outputs": []
    },
    {
      "cell_type": "code",
      "metadata": {
        "id": "0pxk8PUI7tY-"
      },
      "source": [
        "# 성능 측정을 위해 silhouette score를 불러옵니다\n"
      ],
      "execution_count": null,
      "outputs": []
    },
    {
      "cell_type": "markdown",
      "metadata": {
        "id": "M2kKXPUV7tY-"
      },
      "source": [
        "### 문제 29. 최적의 클러스터 개수 찾기 5\n",
        "\n",
        "- Kmeans는 K 개수에 따라 성능 편차가 심합니다.\n",
        "\n",
        "- 최적의 K를 구하는 방법엔 어떤 것들이 있을까요?"
      ]
    },
    {
      "cell_type": "code",
      "metadata": {
        "id": "HYT4XtfJ7tY-"
      },
      "source": [
        "# inertia(Kmeans의 objective function값)을 계산해서 K값이 변화함에 따라 inertia의 변화가 가장 커지는 K를 찾습니다.\n",
        "# K의 범위는 확인하고 싶은 모든 범위를 지정하면 됩니다. 실습에서는 2 ~ 20으로 하겠습니다.\n",
        "\n",
        "errors = []\n",
        "\n",
        "for K in range(2, 21):\n",
        "    "
      ],
      "execution_count": null,
      "outputs": []
    },
    {
      "cell_type": "code",
      "metadata": {
        "id": "78LnsIrM7tY-"
      },
      "source": [
        "plt.figure(figsize=(12, 6))\n",
        "plt.title(\"Inertia for K: 2 - 20\")\n",
        "plt.plot(list(range(2, 21)), errors)\n",
        "plt.xticks(list(range(2, 21)))\n",
        "plt.show()"
      ],
      "execution_count": null,
      "outputs": []
    },
    {
      "cell_type": "markdown",
      "metadata": {
        "id": "gBR94fVo7tY-"
      },
      "source": [
        "- **inertia를 기준으로 했을 때 최적의 K는 3입니다.**"
      ]
    },
    {
      "cell_type": "markdown",
      "metadata": {
        "id": "EhDMCRaa7tY_"
      },
      "source": [
        "### 문제 30. 최적의 클러스터 개수 찾기 6\n",
        "\n",
        "- 이번에는 inertia 대신에 silhouette score를 이용하여 최적의 K를 찾아봅시다."
      ]
    },
    {
      "cell_type": "code",
      "metadata": {
        "id": "c7DssCCi7tY_"
      },
      "source": [
        "scores = []\n",
        "\n",
        "for K in range(2, 21):\n",
        "    "
      ],
      "execution_count": null,
      "outputs": []
    },
    {
      "cell_type": "code",
      "metadata": {
        "id": "icjDanHo7tY_"
      },
      "source": [
        "plt.figure(figsize=(10, 6))\n",
        "plt.title(\"Silhouette Score for K: 2 - 20\")\n",
        "plt.plot(list(range(2, 21)), scores)\n",
        "plt.xticks(list(range(2, 21)))\n",
        "plt.show()"
      ],
      "execution_count": null,
      "outputs": []
    },
    {
      "cell_type": "markdown",
      "metadata": {
        "id": "ZqWYKcfA7tY_"
      },
      "source": [
        "- **silhouette을 기준으로 했을 때 최적의 K는 3입니다.**"
      ]
    },
    {
      "cell_type": "markdown",
      "metadata": {
        "id": "JgkXg2IY7tY_"
      },
      "source": [
        "### 문제 31. Hierarchical Clustering 돌려보기\n",
        "\n",
        "- hierarchical clustering은 K-means와 전혀 다른 방법으로 동작합니다.\n",
        "\n",
        "- hierarchical clustering은 distance measure와 linkage method를 변경하는 것으로 다양한 형태의 클러스터를 판별할 수 있습니다."
      ]
    },
    {
      "cell_type": "code",
      "metadata": {
        "id": "MB6KKB_27tY_"
      },
      "source": [
        "# hierarchical clustering 함수를 scikit-learn에서 불러오기\n"
      ],
      "execution_count": null,
      "outputs": []
    },
    {
      "cell_type": "code",
      "metadata": {
        "id": "SVF2wf_X7tY_"
      },
      "source": [
        "# 성능 측정을 위해 silhouette score를 계산합니다.\n"
      ],
      "execution_count": null,
      "outputs": []
    },
    {
      "cell_type": "markdown",
      "metadata": {
        "id": "UA8CvFQK7tY_"
      },
      "source": [
        "### 문제 32. linkage 바꿔보기\n",
        "\n",
        "- Hierarchical clustering은 linkage(연결 방식)을 변경하여 댜양한 형태의 데이터를 파악할 수 있습니다.\n",
        "\n",
        "- 각 방식을 scikit-learn으로 구현하여 봅시다."
      ]
    },
    {
      "cell_type": "code",
      "metadata": {
        "id": "DwfAQWn17tY_"
      },
      "source": [
        "# clustering model with various linkage method\n"
      ],
      "execution_count": null,
      "outputs": []
    },
    {
      "cell_type": "markdown",
      "metadata": {
        "id": "ZKhH2KOI7tY_"
      },
      "source": [
        "### 문제 33. 성능 비교\n",
        "\n",
        "- scikit-learn이 제공하는 4가지의 linkage 방법을 비교하여 성능을 확인하여 봅니다."
      ]
    },
    {
      "cell_type": "code",
      "metadata": {
        "id": "ODZkxqD-7tZA"
      },
      "source": [
        "# 성능 측정을 위해 silhouette score를 계산합니다.\n"
      ],
      "execution_count": null,
      "outputs": []
    },
    {
      "cell_type": "markdown",
      "metadata": {
        "id": "cnKsY3lL7tZA"
      },
      "source": [
        "### 문제 34. distance measure 바꿔보기\n",
        "\n",
        "- Hierarchical clustering의 장점 중에 하나는 다양한 거리 함수를 사용할 수 있다는 것입니다.\n",
        "\n",
        "- \"affinity=\" 파라미터를 변경하여 다른 거리 함수로 클러스터링을 시도하고 성능을 비교하여 봅시다.\n",
        "\n",
        "- \"ward linkage\"는 euclidean distance만 가능하므로, linkage는 average로 변경하여 구현합니다."
      ]
    },
    {
      "cell_type": "code",
      "metadata": {
        "id": "jpS8zw_Z7tZA"
      },
      "source": [
        "# hierarchical clustering\n",
        "\n",
        "\n",
        "# prediction\n"
      ],
      "execution_count": null,
      "outputs": []
    },
    {
      "cell_type": "markdown",
      "metadata": {
        "id": "4CkEhqvj7tZA"
      },
      "source": [
        "### 문제 35. 성능 비교"
      ]
    },
    {
      "cell_type": "code",
      "metadata": {
        "id": "uF1Xk-Uh7tZA"
      },
      "source": [
        "# 성능 측정을 위해 silhouette score를 계산합니다.\n"
      ],
      "execution_count": null,
      "outputs": []
    }
  ]
}
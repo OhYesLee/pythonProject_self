{
  "nbformat": 4,
  "nbformat_minor": 0,
  "metadata": {
    "kernelspec": {
      "display_name": "Python 3",
      "language": "python",
      "name": "python3"
    },
    "language_info": {
      "codemirror_mode": {
        "name": "ipython",
        "version": 3
      },
      "file_extension": ".py",
      "mimetype": "text/x-python",
      "name": "python",
      "nbconvert_exporter": "python",
      "pygments_lexer": "ipython3",
      "version": "3.6.6"
    },
    "toc": {
      "base_numbering": 1,
      "nav_menu": {},
      "number_sections": true,
      "sideBar": true,
      "skip_h1_title": false,
      "title_cell": "Table of Contents",
      "title_sidebar": "Contents",
      "toc_cell": false,
      "toc_position": {},
      "toc_section_display": true,
      "toc_window_display": false
    },
    "colab": {
      "name": "Chapter 03. 머신러닝 분류 알고리즘 연습",
      "provenance": [],
      "collapsed_sections": []
    }
  },
  "cells": [
    {
      "cell_type": "markdown",
      "metadata": {
        "id": "Xn_bPjW10qHz"
      },
      "source": [
        "# Chapter 03. 머신러닝 분류 문제 연습하기"
      ]
    },
    {
      "cell_type": "code",
      "metadata": {
        "id": "yx-hyOnbRdm_"
      },
      "source": [
        "from google.colab import drive\n",
        "drive.mount('/content/drive')"
      ],
      "execution_count": null,
      "outputs": []
    },
    {
      "cell_type": "markdown",
      "metadata": {
        "id": "hR5XfHWy0qIi"
      },
      "source": [
        "## 실습 가이드\n",
        "1. 데이터를 다운로드하여 Colab에 불러옵니다.\n",
        "> 다운로드한 데이터의 위치는 **Colab Notebooks/data/** 로 통일합니다.\n",
        "\n",
        "2. 필요한 라이브러리는 모두 코드로 작성되어 있습니다.\n",
        "3. 코드는 위에서부터 아래로 순서대로 실행합니다.\n",
        "4. 전체 문제 구성은 좌측 첫 번째 아이콘을 통해 확인할 수 있습니다."
      ]
    },
    {
      "cell_type": "markdown",
      "metadata": {
        "id": "arCV66fJ0qIk"
      },
      "source": [
        "### <b> 데이터의 속성</b>\n",
        "**시작 전에** 원본 데이콘 페이지에서 상세한 데이터에 대한 설명을 확인하세요 !\n",
        "\n",
        "Reference : https://dacon.io/competitions/official/9565/data\n"
      ]
    },
    {
      "cell_type": "markdown",
      "metadata": {
        "id": "RlsQsuiB0qIm"
      },
      "source": [
        "### <b>학습목표</b>\n",
        "- 1) Binary Classification 모델의 이해\n",
        "- 2) 학습했던 다양한 머신러닝 분류모델의 이해\n",
        "- 3) 분류를 위한 데이터 전처리 방법에 대한 이해\n",
        "- 4) feature engineering에 대한 이해\n",
        "- 5) 평가결과를 바탕으로 모델을 개선하는 방법 습득"
      ]
    },
    {
      "cell_type": "markdown",
      "metadata": {
        "id": "p3cbNzXr0qIn"
      },
      "source": [
        "- 출제자: 김용담 강사"
      ]
    },
    {
      "cell_type": "markdown",
      "metadata": {
        "id": "L0CtisIz0qIo"
      },
      "source": [
        "## Step 1. 예측할 데이터 불러오기"
      ]
    },
    {
      "cell_type": "markdown",
      "metadata": {
        "id": "B2MLQ8Ff0qIp"
      },
      "source": [
        "### 문제 01. 데이터 불러오기"
      ]
    },
    {
      "cell_type": "code",
      "metadata": {
        "id": "yEUiebcx0qIq"
      },
      "source": [
        "# 분석에 필요한 라이브러리를 불러옵니다\n"
      ],
      "execution_count": null,
      "outputs": []
    },
    {
      "cell_type": "code",
      "metadata": {
        "id": "DRCsZ6CBEBM5"
      },
      "source": [
        "# 제시된 사항에 맞게 설정합니다\n",
        "base_path = ''\n",
        "train = \n",
        "test = "
      ],
      "execution_count": null,
      "outputs": []
    },
    {
      "cell_type": "markdown",
      "metadata": {
        "id": "cupV8lpw0qIr"
      },
      "source": [
        "### 문제 02. 데이터 미리보기"
      ]
    },
    {
      "cell_type": "code",
      "metadata": {
        "id": "rrtfD32hD-yz"
      },
      "source": [
        "# 데이터 크기 확인\n",
        "\n",
        "\n",
        "# 데이터 일부 확인\n"
      ],
      "execution_count": null,
      "outputs": []
    },
    {
      "cell_type": "markdown",
      "metadata": {
        "id": "YZMNz6Es0qIs"
      },
      "source": [
        "### 문제 03. 데이터 확인하기"
      ]
    },
    {
      "cell_type": "code",
      "metadata": {
        "id": "SWLusfet0qIt"
      },
      "source": [
        "# train 데이터에서 결측치가 있는 column 확인하기\n",
        "train.info()"
      ],
      "execution_count": null,
      "outputs": []
    },
    {
      "cell_type": "code",
      "metadata": {
        "id": "LqYtcDqX0qIw"
      },
      "source": [
        "# test도 확인\n",
        "test.info()"
      ],
      "execution_count": null,
      "outputs": []
    },
    {
      "cell_type": "markdown",
      "metadata": {
        "id": "wB0Eo_-D0qIx"
      },
      "source": [
        "## Step 2. Data Preprocessing\n",
        "\n",
        "- 데이터에 있는 결측치를 처리합니다.\n",
        "\n",
        "- 결측치를 처리하기 위해 데이터에 잘못 기록된 점들을 확인합니다."
      ]
    },
    {
      "cell_type": "markdown",
      "metadata": {
        "id": "uL3ndm06e7S1"
      },
      "source": [
        "### 문제 04. train data에서 결측치가 있는 데이터 뽑기"
      ]
    },
    {
      "cell_type": "code",
      "metadata": {
        "id": "q4kMuoAUezL7"
      },
      "source": [
        "# train 데이터에서 결측치가 있는 column들을 뽑습니다.\n",
        "train_missing_cols = "
      ],
      "execution_count": null,
      "outputs": []
    },
    {
      "cell_type": "code",
      "metadata": {
        "id": "2aFU8iCqfkyp"
      },
      "source": [
        "# 데이터가 거의 비어있는 row가 있는지 확인합니다.\n",
        "missing_rows = "
      ],
      "execution_count": null,
      "outputs": []
    },
    {
      "cell_type": "code",
      "metadata": {
        "id": "ZqDgQ7BigTWO"
      },
      "source": [
        "# missing_rows중에 2개 이상의 column이 비어있는 데이터는 삭제합니다.\n",
        "missing_twos = \n",
        "#missing_twos.index\n"
      ],
      "execution_count": null,
      "outputs": []
    },
    {
      "cell_type": "code",
      "metadata": {
        "id": "J8FsUN2EgTTV"
      },
      "source": [
        "# 여전히 결측치가 있는 데이터를 찾아봅시다.\n",
        "missings = \n",
        "missings"
      ],
      "execution_count": null,
      "outputs": []
    },
    {
      "cell_type": "markdown",
      "metadata": {
        "id": "TJc3-Mz8gSR6"
      },
      "source": [
        "### 문제 05. 결측치가 포함된 데이터 중 dtype이 object인 column들을 따로 처리하기"
      ]
    },
    {
      "cell_type": "code",
      "metadata": {
        "id": "6N1S5Ux-iaqz"
      },
      "source": [
        "# dtype이 object인 column들을 가져옵니다.\n",
        "categories = \n",
        "categories"
      ],
      "execution_count": null,
      "outputs": []
    },
    {
      "cell_type": "code",
      "metadata": {
        "id": "ATBq8RIHiaol"
      },
      "source": [
        "# 결측치가 있는 데이터 중에서 object column만 뽑아봅시다.\n"
      ],
      "execution_count": null,
      "outputs": []
    },
    {
      "cell_type": "code",
      "metadata": {
        "id": "AeSwu057iamD"
      },
      "source": [
        "# categorical feature의 결측치는 최빈값으로 채웁니다.\n",
        "modes = \n",
        "train[categories] = \n",
        "train[categories]"
      ],
      "execution_count": null,
      "outputs": []
    },
    {
      "cell_type": "code",
      "metadata": {
        "id": "El8wSLJRiaj4"
      },
      "source": [
        "train"
      ],
      "execution_count": null,
      "outputs": []
    },
    {
      "cell_type": "markdown",
      "metadata": {
        "id": "yOJdhhAFfL_S"
      },
      "source": [
        "### 문제 06. 결측치 채우기\n",
        "\n",
        "- 모든 숫자 데이터에 대해서 평균값으로 결측치를 채워줍니다."
      ]
    },
    {
      "cell_type": "code",
      "metadata": {
        "id": "k5nfgaF2j2fz"
      },
      "source": [
        "# 평균으로 결측치 채우기"
      ],
      "execution_count": null,
      "outputs": []
    },
    {
      "cell_type": "code",
      "metadata": {
        "id": "vSy01Zcuj9I-"
      },
      "source": [
        "# 결측치가 제대로 처리되었는지 확인하기\n"
      ],
      "execution_count": null,
      "outputs": []
    },
    {
      "cell_type": "markdown",
      "metadata": {
        "id": "W4oZ1yV-kNgM"
      },
      "source": [
        "### 문제 07. 테스트 데이터 결측치 확인하기"
      ]
    },
    {
      "cell_type": "code",
      "metadata": {
        "id": "e_EZhH_dkNxm"
      },
      "source": [
        "test.info()"
      ],
      "execution_count": null,
      "outputs": []
    },
    {
      "cell_type": "code",
      "metadata": {
        "id": "bON2P65vkgnV"
      },
      "source": [
        "# OC는 target column이므로 제거\n"
      ],
      "execution_count": null,
      "outputs": []
    },
    {
      "cell_type": "markdown",
      "metadata": {
        "id": "pRCLeS3VlARY"
      },
      "source": [
        "### 문제 08. 테스트 데이터에 동일한 결측치 적용하기"
      ]
    },
    {
      "cell_type": "code",
      "metadata": {
        "id": "UdvdyrZAkl6M"
      },
      "source": [
        "# dtype이 object인 column들을 가져옵니다.\n"
      ],
      "execution_count": null,
      "outputs": []
    },
    {
      "cell_type": "markdown",
      "metadata": {
        "id": "Em87Cg3blfMB"
      },
      "source": [
        "- 새로운 employee1, employee2가 나와서 이 둘은 나중에 처리하고 처리했었던 나머지 column들을 먼저 처리합니다."
      ]
    },
    {
      "cell_type": "code",
      "metadata": {
        "id": "fqfxY3KmlbyO"
      },
      "source": [
        "# test에서 결측치가 있는 데이터들을 뽑아냅니다.\n",
        "missings2 = \n",
        "missings2"
      ],
      "execution_count": null,
      "outputs": []
    },
    {
      "cell_type": "code",
      "metadata": {
        "id": "x2bGYz_alxgo"
      },
      "source": [
        "# 결측치가 있는 데이터 중에서 object column만 뽑아봅시다.\n"
      ],
      "execution_count": null,
      "outputs": []
    },
    {
      "cell_type": "code",
      "metadata": {
        "id": "ewGceleEmKAl"
      },
      "source": [
        "# 이 데이터들도 최빈값으로 채워줍니다.\n",
        "test[categories] = \n",
        "test[categories]"
      ],
      "execution_count": null,
      "outputs": []
    },
    {
      "cell_type": "markdown",
      "metadata": {
        "id": "ZjnYBx_jn1Qo"
      },
      "source": [
        "### 문제 09. employee1, employee2 확인하기"
      ]
    },
    {
      "cell_type": "code",
      "metadata": {
        "id": "c49lEF_pr1Zs"
      },
      "source": [
        "# employee1과 employee2를 봅니다.\n"
      ],
      "execution_count": null,
      "outputs": []
    },
    {
      "cell_type": "code",
      "metadata": {
        "id": "hf_c_ytHs7q0"
      },
      "source": [
        ""
      ],
      "execution_count": null,
      "outputs": []
    },
    {
      "cell_type": "code",
      "metadata": {
        "id": "noWkBcdbtB52"
      },
      "source": [
        "# ','를 없애고 수치값으로 변경합니다.\n",
        "test.employee1 = \n",
        "test.employee2 = \n",
        "test"
      ],
      "execution_count": null,
      "outputs": []
    },
    {
      "cell_type": "markdown",
      "metadata": {
        "id": "K7o5EkGjtJm0"
      },
      "source": [
        "### 문제 10. 결측치 채우기"
      ]
    },
    {
      "cell_type": "code",
      "metadata": {
        "id": "L7VhUDCtn0f9"
      },
      "source": [
        "# train 데이터와 동일하게 수치값들은 평균으로 채워줍니다.\n"
      ],
      "execution_count": null,
      "outputs": []
    },
    {
      "cell_type": "code",
      "metadata": {
        "id": "zIVMNU4Sozx7"
      },
      "source": [
        "# 확인\n"
      ],
      "execution_count": null,
      "outputs": []
    },
    {
      "cell_type": "markdown",
      "metadata": {
        "id": "L4jRExCetYGb"
      },
      "source": [
        "## Step 3. Feature Engineering\n",
        "\n",
        "- 분석에 사용할 feature들을 만들고, 학습을 위한 데이터를 준비하는 단계입니다.\n",
        "\n",
        "- 모든 categorical feature들을 변환하여 데이터를 feature vector로 만들어봅니다."
      ]
    },
    {
      "cell_type": "markdown",
      "metadata": {
        "id": "X5XVN43Uz-dt"
      },
      "source": [
        "### 문제 11. categorical feature들 확인하기"
      ]
    },
    {
      "cell_type": "code",
      "metadata": {
        "id": "lMTdk2Y5z-Vx"
      },
      "source": [
        "# train, test categorical feature들 확인하기\n"
      ],
      "execution_count": null,
      "outputs": []
    },
    {
      "cell_type": "code",
      "metadata": {
        "id": "0M5a2kv0z6J9"
      },
      "source": [
        ""
      ],
      "execution_count": null,
      "outputs": []
    },
    {
      "cell_type": "markdown",
      "metadata": {
        "id": "sRnKXsre1SUr"
      },
      "source": [
        "### 문제 12. training data에 categorical feature encoding\n",
        "\n",
        "- OneHotEncoder를 이용하여 주어진 feature들을 변환합니다.\n",
        "\n",
        "\n",
        "- OneHotEncoding은 OneHotEncoder 함수를 사용합니다.\n",
        "\n",
        "\n",
        "- \"OC\"는 target column이므로, LabelEncoder로 변환합니다."
      ]
    },
    {
      "cell_type": "code",
      "metadata": {
        "id": "dJriF5wM1RlM"
      },
      "source": [
        "# 라이브러리 불러오기\n"
      ],
      "execution_count": null,
      "outputs": []
    },
    {
      "cell_type": "code",
      "metadata": {
        "id": "hC-WOIxM5Xdy"
      },
      "source": [
        "# target column 제거\n"
      ],
      "execution_count": null,
      "outputs": []
    },
    {
      "cell_type": "code",
      "metadata": {
        "id": "bvsMmEHn1MOS"
      },
      "source": [
        "# One-Hot Encoder로 변환하기\n",
        "encoded = \n",
        "encoded.toarray()"
      ],
      "execution_count": null,
      "outputs": []
    },
    {
      "cell_type": "code",
      "metadata": {
        "id": "WQW-Z1hp2_g6"
      },
      "source": [
        "# Label Encoder로 변환하기\n",
        "labels = \n",
        "labels"
      ],
      "execution_count": null,
      "outputs": []
    },
    {
      "cell_type": "code",
      "metadata": {
        "id": "dM8cqdGo-1qo"
      },
      "source": [
        "# target column 제거\n"
      ],
      "execution_count": null,
      "outputs": []
    },
    {
      "cell_type": "markdown",
      "metadata": {
        "id": "nVbiZ6d23Ja3"
      },
      "source": [
        "### 문제 13. test data에 동일하게 적용하기"
      ]
    },
    {
      "cell_type": "code",
      "metadata": {
        "id": "J3BzgJu34AVE"
      },
      "source": [
        "test_encoded = "
      ],
      "execution_count": null,
      "outputs": []
    },
    {
      "cell_type": "markdown",
      "metadata": {
        "id": "0VildAOf70Y1"
      },
      "source": [
        "- sido column에 \"jeju\"라는 값을 가진 새로운 데이터가 등장했습니다.\n",
        "\n",
        "\n",
        "- 이 데이터는 학습 데이터에는 존재하지 않았던, 종류라서 trainer가 처리를 해줄 수 가 없습니다.\n",
        "\n",
        "\n",
        "- 이런 경우는 설제 서비스시 예외처리를 해주는 것이 맞습니다.\n",
        "\n",
        "\n",
        "- 따라서, 저희도 제외를 하고 가는 것이 맞습니다."
      ]
    },
    {
      "cell_type": "code",
      "metadata": {
        "id": "_M5NBCYj4ARv"
      },
      "source": [
        "# jeju 확인\n",
        "jejus = \n",
        "jejus"
      ],
      "execution_count": null,
      "outputs": []
    },
    {
      "cell_type": "code",
      "metadata": {
        "id": "CzyVak6Z8Pdo"
      },
      "source": [
        "# jeju 지우기 ### 실제로는 여기서 Report를 하여 학습데이터에 jeju를 추가하는 방향으로 해야한다.\n"
      ],
      "execution_count": null,
      "outputs": []
    },
    {
      "cell_type": "code",
      "metadata": {
        "id": "2ocAef2g85gs"
      },
      "source": [
        "# 다시 One-Hot encoding 적용\n",
        "test_encoded = \n",
        "test_encoded"
      ],
      "execution_count": null,
      "outputs": []
    },
    {
      "cell_type": "markdown",
      "metadata": {
        "id": "6ria9cma0qIx"
      },
      "source": [
        "### 문제 14. feature vector와 target vector 만들기"
      ]
    },
    {
      "cell_type": "code",
      "metadata": {
        "id": "WgCEjt9D-VHH"
      },
      "source": [
        "# shape 확인하기\n"
      ],
      "execution_count": null,
      "outputs": []
    },
    {
      "cell_type": "code",
      "metadata": {
        "id": "sXb93NER0qIy"
      },
      "source": [
        "# 변환될 column을 지우고, OHE된 벡터들을 합친다.\n"
      ],
      "execution_count": null,
      "outputs": []
    },
    {
      "cell_type": "code",
      "metadata": {
        "id": "GWwxtflN_X7e"
      },
      "source": [
        "# test 데이터도 확인하기\n"
      ],
      "execution_count": null,
      "outputs": []
    },
    {
      "cell_type": "code",
      "metadata": {
        "id": "fgoGRaGo_cc0"
      },
      "source": [
        "# test 데이터도 동일한 방법으로 진행\n"
      ],
      "execution_count": null,
      "outputs": []
    },
    {
      "cell_type": "markdown",
      "metadata": {
        "id": "mxEweQuP0qI2"
      },
      "source": [
        "### 문제 15. feature scaling"
      ]
    },
    {
      "cell_type": "code",
      "metadata": {
        "id": "w_T-BCbe0qI3"
      },
      "source": [
        "# Standard scaling를 학습시켜 적용합니다.\n"
      ],
      "execution_count": null,
      "outputs": []
    },
    {
      "cell_type": "code",
      "metadata": {
        "id": "8fTacCwrEVBR"
      },
      "source": [
        "# 스케일 조정된 X_train 데이터 확인하기\n"
      ],
      "execution_count": null,
      "outputs": []
    },
    {
      "cell_type": "markdown",
      "metadata": {
        "id": "uyrluBHm0qI4"
      },
      "source": [
        "### 참고: scikit-learn에서 제공하는 피처 스케일러(scaler)\n",
        "\n",
        "- `StandardScaler`: 기본 스케일, 각 피처의 평균을 0, 표준편차를 1로 변환\n",
        "- `RobustScaler`: 위와 유사하지만 평균 대신 중간값(median)과 일분위, 삼분위값(quartile)을 사용하여 이상치 영향을 최소화\n",
        "- `MinMaxScaler`: 모든 피처의 최대치와 최소치가 각각 1, 0이 되도록 스케일 조정\n",
        "- `Normalizer`: 피처(컬럼)이 아니라 row마다 정규화되며, 유클리드 거리가 1이 되도록 데이터를 조정하여 빠르게 학습할 수 있게 함\n",
        "\n",
        "<p> 스케일 조정을 하는 이유는 데이터의 값이 너무 크거나 작을 때 학습이 제대로 되지 않을 수도 있기 때문입니다. 또한 스케일의 영향이 절대적인 분류기(예: knn과 같은 거리기반 알고리즘)의 경우, 스케일 조정을 필수적으로 검토해야 합니다.\n",
        "    \n",
        "<p> 반면 어떤 항목은 원본 데이터의 분포를 유지하는 것이 나을 수도 있습니다. 예를 들어, 데이터가 거의 한 곳에 집중되어 있는 feature를 표준화시켜 분포를 같게 만들었을 때, 작은 단위의 변화가 큰 차이를 나타내는 것처럼 학습될 수도 있습니다. 또한 스케일의 영향을 크게 받지 않는 분류기(예: 트리 기반 앙상블 알고리즘)를 사용할 경우에도 성능이 준수하게 나오거나 과대적합(overfitting)의 우려가 적다면 생략할 수도 있습니다.\n",
        "    \n",
        "<p> 스케일 조정시 유의해야할 점은 원본 데이터의 의미를 잃어버릴 수 있다는 것입니다. 최종적으로 답을 구하는 것이 목적이 아니라 모델의 해석이나 향후 다른 데이터셋으로의 응용이 더 중요할 때 원 피처에 대한 설명력을 잃어버린다면 모델 개선이 어려울 수도 있습니다. 이 점을 함께 고려하시면 좋겠습니다."
      ]
    },
    {
      "cell_type": "markdown",
      "metadata": {
        "id": "FSA1NIBa0qI6"
      },
      "source": [
        "## Step 4. Training"
      ]
    },
    {
      "cell_type": "markdown",
      "metadata": {
        "id": "h1hHD5bjCb8y"
      },
      "source": [
        "- 공부한 각 머신러닝 분류 모델들을 돌려보고, 성능을 평가합니다.\n",
        "\n",
        "- 아래 모델들이 그 대상에 해당합니다.\n",
        "\n",
        "- Logistic Regression / Naive Bayes / Decision Tree / Random Forest / KNN / SVM / xgboost / lightgbm"
      ]
    },
    {
      "cell_type": "markdown",
      "metadata": {
        "id": "14kriJ_j0qI6"
      },
      "source": [
        "### 문제 16. Logistic Regression 모델 돌려보기"
      ]
    },
    {
      "cell_type": "code",
      "metadata": {
        "id": "RVP2tN1U0qI7"
      },
      "source": [
        "# scikit-learn에서 해당 모델을 가져와서 구현해봅니다. 아래 구현은 모두 유사한 방식으로 진행됩니다.\n"
      ],
      "execution_count": null,
      "outputs": []
    },
    {
      "cell_type": "markdown",
      "metadata": {
        "id": "fIH9m2RF0qI7"
      },
      "source": [
        "### 문제 17. Logistic Regression 모델의 정확도 평가하기"
      ]
    },
    {
      "cell_type": "code",
      "metadata": {
        "scrolled": false,
        "id": "teFIrxQA0qI8"
      },
      "source": [
        "# accuracy_score를 기준으로 분류 모델을 평가합니다. 아래 구현은 모두 유사한 방식으로 진행됩니다.\n"
      ],
      "execution_count": null,
      "outputs": []
    },
    {
      "cell_type": "markdown",
      "metadata": {
        "id": "O4UkbF6yEte8"
      },
      "source": [
        "### 문제 18. Naive Bayes 모델 돌려보기"
      ]
    },
    {
      "cell_type": "code",
      "metadata": {
        "id": "XxIdMw4PEtqG"
      },
      "source": [
        ""
      ],
      "execution_count": null,
      "outputs": []
    },
    {
      "cell_type": "markdown",
      "metadata": {
        "id": "7UFi6fqWE9qQ"
      },
      "source": [
        "### 문제 19. Naive Bayes 평가하기"
      ]
    },
    {
      "cell_type": "code",
      "metadata": {
        "id": "RIeh3qnxFA8f"
      },
      "source": [
        ""
      ],
      "execution_count": null,
      "outputs": []
    },
    {
      "cell_type": "markdown",
      "metadata": {
        "id": "7YKA9pSIEI7G"
      },
      "source": [
        "### 문제 20. Decision Tree 모델 돌려보기"
      ]
    },
    {
      "cell_type": "code",
      "metadata": {
        "id": "tIJ8FkkJEHI4"
      },
      "source": [
        ""
      ],
      "execution_count": null,
      "outputs": []
    },
    {
      "cell_type": "markdown",
      "metadata": {
        "id": "noshs8RxEWam"
      },
      "source": [
        "### 문제 21. Decision Tree 모델 평가하기"
      ]
    },
    {
      "cell_type": "code",
      "metadata": {
        "id": "LBTKkCBuEWi3"
      },
      "source": [
        ""
      ],
      "execution_count": null,
      "outputs": []
    },
    {
      "cell_type": "markdown",
      "metadata": {
        "id": "INCXInIe0qJA"
      },
      "source": [
        "### 문제 22. Random Forest 모델 돌려보기"
      ]
    },
    {
      "cell_type": "code",
      "metadata": {
        "id": "kYjynAEf0qJB"
      },
      "source": [
        ""
      ],
      "execution_count": null,
      "outputs": []
    },
    {
      "cell_type": "code",
      "metadata": {
        "id": "pp7fM5KvUGHE"
      },
      "source": [
        ""
      ],
      "execution_count": null,
      "outputs": []
    },
    {
      "cell_type": "markdown",
      "metadata": {
        "id": "_RFhNWs0FUL2"
      },
      "source": [
        "### 문제 23. KNN Classification 모델 돌려보기"
      ]
    },
    {
      "cell_type": "code",
      "metadata": {
        "id": "oKzTiDzKFTpb"
      },
      "source": [
        ""
      ],
      "execution_count": null,
      "outputs": []
    },
    {
      "cell_type": "code",
      "metadata": {
        "id": "zJlsw13RGYUo"
      },
      "source": [
        ""
      ],
      "execution_count": null,
      "outputs": []
    },
    {
      "cell_type": "markdown",
      "metadata": {
        "id": "a9WojjlOGe_K"
      },
      "source": [
        "### 문제 24. Support Vector Machine 모델 돌려보기"
      ]
    },
    {
      "cell_type": "code",
      "metadata": {
        "id": "qGh_QbGPGfVQ"
      },
      "source": [
        ""
      ],
      "execution_count": null,
      "outputs": []
    },
    {
      "cell_type": "code",
      "metadata": {
        "id": "SfV7NIdYGfPF"
      },
      "source": [
        ""
      ],
      "execution_count": null,
      "outputs": []
    },
    {
      "cell_type": "markdown",
      "metadata": {
        "id": "wknluIW_0qJE"
      },
      "source": [
        "### 문제 25. XGBoost 모델 돌려보기\n",
        "\n",
        "- xgboost의 구현체가 많지만, 여기서는 sklearn version을 사용합니다."
      ]
    },
    {
      "cell_type": "code",
      "metadata": {
        "id": "ig7tGMy4Hy2f"
      },
      "source": [
        ""
      ],
      "execution_count": null,
      "outputs": []
    },
    {
      "cell_type": "markdown",
      "metadata": {
        "id": "qASAE5ow0qJG"
      },
      "source": [
        "### 문제 26. XGBoost 모델의 분류결과 확인하기"
      ]
    },
    {
      "cell_type": "code",
      "metadata": {
        "id": "TW5sYu6MICW5"
      },
      "source": [
        ""
      ],
      "execution_count": null,
      "outputs": []
    },
    {
      "cell_type": "markdown",
      "metadata": {
        "id": "6XZkWQ2E0qJG"
      },
      "source": [
        "### 문제 27. Light GBM 모델 돌려보기"
      ]
    },
    {
      "cell_type": "code",
      "metadata": {
        "id": "2zV3jXvMIIM0"
      },
      "source": [
        ""
      ],
      "execution_count": null,
      "outputs": []
    },
    {
      "cell_type": "markdown",
      "metadata": {
        "id": "w3YwlN_x0qJH"
      },
      "source": [
        "### 문제 28. Light GBM 분류결과 확인하기"
      ]
    },
    {
      "cell_type": "code",
      "metadata": {
        "id": "ZAyGd8_nIYer"
      },
      "source": [
        ""
      ],
      "execution_count": null,
      "outputs": []
    },
    {
      "cell_type": "markdown",
      "metadata": {
        "id": "7_5l_T2-0qJE"
      },
      "source": [
        "### 참고 : 부스팅(Boosting) 모델 개요\n",
        "\n",
        "\n",
        "- 부스팅은 여러 트리의 적합 결과를 합하는 앙상블 알고리즘의 하나로, 이 때 sequential의 개념이 추가되어 있습니다. 즉 연속적인 weak learner, 바로 직전 weak learner의 error를 반영한 현재 weak learner를 잡겠다는 것입니다. 이 아이디어는 Gradient Boosting Model(GBM)에서 loss를 계속 줄이는 방향으로 weak learner를 잡는다는 개념으로 확장됩니다.\n",
        "\n",
        "![boost](https://pluralsight2.imgix.net/guides/81232a78-2e99-4ccc-ba8e-8cd873625fdf_2.jpg)\n",
        "\n",
        "\n",
        "- 부스팅 계열 모델은 XGBoost, LightGBM, CatBoost 등이 있습니다.\n",
        "\n",
        "\n",
        "- 더 자세한 내용은 다음 Step에서 살펴보겠습니다."
      ]
    },
    {
      "cell_type": "markdown",
      "metadata": {
        "id": "F15Q5DnCI0BJ"
      },
      "source": [
        "### 문제 29. Test prediction\n",
        "\n",
        "- 학습한 모델을 기반하여 test 데이터를 평가합니다. 그 예측값이 대회 제출이 되는 기준입니다.\n",
        "\n",
        "\n",
        "- 실제 현업에서는 서비스에 들어가는 기술을 test 데이터로 평가합니다. 마치 유저가 들어온 것처럼요."
      ]
    },
    {
      "cell_type": "code",
      "metadata": {
        "id": "erlbgiieIzrT"
      },
      "source": [
        "# 모델을 하나 정해서, test data에 대한 inference를 진행합니다.\n"
      ],
      "execution_count": null,
      "outputs": []
    },
    {
      "cell_type": "code",
      "metadata": {
        "id": "TsTZOzZmJXuV"
      },
      "source": [
        "# 결과 파일 생성\n",
        "result = \n",
        "result"
      ],
      "execution_count": null,
      "outputs": []
    },
    {
      "cell_type": "markdown",
      "metadata": {
        "id": "xUz80L2m0qJI"
      },
      "source": [
        "### 문제 30. 최종 성능 정리"
      ]
    },
    {
      "cell_type": "code",
      "metadata": {
        "scrolled": false,
        "id": "qp15ChOf0qJJ"
      },
      "source": [
        "# 실행했던 모든 분류 모델의 성능을 다 출력해서 비교해보세요!\n",
        "print('Accuracy Comparisons for Binary Models\\n')\n"
      ],
      "execution_count": null,
      "outputs": []
    },
    {
      "cell_type": "code",
      "metadata": {
        "id": "W05Y19ceIxQe"
      },
      "source": [
        ""
      ],
      "execution_count": null,
      "outputs": []
    }
  ]
}